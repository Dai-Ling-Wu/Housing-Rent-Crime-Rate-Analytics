{
 "cells": [
  {
   "cell_type": "code",
   "metadata": {
    "tags": [],
    "cell_id": "00000-1870bbb6-7c5c-412e-9e14-e0773c3cf04b",
    "deepnote_to_be_reexecuted": false,
    "source_hash": "fd5e0848",
    "execution_start": 1637769484037,
    "execution_millis": 1630,
    "deepnote_cell_type": "code"
   },
   "source": "import numpy as np\nimport pandas as pd\nimport seaborn as sns\nfrom datetime import datetime\nfrom matplotlib import pyplot as plt",
   "execution_count": null,
   "outputs": []
  },
  {
   "cell_type": "code",
   "metadata": {
    "tags": [],
    "cell_id": "00001-191a75c3-c8ce-4477-80ba-ba1abbf3e0ed",
    "deepnote_to_be_reexecuted": false,
    "source_hash": "b0423bc6",
    "execution_start": 1637769500442,
    "execution_millis": 0,
    "deepnote_cell_type": "code"
   },
   "source": "census = pd.read_csv('/work/acs2017_county_data.csv')",
   "execution_count": null,
   "outputs": []
  },
  {
   "cell_type": "markdown",
   "source": "**Check missing values**",
   "metadata": {
    "tags": [],
    "cell_id": "00002-49324a33-edea-49b5-b263-9b1459f988a1",
    "deepnote_cell_type": "markdown"
   }
  },
  {
   "cell_type": "code",
   "metadata": {
    "tags": [],
    "cell_id": "00002-d0c44b4b-04fd-4f25-b982-c423341a326c",
    "deepnote_to_be_reexecuted": false,
    "source_hash": "8d40bc95",
    "execution_start": 1637769506996,
    "execution_millis": 31,
    "deepnote_cell_type": "code"
   },
   "source": "census.info()",
   "execution_count": null,
   "outputs": [
    {
     "name": "stdout",
     "text": "<class 'pandas.core.frame.DataFrame'>\nRangeIndex: 3220 entries, 0 to 3219\nData columns (total 37 columns):\n #   Column            Non-Null Count  Dtype  \n---  ------            --------------  -----  \n 0   CountyId          3220 non-null   int64  \n 1   State             3220 non-null   object \n 2   County            3220 non-null   object \n 3   TotalPop          3220 non-null   int64  \n 4   Men               3220 non-null   int64  \n 5   Women             3220 non-null   int64  \n 6   Hispanic          3220 non-null   float64\n 7   White             3220 non-null   float64\n 8   Black             3220 non-null   float64\n 9   Native            3220 non-null   float64\n 10  Asian             3220 non-null   float64\n 11  Pacific           3220 non-null   float64\n 12  VotingAgeCitizen  3220 non-null   int64  \n 13  Income            3220 non-null   int64  \n 14  IncomeErr         3220 non-null   int64  \n 15  IncomePerCap      3220 non-null   int64  \n 16  IncomePerCapErr   3220 non-null   int64  \n 17  Poverty           3220 non-null   float64\n 18  ChildPoverty      3219 non-null   float64\n 19  Professional      3220 non-null   float64\n 20  Service           3220 non-null   float64\n 21  Office            3220 non-null   float64\n 22  Construction      3220 non-null   float64\n 23  Production        3220 non-null   float64\n 24  Drive             3220 non-null   float64\n 25  Carpool           3220 non-null   float64\n 26  Transit           3220 non-null   float64\n 27  Walk              3220 non-null   float64\n 28  OtherTransp       3220 non-null   float64\n 29  WorkAtHome        3220 non-null   float64\n 30  MeanCommute       3220 non-null   float64\n 31  Employed          3220 non-null   int64  \n 32  PrivateWork       3220 non-null   float64\n 33  PublicWork        3220 non-null   float64\n 34  SelfEmployed      3220 non-null   float64\n 35  FamilyWork        3220 non-null   float64\n 36  Unemployment      3220 non-null   float64\ndtypes: float64(25), int64(10), object(2)\nmemory usage: 930.9+ KB\n",
     "output_type": "stream"
    }
   ]
  },
  {
   "cell_type": "markdown",
   "source": "No missing values in census data.",
   "metadata": {
    "tags": [],
    "cell_id": "00004-6968beaf-b0ed-479b-b940-a680e4ddfeb6",
    "deepnote_cell_type": "markdown"
   }
  },
  {
   "cell_type": "markdown",
   "source": "**Replace state names with accronyms to merge with other datasets**",
   "metadata": {
    "tags": [],
    "cell_id": "00005-613da093-c31d-4311-8ae9-7aaa82ede69c",
    "deepnote_cell_type": "markdown"
   }
  },
  {
   "cell_type": "code",
   "metadata": {
    "tags": [],
    "cell_id": "00003-37ed5a2b-f4d0-444f-a599-1773217b0786",
    "deepnote_to_be_reexecuted": false,
    "source_hash": "489144f",
    "execution_start": 1637769678938,
    "execution_millis": 30,
    "deepnote_cell_type": "code"
   },
   "source": "census['State'] = census['State'].replace({\n    \"Alabama\": \"AL\",\"Alaska\": \"AK\",\"Arizona\": \"AZ\",\"Arkansas\": \"AR\",\"California\": \"CA\",\"Colorado\": \"CO\",\n    \"Connecticut\": \"CT\",\"Delaware\": \"DE\",\"Florida\": \"FL\",\"Georgia\": \"GA\",\"Hawaii\": \"HI\",\"Idaho\": \"ID\",\n    \"Illinois\": \"IL\",\"Indiana\": \"IN\",\"Iowa\": \"IA\",\"Kansas\": \"KS\",\"Kentucky\": \"KY\",\"Louisiana\": \"LA\",\n    \"Maine\": \"ME\",\"Maryland\": \"MD\",\"Massachusetts\": \"MA\",\"Michigan\": \"MI\",\"Minnesota\": \"MN\",\n    \"Mississippi\": \"MS\",\"Missouri\": \"MO\",\"Montana\": \"MT\",\"Nebraska\": \"NE\",\"Nevada\": \"NV\",\"New Hampshire\": \"NH\",\n    \"New Jersey\": \"NJ\",\"New Mexico\": \"NM\",\"New York\": \"NY\",\"North Carolina\": \"NC\",\"North Dakota\": \"ND\",\n    \"Ohio\": \"OH\",\"Oklahoma\": \"OK\",\"Oregon\": \"OR\",\"Pennsylvania\": \"PA\",\"Rhode Island\": \"RI\",\n    \"South Carolina\": \"SC\",\"South Dakota\": \"SD\",\"Tennessee\": \"TN\",\"Texas\": \"TX\",\"Utah\": \"UT\",\"Vermont\": \"VT\",\n    \"Virginia\": \"VA\",\"Washington\": \"WA\",\"West Virginia\": \"WV\",\"Wisconsin\": \"WI\",\"Wyoming\": \"WY\",\n    \"District of Columbia\": \"DC\",\"American Samoa\": \"AS\",\"Guam\": \"GU\",\"Northern Mariana Islands\": \"MP\",\n    \"Puerto Rico\": \"PR\",\"United States Minor Outlying Islands\": \"UM\",\"U.S. Virgin Islands\": \"VI\"\n})",
   "execution_count": null,
   "outputs": []
  },
  {
   "cell_type": "markdown",
   "source": "**Export the cleaned census data**",
   "metadata": {
    "tags": [],
    "cell_id": "00007-939351a9-0845-45e0-9c01-55c3e0470957",
    "deepnote_cell_type": "markdown"
   }
  },
  {
   "cell_type": "code",
   "metadata": {
    "tags": [],
    "cell_id": "00007-5fa712ab-ebac-46df-86ad-1e3a5e14f852",
    "deepnote_to_be_reexecuted": false,
    "source_hash": "1aa16805",
    "execution_start": 1637771860519,
    "execution_millis": 104,
    "deepnote_cell_type": "code"
   },
   "source": "census.to_csv('cleaned_census.csv', index = True)",
   "execution_count": null,
   "outputs": []
  },
  {
   "cell_type": "markdown",
   "source": "# By State",
   "metadata": {
    "tags": [],
    "is_collapsed": false,
    "cell_id": "00009-1df44f33-7921-4eed-ad56-17940d16ee86",
    "deepnote_cell_type": "text-cell-h1"
   }
  },
  {
   "cell_type": "code",
   "metadata": {
    "tags": [],
    "cell_id": "00009-84b273cb-33fb-4b10-a595-f0f974d5873d",
    "deepnote_to_be_reexecuted": false,
    "source_hash": "e530c6dc",
    "execution_start": 1637770185010,
    "execution_millis": 0,
    "deepnote_output_heights": [
     230
    ],
    "deepnote_cell_type": "code"
   },
   "source": "state_df = census.drop(['CountyId'],axis=1)",
   "execution_count": null,
   "outputs": []
  },
  {
   "cell_type": "code",
   "metadata": {
    "tags": [],
    "cell_id": "00008-0a647417-462f-4fb1-ba97-5f70c1149441",
    "deepnote_to_be_reexecuted": false,
    "source_hash": "be7d9f9a",
    "execution_start": 1637770495067,
    "execution_millis": 17,
    "deepnote_output_heights": [
     21
    ],
    "deepnote_cell_type": "code"
   },
   "source": "CensusbyState_df = pd.DataFrame(state_df.groupby(['State']).mean().round(2))",
   "execution_count": null,
   "outputs": []
  },
  {
   "cell_type": "code",
   "metadata": {
    "tags": [],
    "cell_id": "00009-b8afad2d-8cd2-44fd-adde-423745231b50",
    "deepnote_to_be_reexecuted": false,
    "source_hash": "baab8e1a",
    "execution_start": 1637770830721,
    "execution_millis": 173,
    "deepnote_cell_type": "code"
   },
   "source": "CensusbyState_df",
   "execution_count": null,
   "outputs": [
    {
     "output_type": "execute_result",
     "execution_count": 17,
     "data": {
      "application/vnd.deepnote.dataframe.v2+json": {
       "row_count": 52,
       "column_count": 34,
       "columns": [
        {
         "name": "TotalPop",
         "dtype": "float64",
         "stats": {
          "unique_count": 52,
          "nan_count": 0,
          "min": "12961.27",
          "max": "672391.0",
          "histogram": [
           {
            "bin_start": 12961.27,
            "bin_end": 78904.243,
            "count": 25
           },
           {
            "bin_start": 78904.243,
            "bin_end": 144847.216,
            "count": 12
           },
           {
            "bin_start": 144847.216,
            "bin_end": 210790.18899999998,
            "count": 3
           },
           {
            "bin_start": 210790.18899999998,
            "bin_end": 276733.162,
            "count": 2
           },
           {
            "bin_start": 276733.162,
            "bin_end": 342676.135,
            "count": 4
           },
           {
            "bin_start": 342676.135,
            "bin_end": 408619.108,
            "count": 0
           },
           {
            "bin_start": 408619.108,
            "bin_end": 474562.081,
            "count": 3
           },
           {
            "bin_start": 474562.081,
            "bin_end": 540505.054,
            "count": 1
           },
           {
            "bin_start": 540505.054,
            "bin_end": 606448.027,
            "count": 0
           },
           {
            "bin_start": 606448.027,
            "bin_end": 672391,
            "count": 2
           }
          ]
         }
        },
        {
         "name": "Men",
         "dtype": "float64",
         "stats": {
          "unique_count": 52,
          "nan_count": 0,
          "min": "6524.05",
          "max": "333906.53",
          "histogram": [
           {
            "bin_start": 6524.05,
            "bin_end": 39262.298,
            "count": 25
           },
           {
            "bin_start": 39262.298,
            "bin_end": 72000.546,
            "count": 12
           },
           {
            "bin_start": 72000.546,
            "bin_end": 104738.79400000001,
            "count": 4
           },
           {
            "bin_start": 104738.79400000001,
            "bin_end": 137477.04200000002,
            "count": 1
           },
           {
            "bin_start": 137477.04200000002,
            "bin_end": 170215.29,
            "count": 4
           },
           {
            "bin_start": 170215.29,
            "bin_end": 202953.538,
            "count": 0
           },
           {
            "bin_start": 202953.538,
            "bin_end": 235691.78600000002,
            "count": 4
           },
           {
            "bin_start": 235691.78600000002,
            "bin_end": 268430.03400000004,
            "count": 0
           },
           {
            "bin_start": 268430.03400000004,
            "bin_end": 301168.282,
            "count": 0
           },
           {
            "bin_start": 301168.282,
            "bin_end": 333906.53,
            "count": 2
           }
          ]
         }
        },
        {
         "name": "Women",
         "dtype": "float64",
         "stats": {
          "unique_count": 52,
          "nan_count": 0,
          "min": "6437.23",
          "max": "353345.0",
          "histogram": [
           {
            "bin_start": 6437.23,
            "bin_end": 41128.007,
            "count": 26
           },
           {
            "bin_start": 41128.007,
            "bin_end": 75818.784,
            "count": 11
           },
           {
            "bin_start": 75818.784,
            "bin_end": 110509.561,
            "count": 4
           },
           {
            "bin_start": 110509.561,
            "bin_end": 145200.33800000002,
            "count": 2
           },
           {
            "bin_start": 145200.33800000002,
            "bin_end": 179891.11500000002,
            "count": 3
           },
           {
            "bin_start": 179891.11500000002,
            "bin_end": 214581.89200000002,
            "count": 0
           },
           {
            "bin_start": 214581.89200000002,
            "bin_end": 249272.66900000002,
            "count": 3
           },
           {
            "bin_start": 249272.66900000002,
            "bin_end": 283963.446,
            "count": 1
           },
           {
            "bin_start": 283963.446,
            "bin_end": 318654.223,
            "count": 0
           },
           {
            "bin_start": 318654.223,
            "bin_end": 353345,
            "count": 2
           }
          ]
         }
        },
        {
         "name": "Hispanic",
         "dtype": "float64",
         "stats": {
          "unique_count": 51,
          "nan_count": 0,
          "min": "1.22",
          "max": "98.91",
          "histogram": [
           {
            "bin_start": 1.22,
            "bin_end": 10.989,
            "count": 39
           },
           {
            "bin_start": 10.989,
            "bin_end": 20.758,
            "count": 8
           },
           {
            "bin_start": 20.758,
            "bin_end": 30.527,
            "count": 1
           },
           {
            "bin_start": 30.527,
            "bin_end": 40.296,
            "count": 2
           },
           {
            "bin_start": 40.296,
            "bin_end": 50.065,
            "count": 1
           },
           {
            "bin_start": 50.065,
            "bin_end": 59.834,
            "count": 0
           },
           {
            "bin_start": 59.834,
            "bin_end": 69.603,
            "count": 0
           },
           {
            "bin_start": 69.603,
            "bin_end": 79.372,
            "count": 0
           },
           {
            "bin_start": 79.372,
            "bin_end": 89.141,
            "count": 0
           },
           {
            "bin_start": 89.141,
            "bin_end": 98.91,
            "count": 1
           }
          ]
         }
        },
        {
         "name": "White",
         "dtype": "float64",
         "stats": {
          "unique_count": 51,
          "nan_count": 0,
          "min": "0.82",
          "max": "94.43",
          "histogram": [
           {
            "bin_start": 0.82,
            "bin_end": 10.181000000000001,
            "count": 1
           },
           {
            "bin_start": 10.181000000000001,
            "bin_end": 19.542,
            "count": 0
           },
           {
            "bin_start": 19.542,
            "bin_end": 28.903000000000002,
            "count": 1
           },
           {
            "bin_start": 28.903000000000002,
            "bin_end": 38.264,
            "count": 1
           },
           {
            "bin_start": 38.264,
            "bin_end": 47.62500000000001,
            "count": 1
           },
           {
            "bin_start": 47.62500000000001,
            "bin_end": 56.986000000000004,
            "count": 5
           },
           {
            "bin_start": 56.986000000000004,
            "bin_end": 66.347,
            "count": 6
           },
           {
            "bin_start": 66.347,
            "bin_end": 75.708,
            "count": 8
           },
           {
            "bin_start": 75.708,
            "bin_end": 85.069,
            "count": 9
           },
           {
            "bin_start": 85.069,
            "bin_end": 94.43,
            "count": 20
           }
          ]
         }
        },
        {
         "name": "Black",
         "dtype": "float64",
         "stats": {
          "unique_count": 52,
          "nan_count": 0,
          "min": "0.05",
          "max": "46.9",
          "histogram": [
           {
            "bin_start": 0.05,
            "bin_end": 4.735,
            "count": 33
           },
           {
            "bin_start": 4.735,
            "bin_end": 9.420000000000002,
            "count": 6
           },
           {
            "bin_start": 9.420000000000002,
            "bin_end": 14.105000000000002,
            "count": 1
           },
           {
            "bin_start": 14.105000000000002,
            "bin_end": 18.790000000000003,
            "count": 3
           },
           {
            "bin_start": 18.790000000000003,
            "bin_end": 23.475000000000005,
            "count": 3
           },
           {
            "bin_start": 23.475000000000005,
            "bin_end": 28.160000000000004,
            "count": 1
           },
           {
            "bin_start": 28.160000000000004,
            "bin_end": 32.845,
            "count": 2
           },
           {
            "bin_start": 32.845,
            "bin_end": 37.53,
            "count": 1
           },
           {
            "bin_start": 37.53,
            "bin_end": 42.215,
            "count": 1
           },
           {
            "bin_start": 42.215,
            "bin_end": 46.9,
            "count": 1
           }
          ]
         }
        },
        {
         "name": "Native",
         "dtype": "float64",
         "stats": {
          "unique_count": 42,
          "nan_count": 0,
          "min": "0.01",
          "max": "31.63",
          "histogram": [
           {
            "bin_start": 0.01,
            "bin_end": 3.1719999999999997,
            "count": 44
           },
           {
            "bin_start": 3.1719999999999997,
            "bin_end": 6.334,
            "count": 1
           },
           {
            "bin_start": 6.334,
            "bin_end": 9.496,
            "count": 4
           },
           {
            "bin_start": 9.496,
            "bin_end": 12.658,
            "count": 0
           },
           {
            "bin_start": 12.658,
            "bin_end": 15.819999999999999,
            "count": 2
           },
           {
            "bin_start": 15.819999999999999,
            "bin_end": 18.982000000000003,
            "count": 0
           },
           {
            "bin_start": 18.982000000000003,
            "bin_end": 22.144000000000002,
            "count": 0
           },
           {
            "bin_start": 22.144000000000002,
            "bin_end": 25.306,
            "count": 0
           },
           {
            "bin_start": 25.306,
            "bin_end": 28.468,
            "count": 0
           },
           {
            "bin_start": 28.468,
            "bin_end": 31.63,
            "count": 1
           }
          ]
         }
        },
        {
         "name": "Asian",
         "dtype": "float64",
         "stats": {
          "unique_count": 47,
          "nan_count": 0,
          "min": "0.04",
          "max": "30.76",
          "histogram": [
           {
            "bin_start": 0.04,
            "bin_end": 3.112,
            "count": 44
           },
           {
            "bin_start": 3.112,
            "bin_end": 6.184,
            "count": 5
           },
           {
            "bin_start": 6.184,
            "bin_end": 9.256,
            "count": 2
           },
           {
            "bin_start": 9.256,
            "bin_end": 12.328,
            "count": 0
           },
           {
            "bin_start": 12.328,
            "bin_end": 15.399999999999999,
            "count": 0
           },
           {
            "bin_start": 15.399999999999999,
            "bin_end": 18.472,
            "count": 0
           },
           {
            "bin_start": 18.472,
            "bin_end": 21.544,
            "count": 0
           },
           {
            "bin_start": 21.544,
            "bin_end": 24.616,
            "count": 0
           },
           {
            "bin_start": 24.616,
            "bin_end": 27.688,
            "count": 0
           },
           {
            "bin_start": 27.688,
            "bin_end": 30.76,
            "count": 1
           }
          ]
         }
        },
        {
         "name": "Pacific",
         "dtype": "float64",
         "stats": {
          "unique_count": 18,
          "nan_count": 0,
          "min": "0.0",
          "max": "14.46",
          "histogram": [
           {
            "bin_start": 0,
            "bin_end": 1.4460000000000002,
            "count": 51
           },
           {
            "bin_start": 1.4460000000000002,
            "bin_end": 2.8920000000000003,
            "count": 0
           },
           {
            "bin_start": 2.8920000000000003,
            "bin_end": 4.338000000000001,
            "count": 0
           },
           {
            "bin_start": 4.338000000000001,
            "bin_end": 5.784000000000001,
            "count": 0
           },
           {
            "bin_start": 5.784000000000001,
            "bin_end": 7.23,
            "count": 0
           },
           {
            "bin_start": 7.23,
            "bin_end": 8.676000000000002,
            "count": 0
           },
           {
            "bin_start": 8.676000000000002,
            "bin_end": 10.122000000000002,
            "count": 0
           },
           {
            "bin_start": 10.122000000000002,
            "bin_end": 11.568000000000001,
            "count": 0
           },
           {
            "bin_start": 11.568000000000001,
            "bin_end": 13.014000000000001,
            "count": 0
           },
           {
            "bin_start": 13.014000000000001,
            "bin_end": 14.46,
            "count": 1
           }
          ]
         }
        },
        {
         "name": "VotingAgeCitizen",
         "dtype": "float64",
         "stats": {
          "unique_count": 52,
          "nan_count": 0,
          "min": "9540.97",
          "max": "503112.0",
          "histogram": [
           {
            "bin_start": 9540.97,
            "bin_end": 58898.073000000004,
            "count": 25
           },
           {
            "bin_start": 58898.073000000004,
            "bin_end": 108255.176,
            "count": 12
           },
           {
            "bin_start": 108255.176,
            "bin_end": 157612.279,
            "count": 4
           },
           {
            "bin_start": 157612.279,
            "bin_end": 206969.382,
            "count": 2
           },
           {
            "bin_start": 206969.382,
            "bin_end": 256326.48500000002,
            "count": 3
           },
           {
            "bin_start": 256326.48500000002,
            "bin_end": 305683.588,
            "count": 1
           },
           {
            "bin_start": 305683.588,
            "bin_end": 355040.691,
            "count": 3
           },
           {
            "bin_start": 355040.691,
            "bin_end": 404397.794,
            "count": 0
           },
           {
            "bin_start": 404397.794,
            "bin_end": 453754.897,
            "count": 1
           },
           {
            "bin_start": 453754.897,
            "bin_end": 503112,
            "count": 1
           }
          ]
         }
        },
        {
         "name": "Income",
         "dtype": "float64",
         "stats": {
          "unique_count": 52,
          "nan_count": 0,
          "min": "18412.95",
          "max": "77649.0",
          "histogram": [
           {
            "bin_start": 18412.95,
            "bin_end": 24336.555,
            "count": 1
           },
           {
            "bin_start": 24336.555,
            "bin_end": 30260.160000000003,
            "count": 0
           },
           {
            "bin_start": 30260.160000000003,
            "bin_end": 36183.765,
            "count": 0
           },
           {
            "bin_start": 36183.765,
            "bin_end": 42107.37,
            "count": 6
           },
           {
            "bin_start": 42107.37,
            "bin_end": 48030.975000000006,
            "count": 12
           },
           {
            "bin_start": 48030.975000000006,
            "bin_end": 53954.58,
            "count": 12
           },
           {
            "bin_start": 53954.58,
            "bin_end": 59878.185,
            "count": 10
           },
           {
            "bin_start": 59878.185,
            "bin_end": 65801.79000000001,
            "count": 3
           },
           {
            "bin_start": 65801.79000000001,
            "bin_end": 71725.395,
            "count": 4
           },
           {
            "bin_start": 71725.395,
            "bin_end": 77649,
            "count": 4
           }
          ]
         }
        },
        {
         "name": "IncomeErr",
         "dtype": "float64",
         "stats": {
          "unique_count": 52,
          "nan_count": 0,
          "min": "1075.0",
          "max": "6400.47",
          "histogram": [
           {
            "bin_start": 1075,
            "bin_end": 1607.547,
            "count": 5
           },
           {
            "bin_start": 1607.547,
            "bin_end": 2140.094,
            "count": 8
           },
           {
            "bin_start": 2140.094,
            "bin_end": 2672.641,
            "count": 12
           },
           {
            "bin_start": 2672.641,
            "bin_end": 3205.188,
            "count": 8
           },
           {
            "bin_start": 3205.188,
            "bin_end": 3737.735,
            "count": 6
           },
           {
            "bin_start": 3737.735,
            "bin_end": 4270.282,
            "count": 5
           },
           {
            "bin_start": 4270.282,
            "bin_end": 4802.829,
            "count": 3
           },
           {
            "bin_start": 4802.829,
            "bin_end": 5335.376,
            "count": 2
           },
           {
            "bin_start": 5335.376,
            "bin_end": 5867.923000000001,
            "count": 2
           },
           {
            "bin_start": 5867.923000000001,
            "bin_end": 6400.47,
            "count": 1
           }
          ]
         }
        },
        {
         "name": "IncomePerCap",
         "dtype": "float64",
         "stats": {
          "unique_count": 52,
          "nan_count": 0,
          "min": "10244.96",
          "max": "50832.0",
          "histogram": [
           {
            "bin_start": 10244.96,
            "bin_end": 14303.663999999999,
            "count": 1
           },
           {
            "bin_start": 14303.663999999999,
            "bin_end": 18362.368,
            "count": 0
           },
           {
            "bin_start": 18362.368,
            "bin_end": 22421.072,
            "count": 5
           },
           {
            "bin_start": 22421.072,
            "bin_end": 26479.775999999998,
            "count": 17
           },
           {
            "bin_start": 26479.775999999998,
            "bin_end": 30538.48,
            "count": 16
           },
           {
            "bin_start": 30538.48,
            "bin_end": 34597.184,
            "count": 7
           },
           {
            "bin_start": 34597.184,
            "bin_end": 38655.888,
            "count": 4
           },
           {
            "bin_start": 38655.888,
            "bin_end": 42714.592000000004,
            "count": 1
           },
           {
            "bin_start": 42714.592000000004,
            "bin_end": 46773.296,
            "count": 0
           },
           {
            "bin_start": 46773.296,
            "bin_end": 50832,
            "count": 1
           }
          ]
         }
        },
        {
         "name": "IncomePerCapErr",
         "dtype": "float64",
         "stats": {
          "unique_count": 52,
          "nan_count": 0,
          "min": "645.0",
          "max": "3114.08",
          "histogram": [
           {
            "bin_start": 645,
            "bin_end": 891.908,
            "count": 8
           },
           {
            "bin_start": 891.908,
            "bin_end": 1138.816,
            "count": 13
           },
           {
            "bin_start": 1138.816,
            "bin_end": 1385.724,
            "count": 10
           },
           {
            "bin_start": 1385.724,
            "bin_end": 1632.632,
            "count": 6
           },
           {
            "bin_start": 1632.632,
            "bin_end": 1879.54,
            "count": 4
           },
           {
            "bin_start": 1879.54,
            "bin_end": 2126.448,
            "count": 1
           },
           {
            "bin_start": 2126.448,
            "bin_end": 2373.3559999999998,
            "count": 5
           },
           {
            "bin_start": 2373.3559999999998,
            "bin_end": 2620.264,
            "count": 4
           },
           {
            "bin_start": 2620.264,
            "bin_end": 2867.172,
            "count": 0
           },
           {
            "bin_start": 2867.172,
            "bin_end": 3114.08,
            "count": 1
           }
          ]
         }
        },
        {
         "name": "Poverty",
         "dtype": "float64",
         "stats": {
          "unique_count": 51,
          "nan_count": 0,
          "min": "9.2",
          "max": "48.73",
          "histogram": [
           {
            "bin_start": 9.2,
            "bin_end": 13.152999999999999,
            "count": 19
           },
           {
            "bin_start": 13.152999999999999,
            "bin_end": 17.106,
            "count": 17
           },
           {
            "bin_start": 17.106,
            "bin_end": 21.059,
            "count": 10
           },
           {
            "bin_start": 21.059,
            "bin_end": 25.012,
            "count": 5
           },
           {
            "bin_start": 25.012,
            "bin_end": 28.965,
            "count": 0
           },
           {
            "bin_start": 28.965,
            "bin_end": 32.918000000000006,
            "count": 0
           },
           {
            "bin_start": 32.918000000000006,
            "bin_end": 36.871,
            "count": 0
           },
           {
            "bin_start": 36.871,
            "bin_end": 40.824,
            "count": 0
           },
           {
            "bin_start": 40.824,
            "bin_end": 44.777,
            "count": 0
           },
           {
            "bin_start": 44.777,
            "bin_end": 48.73,
            "count": 1
           }
          ]
         }
        },
        {
         "name": "ChildPoverty",
         "dtype": "float64",
         "stats": {
          "unique_count": 51,
          "nan_count": 0,
          "min": "11.78",
          "max": "60.65",
          "histogram": [
           {
            "bin_start": 11.78,
            "bin_end": 16.666999999999998,
            "count": 16
           },
           {
            "bin_start": 16.666999999999998,
            "bin_end": 21.554,
            "count": 17
           },
           {
            "bin_start": 21.554,
            "bin_end": 26.440999999999995,
            "count": 8
           },
           {
            "bin_start": 26.440999999999995,
            "bin_end": 31.327999999999996,
            "count": 9
           },
           {
            "bin_start": 31.327999999999996,
            "bin_end": 36.214999999999996,
            "count": 1
           },
           {
            "bin_start": 36.214999999999996,
            "bin_end": 41.102,
            "count": 0
           },
           {
            "bin_start": 41.102,
            "bin_end": 45.989,
            "count": 0
           },
           {
            "bin_start": 45.989,
            "bin_end": 50.876,
            "count": 0
           },
           {
            "bin_start": 50.876,
            "bin_end": 55.763,
            "count": 0
           },
           {
            "bin_start": 55.763,
            "bin_end": 60.65,
            "count": 1
           }
          ]
         }
        },
        {
         "name": "Professional",
         "dtype": "float64",
         "stats": {
          "unique_count": 51,
          "nan_count": 0,
          "min": "28.1",
          "max": "61.7",
          "histogram": [
           {
            "bin_start": 28.1,
            "bin_end": 31.46,
            "count": 24
           },
           {
            "bin_start": 31.46,
            "bin_end": 34.82,
            "count": 13
           },
           {
            "bin_start": 34.82,
            "bin_end": 38.18000000000001,
            "count": 9
           },
           {
            "bin_start": 38.18000000000001,
            "bin_end": 41.540000000000006,
            "count": 3
           },
           {
            "bin_start": 41.540000000000006,
            "bin_end": 44.900000000000006,
            "count": 2
           },
           {
            "bin_start": 44.900000000000006,
            "bin_end": 48.260000000000005,
            "count": 0
           },
           {
            "bin_start": 48.260000000000005,
            "bin_end": 51.620000000000005,
            "count": 0
           },
           {
            "bin_start": 51.620000000000005,
            "bin_end": 54.980000000000004,
            "count": 0
           },
           {
            "bin_start": 54.980000000000004,
            "bin_end": 58.34,
            "count": 0
           },
           {
            "bin_start": 58.34,
            "bin_end": 61.7,
            "count": 1
           }
          ]
         }
        },
        {
         "name": "Service",
         "dtype": "float64",
         "stats": {
          "unique_count": 49,
          "nan_count": 0,
          "min": "15.3",
          "max": "28.22",
          "histogram": [
           {
            "bin_start": 15.3,
            "bin_end": 16.592,
            "count": 6
           },
           {
            "bin_start": 16.592,
            "bin_end": 17.884,
            "count": 13
           },
           {
            "bin_start": 17.884,
            "bin_end": 19.176000000000002,
            "count": 19
           },
           {
            "bin_start": 19.176000000000002,
            "bin_end": 20.468,
            "count": 8
           },
           {
            "bin_start": 20.468,
            "bin_end": 21.759999999999998,
            "count": 2
           },
           {
            "bin_start": 21.759999999999998,
            "bin_end": 23.052,
            "count": 3
           },
           {
            "bin_start": 23.052,
            "bin_end": 24.344,
            "count": 0
           },
           {
            "bin_start": 24.344,
            "bin_end": 25.636,
            "count": 0
           },
           {
            "bin_start": 25.636,
            "bin_end": 26.927999999999997,
            "count": 0
           },
           {
            "bin_start": 26.927999999999997,
            "bin_end": 28.22,
            "count": 1
           }
          ]
         }
        },
        {
         "name": "Office",
         "dtype": "float64",
         "stats": {
          "unique_count": 51,
          "nan_count": 0,
          "min": "16.7",
          "max": "25.93",
          "histogram": [
           {
            "bin_start": 16.7,
            "bin_end": 17.622999999999998,
            "count": 1
           },
           {
            "bin_start": 17.622999999999998,
            "bin_end": 18.546,
            "count": 0
           },
           {
            "bin_start": 18.546,
            "bin_end": 19.469,
            "count": 2
           },
           {
            "bin_start": 19.469,
            "bin_end": 20.392,
            "count": 4
           },
           {
            "bin_start": 20.392,
            "bin_end": 21.314999999999998,
            "count": 8
           },
           {
            "bin_start": 21.314999999999998,
            "bin_end": 22.238,
            "count": 17
           },
           {
            "bin_start": 22.238,
            "bin_end": 23.161,
            "count": 13
           },
           {
            "bin_start": 23.161,
            "bin_end": 24.084,
            "count": 5
           },
           {
            "bin_start": 24.084,
            "bin_end": 25.006999999999998,
            "count": 1
           },
           {
            "bin_start": 25.006999999999998,
            "bin_end": 25.93,
            "count": 1
           }
          ]
         }
        },
        {
         "name": "Construction",
         "dtype": "float64",
         "stats": {
          "unique_count": 52,
          "nan_count": 0,
          "min": "2.7",
          "max": "17.64",
          "histogram": [
           {
            "bin_start": 2.7,
            "bin_end": 4.194000000000001,
            "count": 1
           },
           {
            "bin_start": 4.194000000000001,
            "bin_end": 5.688000000000001,
            "count": 0
           },
           {
            "bin_start": 5.688000000000001,
            "bin_end": 7.182000000000001,
            "count": 0
           },
           {
            "bin_start": 7.182000000000001,
            "bin_end": 8.676000000000002,
            "count": 5
           },
           {
            "bin_start": 8.676000000000002,
            "bin_end": 10.170000000000002,
            "count": 5
           },
           {
            "bin_start": 10.170000000000002,
            "bin_end": 11.664000000000001,
            "count": 12
           },
           {
            "bin_start": 11.664000000000001,
            "bin_end": 13.158000000000001,
            "count": 13
           },
           {
            "bin_start": 13.158000000000001,
            "bin_end": 14.652000000000001,
            "count": 9
           },
           {
            "bin_start": 14.652000000000001,
            "bin_end": 16.146,
            "count": 4
           },
           {
            "bin_start": 16.146,
            "bin_end": 17.64,
            "count": 3
           }
          ]
         }
        },
        {
         "name": "Production",
         "dtype": "float64",
         "stats": {
          "unique_count": 51,
          "nan_count": 0,
          "min": "3.6",
          "max": "22.83",
          "histogram": [
           {
            "bin_start": 3.6,
            "bin_end": 5.523,
            "count": 1
           },
           {
            "bin_start": 5.523,
            "bin_end": 7.446,
            "count": 0
           },
           {
            "bin_start": 7.446,
            "bin_end": 9.368999999999998,
            "count": 2
           },
           {
            "bin_start": 9.368999999999998,
            "bin_end": 11.291999999999998,
            "count": 10
           },
           {
            "bin_start": 11.291999999999998,
            "bin_end": 13.214999999999998,
            "count": 11
           },
           {
            "bin_start": 13.214999999999998,
            "bin_end": 15.137999999999996,
            "count": 10
           },
           {
            "bin_start": 15.137999999999996,
            "bin_end": 17.060999999999996,
            "count": 3
           },
           {
            "bin_start": 17.060999999999996,
            "bin_end": 18.983999999999998,
            "count": 8
           },
           {
            "bin_start": 18.983999999999998,
            "bin_end": 20.906999999999996,
            "count": 5
           },
           {
            "bin_start": 20.906999999999996,
            "bin_end": 22.83,
            "count": 2
           }
          ]
         }
        },
        {
         "name": "Drive",
         "dtype": "float64",
         "stats": {
          "unique_count": 52,
          "nan_count": 0,
          "min": "34.0",
          "max": "85.49",
          "histogram": [
           {
            "bin_start": 34,
            "bin_end": 39.149,
            "count": 1
           },
           {
            "bin_start": 39.149,
            "bin_end": 44.298,
            "count": 0
           },
           {
            "bin_start": 44.298,
            "bin_end": 49.446999999999996,
            "count": 1
           },
           {
            "bin_start": 49.446999999999996,
            "bin_end": 54.596,
            "count": 0
           },
           {
            "bin_start": 54.596,
            "bin_end": 59.745,
            "count": 0
           },
           {
            "bin_start": 59.745,
            "bin_end": 64.89399999999999,
            "count": 1
           },
           {
            "bin_start": 64.89399999999999,
            "bin_end": 70.04299999999999,
            "count": 1
           },
           {
            "bin_start": 70.04299999999999,
            "bin_end": 75.192,
            "count": 9
           },
           {
            "bin_start": 75.192,
            "bin_end": 80.341,
            "count": 18
           },
           {
            "bin_start": 80.341,
            "bin_end": 85.49,
            "count": 21
           }
          ]
         }
        },
        {
         "name": "Carpool",
         "dtype": "float64",
         "stats": {
          "unique_count": 51,
          "nan_count": 0,
          "min": "5.4",
          "max": "12.01",
          "histogram": [
           {
            "bin_start": 5.4,
            "bin_end": 6.061,
            "count": 1
           },
           {
            "bin_start": 6.061,
            "bin_end": 6.722,
            "count": 0
           },
           {
            "bin_start": 6.722,
            "bin_end": 7.383,
            "count": 0
           },
           {
            "bin_start": 7.383,
            "bin_end": 8.044,
            "count": 4
           },
           {
            "bin_start": 8.044,
            "bin_end": 8.705,
            "count": 7
           },
           {
            "bin_start": 8.705,
            "bin_end": 9.366,
            "count": 9
           },
           {
            "bin_start": 9.366,
            "bin_end": 10.027000000000001,
            "count": 9
           },
           {
            "bin_start": 10.027000000000001,
            "bin_end": 10.687999999999999,
            "count": 9
           },
           {
            "bin_start": 10.687999999999999,
            "bin_end": 11.349,
            "count": 9
           },
           {
            "bin_start": 11.349,
            "bin_end": 12.01,
            "count": 4
           }
          ]
         }
        },
        {
         "name": "Transit",
         "dtype": "float64",
         "stats": {
          "unique_count": 43,
          "nan_count": 0,
          "min": "0.2",
          "max": "35.4",
          "histogram": [
           {
            "bin_start": 0.2,
            "bin_end": 3.7199999999999998,
            "count": 47
           },
           {
            "bin_start": 3.7199999999999998,
            "bin_end": 7.239999999999999,
            "count": 3
           },
           {
            "bin_start": 7.239999999999999,
            "bin_end": 10.759999999999998,
            "count": 1
           },
           {
            "bin_start": 10.759999999999998,
            "bin_end": 14.279999999999998,
            "count": 0
           },
           {
            "bin_start": 14.279999999999998,
            "bin_end": 17.799999999999997,
            "count": 0
           },
           {
            "bin_start": 17.799999999999997,
            "bin_end": 21.319999999999997,
            "count": 0
           },
           {
            "bin_start": 21.319999999999997,
            "bin_end": 24.839999999999996,
            "count": 0
           },
           {
            "bin_start": 24.839999999999996,
            "bin_end": 28.359999999999996,
            "count": 0
           },
           {
            "bin_start": 28.359999999999996,
            "bin_end": 31.879999999999995,
            "count": 0
           },
           {
            "bin_start": 31.879999999999995,
            "bin_end": 35.4,
            "count": 1
           }
          ]
         }
        },
        {
         "name": "Walk",
         "dtype": "float64",
         "stats": {
          "unique_count": 49,
          "nan_count": 0,
          "min": "1.2",
          "max": "24.7",
          "histogram": [
           {
            "bin_start": 1.2,
            "bin_end": 3.55,
            "count": 28
           },
           {
            "bin_start": 3.55,
            "bin_end": 5.9,
            "count": 17
           },
           {
            "bin_start": 5.9,
            "bin_end": 8.25,
            "count": 3
           },
           {
            "bin_start": 8.25,
            "bin_end": 10.6,
            "count": 1
           },
           {
            "bin_start": 10.6,
            "bin_end": 12.95,
            "count": 1
           },
           {
            "bin_start": 12.95,
            "bin_end": 15.3,
            "count": 1
           },
           {
            "bin_start": 15.3,
            "bin_end": 17.65,
            "count": 0
           },
           {
            "bin_start": 17.65,
            "bin_end": 20,
            "count": 0
           },
           {
            "bin_start": 20,
            "bin_end": 22.35,
            "count": 0
           },
           {
            "bin_start": 22.35,
            "bin_end": 24.7,
            "count": 1
           }
          ]
         }
        },
        {
         "name": "OtherTransp",
         "dtype": "float64",
         "stats": {
          "unique_count": 41,
          "nan_count": 0,
          "min": "1.11",
          "max": "9.74",
          "histogram": [
           {
            "bin_start": 1.11,
            "bin_end": 1.9730000000000003,
            "count": 41
           },
           {
            "bin_start": 1.9730000000000003,
            "bin_end": 2.8360000000000003,
            "count": 8
           },
           {
            "bin_start": 2.8360000000000003,
            "bin_end": 3.6990000000000007,
            "count": 0
           },
           {
            "bin_start": 3.6990000000000007,
            "bin_end": 4.562,
            "count": 1
           },
           {
            "bin_start": 4.562,
            "bin_end": 5.425000000000001,
            "count": 0
           },
           {
            "bin_start": 5.425000000000001,
            "bin_end": 6.288000000000001,
            "count": 1
           },
           {
            "bin_start": 6.288000000000001,
            "bin_end": 7.151000000000001,
            "count": 0
           },
           {
            "bin_start": 7.151000000000001,
            "bin_end": 8.014000000000001,
            "count": 0
           },
           {
            "bin_start": 8.014000000000001,
            "bin_end": 8.877,
            "count": 0
           },
           {
            "bin_start": 8.877,
            "bin_end": 9.74,
            "count": 1
           }
          ]
         }
        },
        {
         "name": "WorkAtHome",
         "dtype": "float64",
         "stats": {
          "unique_count": 50,
          "nan_count": 0,
          "min": "2.07",
          "max": "10.15",
          "histogram": [
           {
            "bin_start": 2.07,
            "bin_end": 2.878,
            "count": 4
           },
           {
            "bin_start": 2.878,
            "bin_end": 3.686,
            "count": 8
           },
           {
            "bin_start": 3.686,
            "bin_end": 4.494,
            "count": 9
           },
           {
            "bin_start": 4.494,
            "bin_end": 5.302,
            "count": 9
           },
           {
            "bin_start": 5.302,
            "bin_end": 6.109999999999999,
            "count": 11
           },
           {
            "bin_start": 6.109999999999999,
            "bin_end": 6.918000000000001,
            "count": 4
           },
           {
            "bin_start": 6.918000000000001,
            "bin_end": 7.726000000000001,
            "count": 2
           },
           {
            "bin_start": 7.726000000000001,
            "bin_end": 8.534,
            "count": 2
           },
           {
            "bin_start": 8.534,
            "bin_end": 9.342,
            "count": 1
           },
           {
            "bin_start": 9.342,
            "bin_end": 10.15,
            "count": 2
           }
          ]
         }
        },
        {
         "name": "MeanCommute",
         "dtype": "float64",
         "stats": {
          "unique_count": 51,
          "nan_count": 0,
          "min": "11.2",
          "max": "30.6",
          "histogram": [
           {
            "bin_start": 11.2,
            "bin_end": 13.139999999999999,
            "count": 1
           },
           {
            "bin_start": 13.139999999999999,
            "bin_end": 15.08,
            "count": 0
           },
           {
            "bin_start": 15.08,
            "bin_end": 17.02,
            "count": 1
           },
           {
            "bin_start": 17.02,
            "bin_end": 18.96,
            "count": 4
           },
           {
            "bin_start": 18.96,
            "bin_end": 20.9,
            "count": 5
           },
           {
            "bin_start": 20.9,
            "bin_end": 22.84,
            "count": 8
           },
           {
            "bin_start": 22.84,
            "bin_end": 24.78,
            "count": 10
           },
           {
            "bin_start": 24.78,
            "bin_end": 26.72,
            "count": 17
           },
           {
            "bin_start": 26.72,
            "bin_end": 28.66,
            "count": 3
           },
           {
            "bin_start": 28.66,
            "bin_end": 30.6,
            "count": 3
           }
          ]
         }
        },
        {
         "name": "Employed",
         "dtype": "float64",
         "stats": {
          "unique_count": 52,
          "nan_count": 0,
          "min": "6641.5",
          "max": "357701.0",
          "histogram": [
           {
            "bin_start": 6641.5,
            "bin_end": 41747.45,
            "count": 27
           },
           {
            "bin_start": 41747.45,
            "bin_end": 76853.4,
            "count": 10
           },
           {
            "bin_start": 76853.4,
            "bin_end": 111959.34999999999,
            "count": 4
           },
           {
            "bin_start": 111959.34999999999,
            "bin_end": 147065.3,
            "count": 3
           },
           {
            "bin_start": 147065.3,
            "bin_end": 182171.25,
            "count": 2
           },
           {
            "bin_start": 182171.25,
            "bin_end": 217277.19999999998,
            "count": 2
           },
           {
            "bin_start": 217277.19999999998,
            "bin_end": 252383.14999999997,
            "count": 2
           },
           {
            "bin_start": 252383.14999999997,
            "bin_end": 287489.1,
            "count": 0
           },
           {
            "bin_start": 287489.1,
            "bin_end": 322595.05,
            "count": 1
           },
           {
            "bin_start": 322595.05,
            "bin_end": 357701,
            "count": 1
           }
          ]
         }
        },
        {
         "name": "PrivateWork",
         "dtype": "float64",
         "stats": {
          "unique_count": 52,
          "nan_count": 0,
          "min": "59.63",
          "max": "83.34",
          "histogram": [
           {
            "bin_start": 59.63,
            "bin_end": 62.001000000000005,
            "count": 1
           },
           {
            "bin_start": 62.001000000000005,
            "bin_end": 64.372,
            "count": 0
           },
           {
            "bin_start": 64.372,
            "bin_end": 66.743,
            "count": 5
           },
           {
            "bin_start": 66.743,
            "bin_end": 69.114,
            "count": 1
           },
           {
            "bin_start": 69.114,
            "bin_end": 71.485,
            "count": 8
           },
           {
            "bin_start": 71.485,
            "bin_end": 73.856,
            "count": 6
           },
           {
            "bin_start": 73.856,
            "bin_end": 76.227,
            "count": 11
           },
           {
            "bin_start": 76.227,
            "bin_end": 78.598,
            "count": 10
           },
           {
            "bin_start": 78.598,
            "bin_end": 80.969,
            "count": 7
           },
           {
            "bin_start": 80.969,
            "bin_end": 83.34,
            "count": 3
           }
          ]
         }
        },
        {
         "name": "PublicWork",
         "dtype": "float64",
         "stats": {
          "unique_count": 51,
          "nan_count": 0,
          "min": "11.16",
          "max": "32.83",
          "histogram": [
           {
            "bin_start": 11.16,
            "bin_end": 13.327,
            "count": 6
           },
           {
            "bin_start": 13.327,
            "bin_end": 15.494,
            "count": 10
           },
           {
            "bin_start": 15.494,
            "bin_end": 17.661,
            "count": 13
           },
           {
            "bin_start": 17.661,
            "bin_end": 19.828,
            "count": 11
           },
           {
            "bin_start": 19.828,
            "bin_end": 21.994999999999997,
            "count": 6
           },
           {
            "bin_start": 21.994999999999997,
            "bin_end": 24.162,
            "count": 1
           },
           {
            "bin_start": 24.162,
            "bin_end": 26.329,
            "count": 2
           },
           {
            "bin_start": 26.329,
            "bin_end": 28.496,
            "count": 2
           },
           {
            "bin_start": 28.496,
            "bin_end": 30.663,
            "count": 0
           },
           {
            "bin_start": 30.663,
            "bin_end": 32.83,
            "count": 1
           }
          ]
         }
        },
        {
         "name": "SelfEmployed",
         "dtype": "float64",
         "stats": {
          "unique_count": 51,
          "nan_count": 0,
          "min": "4.3",
          "max": "14.89",
          "histogram": [
           {
            "bin_start": 4.3,
            "bin_end": 5.359,
            "count": 5
           },
           {
            "bin_start": 5.359,
            "bin_end": 6.417999999999999,
            "count": 14
           },
           {
            "bin_start": 6.417999999999999,
            "bin_end": 7.476999999999999,
            "count": 10
           },
           {
            "bin_start": 7.476999999999999,
            "bin_end": 8.536,
            "count": 10
           },
           {
            "bin_start": 8.536,
            "bin_end": 9.594999999999999,
            "count": 5
           },
           {
            "bin_start": 9.594999999999999,
            "bin_end": 10.654,
            "count": 4
           },
           {
            "bin_start": 10.654,
            "bin_end": 11.713,
            "count": 0
           },
           {
            "bin_start": 11.713,
            "bin_end": 12.771999999999998,
            "count": 0
           },
           {
            "bin_start": 12.771999999999998,
            "bin_end": 13.831,
            "count": 2
           },
           {
            "bin_start": 13.831,
            "bin_end": 14.89,
            "count": 2
           }
          ]
         }
        },
        {
         "name": "FamilyWork",
         "dtype": "float64",
         "stats": {
          "unique_count": 30,
          "nan_count": 0,
          "min": "0.1",
          "max": "1.12",
          "histogram": [
           {
            "bin_start": 0.1,
            "bin_end": 0.202,
            "count": 22
           },
           {
            "bin_start": 0.202,
            "bin_end": 0.30400000000000005,
            "count": 18
           },
           {
            "bin_start": 0.30400000000000005,
            "bin_end": 0.406,
            "count": 6
           },
           {
            "bin_start": 0.406,
            "bin_end": 0.508,
            "count": 3
           },
           {
            "bin_start": 0.508,
            "bin_end": 0.61,
            "count": 0
           },
           {
            "bin_start": 0.61,
            "bin_end": 0.7120000000000001,
            "count": 1
           },
           {
            "bin_start": 0.7120000000000001,
            "bin_end": 0.8140000000000001,
            "count": 1
           },
           {
            "bin_start": 0.8140000000000001,
            "bin_end": 0.916,
            "count": 0
           },
           {
            "bin_start": 0.916,
            "bin_end": 1.018,
            "count": 0
           },
           {
            "bin_start": 1.018,
            "bin_end": 1.12,
            "count": 1
           }
          ]
         }
        },
        {
         "name": "Unemployment",
         "dtype": "float64",
         "stats": {
          "unique_count": 48,
          "nan_count": 0,
          "min": "2.73",
          "max": "18.81",
          "histogram": [
           {
            "bin_start": 2.73,
            "bin_end": 4.338,
            "count": 7
           },
           {
            "bin_start": 4.338,
            "bin_end": 5.946,
            "count": 13
           },
           {
            "bin_start": 5.946,
            "bin_end": 7.554,
            "count": 16
           },
           {
            "bin_start": 7.554,
            "bin_end": 9.161999999999999,
            "count": 12
           },
           {
            "bin_start": 9.161999999999999,
            "bin_end": 10.77,
            "count": 3
           },
           {
            "bin_start": 10.77,
            "bin_end": 12.378,
            "count": 0
           },
           {
            "bin_start": 12.378,
            "bin_end": 13.985999999999999,
            "count": 0
           },
           {
            "bin_start": 13.985999999999999,
            "bin_end": 15.594,
            "count": 0
           },
           {
            "bin_start": 15.594,
            "bin_end": 17.201999999999998,
            "count": 0
           },
           {
            "bin_start": 17.201999999999998,
            "bin_end": 18.81,
            "count": 1
           }
          ]
         }
        },
        {
         "name": "_deepnote_index_column",
         "dtype": "object"
        }
       ],
       "rows_top": [
        {
         "TotalPop": 25467.76,
         "Men": 13321.34,
         "Women": 12146.41,
         "Hispanic": 5.09,
         "White": 48.42,
         "Black": 1.18,
         "Native": 31.63,
         "Asian": 5.98,
         "Pacific": 0.54,
         "VotingAgeCitizen": 18294.93,
         "Income": 66425.45,
         "IncomeErr": 5500.83,
         "IncomePerCap": 31670.55,
         "IncomePerCapErr": 2340.86,
         "Poverty": 13.56,
         "ChildPoverty": 17.86,
         "Professional": 31.87,
         "Service": 18.73,
         "Office": 20.37,
         "Construction": 14.79,
         "Production": 14.24,
         "Drive": 47.02,
         "Carpool": 12.01,
         "Transit": 1.08,
         "Walk": 24.7,
         "OtherTransp": 9.74,
         "WorkAtHome": 5.46,
         "MeanCommute": 11.2,
         "Employed": 12208.45,
         "PrivateWork": 59.63,
         "PublicWork": 32.83,
         "SelfEmployed": 7.22,
         "FamilyWork": 0.3,
         "Unemployment": 9.66,
         "_deepnote_index_column": "AK"
        },
        {
         "TotalPop": 72399.57,
         "Men": 35086.66,
         "Women": 37312.91,
         "Hispanic": 3.3,
         "White": 65.17,
         "Black": 28.67,
         "Native": 0.61,
         "Asian": 0.71,
         "Pacific": 0.02,
         "VotingAgeCitizen": 54506.18,
         "Income": 40271.4,
         "IncomeErr": 2513.19,
         "IncomePerCap": 22180.49,
         "IncomePerCapErr": 1195.34,
         "Poverty": 20.95,
         "ChildPoverty": 30.67,
         "Professional": 28.1,
         "Service": 16.83,
         "Office": 22.56,
         "Construction": 11.61,
         "Production": 20.91,
         "Drive": 85.49,
         "Carpool": 9.41,
         "Transit": 0.22,
         "Walk": 1.2,
         "OtherTransp": 1.14,
         "WorkAtHome": 2.53,
         "MeanCommute": 26.19,
         "Employed": 30679.24,
         "PrivateWork": 78.17,
         "PublicWork": 16.05,
         "SelfEmployed": 5.57,
         "FamilyWork": 0.21,
         "Unemployment": 9.02,
         "_deepnote_index_column": "AL"
        },
        {
         "TotalPop": 39705.92,
         "Men": 19488.68,
         "Women": 20217.24,
         "Hispanic": 5.09,
         "White": 75.63,
         "Black": 16.13,
         "Native": 0.54,
         "Asian": 0.69,
         "Pacific": 0.08,
         "VotingAgeCitizen": 29118.6,
         "Income": 39025.08,
         "IncomeErr": 2859.33,
         "IncomePerCap": 21449.31,
         "IncomePerCapErr": 1437.59,
         "Poverty": 20.42,
         "ChildPoverty": 29.71,
         "Professional": 28.51,
         "Service": 17.64,
         "Office": 21.6,
         "Construction": 13.01,
         "Production": 19.26,
         "Drive": 81.82,
         "Carpool": 11.32,
         "Transit": 0.29,
         "Walk": 1.97,
         "OtherTransp": 1.36,
         "WorkAtHome": 3.25,
         "MeanCommute": 23.01,
         "Employed": 17020.48,
         "PrivateWork": 75.23,
         "PublicWork": 17.19,
         "SelfEmployed": 7.38,
         "FamilyWork": 0.2,
         "Unemployment": 7.29,
         "_deepnote_index_column": "AR"
        },
        {
         "TotalPop": 453996.4,
         "Men": 225670.33,
         "Women": 228326.07,
         "Hispanic": 30.89,
         "White": 50.83,
         "Black": 1.81,
         "Native": 13.23,
         "Asian": 1.29,
         "Pacific": 0.13,
         "VotingAgeCitizen": 312678.47,
         "Income": 45816.67,
         "IncomeErr": 2159.93,
         "IncomePerCap": 22712.2,
         "IncomePerCapErr": 805.2,
         "Poverty": 20.19,
         "ChildPoverty": 28.47,
         "Professional": 30.01,
         "Service": 22.57,
         "Office": 23.23,
         "Construction": 13.15,
         "Production": 11.07,
         "Drive": 77.53,
         "Carpool": 10.97,
         "Transit": 0.97,
         "Walk": 3.32,
         "OtherTransp": 2.19,
         "WorkAtHome": 5.03,
         "MeanCommute": 21.7,
         "Employed": 196926.07,
         "PrivateWork": 72,
         "PublicWork": 21.85,
         "SelfEmployed": 5.95,
         "FamilyWork": 0.18,
         "Unemployment": 9.77,
         "_deepnote_index_column": "AZ"
        },
        {
         "TotalPop": 672118.05,
         "Men": 333906.53,
         "Women": 338211.52,
         "Hispanic": 30.07,
         "White": 54.76,
         "Black": 2.94,
         "Native": 1.65,
         "Asian": 7.07,
         "Pacific": 0.29,
         "VotingAgeCitizen": 430519.12,
         "Income": 61046.76,
         "IncomeErr": 2232.4,
         "IncomePerCap": 30416.48,
         "IncomePerCapErr": 1022.12,
         "Poverty": 15.74,
         "ChildPoverty": 20.13,
         "Professional": 34.21,
         "Service": 20.66,
         "Office": 21.96,
         "Construction": 12.47,
         "Production": 10.7,
         "Drive": 73.54,
         "Carpool": 10.92,
         "Transit": 2.93,
         "Walk": 3.34,
         "OtherTransp": 2.6,
         "WorkAtHome": 6.67,
         "MeanCommute": 25.53,
         "Employed": 310239.91,
         "PrivateWork": 71.15,
         "PublicWork": 18.88,
         "SelfEmployed": 9.57,
         "FamilyWork": 0.41,
         "Unemployment": 8.27,
         "_deepnote_index_column": "CA"
        },
        {
         "TotalPop": 84945.61,
         "Men": 42676.8,
         "Women": 42268.81,
         "Hispanic": 20.04,
         "White": 74.66,
         "Black": 1.48,
         "Native": 0.83,
         "Asian": 1.11,
         "Pacific": 0.11,
         "VotingAgeCitizen": 60833.77,
         "Income": 54353.56,
         "IncomeErr": 4014.94,
         "IncomePerCap": 29647.05,
         "IncomePerCapErr": 2427.17,
         "Poverty": 13.23,
         "ChildPoverty": 17.02,
         "Professional": 35.03,
         "Service": 19.92,
         "Office": 20.83,
         "Construction": 14.54,
         "Production": 9.68,
         "Drive": 71.74,
         "Carpool": 10.62,
         "Transit": 1.6,
         "Walk": 5.7,
         "OtherTransp": 2.32,
         "WorkAtHome": 8.03,
         "MeanCommute": 21.67,
         "Employed": 43126.19,
         "PrivateWork": 71.35,
         "PublicWork": 18.27,
         "SelfEmployed": 9.98,
         "FamilyWork": 0.4,
         "Unemployment": 5.79,
         "_deepnote_index_column": "CO"
        },
        {
         "TotalPop": 449309.75,
         "Men": 219255.75,
         "Women": 230054,
         "Hispanic": 11.42,
         "White": 76.04,
         "Black": 6.48,
         "Native": 0.12,
         "Asian": 3.58,
         "Pacific": 0,
         "VotingAgeCitizen": 324974.25,
         "Income": 74496,
         "IncomeErr": 1426.62,
         "IncomePerCap": 39419.12,
         "IncomePerCapErr": 692.25,
         "Poverty": 9.2,
         "ChildPoverty": 11.86,
         "Professional": 41.41,
         "Service": 18.04,
         "Office": 22.6,
         "Construction": 8.19,
         "Production": 9.78,
         "Drive": 80.05,
         "Carpool": 7.79,
         "Transit": 3.11,
         "Walk": 3.1,
         "OtherTransp": 1.11,
         "WorkAtHome": 4.86,
         "MeanCommute": 25.98,
         "Employed": 225635.75,
         "PrivateWork": 79.3,
         "PublicWork": 14.28,
         "SelfEmployed": 6.25,
         "FamilyWork": 0.15,
         "Unemployment": 6.78,
         "_deepnote_index_column": "CT"
        },
        {
         "TotalPop": 672391,
         "Men": 319046,
         "Women": 353345,
         "Hispanic": 10.7,
         "White": 36,
         "Black": 46.9,
         "Native": 0.2,
         "Asian": 3.7,
         "Pacific": 0,
         "VotingAgeCitizen": 503112,
         "Income": 77649,
         "IncomeErr": 1075,
         "IncomePerCap": 50832,
         "IncomePerCapErr": 645,
         "Poverty": 17.4,
         "ChildPoverty": 25.5,
         "Professional": 61.7,
         "Service": 15.3,
         "Office": 16.7,
         "Construction": 2.7,
         "Production": 3.6,
         "Drive": 34,
         "Carpool": 5.4,
         "Transit": 35.4,
         "Walk": 13.2,
         "OtherTransp": 6.2,
         "WorkAtHome": 5.7,
         "MeanCommute": 30,
         "Employed": 357701,
         "PrivateWork": 71,
         "PublicWork": 24.6,
         "SelfEmployed": 4.3,
         "FamilyWork": 0.1,
         "Unemployment": 8,
         "_deepnote_index_column": "DC"
        },
        {
         "TotalPop": 314577.33,
         "Men": 152292,
         "Women": 162285.33,
         "Hispanic": 8.53,
         "White": 65.37,
         "Black": 20.1,
         "Native": 0.4,
         "Asian": 2.87,
         "Pacific": 0,
         "VotingAgeCitizen": 232443,
         "Income": 61294.67,
         "IncomeErr": 1284.33,
         "IncomePerCap": 31278.33,
         "IncomePerCapErr": 686,
         "Poverty": 12.3,
         "ChildPoverty": 18.37,
         "Professional": 36.9,
         "Service": 18.5,
         "Office": 23.43,
         "Construction": 9.4,
         "Production": 11.77,
         "Drive": 82,
         "Carpool": 8.2,
         "Transit": 1.97,
         "Walk": 1.93,
         "OtherTransp": 1.17,
         "WorkAtHome": 4.67,
         "MeanCommute": 25.77,
         "Employed": 147171,
         "PrivateWork": 79.57,
         "PublicWork": 15.97,
         "SelfEmployed": 4.33,
         "FamilyWork": 0.13,
         "Unemployment": 6.43,
         "_deepnote_index_column": "DE"
        },
        {
         "TotalPop": 302663.39,
         "Men": 147975.54,
         "Women": 154687.85,
         "Hispanic": 13.73,
         "White": 68.12,
         "Black": 14.2,
         "Native": 0.4,
         "Asian": 1.54,
         "Pacific": 0.08,
         "VotingAgeCitizen": 215841.72,
         "Income": 47144.33,
         "IncomeErr": 2182.07,
         "IncomePerCap": 25265.97,
         "IncomePerCapErr": 1076.96,
         "Poverty": 17.15,
         "ChildPoverty": 24.9,
         "Professional": 31.21,
         "Service": 21.24,
         "Office": 24.91,
         "Construction": 12.07,
         "Production": 10.58,
         "Drive": 79.84,
         "Carpool": 10.26,
         "Transit": 1.08,
         "Walk": 1.47,
         "OtherTransp": 2.34,
         "WorkAtHome": 5.01,
         "MeanCommute": 26.39,
         "Employed": 134605.52,
         "PrivateWork": 76.2,
         "PublicWork": 17.34,
         "SelfEmployed": 6.3,
         "FamilyWork": 0.16,
         "Unemployment": 7.77,
         "_deepnote_index_column": "FL"
        },
        {
         "TotalPop": 64161.23,
         "Men": 31250.86,
         "Women": 32910.36,
         "Hispanic": 6.23,
         "White": 62.56,
         "Black": 28.14,
         "Native": 0.19,
         "Asian": 1.2,
         "Pacific": 0.05,
         "VotingAgeCitizen": 45006.12,
         "Income": 43268.79,
         "IncomeErr": 3424.62,
         "IncomePerCap": 22305.3,
         "IncomePerCapErr": 1612.53,
         "Poverty": 21.19,
         "ChildPoverty": 30.33,
         "Professional": 29.16,
         "Service": 17.68,
         "Office": 22.55,
         "Construction": 12.73,
         "Production": 17.87,
         "Drive": 82.02,
         "Carpool": 10.78,
         "Transit": 0.53,
         "Walk": 1.51,
         "OtherTransp": 1.56,
         "WorkAtHome": 3.61,
         "MeanCommute": 25.91,
         "Employed": 28970.62,
         "PrivateWork": 75.22,
         "PublicWork": 18.52,
         "SelfEmployed": 6.12,
         "FamilyWork": 0.15,
         "Unemployment": 8.05,
         "_deepnote_index_column": "GA"
        },
        {
         "TotalPop": 284331.6,
         "Men": 142796.2,
         "Women": 141535.4,
         "Hispanic": 9.72,
         "White": 26,
         "Black": 0.8,
         "Native": 0.14,
         "Asian": 30.76,
         "Pacific": 14.46,
         "VotingAgeCitizen": 203293.6,
         "Income": 68663,
         "IncomeErr": 3762.2,
         "IncomePerCap": 33930.6,
         "IncomePerCapErr": 2151.2,
         "Poverty": 11.66,
         "ChildPoverty": 13.77,
         "Professional": 29.56,
         "Service": 28.22,
         "Office": 23.4,
         "Construction": 8.26,
         "Production": 10.54,
         "Drive": 64.78,
         "Carpool": 11.7,
         "Transit": 2.66,
         "Walk": 10.72,
         "OtherTransp": 4.16,
         "WorkAtHome": 6.02,
         "MeanCommute": 20.92,
         "Employed": 134351.6,
         "PrivateWork": 65.4,
         "PublicWork": 26.84,
         "SelfEmployed": 7.54,
         "FamilyWork": 0.18,
         "Unemployment": 4.12,
         "_deepnote_index_column": "HI"
        },
        {
         "TotalPop": 31495.98,
         "Men": 15636.72,
         "Women": 15859.26,
         "Hispanic": 4.54,
         "White": 91.39,
         "Black": 1.38,
         "Native": 0.29,
         "Asian": 1.08,
         "Pacific": 0.06,
         "VotingAgeCitizen": 23257.53,
         "Income": 53436.08,
         "IncomeErr": 2990.7,
         "IncomePerCap": 28497.67,
         "IncomePerCapErr": 1581.85,
         "Poverty": 11.5,
         "ChildPoverty": 15.04,
         "Professional": 32.12,
         "Service": 16.32,
         "Office": 21.06,
         "Construction": 11.58,
         "Production": 18.92,
         "Drive": 79.85,
         "Carpool": 9.01,
         "Transit": 0.48,
         "Walk": 3.79,
         "OtherTransp": 1.48,
         "WorkAtHome": 5.39,
         "MeanCommute": 19.56,
         "Employed": 16158.77,
         "PrivateWork": 77.5,
         "PublicWork": 13.2,
         "SelfEmployed": 9,
         "FamilyWork": 0.29,
         "Unemployment": 3.9,
         "_deepnote_index_column": "IA"
        },
        {
         "TotalPop": 37667.61,
         "Men": 18877.89,
         "Women": 18789.73,
         "Hispanic": 12.71,
         "White": 82.92,
         "Black": 0.38,
         "Native": 1.52,
         "Asian": 0.65,
         "Pacific": 0.09,
         "VotingAgeCitizen": 26549.25,
         "Income": 46171.93,
         "IncomeErr": 3816.73,
         "IncomePerCap": 23335,
         "IncomePerCapErr": 1778.32,
         "Poverty": 15.47,
         "ChildPoverty": 20.32,
         "Professional": 29.82,
         "Service": 18.24,
         "Office": 20.63,
         "Construction": 16.49,
         "Production": 14.83,
         "Drive": 75.61,
         "Carpool": 11.28,
         "Transit": 0.64,
         "Walk": 4.3,
         "OtherTransp": 1.91,
         "WorkAtHome": 6.25,
         "MeanCommute": 21.53,
         "Employed": 17014.95,
         "PrivateWork": 73.49,
         "PublicWork": 17.31,
         "SelfEmployed": 8.78,
         "FamilyWork": 0.43,
         "Unemployment": 5.62,
         "_deepnote_index_column": "ID"
        }
       ],
       "rows_bottom": [
        {
         "TotalPop": 111809.08,
         "Men": 55383.94,
         "Women": 56425.14,
         "Hispanic": 11.73,
         "White": 80.93,
         "Black": 0.74,
         "Native": 1.72,
         "Asian": 1.6,
         "Pacific": 0.27,
         "VotingAgeCitizen": 81910.08,
         "Income": 48502.5,
         "IncomeErr": 2853.33,
         "IncomePerCap": 26512.25,
         "IncomePerCapErr": 1382.31,
         "Poverty": 15.91,
         "ChildPoverty": 21.22,
         "Professional": 32.88,
         "Service": 19.3,
         "Office": 21.69,
         "Construction": 12.67,
         "Production": 13.46,
         "Drive": 74.16,
         "Carpool": 10.4,
         "Transit": 1.12,
         "Walk": 5.06,
         "OtherTransp": 2.34,
         "WorkAtHome": 6.93,
         "MeanCommute": 20.18,
         "Employed": 52388.42,
         "PrivateWork": 72.42,
         "PublicWork": 18.09,
         "SelfEmployed": 9.24,
         "FamilyWork": 0.26,
         "Unemployment": 7.46,
         "_deepnote_index_column": "OR"
        },
        {
         "TotalPop": 190903.06,
         "Men": 93435.22,
         "Women": 97467.84,
         "Hispanic": 4.19,
         "White": 88.25,
         "Black": 4.51,
         "Native": 0.12,
         "Asian": 1.44,
         "Pacific": 0,
         "VotingAgeCitizen": 145375.99,
         "Income": 53281.88,
         "IncomeErr": 1526.12,
         "IncomePerCap": 27757.01,
         "IncomePerCapErr": 732.45,
         "Poverty": 12.83,
         "ChildPoverty": 18.88,
         "Professional": 31.9,
         "Service": 18.07,
         "Office": 22.23,
         "Construction": 10.6,
         "Production": 17.19,
         "Drive": 80.32,
         "Carpool": 9.06,
         "Transit": 1.61,
         "Walk": 3.61,
         "OtherTransp": 1.18,
         "WorkAtHome": 4.22,
         "MeanCommute": 25.4,
         "Employed": 90999.66,
         "PrivateWork": 82.13,
         "PublicWork": 11.64,
         "SelfEmployed": 6,
         "FamilyWork": 0.22,
         "Unemployment": 6.03,
         "_deepnote_index_column": "PA"
        },
        {
         "TotalPop": 44473.88,
         "Men": 21205.09,
         "Women": 23268.79,
         "Hispanic": 98.91,
         "White": 0.82,
         "Black": 0.05,
         "Native": 0.01,
         "Asian": 0.04,
         "Pacific": 0,
         "VotingAgeCitizen": 34493.04,
         "Income": 18412.95,
         "IncomeErr": 1615.46,
         "IncomePerCap": 10244.96,
         "IncomePerCapErr": 809.64,
         "Poverty": 48.73,
         "ChildPoverty": 60.65,
         "Professional": 29.16,
         "Service": 21.89,
         "Office": 25.93,
         "Construction": 10.82,
         "Production": 12.19,
         "Drive": 83.92,
         "Carpool": 7.96,
         "Transit": 1.03,
         "Walk": 3.61,
         "OtherTransp": 1.41,
         "WorkAtHome": 2.08,
         "MeanCommute": 28.29,
         "Employed": 13335.08,
         "PrivateWork": 66.56,
         "PublicWork": 24.94,
         "SelfEmployed": 8.36,
         "FamilyWork": 0.14,
         "Unemployment": 18.81,
         "_deepnote_index_column": "PR"
        },
        {
         "TotalPop": 211227.6,
         "Men": 102516.2,
         "Women": 108711.4,
         "Hispanic": 7.46,
         "White": 84.34,
         "Black": 3,
         "Native": 0.32,
         "Asian": 2.5,
         "Pacific": 0.06,
         "VotingAgeCitizen": 156898.4,
         "Income": 69906.4,
         "IncomeErr": 2080.8,
         "IncomePerCap": 38342.6,
         "IncomePerCapErr": 1026.8,
         "Poverty": 10.02,
         "ChildPoverty": 12.32,
         "Professional": 41.88,
         "Service": 18.88,
         "Office": 22.72,
         "Construction": 7.26,
         "Production": 9.28,
         "Drive": 80.56,
         "Carpool": 8.08,
         "Transit": 1.88,
         "Walk": 3.68,
         "OtherTransp": 1.2,
         "WorkAtHome": 4.56,
         "MeanCommute": 24.8,
         "Employed": 105214.2,
         "PrivateWork": 80.22,
         "PublicWork": 13.46,
         "SelfEmployed": 6.22,
         "FamilyWork": 0.14,
         "Unemployment": 5.86,
         "_deepnote_index_column": "RI"
        },
        {
         "TotalPop": 106379.22,
         "Men": 51668.67,
         "Women": 54710.54,
         "Hispanic": 4.5,
         "White": 57,
         "Black": 35.49,
         "Native": 0.35,
         "Asian": 0.8,
         "Pacific": 0.05,
         "VotingAgeCitizen": 79860.43,
         "Income": 42126.78,
         "IncomeErr": 2125.72,
         "IncomePerCap": 22959.35,
         "IncomePerCapErr": 1039.85,
         "Poverty": 20.06,
         "ChildPoverty": 30.45,
         "Professional": 28.74,
         "Service": 18.64,
         "Office": 23.21,
         "Construction": 10.62,
         "Production": 18.78,
         "Drive": 83.05,
         "Carpool": 10.43,
         "Transit": 0.56,
         "Walk": 1.69,
         "OtherTransp": 1.22,
         "WorkAtHome": 3.03,
         "MeanCommute": 26.06,
         "Employed": 47414.04,
         "PrivateWork": 78.02,
         "PublicWork": 16.4,
         "SelfEmployed": 5.41,
         "FamilyWork": 0.17,
         "Unemployment": 8.77,
         "_deepnote_index_column": "SC"
        },
        {
         "TotalPop": 12961.27,
         "Men": 6524.05,
         "Women": 6437.23,
         "Hispanic": 2.57,
         "White": 80.18,
         "Black": 0.56,
         "Native": 13.89,
         "Asian": 0.72,
         "Pacific": 0.06,
         "VotingAgeCitizen": 9540.97,
         "Income": 50408.74,
         "IncomeErr": 4226.94,
         "IncomePerCap": 27241.61,
         "IncomePerCapErr": 2516.52,
         "Poverty": 16.21,
         "ChildPoverty": 19.84,
         "Professional": 36.94,
         "Service": 16.77,
         "Office": 20.16,
         "Construction": 13.7,
         "Production": 12.44,
         "Drive": 73.6,
         "Carpool": 8.96,
         "Transit": 0.48,
         "Walk": 5.9,
         "OtherTransp": 1.44,
         "WorkAtHome": 9.62,
         "MeanCommute": 16.97,
         "Employed": 6641.5,
         "PrivateWork": 65,
         "PublicWork": 20.33,
         "SelfEmployed": 13.91,
         "FamilyWork": 0.77,
         "Unemployment": 4.82,
         "_deepnote_index_column": "SD"
        },
        {
         "TotalPop": 69446.12,
         "Men": 33863.93,
         "Women": 35582.19,
         "Hispanic": 3.39,
         "White": 86.43,
         "Black": 7.25,
         "Native": 0.26,
         "Asian": 0.68,
         "Pacific": 0.04,
         "VotingAgeCitizen": 51756.44,
         "Income": 43016.61,
         "IncomeErr": 2696.8,
         "IncomePerCap": 23161.31,
         "IncomePerCapErr": 1466.4,
         "Poverty": 18.46,
         "ChildPoverty": 26.2,
         "Professional": 28.38,
         "Service": 17.45,
         "Office": 22.37,
         "Construction": 11.54,
         "Production": 20.28,
         "Drive": 84.25,
         "Carpool": 9.3,
         "Transit": 0.27,
         "Walk": 1.29,
         "OtherTransp": 1.28,
         "WorkAtHome": 3.62,
         "MeanCommute": 26.52,
         "Employed": 31543.26,
         "PrivateWork": 75.99,
         "PublicWork": 15.8,
         "SelfEmployed": 8,
         "FamilyWork": 0.21,
         "Unemployment": 7.34,
         "_deepnote_index_column": "TN"
        },
        {
         "TotalPop": 107951.23,
         "Men": 53610.15,
         "Women": 54341.08,
         "Hispanic": 34.52,
         "White": 56.56,
         "Black": 6.15,
         "Native": 0.33,
         "Asian": 0.98,
         "Pacific": 0.07,
         "VotingAgeCitizen": 68947.78,
         "Income": 49894.34,
         "IncomeErr": 4842.68,
         "IncomePerCap": 24859.02,
         "IncomePerCapErr": 2163.56,
         "Poverty": 16.34,
         "ChildPoverty": 23.02,
         "Professional": 29.4,
         "Service": 18.38,
         "Office": 21.71,
         "Construction": 15.87,
         "Production": 14.65,
         "Drive": 80.53,
         "Carpool": 11.37,
         "Transit": 0.31,
         "Walk": 2.36,
         "OtherTransp": 1.43,
         "WorkAtHome": 3.99,
         "MeanCommute": 22.93,
         "Employed": 49956.96,
         "PrivateWork": 73.34,
         "PublicWork": 17.45,
         "SelfEmployed": 8.93,
         "FamilyWork": 0.28,
         "Unemployment": 6.03,
         "_deepnote_index_column": "TX"
        },
        {
         "TotalPop": 103239.34,
         "Men": 51952.21,
         "Women": 51287.14,
         "Hispanic": 8.94,
         "White": 85.34,
         "Black": 0.43,
         "Native": 2.74,
         "Asian": 0.79,
         "Pacific": 0.31,
         "VotingAgeCitizen": 66977.31,
         "Income": 59208.76,
         "IncomeErr": 4973.69,
         "IncomePerCap": 24433.76,
         "IncomePerCapErr": 1565.83,
         "Poverty": 12.19,
         "ChildPoverty": 14.62,
         "Professional": 32.31,
         "Service": 19.16,
         "Office": 22.29,
         "Construction": 13.34,
         "Production": 12.91,
         "Drive": 75.85,
         "Carpool": 11.05,
         "Transit": 0.76,
         "Walk": 4.62,
         "OtherTransp": 1.61,
         "WorkAtHome": 6.1,
         "MeanCommute": 20.1,
         "Employed": 48697.03,
         "PrivateWork": 75.59,
         "PublicWork": 18.21,
         "SelfEmployed": 5.94,
         "FamilyWork": 0.26,
         "Unemployment": 4.37,
         "_deepnote_index_column": "UT"
        },
        {
         "TotalPop": 62901.89,
         "Men": 30932.24,
         "Women": 31969.65,
         "Hispanic": 5.13,
         "White": 71.68,
         "Black": 18.4,
         "Native": 0.26,
         "Asian": 2.06,
         "Pacific": 0.03,
         "VotingAgeCitizen": 45500.9,
         "Income": 56270.04,
         "IncomeErr": 3639.07,
         "IncomePerCap": 28912,
         "IncomePerCapErr": 1719.15,
         "Poverty": 14.37,
         "ChildPoverty": 19.87,
         "Professional": 34.35,
         "Service": 18.54,
         "Office": 22.92,
         "Construction": 10.77,
         "Production": 13.42,
         "Drive": 80.39,
         "Carpool": 9.27,
         "Transit": 1.65,
         "Walk": 2.61,
         "OtherTransp": 1.74,
         "WorkAtHome": 4.34,
         "MeanCommute": 27.64,
         "Employed": 30707.03,
         "PrivateWork": 74.79,
         "PublicWork": 19.46,
         "SelfEmployed": 5.57,
         "FamilyWork": 0.19,
         "Unemployment": 6.03,
         "_deepnote_index_column": "VA"
        },
        {
         "TotalPop": 44616.86,
         "Men": 22001.86,
         "Women": 22615,
         "Hispanic": 1.68,
         "White": 94.25,
         "Black": 0.84,
         "Native": 0.35,
         "Asian": 0.91,
         "Pacific": 0.02,
         "VotingAgeCitizen": 35245.79,
         "Income": 55252.71,
         "IncomeErr": 2403.21,
         "IncomePerCap": 30572.93,
         "IncomePerCapErr": 1200.36,
         "Poverty": 11.6,
         "ChildPoverty": 15.24,
         "Professional": 37.75,
         "Service": 18.17,
         "Office": 21.08,
         "Construction": 11.36,
         "Production": 11.64,
         "Drive": 76.57,
         "Carpool": 9.44,
         "Transit": 0.69,
         "Walk": 4.54,
         "OtherTransp": 1.31,
         "WorkAtHome": 7.42,
         "MeanCommute": 24.26,
         "Employed": 23376,
         "PrivateWork": 75.53,
         "PublicWork": 14.22,
         "SelfEmployed": 9.92,
         "FamilyWork": 0.32,
         "Unemployment": 4.53,
         "_deepnote_index_column": "VT"
        },
        {
         "TotalPop": 183845.31,
         "Men": 91817.64,
         "Women": 92027.67,
         "Hispanic": 14,
         "White": 76.38,
         "Black": 1.24,
         "Native": 2.02,
         "Asian": 2.67,
         "Pacific": 0.29,
         "VotingAgeCitizen": 130291.82,
         "Income": 54112.46,
         "IncomeErr": 2385.49,
         "IncomePerCap": 27839.1,
         "IncomePerCapErr": 1061.31,
         "Poverty": 15.07,
         "ChildPoverty": 19.47,
         "Professional": 33.32,
         "Service": 18.64,
         "Office": 21.36,
         "Construction": 13.92,
         "Production": 12.75,
         "Drive": 74.58,
         "Carpool": 10.88,
         "Transit": 1.91,
         "Walk": 4.31,
         "OtherTransp": 2.09,
         "WorkAtHome": 6.23,
         "MeanCommute": 23.19,
         "Employed": 87644.18,
         "PrivateWork": 70.92,
         "PublicWork": 21.17,
         "SelfEmployed": 7.67,
         "FamilyWork": 0.24,
         "Unemployment": 6.7,
         "_deepnote_index_column": "WA"
        },
        {
         "TotalPop": 80044.68,
         "Men": 39779.38,
         "Women": 40265.31,
         "Hispanic": 3.66,
         "White": 89.28,
         "Black": 1.59,
         "Native": 2.67,
         "Asian": 1.21,
         "Pacific": 0.02,
         "VotingAgeCitizen": 60118.33,
         "Income": 53849.42,
         "IncomeErr": 1797.96,
         "IncomePerCap": 28390.17,
         "IncomePerCapErr": 913.33,
         "Poverty": 11.94,
         "ChildPoverty": 16.26,
         "Professional": 30.88,
         "Service": 17.35,
         "Office": 21.62,
         "Construction": 11.16,
         "Production": 18.97,
         "Drive": 80.67,
         "Carpool": 8.69,
         "Transit": 0.62,
         "Walk": 3.32,
         "OtherTransp": 1.44,
         "WorkAtHome": 5.27,
         "MeanCommute": 22.34,
         "Employed": 40831.67,
         "PrivateWork": 79.14,
         "PublicWork": 13.47,
         "SelfEmployed": 7.11,
         "FamilyWork": 0.28,
         "Unemployment": 4.57,
         "_deepnote_index_column": "WI"
        },
        {
         "TotalPop": 33397.15,
         "Men": 16502.2,
         "Women": 16894.95,
         "Hispanic": 1.22,
         "White": 94.43,
         "Black": 2.3,
         "Native": 0.18,
         "Asian": 0.44,
         "Pacific": 0.02,
         "VotingAgeCitizen": 26299.96,
         "Income": 41701.91,
         "IncomeErr": 3238.36,
         "IncomePerCap": 22859.62,
         "IncomePerCapErr": 1363.18,
         "Poverty": 18.57,
         "ChildPoverty": 26.37,
         "Professional": 29.19,
         "Service": 19.76,
         "Office": 22.04,
         "Construction": 14.04,
         "Production": 14.98,
         "Drive": 82.32,
         "Carpool": 10.05,
         "Transit": 0.42,
         "Walk": 2.71,
         "OtherTransp": 1.25,
         "WorkAtHome": 3.25,
         "MeanCommute": 28.12,
         "Employed": 13581.05,
         "PrivateWork": 76.08,
         "PublicWork": 18.9,
         "SelfEmployed": 4.86,
         "FamilyWork": 0.15,
         "Unemployment": 8.06,
         "_deepnote_index_column": "WV"
        },
        {
         "TotalPop": 25356.52,
         "Men": 12969.61,
         "Women": 12386.91,
         "Hispanic": 8.17,
         "White": 86.77,
         "Black": 0.58,
         "Native": 1.77,
         "Asian": 0.75,
         "Pacific": 0.04,
         "VotingAgeCitizen": 18818,
         "Income": 59065.22,
         "IncomeErr": 4641.61,
         "IncomePerCap": 30665.43,
         "IncomePerCapErr": 2351.48,
         "Poverty": 11.23,
         "ChildPoverty": 13.13,
         "Professional": 33.23,
         "Service": 18.03,
         "Office": 19.29,
         "Construction": 16.14,
         "Production": 13.3,
         "Drive": 75.38,
         "Carpool": 10.48,
         "Transit": 1.48,
         "Walk": 4.9,
         "OtherTransp": 1.9,
         "WorkAtHome": 5.86,
         "MeanCommute": 19.2,
         "Employed": 12766.65,
         "PrivateWork": 70.35,
         "PublicWork": 21.49,
         "SelfEmployed": 7.8,
         "FamilyWork": 0.38,
         "Unemployment": 4.28,
         "_deepnote_index_column": "WY"
        }
       ]
      },
      "text/plain": "        TotalPop        Men      Women  Hispanic  White  Black  Native  Asian  \\\nState                                                                           \nAK      25467.76   13321.34   12146.41      5.09  48.42   1.18   31.63   5.98   \nAL      72399.57   35086.66   37312.91      3.30  65.17  28.67    0.61   0.71   \nAR      39705.92   19488.68   20217.24      5.09  75.63  16.13    0.54   0.69   \nAZ     453996.40  225670.33  228326.07     30.89  50.83   1.81   13.23   1.29   \nCA     672118.05  333906.53  338211.52     30.07  54.76   2.94    1.65   7.07   \nCO      84945.61   42676.80   42268.81     20.04  74.66   1.48    0.83   1.11   \nCT     449309.75  219255.75  230054.00     11.42  76.04   6.48    0.12   3.58   \nDC     672391.00  319046.00  353345.00     10.70  36.00  46.90    0.20   3.70   \nDE     314577.33  152292.00  162285.33      8.53  65.37  20.10    0.40   2.87   \nFL     302663.39  147975.54  154687.85     13.73  68.12  14.20    0.40   1.54   \nGA      64161.23   31250.86   32910.36      6.23  62.56  28.14    0.19   1.20   \nHI     284331.60  142796.20  141535.40      9.72  26.00   0.80    0.14  30.76   \nIA      31495.98   15636.72   15859.26      4.54  91.39   1.38    0.29   1.08   \nID      37667.61   18877.89   18789.73     12.71  82.92   0.38    1.52   0.65   \nIL     126024.76   61888.24   64136.53      4.82  87.05   5.15    0.15   1.22   \nIN      71895.85   35416.08   36479.77      3.88  90.75   2.66    0.19   1.01   \nKS      27655.43   13771.24   13884.19      9.75  84.74   1.75    0.78   0.80   \nKY      36869.80   18158.54   18711.26      2.30  91.81   3.65    0.18   0.51   \nLA      72866.58   35644.36   37222.22      3.49  61.73  31.78    0.62   0.81   \nMA     484951.36  235244.71  249706.64      8.99  77.83   5.70    0.29   4.03   \nMD     249836.62  121094.88  128741.75      5.83  68.12  19.84    0.19   3.30   \nME      83134.88   40690.00   42444.88      1.41  94.39   0.78    0.77   0.78   \nMI     119585.16   58802.16   60783.00      3.46  88.10   3.87    1.26   1.00   \nMN      63111.79   31400.36   31711.44      4.28  88.94   1.63    1.94   1.44   \nMO      52828.70   25924.63   26904.07      2.80  90.57   3.56    0.50   0.63   \nMS      36417.32   17667.28   18750.04      2.40  54.32  41.35    0.51   0.51   \nMT      18390.39    9247.50    9142.89      2.90  86.57   0.22    7.77   0.47   \nNC     100525.64   48953.68   51571.96      7.09  68.11  20.16    1.55   1.14   \nND      14065.57    7209.83    6855.74      2.78  87.61   0.88    6.58   0.49   \nNE      20364.74   10145.67   10219.08      6.54  89.51   0.82    1.19   0.51   \nNH     133184.80   65913.10   67271.70      2.32  92.95   1.02    0.19   1.82   \nNJ     426674.33  208205.76  218468.57     16.94  62.44  11.34    0.10   7.10   \nNM      63176.61   31275.33   31901.27     47.38  41.98   1.25    6.88   0.76   \nNV     169866.18   85299.47   84566.71     17.32  72.29   2.19    3.86   2.03   \nNY     319326.26  154905.02  164421.24      7.65  81.32   5.81    0.37   2.83   \nOH     131929.05   64614.56   67314.49      2.62  90.29   4.08    0.15   0.93   \nOK      50600.66   25072.92   25527.74      8.83  70.91   3.38    8.90   0.76   \nOR     111809.08   55383.94   56425.14     11.73  80.93   0.74    1.72   1.60   \nPA     190903.06   93435.22   97467.84      4.19  88.25   4.51    0.12   1.44   \nPR      44473.88   21205.09   23268.79     98.91   0.82   0.05    0.01   0.04   \nRI     211227.60  102516.20  108711.40      7.46  84.34   3.00    0.32   2.50   \nSC     106379.22   51668.67   54710.54      4.50  57.00  35.49    0.35   0.80   \nSD      12961.27    6524.05    6437.23      2.57  80.18   0.56   13.89   0.72   \nTN      69446.12   33863.93   35582.19      3.39  86.43   7.25    0.26   0.68   \nTX     107951.23   53610.15   54341.08     34.52  56.56   6.15    0.33   0.98   \nUT     103239.34   51952.21   51287.14      8.94  85.34   0.43    2.74   0.79   \nVA      62901.89   30932.24   31969.65      5.13  71.68  18.40    0.26   2.06   \nVT      44616.86   22001.86   22615.00      1.68  94.25   0.84    0.35   0.91   \nWA     183845.31   91817.64   92027.67     14.00  76.38   1.24    2.02   2.67   \nWI      80044.68   39779.38   40265.31      3.66  89.28   1.59    2.67   1.21   \nWV      33397.15   16502.20   16894.95      1.22  94.43   2.30    0.18   0.44   \nWY      25356.52   12969.61   12386.91      8.17  86.77   0.58    1.77   0.75   \n\n       Pacific  VotingAgeCitizen  ...   Walk  OtherTransp  WorkAtHome  \\\nState                             ...                                   \nAK        0.54          18294.93  ...  24.70         9.74        5.46   \nAL        0.02          54506.18  ...   1.20         1.14        2.53   \nAR        0.08          29118.60  ...   1.97         1.36        3.25   \nAZ        0.13         312678.47  ...   3.32         2.19        5.03   \nCA        0.29         430519.12  ...   3.34         2.60        6.67   \nCO        0.11          60833.77  ...   5.70         2.32        8.03   \nCT        0.00         324974.25  ...   3.10         1.11        4.86   \nDC        0.00         503112.00  ...  13.20         6.20        5.70   \nDE        0.00         232443.00  ...   1.93         1.17        4.67   \nFL        0.08         215841.72  ...   1.47         2.34        5.01   \nGA        0.05          45006.12  ...   1.51         1.56        3.61   \nHI       14.46         203293.60  ...  10.72         4.16        6.02   \nIA        0.06          23257.53  ...   3.79         1.48        5.39   \nID        0.09          26549.25  ...   4.30         1.91        6.25   \nIL        0.02          88661.96  ...   2.43         1.24        4.14   \nIN        0.02          52720.95  ...   2.05         1.39        3.46   \nKS        0.05          19707.97  ...   4.01         1.47        5.32   \nKY        0.03          27709.49  ...   1.93         1.37        3.20   \nLA        0.02          53869.34  ...   1.66         1.86        2.27   \nMA        0.02         352262.07  ...   5.30         2.12        5.38   \nMD        0.02         177029.25  ...   2.77         1.27        4.76   \nME        0.01          65945.62  ...   3.99         1.47        5.70   \nMI        0.02          89581.71  ...   2.87         1.46        4.41   \nMN        0.03          46100.18  ...   3.55         1.28        6.08   \nMO        0.08          39715.14  ...   2.45         1.36        4.92   \nMS        0.02          27083.04  ...   1.43         1.75        2.07   \nMT        0.03          14180.07  ...   8.99         1.76       10.15   \nNC        0.04          73097.66  ...   1.75         1.32        3.94   \nND        0.02          10576.04  ...   6.27         1.25        8.79   \nNE        0.07          14517.17  ...   4.85         1.28        8.43   \nNH        0.02         103468.50  ...   3.24         1.57        5.96   \nNJ        0.00         292492.00  ...   2.78         1.77        4.25   \nNM        0.02          44596.03  ...   3.29         2.18        6.18   \nNV        0.22         114335.88  ...   5.93         1.46        4.62   \nNY        0.02         221643.89  ...   4.69         1.61        4.20   \nOH        0.02          99564.01  ...   2.27         1.18        3.56   \nOK        0.11          36397.18  ...   2.18         1.17        3.90   \nOR        0.27          81910.08  ...   5.06         2.34        6.93   \nPA        0.00         145375.99  ...   3.61         1.18        4.22   \nPR        0.00          34493.04  ...   3.61         1.41        2.08   \nRI        0.06         156898.40  ...   3.68         1.20        4.56   \nSC        0.05          79860.43  ...   1.69         1.22        3.03   \nSD        0.06           9540.97  ...   5.90         1.44        9.62   \nTN        0.04          51756.44  ...   1.29         1.28        3.62   \nTX        0.07          68947.78  ...   2.36         1.43        3.99   \nUT        0.31          66977.31  ...   4.62         1.61        6.10   \nVA        0.03          45500.90  ...   2.61         1.74        4.34   \nVT        0.02          35245.79  ...   4.54         1.31        7.42   \nWA        0.29         130291.82  ...   4.31         2.09        6.23   \nWI        0.02          60118.33  ...   3.32         1.44        5.27   \nWV        0.02          26299.96  ...   2.71         1.25        3.25   \nWY        0.04          18818.00  ...   4.90         1.90        5.86   \n\n       MeanCommute   Employed  PrivateWork  PublicWork  SelfEmployed  \\\nState                                                                  \nAK           11.20   12208.45        59.63       32.83          7.22   \nAL           26.19   30679.24        78.17       16.05          5.57   \nAR           23.01   17020.48        75.23       17.19          7.38   \nAZ           21.70  196926.07        72.00       21.85          5.95   \nCA           25.53  310239.91        71.15       18.88          9.57   \nCO           21.67   43126.19        71.35       18.27          9.98   \nCT           25.98  225635.75        79.30       14.28          6.25   \nDC           30.00  357701.00        71.00       24.60          4.30   \nDE           25.77  147171.00        79.57       15.97          4.33   \nFL           26.39  134605.52        76.20       17.34          6.30   \nGA           25.91   28970.62        75.22       18.52          6.12   \nHI           20.92  134351.60        65.40       26.84          7.54   \nIA           19.56   16158.77        77.50       13.20          9.00   \nID           21.53   17014.95        73.49       17.31          8.78   \nIL           23.55   60604.44        79.11       14.11          6.54   \nIN           24.36   33959.73        83.34       11.16          5.28   \nKS           17.72   13524.24        70.76       18.65         10.25   \nKY           25.41   16151.25        76.57       16.68          6.51   \nLA           26.53   31738.09        76.93       17.31          5.58   \nMA           25.31  251833.71        77.86       13.63          8.34   \nMD           30.60  126699.67        73.07       21.13          5.67   \nME           23.50   41168.31        75.58       14.16         10.15   \nMI           23.11   54516.55        80.48       12.80          6.47   \nMN           21.39   33380.49        78.52       13.16          8.08   \nMO           23.67   24933.85        76.86       14.52          8.35   \nMS           26.24   14900.34        75.19       18.78          5.80   \nMT           17.53    8892.77        65.29       20.42         13.19   \nNC           25.19   45710.20        76.26       16.85          6.70   \nND           18.32    7555.74        67.90       16.59         14.89   \nNE           18.08   10615.23        70.72       15.85         13.05   \nNH           25.40   71342.40        77.52       14.66          7.71   \nNJ           30.53  208953.52        80.74       14.36          4.75   \nNM           20.17   26642.45        65.58       26.83          7.19   \nNV           21.74   78903.41        70.50       22.26          7.06   \nNY           25.72  152703.73        75.03       18.26          6.49   \nOH           24.48   62365.68        81.91       12.37          5.52   \nOK           21.79   22680.77        72.01       19.56          8.05   \nOR           20.18   52388.42        72.42       18.09          9.24   \nPA           25.40   90999.66        82.13       11.64          6.00   \nPR           28.29   13335.08        66.56       24.94          8.36   \nRI           24.80  105214.20        80.22       13.46          6.22   \nSC           26.06   47414.04        78.02       16.40          5.41   \nSD           16.97    6641.50        65.00       20.33         13.91   \nTN           26.52   31543.26        75.99       15.80          8.00   \nTX           22.93   49956.96        73.34       17.45          8.93   \nUT           20.10   48697.03        75.59       18.21          5.94   \nVA           27.64   30707.03        74.79       19.46          5.57   \nVT           24.26   23376.00        75.53       14.22          9.92   \nWA           23.19   87644.18        70.92       21.17          7.67   \nWI           22.34   40831.67        79.14       13.47          7.11   \nWV           28.12   13581.05        76.08       18.90          4.86   \nWY           19.20   12766.65        70.35       21.49          7.80   \n\n       FamilyWork  Unemployment  \nState                            \nAK           0.30          9.66  \nAL           0.21          9.02  \nAR           0.20          7.29  \nAZ           0.18          9.77  \nCA           0.41          8.27  \nCO           0.40          5.79  \nCT           0.15          6.78  \nDC           0.10          8.00  \nDE           0.13          6.43  \nFL           0.16          7.77  \nGA           0.15          8.05  \nHI           0.18          4.12  \nIA           0.29          3.90  \nID           0.43          5.62  \nIL           0.23          6.61  \nIN           0.22          5.45  \nKS           0.36          3.99  \nKY           0.24          7.67  \nLA           0.18          7.87  \nMA           0.16          5.84  \nMD           0.13          6.12  \nME           0.12          5.80  \nMI           0.27          7.62  \nMN           0.24          3.95  \nMO           0.26          6.03  \nMS           0.22         10.01  \nMT           1.12          4.53  \nNC           0.19          7.97  \nND           0.62          2.73  \nNE           0.40          2.85  \nNH           0.11          4.54  \nNJ           0.14          7.12  \nNM           0.41          7.57  \nNV           0.16          7.39  \nNY           0.23          6.58  \nOH           0.20          6.08  \nOK           0.39          5.85  \nOR           0.26          7.46  \nPA           0.22          6.03  \nPR           0.14         18.81  \nRI           0.14          5.86  \nSC           0.17          8.77  \nSD           0.77          4.82  \nTN           0.21          7.34  \nTX           0.28          6.03  \nUT           0.26          4.37  \nVA           0.19          6.03  \nVT           0.32          4.53  \nWA           0.24          6.70  \nWI           0.28          4.57  \nWV           0.15          8.06  \nWY           0.38          4.28  \n\n[52 rows x 34 columns]",
      "text/html": "<div>\n<style scoped>\n    .dataframe tbody tr th:only-of-type {\n        vertical-align: middle;\n    }\n\n    .dataframe tbody tr th {\n        vertical-align: top;\n    }\n\n    .dataframe thead th {\n        text-align: right;\n    }\n</style>\n<table border=\"1\" class=\"dataframe\">\n  <thead>\n    <tr style=\"text-align: right;\">\n      <th></th>\n      <th>TotalPop</th>\n      <th>Men</th>\n      <th>Women</th>\n      <th>Hispanic</th>\n      <th>White</th>\n      <th>Black</th>\n      <th>Native</th>\n      <th>Asian</th>\n      <th>Pacific</th>\n      <th>VotingAgeCitizen</th>\n      <th>...</th>\n      <th>Walk</th>\n      <th>OtherTransp</th>\n      <th>WorkAtHome</th>\n      <th>MeanCommute</th>\n      <th>Employed</th>\n      <th>PrivateWork</th>\n      <th>PublicWork</th>\n      <th>SelfEmployed</th>\n      <th>FamilyWork</th>\n      <th>Unemployment</th>\n    </tr>\n    <tr>\n      <th>State</th>\n      <th></th>\n      <th></th>\n      <th></th>\n      <th></th>\n      <th></th>\n      <th></th>\n      <th></th>\n      <th></th>\n      <th></th>\n      <th></th>\n      <th></th>\n      <th></th>\n      <th></th>\n      <th></th>\n      <th></th>\n      <th></th>\n      <th></th>\n      <th></th>\n      <th></th>\n      <th></th>\n      <th></th>\n    </tr>\n  </thead>\n  <tbody>\n    <tr>\n      <th>AK</th>\n      <td>25467.76</td>\n      <td>13321.34</td>\n      <td>12146.41</td>\n      <td>5.09</td>\n      <td>48.42</td>\n      <td>1.18</td>\n      <td>31.63</td>\n      <td>5.98</td>\n      <td>0.54</td>\n      <td>18294.93</td>\n      <td>...</td>\n      <td>24.70</td>\n      <td>9.74</td>\n      <td>5.46</td>\n      <td>11.20</td>\n      <td>12208.45</td>\n      <td>59.63</td>\n      <td>32.83</td>\n      <td>7.22</td>\n      <td>0.30</td>\n      <td>9.66</td>\n    </tr>\n    <tr>\n      <th>AL</th>\n      <td>72399.57</td>\n      <td>35086.66</td>\n      <td>37312.91</td>\n      <td>3.30</td>\n      <td>65.17</td>\n      <td>28.67</td>\n      <td>0.61</td>\n      <td>0.71</td>\n      <td>0.02</td>\n      <td>54506.18</td>\n      <td>...</td>\n      <td>1.20</td>\n      <td>1.14</td>\n      <td>2.53</td>\n      <td>26.19</td>\n      <td>30679.24</td>\n      <td>78.17</td>\n      <td>16.05</td>\n      <td>5.57</td>\n      <td>0.21</td>\n      <td>9.02</td>\n    </tr>\n    <tr>\n      <th>AR</th>\n      <td>39705.92</td>\n      <td>19488.68</td>\n      <td>20217.24</td>\n      <td>5.09</td>\n      <td>75.63</td>\n      <td>16.13</td>\n      <td>0.54</td>\n      <td>0.69</td>\n      <td>0.08</td>\n      <td>29118.60</td>\n      <td>...</td>\n      <td>1.97</td>\n      <td>1.36</td>\n      <td>3.25</td>\n      <td>23.01</td>\n      <td>17020.48</td>\n      <td>75.23</td>\n      <td>17.19</td>\n      <td>7.38</td>\n      <td>0.20</td>\n      <td>7.29</td>\n    </tr>\n    <tr>\n      <th>AZ</th>\n      <td>453996.40</td>\n      <td>225670.33</td>\n      <td>228326.07</td>\n      <td>30.89</td>\n      <td>50.83</td>\n      <td>1.81</td>\n      <td>13.23</td>\n      <td>1.29</td>\n      <td>0.13</td>\n      <td>312678.47</td>\n      <td>...</td>\n      <td>3.32</td>\n      <td>2.19</td>\n      <td>5.03</td>\n      <td>21.70</td>\n      <td>196926.07</td>\n      <td>72.00</td>\n      <td>21.85</td>\n      <td>5.95</td>\n      <td>0.18</td>\n      <td>9.77</td>\n    </tr>\n    <tr>\n      <th>CA</th>\n      <td>672118.05</td>\n      <td>333906.53</td>\n      <td>338211.52</td>\n      <td>30.07</td>\n      <td>54.76</td>\n      <td>2.94</td>\n      <td>1.65</td>\n      <td>7.07</td>\n      <td>0.29</td>\n      <td>430519.12</td>\n      <td>...</td>\n      <td>3.34</td>\n      <td>2.60</td>\n      <td>6.67</td>\n      <td>25.53</td>\n      <td>310239.91</td>\n      <td>71.15</td>\n      <td>18.88</td>\n      <td>9.57</td>\n      <td>0.41</td>\n      <td>8.27</td>\n    </tr>\n    <tr>\n      <th>CO</th>\n      <td>84945.61</td>\n      <td>42676.80</td>\n      <td>42268.81</td>\n      <td>20.04</td>\n      <td>74.66</td>\n      <td>1.48</td>\n      <td>0.83</td>\n      <td>1.11</td>\n      <td>0.11</td>\n      <td>60833.77</td>\n      <td>...</td>\n      <td>5.70</td>\n      <td>2.32</td>\n      <td>8.03</td>\n      <td>21.67</td>\n      <td>43126.19</td>\n      <td>71.35</td>\n      <td>18.27</td>\n      <td>9.98</td>\n      <td>0.40</td>\n      <td>5.79</td>\n    </tr>\n    <tr>\n      <th>CT</th>\n      <td>449309.75</td>\n      <td>219255.75</td>\n      <td>230054.00</td>\n      <td>11.42</td>\n      <td>76.04</td>\n      <td>6.48</td>\n      <td>0.12</td>\n      <td>3.58</td>\n      <td>0.00</td>\n      <td>324974.25</td>\n      <td>...</td>\n      <td>3.10</td>\n      <td>1.11</td>\n      <td>4.86</td>\n      <td>25.98</td>\n      <td>225635.75</td>\n      <td>79.30</td>\n      <td>14.28</td>\n      <td>6.25</td>\n      <td>0.15</td>\n      <td>6.78</td>\n    </tr>\n    <tr>\n      <th>DC</th>\n      <td>672391.00</td>\n      <td>319046.00</td>\n      <td>353345.00</td>\n      <td>10.70</td>\n      <td>36.00</td>\n      <td>46.90</td>\n      <td>0.20</td>\n      <td>3.70</td>\n      <td>0.00</td>\n      <td>503112.00</td>\n      <td>...</td>\n      <td>13.20</td>\n      <td>6.20</td>\n      <td>5.70</td>\n      <td>30.00</td>\n      <td>357701.00</td>\n      <td>71.00</td>\n      <td>24.60</td>\n      <td>4.30</td>\n      <td>0.10</td>\n      <td>8.00</td>\n    </tr>\n    <tr>\n      <th>DE</th>\n      <td>314577.33</td>\n      <td>152292.00</td>\n      <td>162285.33</td>\n      <td>8.53</td>\n      <td>65.37</td>\n      <td>20.10</td>\n      <td>0.40</td>\n      <td>2.87</td>\n      <td>0.00</td>\n      <td>232443.00</td>\n      <td>...</td>\n      <td>1.93</td>\n      <td>1.17</td>\n      <td>4.67</td>\n      <td>25.77</td>\n      <td>147171.00</td>\n      <td>79.57</td>\n      <td>15.97</td>\n      <td>4.33</td>\n      <td>0.13</td>\n      <td>6.43</td>\n    </tr>\n    <tr>\n      <th>FL</th>\n      <td>302663.39</td>\n      <td>147975.54</td>\n      <td>154687.85</td>\n      <td>13.73</td>\n      <td>68.12</td>\n      <td>14.20</td>\n      <td>0.40</td>\n      <td>1.54</td>\n      <td>0.08</td>\n      <td>215841.72</td>\n      <td>...</td>\n      <td>1.47</td>\n      <td>2.34</td>\n      <td>5.01</td>\n      <td>26.39</td>\n      <td>134605.52</td>\n      <td>76.20</td>\n      <td>17.34</td>\n      <td>6.30</td>\n      <td>0.16</td>\n      <td>7.77</td>\n    </tr>\n    <tr>\n      <th>GA</th>\n      <td>64161.23</td>\n      <td>31250.86</td>\n      <td>32910.36</td>\n      <td>6.23</td>\n      <td>62.56</td>\n      <td>28.14</td>\n      <td>0.19</td>\n      <td>1.20</td>\n      <td>0.05</td>\n      <td>45006.12</td>\n      <td>...</td>\n      <td>1.51</td>\n      <td>1.56</td>\n      <td>3.61</td>\n      <td>25.91</td>\n      <td>28970.62</td>\n      <td>75.22</td>\n      <td>18.52</td>\n      <td>6.12</td>\n      <td>0.15</td>\n      <td>8.05</td>\n    </tr>\n    <tr>\n      <th>HI</th>\n      <td>284331.60</td>\n      <td>142796.20</td>\n      <td>141535.40</td>\n      <td>9.72</td>\n      <td>26.00</td>\n      <td>0.80</td>\n      <td>0.14</td>\n      <td>30.76</td>\n      <td>14.46</td>\n      <td>203293.60</td>\n      <td>...</td>\n      <td>10.72</td>\n      <td>4.16</td>\n      <td>6.02</td>\n      <td>20.92</td>\n      <td>134351.60</td>\n      <td>65.40</td>\n      <td>26.84</td>\n      <td>7.54</td>\n      <td>0.18</td>\n      <td>4.12</td>\n    </tr>\n    <tr>\n      <th>IA</th>\n      <td>31495.98</td>\n      <td>15636.72</td>\n      <td>15859.26</td>\n      <td>4.54</td>\n      <td>91.39</td>\n      <td>1.38</td>\n      <td>0.29</td>\n      <td>1.08</td>\n      <td>0.06</td>\n      <td>23257.53</td>\n      <td>...</td>\n      <td>3.79</td>\n      <td>1.48</td>\n      <td>5.39</td>\n      <td>19.56</td>\n      <td>16158.77</td>\n      <td>77.50</td>\n      <td>13.20</td>\n      <td>9.00</td>\n      <td>0.29</td>\n      <td>3.90</td>\n    </tr>\n    <tr>\n      <th>ID</th>\n      <td>37667.61</td>\n      <td>18877.89</td>\n      <td>18789.73</td>\n      <td>12.71</td>\n      <td>82.92</td>\n      <td>0.38</td>\n      <td>1.52</td>\n      <td>0.65</td>\n      <td>0.09</td>\n      <td>26549.25</td>\n      <td>...</td>\n      <td>4.30</td>\n      <td>1.91</td>\n      <td>6.25</td>\n      <td>21.53</td>\n      <td>17014.95</td>\n      <td>73.49</td>\n      <td>17.31</td>\n      <td>8.78</td>\n      <td>0.43</td>\n      <td>5.62</td>\n    </tr>\n    <tr>\n      <th>IL</th>\n      <td>126024.76</td>\n      <td>61888.24</td>\n      <td>64136.53</td>\n      <td>4.82</td>\n      <td>87.05</td>\n      <td>5.15</td>\n      <td>0.15</td>\n      <td>1.22</td>\n      <td>0.02</td>\n      <td>88661.96</td>\n      <td>...</td>\n      <td>2.43</td>\n      <td>1.24</td>\n      <td>4.14</td>\n      <td>23.55</td>\n      <td>60604.44</td>\n      <td>79.11</td>\n      <td>14.11</td>\n      <td>6.54</td>\n      <td>0.23</td>\n      <td>6.61</td>\n    </tr>\n    <tr>\n      <th>IN</th>\n      <td>71895.85</td>\n      <td>35416.08</td>\n      <td>36479.77</td>\n      <td>3.88</td>\n      <td>90.75</td>\n      <td>2.66</td>\n      <td>0.19</td>\n      <td>1.01</td>\n      <td>0.02</td>\n      <td>52720.95</td>\n      <td>...</td>\n      <td>2.05</td>\n      <td>1.39</td>\n      <td>3.46</td>\n      <td>24.36</td>\n      <td>33959.73</td>\n      <td>83.34</td>\n      <td>11.16</td>\n      <td>5.28</td>\n      <td>0.22</td>\n      <td>5.45</td>\n    </tr>\n    <tr>\n      <th>KS</th>\n      <td>27655.43</td>\n      <td>13771.24</td>\n      <td>13884.19</td>\n      <td>9.75</td>\n      <td>84.74</td>\n      <td>1.75</td>\n      <td>0.78</td>\n      <td>0.80</td>\n      <td>0.05</td>\n      <td>19707.97</td>\n      <td>...</td>\n      <td>4.01</td>\n      <td>1.47</td>\n      <td>5.32</td>\n      <td>17.72</td>\n      <td>13524.24</td>\n      <td>70.76</td>\n      <td>18.65</td>\n      <td>10.25</td>\n      <td>0.36</td>\n      <td>3.99</td>\n    </tr>\n    <tr>\n      <th>KY</th>\n      <td>36869.80</td>\n      <td>18158.54</td>\n      <td>18711.26</td>\n      <td>2.30</td>\n      <td>91.81</td>\n      <td>3.65</td>\n      <td>0.18</td>\n      <td>0.51</td>\n      <td>0.03</td>\n      <td>27709.49</td>\n      <td>...</td>\n      <td>1.93</td>\n      <td>1.37</td>\n      <td>3.20</td>\n      <td>25.41</td>\n      <td>16151.25</td>\n      <td>76.57</td>\n      <td>16.68</td>\n      <td>6.51</td>\n      <td>0.24</td>\n      <td>7.67</td>\n    </tr>\n    <tr>\n      <th>LA</th>\n      <td>72866.58</td>\n      <td>35644.36</td>\n      <td>37222.22</td>\n      <td>3.49</td>\n      <td>61.73</td>\n      <td>31.78</td>\n      <td>0.62</td>\n      <td>0.81</td>\n      <td>0.02</td>\n      <td>53869.34</td>\n      <td>...</td>\n      <td>1.66</td>\n      <td>1.86</td>\n      <td>2.27</td>\n      <td>26.53</td>\n      <td>31738.09</td>\n      <td>76.93</td>\n      <td>17.31</td>\n      <td>5.58</td>\n      <td>0.18</td>\n      <td>7.87</td>\n    </tr>\n    <tr>\n      <th>MA</th>\n      <td>484951.36</td>\n      <td>235244.71</td>\n      <td>249706.64</td>\n      <td>8.99</td>\n      <td>77.83</td>\n      <td>5.70</td>\n      <td>0.29</td>\n      <td>4.03</td>\n      <td>0.02</td>\n      <td>352262.07</td>\n      <td>...</td>\n      <td>5.30</td>\n      <td>2.12</td>\n      <td>5.38</td>\n      <td>25.31</td>\n      <td>251833.71</td>\n      <td>77.86</td>\n      <td>13.63</td>\n      <td>8.34</td>\n      <td>0.16</td>\n      <td>5.84</td>\n    </tr>\n    <tr>\n      <th>MD</th>\n      <td>249836.62</td>\n      <td>121094.88</td>\n      <td>128741.75</td>\n      <td>5.83</td>\n      <td>68.12</td>\n      <td>19.84</td>\n      <td>0.19</td>\n      <td>3.30</td>\n      <td>0.02</td>\n      <td>177029.25</td>\n      <td>...</td>\n      <td>2.77</td>\n      <td>1.27</td>\n      <td>4.76</td>\n      <td>30.60</td>\n      <td>126699.67</td>\n      <td>73.07</td>\n      <td>21.13</td>\n      <td>5.67</td>\n      <td>0.13</td>\n      <td>6.12</td>\n    </tr>\n    <tr>\n      <th>ME</th>\n      <td>83134.88</td>\n      <td>40690.00</td>\n      <td>42444.88</td>\n      <td>1.41</td>\n      <td>94.39</td>\n      <td>0.78</td>\n      <td>0.77</td>\n      <td>0.78</td>\n      <td>0.01</td>\n      <td>65945.62</td>\n      <td>...</td>\n      <td>3.99</td>\n      <td>1.47</td>\n      <td>5.70</td>\n      <td>23.50</td>\n      <td>41168.31</td>\n      <td>75.58</td>\n      <td>14.16</td>\n      <td>10.15</td>\n      <td>0.12</td>\n      <td>5.80</td>\n    </tr>\n    <tr>\n      <th>MI</th>\n      <td>119585.16</td>\n      <td>58802.16</td>\n      <td>60783.00</td>\n      <td>3.46</td>\n      <td>88.10</td>\n      <td>3.87</td>\n      <td>1.26</td>\n      <td>1.00</td>\n      <td>0.02</td>\n      <td>89581.71</td>\n      <td>...</td>\n      <td>2.87</td>\n      <td>1.46</td>\n      <td>4.41</td>\n      <td>23.11</td>\n      <td>54516.55</td>\n      <td>80.48</td>\n      <td>12.80</td>\n      <td>6.47</td>\n      <td>0.27</td>\n      <td>7.62</td>\n    </tr>\n    <tr>\n      <th>MN</th>\n      <td>63111.79</td>\n      <td>31400.36</td>\n      <td>31711.44</td>\n      <td>4.28</td>\n      <td>88.94</td>\n      <td>1.63</td>\n      <td>1.94</td>\n      <td>1.44</td>\n      <td>0.03</td>\n      <td>46100.18</td>\n      <td>...</td>\n      <td>3.55</td>\n      <td>1.28</td>\n      <td>6.08</td>\n      <td>21.39</td>\n      <td>33380.49</td>\n      <td>78.52</td>\n      <td>13.16</td>\n      <td>8.08</td>\n      <td>0.24</td>\n      <td>3.95</td>\n    </tr>\n    <tr>\n      <th>MO</th>\n      <td>52828.70</td>\n      <td>25924.63</td>\n      <td>26904.07</td>\n      <td>2.80</td>\n      <td>90.57</td>\n      <td>3.56</td>\n      <td>0.50</td>\n      <td>0.63</td>\n      <td>0.08</td>\n      <td>39715.14</td>\n      <td>...</td>\n      <td>2.45</td>\n      <td>1.36</td>\n      <td>4.92</td>\n      <td>23.67</td>\n      <td>24933.85</td>\n      <td>76.86</td>\n      <td>14.52</td>\n      <td>8.35</td>\n      <td>0.26</td>\n      <td>6.03</td>\n    </tr>\n    <tr>\n      <th>MS</th>\n      <td>36417.32</td>\n      <td>17667.28</td>\n      <td>18750.04</td>\n      <td>2.40</td>\n      <td>54.32</td>\n      <td>41.35</td>\n      <td>0.51</td>\n      <td>0.51</td>\n      <td>0.02</td>\n      <td>27083.04</td>\n      <td>...</td>\n      <td>1.43</td>\n      <td>1.75</td>\n      <td>2.07</td>\n      <td>26.24</td>\n      <td>14900.34</td>\n      <td>75.19</td>\n      <td>18.78</td>\n      <td>5.80</td>\n      <td>0.22</td>\n      <td>10.01</td>\n    </tr>\n    <tr>\n      <th>MT</th>\n      <td>18390.39</td>\n      <td>9247.50</td>\n      <td>9142.89</td>\n      <td>2.90</td>\n      <td>86.57</td>\n      <td>0.22</td>\n      <td>7.77</td>\n      <td>0.47</td>\n      <td>0.03</td>\n      <td>14180.07</td>\n      <td>...</td>\n      <td>8.99</td>\n      <td>1.76</td>\n      <td>10.15</td>\n      <td>17.53</td>\n      <td>8892.77</td>\n      <td>65.29</td>\n      <td>20.42</td>\n      <td>13.19</td>\n      <td>1.12</td>\n      <td>4.53</td>\n    </tr>\n    <tr>\n      <th>NC</th>\n      <td>100525.64</td>\n      <td>48953.68</td>\n      <td>51571.96</td>\n      <td>7.09</td>\n      <td>68.11</td>\n      <td>20.16</td>\n      <td>1.55</td>\n      <td>1.14</td>\n      <td>0.04</td>\n      <td>73097.66</td>\n      <td>...</td>\n      <td>1.75</td>\n      <td>1.32</td>\n      <td>3.94</td>\n      <td>25.19</td>\n      <td>45710.20</td>\n      <td>76.26</td>\n      <td>16.85</td>\n      <td>6.70</td>\n      <td>0.19</td>\n      <td>7.97</td>\n    </tr>\n    <tr>\n      <th>ND</th>\n      <td>14065.57</td>\n      <td>7209.83</td>\n      <td>6855.74</td>\n      <td>2.78</td>\n      <td>87.61</td>\n      <td>0.88</td>\n      <td>6.58</td>\n      <td>0.49</td>\n      <td>0.02</td>\n      <td>10576.04</td>\n      <td>...</td>\n      <td>6.27</td>\n      <td>1.25</td>\n      <td>8.79</td>\n      <td>18.32</td>\n      <td>7555.74</td>\n      <td>67.90</td>\n      <td>16.59</td>\n      <td>14.89</td>\n      <td>0.62</td>\n      <td>2.73</td>\n    </tr>\n    <tr>\n      <th>NE</th>\n      <td>20364.74</td>\n      <td>10145.67</td>\n      <td>10219.08</td>\n      <td>6.54</td>\n      <td>89.51</td>\n      <td>0.82</td>\n      <td>1.19</td>\n      <td>0.51</td>\n      <td>0.07</td>\n      <td>14517.17</td>\n      <td>...</td>\n      <td>4.85</td>\n      <td>1.28</td>\n      <td>8.43</td>\n      <td>18.08</td>\n      <td>10615.23</td>\n      <td>70.72</td>\n      <td>15.85</td>\n      <td>13.05</td>\n      <td>0.40</td>\n      <td>2.85</td>\n    </tr>\n    <tr>\n      <th>NH</th>\n      <td>133184.80</td>\n      <td>65913.10</td>\n      <td>67271.70</td>\n      <td>2.32</td>\n      <td>92.95</td>\n      <td>1.02</td>\n      <td>0.19</td>\n      <td>1.82</td>\n      <td>0.02</td>\n      <td>103468.50</td>\n      <td>...</td>\n      <td>3.24</td>\n      <td>1.57</td>\n      <td>5.96</td>\n      <td>25.40</td>\n      <td>71342.40</td>\n      <td>77.52</td>\n      <td>14.66</td>\n      <td>7.71</td>\n      <td>0.11</td>\n      <td>4.54</td>\n    </tr>\n    <tr>\n      <th>NJ</th>\n      <td>426674.33</td>\n      <td>208205.76</td>\n      <td>218468.57</td>\n      <td>16.94</td>\n      <td>62.44</td>\n      <td>11.34</td>\n      <td>0.10</td>\n      <td>7.10</td>\n      <td>0.00</td>\n      <td>292492.00</td>\n      <td>...</td>\n      <td>2.78</td>\n      <td>1.77</td>\n      <td>4.25</td>\n      <td>30.53</td>\n      <td>208953.52</td>\n      <td>80.74</td>\n      <td>14.36</td>\n      <td>4.75</td>\n      <td>0.14</td>\n      <td>7.12</td>\n    </tr>\n    <tr>\n      <th>NM</th>\n      <td>63176.61</td>\n      <td>31275.33</td>\n      <td>31901.27</td>\n      <td>47.38</td>\n      <td>41.98</td>\n      <td>1.25</td>\n      <td>6.88</td>\n      <td>0.76</td>\n      <td>0.02</td>\n      <td>44596.03</td>\n      <td>...</td>\n      <td>3.29</td>\n      <td>2.18</td>\n      <td>6.18</td>\n      <td>20.17</td>\n      <td>26642.45</td>\n      <td>65.58</td>\n      <td>26.83</td>\n      <td>7.19</td>\n      <td>0.41</td>\n      <td>7.57</td>\n    </tr>\n    <tr>\n      <th>NV</th>\n      <td>169866.18</td>\n      <td>85299.47</td>\n      <td>84566.71</td>\n      <td>17.32</td>\n      <td>72.29</td>\n      <td>2.19</td>\n      <td>3.86</td>\n      <td>2.03</td>\n      <td>0.22</td>\n      <td>114335.88</td>\n      <td>...</td>\n      <td>5.93</td>\n      <td>1.46</td>\n      <td>4.62</td>\n      <td>21.74</td>\n      <td>78903.41</td>\n      <td>70.50</td>\n      <td>22.26</td>\n      <td>7.06</td>\n      <td>0.16</td>\n      <td>7.39</td>\n    </tr>\n    <tr>\n      <th>NY</th>\n      <td>319326.26</td>\n      <td>154905.02</td>\n      <td>164421.24</td>\n      <td>7.65</td>\n      <td>81.32</td>\n      <td>5.81</td>\n      <td>0.37</td>\n      <td>2.83</td>\n      <td>0.02</td>\n      <td>221643.89</td>\n      <td>...</td>\n      <td>4.69</td>\n      <td>1.61</td>\n      <td>4.20</td>\n      <td>25.72</td>\n      <td>152703.73</td>\n      <td>75.03</td>\n      <td>18.26</td>\n      <td>6.49</td>\n      <td>0.23</td>\n      <td>6.58</td>\n    </tr>\n    <tr>\n      <th>OH</th>\n      <td>131929.05</td>\n      <td>64614.56</td>\n      <td>67314.49</td>\n      <td>2.62</td>\n      <td>90.29</td>\n      <td>4.08</td>\n      <td>0.15</td>\n      <td>0.93</td>\n      <td>0.02</td>\n      <td>99564.01</td>\n      <td>...</td>\n      <td>2.27</td>\n      <td>1.18</td>\n      <td>3.56</td>\n      <td>24.48</td>\n      <td>62365.68</td>\n      <td>81.91</td>\n      <td>12.37</td>\n      <td>5.52</td>\n      <td>0.20</td>\n      <td>6.08</td>\n    </tr>\n    <tr>\n      <th>OK</th>\n      <td>50600.66</td>\n      <td>25072.92</td>\n      <td>25527.74</td>\n      <td>8.83</td>\n      <td>70.91</td>\n      <td>3.38</td>\n      <td>8.90</td>\n      <td>0.76</td>\n      <td>0.11</td>\n      <td>36397.18</td>\n      <td>...</td>\n      <td>2.18</td>\n      <td>1.17</td>\n      <td>3.90</td>\n      <td>21.79</td>\n      <td>22680.77</td>\n      <td>72.01</td>\n      <td>19.56</td>\n      <td>8.05</td>\n      <td>0.39</td>\n      <td>5.85</td>\n    </tr>\n    <tr>\n      <th>OR</th>\n      <td>111809.08</td>\n      <td>55383.94</td>\n      <td>56425.14</td>\n      <td>11.73</td>\n      <td>80.93</td>\n      <td>0.74</td>\n      <td>1.72</td>\n      <td>1.60</td>\n      <td>0.27</td>\n      <td>81910.08</td>\n      <td>...</td>\n      <td>5.06</td>\n      <td>2.34</td>\n      <td>6.93</td>\n      <td>20.18</td>\n      <td>52388.42</td>\n      <td>72.42</td>\n      <td>18.09</td>\n      <td>9.24</td>\n      <td>0.26</td>\n      <td>7.46</td>\n    </tr>\n    <tr>\n      <th>PA</th>\n      <td>190903.06</td>\n      <td>93435.22</td>\n      <td>97467.84</td>\n      <td>4.19</td>\n      <td>88.25</td>\n      <td>4.51</td>\n      <td>0.12</td>\n      <td>1.44</td>\n      <td>0.00</td>\n      <td>145375.99</td>\n      <td>...</td>\n      <td>3.61</td>\n      <td>1.18</td>\n      <td>4.22</td>\n      <td>25.40</td>\n      <td>90999.66</td>\n      <td>82.13</td>\n      <td>11.64</td>\n      <td>6.00</td>\n      <td>0.22</td>\n      <td>6.03</td>\n    </tr>\n    <tr>\n      <th>PR</th>\n      <td>44473.88</td>\n      <td>21205.09</td>\n      <td>23268.79</td>\n      <td>98.91</td>\n      <td>0.82</td>\n      <td>0.05</td>\n      <td>0.01</td>\n      <td>0.04</td>\n      <td>0.00</td>\n      <td>34493.04</td>\n      <td>...</td>\n      <td>3.61</td>\n      <td>1.41</td>\n      <td>2.08</td>\n      <td>28.29</td>\n      <td>13335.08</td>\n      <td>66.56</td>\n      <td>24.94</td>\n      <td>8.36</td>\n      <td>0.14</td>\n      <td>18.81</td>\n    </tr>\n    <tr>\n      <th>RI</th>\n      <td>211227.60</td>\n      <td>102516.20</td>\n      <td>108711.40</td>\n      <td>7.46</td>\n      <td>84.34</td>\n      <td>3.00</td>\n      <td>0.32</td>\n      <td>2.50</td>\n      <td>0.06</td>\n      <td>156898.40</td>\n      <td>...</td>\n      <td>3.68</td>\n      <td>1.20</td>\n      <td>4.56</td>\n      <td>24.80</td>\n      <td>105214.20</td>\n      <td>80.22</td>\n      <td>13.46</td>\n      <td>6.22</td>\n      <td>0.14</td>\n      <td>5.86</td>\n    </tr>\n    <tr>\n      <th>SC</th>\n      <td>106379.22</td>\n      <td>51668.67</td>\n      <td>54710.54</td>\n      <td>4.50</td>\n      <td>57.00</td>\n      <td>35.49</td>\n      <td>0.35</td>\n      <td>0.80</td>\n      <td>0.05</td>\n      <td>79860.43</td>\n      <td>...</td>\n      <td>1.69</td>\n      <td>1.22</td>\n      <td>3.03</td>\n      <td>26.06</td>\n      <td>47414.04</td>\n      <td>78.02</td>\n      <td>16.40</td>\n      <td>5.41</td>\n      <td>0.17</td>\n      <td>8.77</td>\n    </tr>\n    <tr>\n      <th>SD</th>\n      <td>12961.27</td>\n      <td>6524.05</td>\n      <td>6437.23</td>\n      <td>2.57</td>\n      <td>80.18</td>\n      <td>0.56</td>\n      <td>13.89</td>\n      <td>0.72</td>\n      <td>0.06</td>\n      <td>9540.97</td>\n      <td>...</td>\n      <td>5.90</td>\n      <td>1.44</td>\n      <td>9.62</td>\n      <td>16.97</td>\n      <td>6641.50</td>\n      <td>65.00</td>\n      <td>20.33</td>\n      <td>13.91</td>\n      <td>0.77</td>\n      <td>4.82</td>\n    </tr>\n    <tr>\n      <th>TN</th>\n      <td>69446.12</td>\n      <td>33863.93</td>\n      <td>35582.19</td>\n      <td>3.39</td>\n      <td>86.43</td>\n      <td>7.25</td>\n      <td>0.26</td>\n      <td>0.68</td>\n      <td>0.04</td>\n      <td>51756.44</td>\n      <td>...</td>\n      <td>1.29</td>\n      <td>1.28</td>\n      <td>3.62</td>\n      <td>26.52</td>\n      <td>31543.26</td>\n      <td>75.99</td>\n      <td>15.80</td>\n      <td>8.00</td>\n      <td>0.21</td>\n      <td>7.34</td>\n    </tr>\n    <tr>\n      <th>TX</th>\n      <td>107951.23</td>\n      <td>53610.15</td>\n      <td>54341.08</td>\n      <td>34.52</td>\n      <td>56.56</td>\n      <td>6.15</td>\n      <td>0.33</td>\n      <td>0.98</td>\n      <td>0.07</td>\n      <td>68947.78</td>\n      <td>...</td>\n      <td>2.36</td>\n      <td>1.43</td>\n      <td>3.99</td>\n      <td>22.93</td>\n      <td>49956.96</td>\n      <td>73.34</td>\n      <td>17.45</td>\n      <td>8.93</td>\n      <td>0.28</td>\n      <td>6.03</td>\n    </tr>\n    <tr>\n      <th>UT</th>\n      <td>103239.34</td>\n      <td>51952.21</td>\n      <td>51287.14</td>\n      <td>8.94</td>\n      <td>85.34</td>\n      <td>0.43</td>\n      <td>2.74</td>\n      <td>0.79</td>\n      <td>0.31</td>\n      <td>66977.31</td>\n      <td>...</td>\n      <td>4.62</td>\n      <td>1.61</td>\n      <td>6.10</td>\n      <td>20.10</td>\n      <td>48697.03</td>\n      <td>75.59</td>\n      <td>18.21</td>\n      <td>5.94</td>\n      <td>0.26</td>\n      <td>4.37</td>\n    </tr>\n    <tr>\n      <th>VA</th>\n      <td>62901.89</td>\n      <td>30932.24</td>\n      <td>31969.65</td>\n      <td>5.13</td>\n      <td>71.68</td>\n      <td>18.40</td>\n      <td>0.26</td>\n      <td>2.06</td>\n      <td>0.03</td>\n      <td>45500.90</td>\n      <td>...</td>\n      <td>2.61</td>\n      <td>1.74</td>\n      <td>4.34</td>\n      <td>27.64</td>\n      <td>30707.03</td>\n      <td>74.79</td>\n      <td>19.46</td>\n      <td>5.57</td>\n      <td>0.19</td>\n      <td>6.03</td>\n    </tr>\n    <tr>\n      <th>VT</th>\n      <td>44616.86</td>\n      <td>22001.86</td>\n      <td>22615.00</td>\n      <td>1.68</td>\n      <td>94.25</td>\n      <td>0.84</td>\n      <td>0.35</td>\n      <td>0.91</td>\n      <td>0.02</td>\n      <td>35245.79</td>\n      <td>...</td>\n      <td>4.54</td>\n      <td>1.31</td>\n      <td>7.42</td>\n      <td>24.26</td>\n      <td>23376.00</td>\n      <td>75.53</td>\n      <td>14.22</td>\n      <td>9.92</td>\n      <td>0.32</td>\n      <td>4.53</td>\n    </tr>\n    <tr>\n      <th>WA</th>\n      <td>183845.31</td>\n      <td>91817.64</td>\n      <td>92027.67</td>\n      <td>14.00</td>\n      <td>76.38</td>\n      <td>1.24</td>\n      <td>2.02</td>\n      <td>2.67</td>\n      <td>0.29</td>\n      <td>130291.82</td>\n      <td>...</td>\n      <td>4.31</td>\n      <td>2.09</td>\n      <td>6.23</td>\n      <td>23.19</td>\n      <td>87644.18</td>\n      <td>70.92</td>\n      <td>21.17</td>\n      <td>7.67</td>\n      <td>0.24</td>\n      <td>6.70</td>\n    </tr>\n    <tr>\n      <th>WI</th>\n      <td>80044.68</td>\n      <td>39779.38</td>\n      <td>40265.31</td>\n      <td>3.66</td>\n      <td>89.28</td>\n      <td>1.59</td>\n      <td>2.67</td>\n      <td>1.21</td>\n      <td>0.02</td>\n      <td>60118.33</td>\n      <td>...</td>\n      <td>3.32</td>\n      <td>1.44</td>\n      <td>5.27</td>\n      <td>22.34</td>\n      <td>40831.67</td>\n      <td>79.14</td>\n      <td>13.47</td>\n      <td>7.11</td>\n      <td>0.28</td>\n      <td>4.57</td>\n    </tr>\n    <tr>\n      <th>WV</th>\n      <td>33397.15</td>\n      <td>16502.20</td>\n      <td>16894.95</td>\n      <td>1.22</td>\n      <td>94.43</td>\n      <td>2.30</td>\n      <td>0.18</td>\n      <td>0.44</td>\n      <td>0.02</td>\n      <td>26299.96</td>\n      <td>...</td>\n      <td>2.71</td>\n      <td>1.25</td>\n      <td>3.25</td>\n      <td>28.12</td>\n      <td>13581.05</td>\n      <td>76.08</td>\n      <td>18.90</td>\n      <td>4.86</td>\n      <td>0.15</td>\n      <td>8.06</td>\n    </tr>\n    <tr>\n      <th>WY</th>\n      <td>25356.52</td>\n      <td>12969.61</td>\n      <td>12386.91</td>\n      <td>8.17</td>\n      <td>86.77</td>\n      <td>0.58</td>\n      <td>1.77</td>\n      <td>0.75</td>\n      <td>0.04</td>\n      <td>18818.00</td>\n      <td>...</td>\n      <td>4.90</td>\n      <td>1.90</td>\n      <td>5.86</td>\n      <td>19.20</td>\n      <td>12766.65</td>\n      <td>70.35</td>\n      <td>21.49</td>\n      <td>7.80</td>\n      <td>0.38</td>\n      <td>4.28</td>\n    </tr>\n  </tbody>\n</table>\n<p>52 rows × 34 columns</p>\n</div>"
     },
     "metadata": {}
    }
   ]
  },
  {
   "cell_type": "code",
   "metadata": {
    "tags": [],
    "cell_id": "00013-841f050d-12c7-4b92-a4be-80fede45c7b7",
    "deepnote_to_be_reexecuted": false,
    "source_hash": "b1287c68",
    "execution_start": 1637771513548,
    "execution_millis": 1,
    "deepnote_cell_type": "code"
   },
   "source": "CensusbyState_df.to_csv('cleaned_censusbystate.csv',index=True)",
   "execution_count": null,
   "outputs": []
  },
  {
   "cell_type": "code",
   "metadata": {
    "tags": [],
    "cell_id": "00014-788c103e-887e-4d5a-b025-c37e5a0b1996",
    "deepnote_cell_type": "code"
   },
   "source": "",
   "execution_count": null,
   "outputs": []
  },
  {
   "cell_type": "markdown",
   "source": "<a style='text-decoration:none;line-height:16px;display:flex;color:#5B5B62;padding:10px;justify-content:end;' href='https://deepnote.com?utm_source=created-in-deepnote-cell&projectId=c62e4f61-5454-4e18-b0e0-542e6e7256b8' target=\"_blank\">\n<img alt='Created in deepnote.com' style='display:inline;max-height:16px;margin:0px;margin-right:7.5px;' src='data:image/svg+xml;base64,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' > </img>\nCreated in <span style='font-weight:600;margin-left:4px;'>Deepnote</span></a>",
   "metadata": {
    "tags": [],
    "created_in_deepnote_cell": true,
    "deepnote_cell_type": "markdown"
   }
  }
 ],
 "nbformat": 4,
 "nbformat_minor": 2,
 "metadata": {
  "orig_nbformat": 2,
  "deepnote": {
   "is_reactive": false
  },
  "deepnote_notebook_id": "eca8df4e-8195-4157-b24d-89a85c196dd0",
  "deepnote_execution_queue": []
 }
}