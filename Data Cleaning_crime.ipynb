{
 "cells": [
  {
   "cell_type": "code",
   "metadata": {
    "tags": [],
    "cell_id": "00000-d738a462-0921-42fd-ab0b-065294c3f7bb",
    "deepnote_to_be_reexecuted": false,
    "source_hash": "9b82ee11",
    "execution_start": 1638113303266,
    "execution_millis": 2,
    "deepnote_cell_type": "code"
   },
   "source": "import pandas as pd",
   "execution_count": 6,
   "outputs": []
  },
  {
   "cell_type": "code",
   "metadata": {
    "tags": [],
    "cell_id": "00001-67da1be7-16b0-481c-a787-ee70881f3d4d",
    "deepnote_to_be_reexecuted": false,
    "source_hash": "6004eb34",
    "execution_start": 1637769864065,
    "execution_millis": 1,
    "deepnote_cell_type": "code"
   },
   "source": "crime = pd.read_csv('crime_data_w_population_and_crime_rate.csv')",
   "execution_count": null,
   "outputs": []
  },
  {
   "cell_type": "code",
   "metadata": {
    "tags": [],
    "cell_id": "00002-4121a7f3-6ad7-49d2-b642-30ce6e956119",
    "deepnote_to_be_reexecuted": false,
    "source_hash": "23802735",
    "execution_start": 1637769864066,
    "execution_millis": 155,
    "deepnote_cell_type": "code"
   },
   "source": "crime",
   "execution_count": null,
   "outputs": [
    {
     "output_type": "execute_result",
     "execution_count": 3,
     "data": {
      "application/vnd.deepnote.dataframe.v2+json": {
       "row_count": 3136,
       "column_count": 24,
       "columns": [
        {
         "name": "county_name",
         "dtype": "object",
         "stats": {
          "unique_count": 3136,
          "nan_count": 0,
          "categories": [
           {
            "name": "St. Louis city, MO",
            "count": 1
           },
           {
            "name": "Crittenden County, AR",
            "count": 1
           },
           {
            "name": "3134 others",
            "count": 3134
           }
          ]
         }
        },
        {
         "name": "crime_rate_per_100000",
         "dtype": "float64",
         "stats": {
          "unique_count": 2967,
          "nan_count": 0,
          "min": "0.0",
          "max": "1791.995377",
          "histogram": [
           {
            "bin_start": 0,
            "bin_end": 179.1995377,
            "count": 1512
           },
           {
            "bin_start": 179.1995377,
            "bin_end": 358.3990754,
            "count": 981
           },
           {
            "bin_start": 358.3990754,
            "bin_end": 537.5986131,
            "count": 392
           },
           {
            "bin_start": 537.5986131,
            "bin_end": 716.7981508,
            "count": 163
           },
           {
            "bin_start": 716.7981508,
            "bin_end": 895.9976885000001,
            "count": 49
           },
           {
            "bin_start": 895.9976885000001,
            "bin_end": 1075.1972262,
            "count": 21
           },
           {
            "bin_start": 1075.1972262,
            "bin_end": 1254.3967639,
            "count": 11
           },
           {
            "bin_start": 1254.3967639,
            "bin_end": 1433.5963016,
            "count": 2
           },
           {
            "bin_start": 1433.5963016,
            "bin_end": 1612.7958393000001,
            "count": 2
           },
           {
            "bin_start": 1612.7958393000001,
            "bin_end": 1791.995377,
            "count": 3
           }
          ]
         }
        },
        {
         "name": "index",
         "dtype": "int64",
         "stats": {
          "unique_count": 3136,
          "nan_count": 0,
          "min": "1",
          "max": "3136",
          "histogram": [
           {
            "bin_start": 1,
            "bin_end": 314.5,
            "count": 314
           },
           {
            "bin_start": 314.5,
            "bin_end": 628,
            "count": 313
           },
           {
            "bin_start": 628,
            "bin_end": 941.5,
            "count": 314
           },
           {
            "bin_start": 941.5,
            "bin_end": 1255,
            "count": 313
           },
           {
            "bin_start": 1255,
            "bin_end": 1568.5,
            "count": 314
           },
           {
            "bin_start": 1568.5,
            "bin_end": 1882,
            "count": 313
           },
           {
            "bin_start": 1882,
            "bin_end": 2195.5,
            "count": 314
           },
           {
            "bin_start": 2195.5,
            "bin_end": 2509,
            "count": 313
           },
           {
            "bin_start": 2509,
            "bin_end": 2822.5,
            "count": 314
           },
           {
            "bin_start": 2822.5,
            "bin_end": 3136,
            "count": 314
           }
          ]
         }
        },
        {
         "name": "EDITION",
         "dtype": "int64",
         "stats": {
          "unique_count": 1,
          "nan_count": 0,
          "min": "1",
          "max": "1",
          "histogram": [
           {
            "bin_start": 0.5,
            "bin_end": 0.6,
            "count": 0
           },
           {
            "bin_start": 0.6,
            "bin_end": 0.7,
            "count": 0
           },
           {
            "bin_start": 0.7,
            "bin_end": 0.8,
            "count": 0
           },
           {
            "bin_start": 0.8,
            "bin_end": 0.9,
            "count": 0
           },
           {
            "bin_start": 0.9,
            "bin_end": 1,
            "count": 0
           },
           {
            "bin_start": 1,
            "bin_end": 1.1,
            "count": 3136
           },
           {
            "bin_start": 1.1,
            "bin_end": 1.2000000000000002,
            "count": 0
           },
           {
            "bin_start": 1.2000000000000002,
            "bin_end": 1.3,
            "count": 0
           },
           {
            "bin_start": 1.3,
            "bin_end": 1.4,
            "count": 0
           },
           {
            "bin_start": 1.4,
            "bin_end": 1.5,
            "count": 0
           }
          ]
         }
        },
        {
         "name": "PART",
         "dtype": "int64",
         "stats": {
          "unique_count": 1,
          "nan_count": 0,
          "min": "4",
          "max": "4",
          "histogram": [
           {
            "bin_start": 3.5,
            "bin_end": 3.6,
            "count": 0
           },
           {
            "bin_start": 3.6,
            "bin_end": 3.7,
            "count": 0
           },
           {
            "bin_start": 3.7,
            "bin_end": 3.8,
            "count": 0
           },
           {
            "bin_start": 3.8,
            "bin_end": 3.9,
            "count": 0
           },
           {
            "bin_start": 3.9,
            "bin_end": 4,
            "count": 0
           },
           {
            "bin_start": 4,
            "bin_end": 4.1,
            "count": 3136
           },
           {
            "bin_start": 4.1,
            "bin_end": 4.2,
            "count": 0
           },
           {
            "bin_start": 4.2,
            "bin_end": 4.3,
            "count": 0
           },
           {
            "bin_start": 4.3,
            "bin_end": 4.4,
            "count": 0
           },
           {
            "bin_start": 4.4,
            "bin_end": 4.5,
            "count": 0
           }
          ]
         }
        },
        {
         "name": "IDNO",
         "dtype": "int64",
         "stats": {
          "unique_count": 3136,
          "nan_count": 0,
          "min": "1",
          "max": "3177",
          "histogram": [
           {
            "bin_start": 1,
            "bin_end": 318.6,
            "count": 309
           },
           {
            "bin_start": 318.6,
            "bin_end": 636.2,
            "count": 314
           },
           {
            "bin_start": 636.2,
            "bin_end": 953.8000000000001,
            "count": 317
           },
           {
            "bin_start": 953.8000000000001,
            "bin_end": 1271.4,
            "count": 314
           },
           {
            "bin_start": 1271.4,
            "bin_end": 1589,
            "count": 314
           },
           {
            "bin_start": 1589,
            "bin_end": 1906.6000000000001,
            "count": 311
           },
           {
            "bin_start": 1906.6000000000001,
            "bin_end": 2224.2000000000003,
            "count": 315
           },
           {
            "bin_start": 2224.2000000000003,
            "bin_end": 2541.8,
            "count": 313
           },
           {
            "bin_start": 2541.8,
            "bin_end": 2859.4,
            "count": 315
           },
           {
            "bin_start": 2859.4,
            "bin_end": 3177,
            "count": 314
           }
          ]
         }
        },
        {
         "name": "CPOPARST",
         "dtype": "int64",
         "stats": {
          "unique_count": 3065,
          "nan_count": 0,
          "min": "0",
          "max": "9980757",
          "histogram": [
           {
            "bin_start": 0,
            "bin_end": 998075.7,
            "count": 3094
           },
           {
            "bin_start": 998075.7,
            "bin_end": 1996151.4,
            "count": 29
           },
           {
            "bin_start": 1996151.4,
            "bin_end": 2994227.0999999996,
            "count": 7
           },
           {
            "bin_start": 2994227.0999999996,
            "bin_end": 3992302.8,
            "count": 3
           },
           {
            "bin_start": 3992302.8,
            "bin_end": 4990378.5,
            "count": 1
           },
           {
            "bin_start": 4990378.5,
            "bin_end": 5988454.199999999,
            "count": 1
           },
           {
            "bin_start": 5988454.199999999,
            "bin_end": 6986529.899999999,
            "count": 0
           },
           {
            "bin_start": 6986529.899999999,
            "bin_end": 7984605.6,
            "count": 0
           },
           {
            "bin_start": 7984605.6,
            "bin_end": 8982681.299999999,
            "count": 0
           },
           {
            "bin_start": 8982681.299999999,
            "bin_end": 9980757,
            "count": 1
           }
          ]
         }
        },
        {
         "name": "CPOPCRIM",
         "dtype": "int64",
         "stats": {
          "unique_count": 2997,
          "nan_count": 0,
          "min": "0",
          "max": "9980757",
          "histogram": [
           {
            "bin_start": 0,
            "bin_end": 998075.7,
            "count": 3094
           },
           {
            "bin_start": 998075.7,
            "bin_end": 1996151.4,
            "count": 30
           },
           {
            "bin_start": 1996151.4,
            "bin_end": 2994227.0999999996,
            "count": 6
           },
           {
            "bin_start": 2994227.0999999996,
            "bin_end": 3992302.8,
            "count": 3
           },
           {
            "bin_start": 3992302.8,
            "bin_end": 4990378.5,
            "count": 1
           },
           {
            "bin_start": 4990378.5,
            "bin_end": 5988454.199999999,
            "count": 1
           },
           {
            "bin_start": 5988454.199999999,
            "bin_end": 6986529.899999999,
            "count": 0
           },
           {
            "bin_start": 6986529.899999999,
            "bin_end": 7984605.6,
            "count": 0
           },
           {
            "bin_start": 7984605.6,
            "bin_end": 8982681.299999999,
            "count": 0
           },
           {
            "bin_start": 8982681.299999999,
            "bin_end": 9980757,
            "count": 1
           }
          ]
         }
        },
        {
         "name": "AG_ARRST",
         "dtype": "int64",
         "stats": {
          "unique_count": 62,
          "nan_count": 0,
          "min": "0",
          "max": "150",
          "histogram": [
           {
            "bin_start": 0,
            "bin_end": 15,
            "count": 2890
           },
           {
            "bin_start": 15,
            "bin_end": 30,
            "count": 180
           },
           {
            "bin_start": 30,
            "bin_end": 45,
            "count": 43
           },
           {
            "bin_start": 45,
            "bin_end": 60,
            "count": 15
           },
           {
            "bin_start": 60,
            "bin_end": 75,
            "count": 4
           },
           {
            "bin_start": 75,
            "bin_end": 90,
            "count": 1
           },
           {
            "bin_start": 90,
            "bin_end": 105,
            "count": 0
           },
           {
            "bin_start": 105,
            "bin_end": 120,
            "count": 1
           },
           {
            "bin_start": 120,
            "bin_end": 135,
            "count": 1
           },
           {
            "bin_start": 135,
            "bin_end": 150,
            "count": 1
           }
          ]
         }
        },
        {
         "name": "AG_OFF",
         "dtype": "int64",
         "stats": {
          "unique_count": 60,
          "nan_count": 0,
          "min": "0",
          "max": "140",
          "histogram": [
           {
            "bin_start": 0,
            "bin_end": 14,
            "count": 2930
           },
           {
            "bin_start": 14,
            "bin_end": 28,
            "count": 144
           },
           {
            "bin_start": 28,
            "bin_end": 42,
            "count": 36
           },
           {
            "bin_start": 42,
            "bin_end": 56,
            "count": 19
           },
           {
            "bin_start": 56,
            "bin_end": 70,
            "count": 2
           },
           {
            "bin_start": 70,
            "bin_end": 84,
            "count": 2
           },
           {
            "bin_start": 84,
            "bin_end": 98,
            "count": 0
           },
           {
            "bin_start": 98,
            "bin_end": 112,
            "count": 1
           },
           {
            "bin_start": 112,
            "bin_end": 126,
            "count": 0
           },
           {
            "bin_start": 126,
            "bin_end": 140,
            "count": 2
           }
          ]
         }
        },
        {
         "name": "COVIND",
         "dtype": "float64",
         "stats": {
          "unique_count": 573,
          "nan_count": 0,
          "min": "0.0",
          "max": "100.0",
          "histogram": [
           {
            "bin_start": 0,
            "bin_end": 10,
            "count": 6
           },
           {
            "bin_start": 10,
            "bin_end": 20,
            "count": 2
           },
           {
            "bin_start": 20,
            "bin_end": 30,
            "count": 3
           },
           {
            "bin_start": 30,
            "bin_end": 40,
            "count": 5
           },
           {
            "bin_start": 40,
            "bin_end": 50,
            "count": 13
           },
           {
            "bin_start": 50,
            "bin_end": 60,
            "count": 11
           },
           {
            "bin_start": 60,
            "bin_end": 70,
            "count": 13
           },
           {
            "bin_start": 70,
            "bin_end": 80,
            "count": 26
           },
           {
            "bin_start": 80,
            "bin_end": 90,
            "count": 70
           },
           {
            "bin_start": 90,
            "bin_end": 100,
            "count": 2987
           }
          ]
         }
        },
        {
         "name": "INDEX",
         "dtype": "int64",
         "stats": {
          "unique_count": 710,
          "nan_count": 0,
          "min": "0",
          "max": "44556",
          "histogram": [
           {
            "bin_start": 0,
            "bin_end": 4455.6,
            "count": 3081
           },
           {
            "bin_start": 4455.6,
            "bin_end": 8911.2,
            "count": 37
           },
           {
            "bin_start": 8911.2,
            "bin_end": 13366.800000000001,
            "count": 8
           },
           {
            "bin_start": 13366.800000000001,
            "bin_end": 17822.4,
            "count": 5
           },
           {
            "bin_start": 17822.4,
            "bin_end": 22278,
            "count": 2
           },
           {
            "bin_start": 22278,
            "bin_end": 26733.600000000002,
            "count": 0
           },
           {
            "bin_start": 26733.600000000002,
            "bin_end": 31189.200000000004,
            "count": 1
           },
           {
            "bin_start": 31189.200000000004,
            "bin_end": 35644.8,
            "count": 1
           },
           {
            "bin_start": 35644.8,
            "bin_end": 40100.4,
            "count": 0
           },
           {
            "bin_start": 40100.4,
            "bin_end": 44556,
            "count": 1
           }
          ]
         }
        },
        {
         "name": "MODINDX",
         "dtype": "int64",
         "stats": {
          "unique_count": 1758,
          "nan_count": 0,
          "min": "0",
          "max": "232266",
          "histogram": [
           {
            "bin_start": 0,
            "bin_end": 23226.6,
            "count": 3063
           },
           {
            "bin_start": 23226.6,
            "bin_end": 46453.2,
            "count": 47
           },
           {
            "bin_start": 46453.2,
            "bin_end": 69679.79999999999,
            "count": 17
           },
           {
            "bin_start": 69679.79999999999,
            "bin_end": 92906.4,
            "count": 2
           },
           {
            "bin_start": 92906.4,
            "bin_end": 116133,
            "count": 3
           },
           {
            "bin_start": 116133,
            "bin_end": 139359.59999999998,
            "count": 1
           },
           {
            "bin_start": 139359.59999999998,
            "bin_end": 162586.19999999998,
            "count": 0
           },
           {
            "bin_start": 162586.19999999998,
            "bin_end": 185812.8,
            "count": 2
           },
           {
            "bin_start": 185812.8,
            "bin_end": 209039.4,
            "count": 0
           },
           {
            "bin_start": 209039.4,
            "bin_end": 232266,
            "count": 1
           }
          ]
         }
        },
        {
         "name": "MURDER",
         "dtype": "int64",
         "stats": {
          "unique_count": 95,
          "nan_count": 0,
          "min": "0",
          "max": "600",
          "histogram": [
           {
            "bin_start": 0,
            "bin_end": 60,
            "count": 3082
           },
           {
            "bin_start": 60,
            "bin_end": 120,
            "count": 39
           },
           {
            "bin_start": 120,
            "bin_end": 180,
            "count": 6
           },
           {
            "bin_start": 180,
            "bin_end": 240,
            "count": 4
           },
           {
            "bin_start": 240,
            "bin_end": 300,
            "count": 0
           },
           {
            "bin_start": 300,
            "bin_end": 360,
            "count": 2
           },
           {
            "bin_start": 360,
            "bin_end": 420,
            "count": 0
           },
           {
            "bin_start": 420,
            "bin_end": 480,
            "count": 1
           },
           {
            "bin_start": 480,
            "bin_end": 540,
            "count": 0
           },
           {
            "bin_start": 540,
            "bin_end": 600,
            "count": 2
           }
          ]
         }
        },
        {
         "name": "RAPE",
         "dtype": "int64",
         "stats": {
          "unique_count": 232,
          "nan_count": 0,
          "min": "0",
          "max": "1976",
          "histogram": [
           {
            "bin_start": 0,
            "bin_end": 197.6,
            "count": 3062
           },
           {
            "bin_start": 197.6,
            "bin_end": 395.2,
            "count": 46
           },
           {
            "bin_start": 395.2,
            "bin_end": 592.8,
            "count": 17
           },
           {
            "bin_start": 592.8,
            "bin_end": 790.4,
            "count": 6
           },
           {
            "bin_start": 790.4,
            "bin_end": 988,
            "count": 2
           },
           {
            "bin_start": 988,
            "bin_end": 1185.6,
            "count": 2
           },
           {
            "bin_start": 1185.6,
            "bin_end": 1383.2,
            "count": 0
           },
           {
            "bin_start": 1383.2,
            "bin_end": 1580.8,
            "count": 0
           },
           {
            "bin_start": 1580.8,
            "bin_end": 1778.3999999999999,
            "count": 0
           },
           {
            "bin_start": 1778.3999999999999,
            "bin_end": 1976,
            "count": 1
           }
          ]
         }
        },
        {
         "name": "ROBBERY",
         "dtype": "int64",
         "stats": {
          "unique_count": 386,
          "nan_count": 0,
          "min": "0",
          "max": "18923",
          "histogram": [
           {
            "bin_start": 0,
            "bin_end": 1892.3,
            "count": 3095
           },
           {
            "bin_start": 1892.3,
            "bin_end": 3784.6,
            "count": 27
           },
           {
            "bin_start": 3784.6,
            "bin_end": 5676.9,
            "count": 6
           },
           {
            "bin_start": 5676.9,
            "bin_end": 7569.2,
            "count": 4
           },
           {
            "bin_start": 7569.2,
            "bin_end": 9461.5,
            "count": 1
           },
           {
            "bin_start": 9461.5,
            "bin_end": 11353.8,
            "count": 0
           },
           {
            "bin_start": 11353.8,
            "bin_end": 13246.1,
            "count": 1
           },
           {
            "bin_start": 13246.1,
            "bin_end": 15138.4,
            "count": 0
           },
           {
            "bin_start": 15138.4,
            "bin_end": 17030.7,
            "count": 1
           },
           {
            "bin_start": 17030.7,
            "bin_end": 18923,
            "count": 1
           }
          ]
         }
        },
        {
         "name": "AGASSLT",
         "dtype": "int64",
         "stats": {
          "unique_count": 631,
          "nan_count": 0,
          "min": "0",
          "max": "23057",
          "histogram": [
           {
            "bin_start": 0,
            "bin_end": 2305.7,
            "count": 3077
           },
           {
            "bin_start": 2305.7,
            "bin_end": 4611.4,
            "count": 33
           },
           {
            "bin_start": 4611.4,
            "bin_end": 6917.099999999999,
            "count": 14
           },
           {
            "bin_start": 6917.099999999999,
            "bin_end": 9222.8,
            "count": 5
           },
           {
            "bin_start": 9222.8,
            "bin_end": 11528.5,
            "count": 3
           },
           {
            "bin_start": 11528.5,
            "bin_end": 13834.199999999999,
            "count": 1
           },
           {
            "bin_start": 13834.199999999999,
            "bin_end": 16139.899999999998,
            "count": 1
           },
           {
            "bin_start": 16139.899999999998,
            "bin_end": 18445.6,
            "count": 1
           },
           {
            "bin_start": 18445.6,
            "bin_end": 20751.3,
            "count": 0
           },
           {
            "bin_start": 20751.3,
            "bin_end": 23057,
            "count": 1
           }
          ]
         }
        },
        {
         "name": "BURGLRY",
         "dtype": "int64",
         "stats": {
          "unique_count": 1050,
          "nan_count": 0,
          "min": "0",
          "max": "49107",
          "histogram": [
           {
            "bin_start": 0,
            "bin_end": 4910.7,
            "count": 3058
           },
           {
            "bin_start": 4910.7,
            "bin_end": 9821.4,
            "count": 47
           },
           {
            "bin_start": 9821.4,
            "bin_end": 14732.099999999999,
            "count": 15
           },
           {
            "bin_start": 14732.099999999999,
            "bin_end": 19642.8,
            "count": 9
           },
           {
            "bin_start": 19642.8,
            "bin_end": 24553.5,
            "count": 2
           },
           {
            "bin_start": 24553.5,
            "bin_end": 29464.199999999997,
            "count": 1
           },
           {
            "bin_start": 29464.199999999997,
            "bin_end": 34374.9,
            "count": 2
           },
           {
            "bin_start": 34374.9,
            "bin_end": 39285.6,
            "count": 0
           },
           {
            "bin_start": 39285.6,
            "bin_end": 44196.299999999996,
            "count": 1
           },
           {
            "bin_start": 44196.299999999996,
            "bin_end": 49107,
            "count": 1
           }
          ]
         }
        },
        {
         "name": "LARCENY",
         "dtype": "int64",
         "stats": {
          "unique_count": 1558,
          "nan_count": 0,
          "min": "0",
          "max": "142604",
          "histogram": [
           {
            "bin_start": 0,
            "bin_end": 14260.4,
            "count": 3057
           },
           {
            "bin_start": 14260.4,
            "bin_end": 28520.8,
            "count": 47
           },
           {
            "bin_start": 28520.8,
            "bin_end": 42781.2,
            "count": 20
           },
           {
            "bin_start": 42781.2,
            "bin_end": 57041.6,
            "count": 5
           },
           {
            "bin_start": 57041.6,
            "bin_end": 71302,
            "count": 2
           },
           {
            "bin_start": 71302,
            "bin_end": 85562.4,
            "count": 1
           },
           {
            "bin_start": 85562.4,
            "bin_end": 99822.8,
            "count": 1
           },
           {
            "bin_start": 99822.8,
            "bin_end": 114083.2,
            "count": 0
           },
           {
            "bin_start": 114083.2,
            "bin_end": 128343.59999999999,
            "count": 2
           },
           {
            "bin_start": 128343.59999999999,
            "bin_end": 142604,
            "count": 1
           }
          ]
         }
        },
        {
         "name": "MVTHEFT",
         "dtype": "int64",
         "stats": {
          "unique_count": 531,
          "nan_count": 0,
          "min": "0",
          "max": "40555",
          "histogram": [
           {
            "bin_start": 0,
            "bin_end": 4055.5,
            "count": 3099
           },
           {
            "bin_start": 4055.5,
            "bin_end": 8111,
            "count": 22
           },
           {
            "bin_start": 8111,
            "bin_end": 12166.5,
            "count": 10
           },
           {
            "bin_start": 12166.5,
            "bin_end": 16222,
            "count": 2
           },
           {
            "bin_start": 16222,
            "bin_end": 20277.5,
            "count": 1
           },
           {
            "bin_start": 20277.5,
            "bin_end": 24333,
            "count": 1
           },
           {
            "bin_start": 24333,
            "bin_end": 28388.5,
            "count": 0
           },
           {
            "bin_start": 28388.5,
            "bin_end": 32444,
            "count": 0
           },
           {
            "bin_start": 32444,
            "bin_end": 36499.5,
            "count": 0
           },
           {
            "bin_start": 36499.5,
            "bin_end": 40555,
            "count": 1
           }
          ]
         }
        },
        {
         "name": "ARSON",
         "dtype": "int64",
         "stats": {
          "unique_count": 176,
          "nan_count": 0,
          "min": "0",
          "max": "2210",
          "histogram": [
           {
            "bin_start": 0,
            "bin_end": 221,
            "count": 3093
           },
           {
            "bin_start": 221,
            "bin_end": 442,
            "count": 32
           },
           {
            "bin_start": 442,
            "bin_end": 663,
            "count": 5
           },
           {
            "bin_start": 663,
            "bin_end": 884,
            "count": 3
           },
           {
            "bin_start": 884,
            "bin_end": 1105,
            "count": 1
           },
           {
            "bin_start": 1105,
            "bin_end": 1326,
            "count": 1
           },
           {
            "bin_start": 1326,
            "bin_end": 1547,
            "count": 0
           },
           {
            "bin_start": 1547,
            "bin_end": 1768,
            "count": 0
           },
           {
            "bin_start": 1768,
            "bin_end": 1989,
            "count": 0
           },
           {
            "bin_start": 1989,
            "bin_end": 2210,
            "count": 1
           }
          ]
         }
        },
        {
         "name": "population",
         "dtype": "int64",
         "stats": {
          "unique_count": 3079,
          "nan_count": 0,
          "min": "90",
          "max": "10017068",
          "histogram": [
           {
            "bin_start": 90,
            "bin_end": 1001787.8,
            "count": 3096
           },
           {
            "bin_start": 1001787.8,
            "bin_end": 2003485.6,
            "count": 26
           },
           {
            "bin_start": 2003485.6,
            "bin_end": 3005183.4000000004,
            "count": 8
           },
           {
            "bin_start": 3005183.4000000004,
            "bin_end": 4006881.2,
            "count": 2
           },
           {
            "bin_start": 4006881.2,
            "bin_end": 5008579,
            "count": 2
           },
           {
            "bin_start": 5008579,
            "bin_end": 6010276.800000001,
            "count": 1
           },
           {
            "bin_start": 6010276.800000001,
            "bin_end": 7011974.600000001,
            "count": 0
           },
           {
            "bin_start": 7011974.600000001,
            "bin_end": 8013672.4,
            "count": 0
           },
           {
            "bin_start": 8013672.4,
            "bin_end": 9015370.200000001,
            "count": 0
           },
           {
            "bin_start": 9015370.200000001,
            "bin_end": 10017068,
            "count": 1
           }
          ]
         }
        },
        {
         "name": "FIPS_ST",
         "dtype": "int64",
         "stats": {
          "unique_count": 51,
          "nan_count": 0,
          "min": "1",
          "max": "56",
          "histogram": [
           {
            "bin_start": 1,
            "bin_end": 6.5,
            "count": 238
           },
           {
            "bin_start": 6.5,
            "bin_end": 12,
            "count": 76
           },
           {
            "bin_start": 12,
            "bin_end": 17.5,
            "count": 377
           },
           {
            "bin_start": 17.5,
            "bin_end": 23,
            "count": 480
           },
           {
            "bin_start": 23,
            "bin_end": 28.5,
            "count": 306
           },
           {
            "bin_start": 28.5,
            "bin_end": 34,
            "count": 291
           },
           {
            "bin_start": 34,
            "bin_end": 39.5,
            "count": 356
           },
           {
            "bin_start": 39.5,
            "bin_end": 45,
            "count": 185
           },
           {
            "bin_start": 45,
            "bin_end": 50.5,
            "count": 504
           },
           {
            "bin_start": 50.5,
            "bin_end": 56,
            "count": 323
           }
          ]
         }
        },
        {
         "name": "FIPS_CTY",
         "dtype": "int64",
         "stats": {
          "unique_count": 321,
          "nan_count": 0,
          "min": "1",
          "max": "840",
          "histogram": [
           {
            "bin_start": 1,
            "bin_end": 84.9,
            "count": 1658
           },
           {
            "bin_start": 84.9,
            "bin_end": 168.8,
            "count": 994
           },
           {
            "bin_start": 168.8,
            "bin_end": 252.70000000000002,
            "count": 275
           },
           {
            "bin_start": 252.70000000000002,
            "bin_end": 336.6,
            "count": 81
           },
           {
            "bin_start": 336.6,
            "bin_end": 420.5,
            "count": 42
           },
           {
            "bin_start": 420.5,
            "bin_end": 504.40000000000003,
            "count": 42
           },
           {
            "bin_start": 504.40000000000003,
            "bin_end": 588.3000000000001,
            "count": 13
           },
           {
            "bin_start": 588.3000000000001,
            "bin_end": 672.2,
            "count": 10
           },
           {
            "bin_start": 672.2,
            "bin_end": 756.1,
            "count": 12
           },
           {
            "bin_start": 756.1,
            "bin_end": 840,
            "count": 9
           }
          ]
         }
        },
        {
         "name": "_deepnote_index_column",
         "dtype": "int64"
        }
       ],
       "rows_top": [
        {
         "county_name": "St. Louis city, MO",
         "crime_rate_per_100000": 1791.995377,
         "index": 1,
         "EDITION": 1,
         "PART": 4,
         "IDNO": 1612,
         "CPOPARST": 318667,
         "CPOPCRIM": 318667,
         "AG_ARRST": 15,
         "AG_OFF": 15,
         "COVIND": 100,
         "INDEX": 5706,
         "MODINDX": 22329,
         "MURDER": 119,
         "RAPE": 200,
         "ROBBERY": 1778,
         "AGASSLT": 3609,
         "BURGLRY": 4995,
         "LARCENY": 13791,
         "MVTHEFT": 3543,
         "ARSON": 464,
         "population": 318416,
         "FIPS_ST": 29,
         "FIPS_CTY": 510,
         "_deepnote_index_column": 0
        },
        {
         "county_name": "Crittenden County, AR",
         "crime_rate_per_100000": 1754.914968,
         "index": 2,
         "EDITION": 1,
         "PART": 4,
         "IDNO": 130,
         "CPOPARST": 50717,
         "CPOPCRIM": 50717,
         "AG_ARRST": 4,
         "AG_OFF": 4,
         "COVIND": 100,
         "INDEX": 873,
         "MODINDX": 3424,
         "MURDER": 8,
         "RAPE": 38,
         "ROBBERY": 165,
         "AGASSLT": 662,
         "BURGLRY": 1482,
         "LARCENY": 1753,
         "MVTHEFT": 189,
         "ARSON": 28,
         "population": 49746,
         "FIPS_ST": 5,
         "FIPS_CTY": 35,
         "_deepnote_index_column": 1
        },
        {
         "county_name": "Alexander County, IL",
         "crime_rate_per_100000": 1664.700485,
         "index": 3,
         "EDITION": 1,
         "PART": 4,
         "IDNO": 604,
         "CPOPARST": 8040,
         "CPOPCRIM": 8040,
         "AG_ARRST": 2,
         "AG_OFF": 2,
         "COVIND": 100,
         "INDEX": 127,
         "MODINDX": 278,
         "MURDER": 1,
         "RAPE": 2,
         "ROBBERY": 5,
         "AGASSLT": 119,
         "BURGLRY": 82,
         "LARCENY": 184,
         "MVTHEFT": 12,
         "ARSON": 2,
         "population": 7629,
         "FIPS_ST": 17,
         "FIPS_CTY": 3,
         "_deepnote_index_column": 2
        },
        {
         "county_name": "Kenedy County, TX",
         "crime_rate_per_100000": 1456.31068,
         "index": 4,
         "EDITION": 1,
         "PART": 4,
         "IDNO": 2681,
         "CPOPARST": 444,
         "CPOPCRIM": 444,
         "AG_ARRST": 1,
         "AG_OFF": 1,
         "COVIND": 100,
         "INDEX": 6,
         "MODINDX": 13,
         "MURDER": 0,
         "RAPE": 3,
         "ROBBERY": 1,
         "AGASSLT": 2,
         "BURGLRY": 5,
         "LARCENY": 4,
         "MVTHEFT": 4,
         "ARSON": 0,
         "population": 412,
         "FIPS_ST": 48,
         "FIPS_CTY": 261,
         "_deepnote_index_column": 3
        },
        {
         "county_name": "De Soto Parish, LA",
         "crime_rate_per_100000": 1447.40243,
         "index": 5,
         "EDITION": 1,
         "PART": 4,
         "IDNO": 1137,
         "CPOPARST": 26971,
         "CPOPCRIM": 26971,
         "AG_ARRST": 3,
         "AG_OFF": 3,
         "COVIND": 100,
         "INDEX": 392,
         "MODINDX": 703,
         "MURDER": 3,
         "RAPE": 4,
         "ROBBERY": 17,
         "AGASSLT": 368,
         "BURGLRY": 149,
         "LARCENY": 494,
         "MVTHEFT": 60,
         "ARSON": 0,
         "population": 27083,
         "FIPS_ST": 22,
         "FIPS_CTY": 31,
         "_deepnote_index_column": 4
        },
        {
         "county_name": "Baltimore city, MD",
         "crime_rate_per_100000": 1419.537569,
         "index": 6,
         "EDITION": 1,
         "PART": 4,
         "IDNO": 1227,
         "CPOPARST": 625474,
         "CPOPCRIM": 625474,
         "AG_ARRST": 9,
         "AG_OFF": 9,
         "COVIND": 100,
         "INDEX": 8831,
         "MODINDX": 29868,
         "MURDER": 216,
         "RAPE": 317,
         "ROBBERY": 3638,
         "AGASSLT": 4660,
         "BURGLRY": 7804,
         "LARCENY": 18055,
         "MVTHEFT": 4009,
         "ARSON": 251,
         "population": 622104,
         "FIPS_ST": 24,
         "FIPS_CTY": 510,
         "_deepnote_index_column": 5
        },
        {
         "county_name": "Shelby County, TN",
         "crime_rate_per_100000": 1315.003752,
         "index": 7,
         "EDITION": 1,
         "PART": 4,
         "IDNO": 2534,
         "CPOPARST": 942807,
         "CPOPCRIM": 942807,
         "AG_ARRST": 15,
         "AG_OFF": 14,
         "COVIND": 100,
         "INDEX": 12354,
         "MODINDX": 47864,
         "MURDER": 135,
         "RAPE": 483,
         "ROBBERY": 3512,
         "AGASSLT": 8224,
         "BURGLRY": 14011,
         "LARCENY": 30620,
         "MVTHEFT": 3233,
         "ARSON": 435,
         "population": 939465,
         "FIPS_ST": 47,
         "FIPS_CTY": 157,
         "_deepnote_index_column": 6
        },
        {
         "county_name": "Marlboro County, SC",
         "crime_rate_per_100000": 1253.437132,
         "index": 8,
         "EDITION": 1,
         "PART": 4,
         "IDNO": 2377,
         "CPOPARST": 28780,
         "CPOPCRIM": 28780,
         "AG_ARRST": 9,
         "AG_OFF": 8,
         "COVIND": 100,
         "INDEX": 351,
         "MODINDX": 1549,
         "MURDER": 3,
         "RAPE": 20,
         "ROBBERY": 32,
         "AGASSLT": 296,
         "BURGLRY": 408,
         "LARCENY": 1074,
         "MVTHEFT": 67,
         "ARSON": 5,
         "population": 28003,
         "FIPS_ST": 45,
         "FIPS_CTY": 69,
         "_deepnote_index_column": 7
        },
        {
         "county_name": "Storey County, NV",
         "crime_rate_per_100000": 1217.656012,
         "index": 9,
         "EDITION": 1,
         "PART": 4,
         "IDNO": 1778,
         "CPOPARST": 3947,
         "CPOPCRIM": 3947,
         "AG_ARRST": 1,
         "AG_OFF": 1,
         "COVIND": 100,
         "INDEX": 48,
         "MODINDX": 86,
         "MURDER": 0,
         "RAPE": 7,
         "ROBBERY": 2,
         "AGASSLT": 39,
         "BURGLRY": 23,
         "LARCENY": 55,
         "MVTHEFT": 8,
         "ARSON": 2,
         "population": 3942,
         "FIPS_ST": 32,
         "FIPS_CTY": 29,
         "_deepnote_index_column": 8
        },
        {
         "county_name": "District of Columbia, DC",
         "crime_rate_per_100000": 1216.801325,
         "index": 10,
         "EDITION": 1,
         "PART": 4,
         "IDNO": 325,
         "CPOPARST": 632323,
         "CPOPCRIM": 632323,
         "AG_ARRST": 2,
         "AG_OFF": 1,
         "COVIND": 100,
         "INDEX": 7866,
         "MODINDX": 30757,
         "MURDER": 88,
         "RAPE": 236,
         "ROBBERY": 4037,
         "AGASSLT": 3505,
         "BURGLRY": 3519,
         "LARCENY": 23575,
         "MVTHEFT": 3663,
         "ARSON": 51,
         "population": 646449,
         "FIPS_ST": 11,
         "FIPS_CTY": 1,
         "_deepnote_index_column": 9
        },
        {
         "county_name": "Dillon County, SC",
         "crime_rate_per_100000": 1165.583272,
         "index": 11,
         "EDITION": 1,
         "PART": 4,
         "IDNO": 2359,
         "CPOPARST": 32060,
         "CPOPCRIM": 32060,
         "AG_ARRST": 9,
         "AG_OFF": 8,
         "COVIND": 100,
         "INDEX": 364,
         "MODINDX": 1906,
         "MURDER": 8,
         "RAPE": 17,
         "ROBBERY": 48,
         "AGASSLT": 291,
         "BURGLRY": 595,
         "LARCENY": 1206,
         "MVTHEFT": 105,
         "ARSON": 12,
         "population": 31229,
         "FIPS_ST": 45,
         "FIPS_CTY": 33,
         "_deepnote_index_column": 10
        },
        {
         "county_name": "Scott County, MO",
         "crime_rate_per_100000": 1163.145839,
         "index": 12,
         "EDITION": 1,
         "PART": 4,
         "IDNO": 1597,
         "CPOPARST": 40941,
         "CPOPCRIM": 40941,
         "AG_ARRST": 7,
         "AG_OFF": 8,
         "COVIND": 100,
         "INDEX": 457,
         "MODINDX": 1277,
         "MURDER": 2,
         "RAPE": 7,
         "ROBBERY": 26,
         "AGASSLT": 422,
         "BURGLRY": 236,
         "LARCENY": 1002,
         "MVTHEFT": 39,
         "ARSON": 8,
         "population": 39290,
         "FIPS_ST": 29,
         "FIPS_CTY": 201,
         "_deepnote_index_column": 11
        },
        {
         "county_name": "Philadelphia County, PA",
         "crime_rate_per_100000": 1150.29633,
         "index": 13,
         "EDITION": 1,
         "PART": 4,
         "IDNO": 2320,
         "CPOPARST": 1538957,
         "CPOPCRIM": 1538957,
         "AG_ARRST": 6,
         "AG_OFF": 5,
         "COVIND": 100,
         "INDEX": 17866,
         "MODINDX": 57000,
         "MURDER": 332,
         "RAPE": 881,
         "ROBBERY": 7984,
         "AGASSLT": 8669,
         "BURGLRY": 12004,
         "LARCENY": 38595,
         "MVTHEFT": 6401,
         "ARSON": 0,
         "population": 1553165,
         "FIPS_ST": 42,
         "FIPS_CTY": 101,
         "_deepnote_index_column": 12
        },
        {
         "county_name": "Pershing County, NV",
         "crime_rate_per_100000": 1148.756725,
         "index": 14,
         "EDITION": 1,
         "PART": 4,
         "IDNO": 1777,
         "CPOPARST": 6822,
         "CPOPCRIM": 6822,
         "AG_ARRST": 2,
         "AG_OFF": 2,
         "COVIND": 100,
         "INDEX": 79,
         "MODINDX": 75,
         "MURDER": 0,
         "RAPE": 3,
         "ROBBERY": 1,
         "AGASSLT": 75,
         "BURGLRY": 27,
         "LARCENY": 43,
         "MVTHEFT": 5,
         "ARSON": 0,
         "population": 6877,
         "FIPS_ST": 32,
         "FIPS_CTY": 27,
         "_deepnote_index_column": 13
        },
        {
         "county_name": "Greenwood County, SC",
         "crime_rate_per_100000": 1140.226324,
         "index": 15,
         "EDITION": 1,
         "PART": 4,
         "IDNO": 2366,
         "CPOPARST": 71009,
         "CPOPCRIM": 70499,
         "AG_ARRST": 10,
         "AG_OFF": 8,
         "COVIND": 100,
         "INDEX": 795,
         "MODINDX": 3651,
         "MURDER": 7,
         "RAPE": 39,
         "ROBBERY": 73,
         "AGASSLT": 676,
         "BURGLRY": 965,
         "LARCENY": 2564,
         "MVTHEFT": 122,
         "ARSON": 12,
         "population": 69723,
         "FIPS_ST": 45,
         "FIPS_CTY": 47,
         "_deepnote_index_column": 14
        },
        {
         "county_name": "Madison County, TN",
         "crime_rate_per_100000": 1138.42383,
         "index": 16,
         "EDITION": 1,
         "PART": 4,
         "IDNO": 2512,
         "CPOPARST": 98988,
         "CPOPCRIM": 99067,
         "AG_ARRST": 4,
         "AG_OFF": 5,
         "COVIND": 100,
         "INDEX": 1124,
         "MODINDX": 4084,
         "MURDER": 13,
         "RAPE": 33,
         "ROBBERY": 196,
         "AGASSLT": 882,
         "BURGLRY": 1300,
         "LARCENY": 2604,
         "MVTHEFT": 180,
         "ARSON": 27,
         "population": 98733,
         "FIPS_ST": 47,
         "FIPS_CTY": 113,
         "_deepnote_index_column": 15
        },
        {
         "county_name": "Davidson County, TN",
         "crime_rate_per_100000": 1129.513728,
         "index": 17,
         "EDITION": 1,
         "PART": 4,
         "IDNO": 2474,
         "CPOPARST": 635244,
         "CPOPCRIM": 635244,
         "AG_ARRST": 10,
         "AG_OFF": 10,
         "COVIND": 100,
         "INDEX": 7439,
         "MODINDX": 27666,
         "MURDER": 65,
         "RAPE": 312,
         "ROBBERY": 1753,
         "AGASSLT": 5309,
         "BURGLRY": 5875,
         "LARCENY": 20373,
         "MVTHEFT": 1418,
         "ARSON": 100,
         "population": 658602,
         "FIPS_ST": 47,
         "FIPS_CTY": 37,
         "_deepnote_index_column": 16
        },
        {
         "county_name": "Marion County, IN",
         "crime_rate_per_100000": 1083.508119,
         "index": 18,
         "EDITION": 1,
         "PART": 4,
         "IDNO": 753,
         "CPOPARST": 911521,
         "CPOPCRIM": 867596,
         "AG_ARRST": 11,
         "AG_OFF": 9,
         "COVIND": 100,
         "INDEX": 10058,
         "MODINDX": 49004,
         "MURDER": 102,
         "RAPE": 453,
         "ROBBERY": 3486,
         "AGASSLT": 6017,
         "BURGLRY": 15125,
         "LARCENY": 29122,
         "MVTHEFT": 4757,
         "ARSON": 414,
         "population": 928281,
         "FIPS_ST": 18,
         "FIPS_CTY": 97,
         "_deepnote_index_column": 17
        },
        {
         "county_name": "Wayne County, MI",
         "crime_rate_per_100000": 1065.188284,
         "index": 19,
         "EDITION": 1,
         "PART": 4,
         "IDNO": 1324,
         "CPOPARST": 1800769,
         "CPOPCRIM": 1793982,
         "AG_ARRST": 47,
         "AG_OFF": 47,
         "COVIND": 99.6046,
         "INDEX": 18910,
         "MODINDX": 69839,
         "MURDER": 433,
         "RAPE": 803,
         "ROBBERY": 5879,
         "AGASSLT": 11795,
         "BURGLRY": 19882,
         "LARCENY": 34706,
         "MVTHEFT": 15251,
         "ARSON": 766,
         "population": 1775273,
         "FIPS_ST": 26,
         "FIPS_CTY": 163,
         "_deepnote_index_column": 18
        },
        {
         "county_name": "Jackson County, MO",
         "crime_rate_per_100000": 1026.623686,
         "index": 20,
         "EDITION": 1,
         "PART": 4,
         "IDNO": 1545,
         "CPOPARST": 839561,
         "CPOPCRIM": 837636,
         "AG_ARRST": 19,
         "AG_OFF": 23,
         "COVIND": 100,
         "INDEX": 6981,
         "MODINDX": 40642,
         "MURDER": 116,
         "RAPE": 358,
         "ROBBERY": 1913,
         "AGASSLT": 4594,
         "BURGLRY": 9695,
         "LARCENY": 25994,
         "MVTHEFT": 4953,
         "ARSON": 318,
         "population": 679996,
         "FIPS_ST": 29,
         "FIPS_CTY": 95,
         "_deepnote_index_column": 19
        }
       ],
       "rows_bottom": [
        {
         "county_name": "Kinney County, TX",
         "crime_rate_per_100000": 0,
         "index": 3116,
         "EDITION": 1,
         "PART": 4,
         "IDNO": 2686,
         "CPOPARST": 3684,
         "CPOPCRIM": 1954,
         "AG_ARRST": 2,
         "AG_OFF": 1,
         "COVIND": 100,
         "INDEX": 0,
         "MODINDX": 3,
         "MURDER": 0,
         "RAPE": 0,
         "ROBBERY": 0,
         "AGASSLT": 0,
         "BURGLRY": 2,
         "LARCENY": 1,
         "MVTHEFT": 0,
         "ARSON": 0,
         "population": 3586,
         "FIPS_ST": 48,
         "FIPS_CTY": 271,
         "_deepnote_index_column": 3115
        },
        {
         "county_name": "Furnas County, NE",
         "crime_rate_per_100000": 0,
         "index": 3117,
         "EDITION": 1,
         "PART": 4,
         "IDNO": 1703,
         "CPOPARST": 4978,
         "CPOPCRIM": 0,
         "AG_ARRST": 2,
         "AG_OFF": 1,
         "COVIND": 100,
         "INDEX": 0,
         "MODINDX": 3,
         "MURDER": 0,
         "RAPE": 0,
         "ROBBERY": 0,
         "AGASSLT": 0,
         "BURGLRY": 1,
         "LARCENY": 2,
         "MVTHEFT": 0,
         "ARSON": 0,
         "population": 4865,
         "FIPS_ST": 31,
         "FIPS_CTY": 65,
         "_deepnote_index_column": 3116
        },
        {
         "county_name": "Wibaux County, MT",
         "crime_rate_per_100000": 0,
         "index": 3118,
         "EDITION": 1,
         "PART": 4,
         "IDNO": 1667,
         "CPOPARST": 992,
         "CPOPCRIM": 992,
         "AG_ARRST": 1,
         "AG_OFF": 1,
         "COVIND": 100,
         "INDEX": 0,
         "MODINDX": 3,
         "MURDER": 0,
         "RAPE": 0,
         "ROBBERY": 0,
         "AGASSLT": 0,
         "BURGLRY": 2,
         "LARCENY": 1,
         "MVTHEFT": 0,
         "ARSON": 0,
         "population": 1121,
         "FIPS_ST": 30,
         "FIPS_CTY": 109,
         "_deepnote_index_column": 3117
        },
        {
         "county_name": "McIntosh County, ND",
         "crime_rate_per_100000": 0,
         "index": 3119,
         "EDITION": 1,
         "PART": 4,
         "IDNO": 2038,
         "CPOPARST": 2833,
         "CPOPCRIM": 2833,
         "AG_ARRST": 2,
         "AG_OFF": 2,
         "COVIND": 88.0927,
         "INDEX": 0,
         "MODINDX": 8,
         "MURDER": 0,
         "RAPE": 0,
         "ROBBERY": 0,
         "AGASSLT": 0,
         "BURGLRY": 5,
         "LARCENY": 3,
         "MVTHEFT": 0,
         "ARSON": 0,
         "population": 2754,
         "FIPS_ST": 38,
         "FIPS_CTY": 51,
         "_deepnote_index_column": 3118
        },
        {
         "county_name": "Adams County, ND",
         "crime_rate_per_100000": 0,
         "index": 3120,
         "EDITION": 1,
         "PART": 4,
         "IDNO": 2013,
         "CPOPARST": 2360,
         "CPOPCRIM": 2360,
         "AG_ARRST": 1,
         "AG_OFF": 1,
         "COVIND": 100,
         "INDEX": 0,
         "MODINDX": 12,
         "MURDER": 0,
         "RAPE": 0,
         "ROBBERY": 0,
         "AGASSLT": 0,
         "BURGLRY": 7,
         "LARCENY": 5,
         "MVTHEFT": 0,
         "ARSON": 0,
         "population": 2360,
         "FIPS_ST": 38,
         "FIPS_CTY": 1,
         "_deepnote_index_column": 3119
        },
        {
         "county_name": "Osceola County, IA",
         "crime_rate_per_100000": 0,
         "index": 3121,
         "EDITION": 1,
         "PART": 4,
         "IDNO": 868,
         "CPOPARST": 6382,
         "CPOPCRIM": 6382,
         "AG_ARRST": 1,
         "AG_OFF": 1,
         "COVIND": 100,
         "INDEX": 0,
         "MODINDX": 12,
         "MURDER": 0,
         "RAPE": 0,
         "ROBBERY": 0,
         "AGASSLT": 0,
         "BURGLRY": 3,
         "LARCENY": 7,
         "MVTHEFT": 2,
         "ARSON": 0,
         "population": 6211,
         "FIPS_ST": 19,
         "FIPS_CTY": 143,
         "_deepnote_index_column": 3120
        },
        {
         "county_name": "Sherman County, TX",
         "crime_rate_per_100000": 0,
         "index": 3122,
         "EDITION": 1,
         "PART": 4,
         "IDNO": 2761,
         "CPOPARST": 3086,
         "CPOPCRIM": 3086,
         "AG_ARRST": 2,
         "AG_OFF": 2,
         "COVIND": 100,
         "INDEX": 0,
         "MODINDX": 12,
         "MURDER": 0,
         "RAPE": 0,
         "ROBBERY": 0,
         "AGASSLT": 0,
         "BURGLRY": 4,
         "LARCENY": 7,
         "MVTHEFT": 1,
         "ARSON": 0,
         "population": 3093,
         "FIPS_ST": 48,
         "FIPS_CTY": 421,
         "_deepnote_index_column": 3121
        },
        {
         "county_name": "Perkins County, SD",
         "crime_rate_per_100000": 0,
         "index": 3123,
         "EDITION": 1,
         "PART": 4,
         "IDNO": 2440,
         "CPOPARST": 3035,
         "CPOPCRIM": 3035,
         "AG_ARRST": 2,
         "AG_OFF": 2,
         "COVIND": 100,
         "INDEX": 0,
         "MODINDX": 11,
         "MURDER": 0,
         "RAPE": 0,
         "ROBBERY": 0,
         "AGASSLT": 0,
         "BURGLRY": 2,
         "LARCENY": 8,
         "MVTHEFT": 1,
         "ARSON": 0,
         "population": 3037,
         "FIPS_ST": 46,
         "FIPS_CTY": 105,
         "_deepnote_index_column": 3122
        },
        {
         "county_name": "Hinsdale County, CO",
         "crime_rate_per_100000": 0,
         "index": 3124,
         "EDITION": 1,
         "PART": 4,
         "IDNO": 274,
         "CPOPARST": 841,
         "CPOPCRIM": 841,
         "AG_ARRST": 1,
         "AG_OFF": 1,
         "COVIND": 100,
         "INDEX": 0,
         "MODINDX": 10,
         "MURDER": 0,
         "RAPE": 0,
         "ROBBERY": 0,
         "AGASSLT": 0,
         "BURGLRY": 5,
         "LARCENY": 5,
         "MVTHEFT": 0,
         "ARSON": 0,
         "population": 813,
         "FIPS_ST": 8,
         "FIPS_CTY": 53,
         "_deepnote_index_column": 3123
        },
        {
         "county_name": "Campbell County, SD",
         "crime_rate_per_100000": 0,
         "index": 3125,
         "EDITION": 1,
         "PART": 4,
         "IDNO": 2398,
         "CPOPARST": 1443,
         "CPOPCRIM": 1443,
         "AG_ARRST": 1,
         "AG_OFF": 1,
         "COVIND": 100,
         "INDEX": 0,
         "MODINDX": 8,
         "MURDER": 0,
         "RAPE": 0,
         "ROBBERY": 0,
         "AGASSLT": 0,
         "BURGLRY": 2,
         "LARCENY": 4,
         "MVTHEFT": 2,
         "ARSON": 1,
         "population": 1334,
         "FIPS_ST": 46,
         "FIPS_CTY": 21,
         "_deepnote_index_column": 3124
        },
        {
         "county_name": "Golden Valley County, ND",
         "crime_rate_per_100000": 0,
         "index": 3126,
         "EDITION": 1,
         "PART": 4,
         "IDNO": 2029,
         "CPOPARST": 1792,
         "CPOPCRIM": 1792,
         "AG_ARRST": 1,
         "AG_OFF": 1,
         "COVIND": 100,
         "INDEX": 0,
         "MODINDX": 8,
         "MURDER": 0,
         "RAPE": 0,
         "ROBBERY": 0,
         "AGASSLT": 0,
         "BURGLRY": 3,
         "LARCENY": 5,
         "MVTHEFT": 0,
         "ARSON": 0,
         "population": 1823,
         "FIPS_ST": 38,
         "FIPS_CTY": 33,
         "_deepnote_index_column": 3125
        },
        {
         "county_name": "Clark County, ID",
         "crime_rate_per_100000": 0,
         "index": 3127,
         "EDITION": 1,
         "PART": 4,
         "IDNO": 574,
         "CPOPARST": 955,
         "CPOPCRIM": 955,
         "AG_ARRST": 1,
         "AG_OFF": 1,
         "COVIND": 100,
         "INDEX": 0,
         "MODINDX": 8,
         "MURDER": 0,
         "RAPE": 0,
         "ROBBERY": 0,
         "AGASSLT": 0,
         "BURGLRY": 3,
         "LARCENY": 5,
         "MVTHEFT": 0,
         "ARSON": 0,
         "population": 867,
         "FIPS_ST": 16,
         "FIPS_CTY": 33,
         "_deepnote_index_column": 3126
        },
        {
         "county_name": "Briscoe County, TX",
         "crime_rate_per_100000": 0,
         "index": 3128,
         "EDITION": 1,
         "PART": 4,
         "IDNO": 2573,
         "CPOPARST": 1676,
         "CPOPCRIM": 1676,
         "AG_ARRST": 1,
         "AG_OFF": 1,
         "COVIND": 100,
         "INDEX": 0,
         "MODINDX": 3,
         "MURDER": 0,
         "RAPE": 0,
         "ROBBERY": 0,
         "AGASSLT": 0,
         "BURGLRY": 0,
         "LARCENY": 2,
         "MVTHEFT": 1,
         "ARSON": 0,
         "population": 1537,
         "FIPS_ST": 48,
         "FIPS_CTY": 45,
         "_deepnote_index_column": 3127
        },
        {
         "county_name": "Foster County, ND",
         "crime_rate_per_100000": 0,
         "index": 3129,
         "EDITION": 1,
         "PART": 4,
         "IDNO": 2028,
         "CPOPARST": 3418,
         "CPOPCRIM": 3418,
         "AG_ARRST": 2,
         "AG_OFF": 2,
         "COVIND": 100,
         "INDEX": 0,
         "MODINDX": 6,
         "MURDER": 0,
         "RAPE": 0,
         "ROBBERY": 0,
         "AGASSLT": 0,
         "BURGLRY": 0,
         "LARCENY": 4,
         "MVTHEFT": 2,
         "ARSON": 0,
         "population": 3366,
         "FIPS_ST": 38,
         "FIPS_CTY": 31,
         "_deepnote_index_column": 3128
        },
        {
         "county_name": "Box Butte County, NE",
         "crime_rate_per_100000": 0,
         "index": 3130,
         "EDITION": 1,
         "PART": 4,
         "IDNO": 1677,
         "CPOPARST": 11463,
         "CPOPCRIM": 2855,
         "AG_ARRST": 3,
         "AG_OFF": 2,
         "COVIND": 100,
         "INDEX": 0,
         "MODINDX": 5,
         "MURDER": 0,
         "RAPE": 0,
         "ROBBERY": 0,
         "AGASSLT": 0,
         "BURGLRY": 0,
         "LARCENY": 5,
         "MVTHEFT": 0,
         "ARSON": 0,
         "population": 11305,
         "FIPS_ST": 31,
         "FIPS_CTY": 13,
         "_deepnote_index_column": 3129
        },
        {
         "county_name": "Cottle County, TX",
         "crime_rate_per_100000": 0,
         "index": 3131,
         "EDITION": 1,
         "PART": 4,
         "IDNO": 2601,
         "CPOPARST": 1521,
         "CPOPCRIM": 1521,
         "AG_ARRST": 2,
         "AG_OFF": 2,
         "COVIND": 100,
         "INDEX": 0,
         "MODINDX": 5,
         "MURDER": 0,
         "RAPE": 0,
         "ROBBERY": 0,
         "AGASSLT": 0,
         "BURGLRY": 3,
         "LARCENY": 2,
         "MVTHEFT": 0,
         "ARSON": 0,
         "population": 1452,
         "FIPS_ST": 48,
         "FIPS_CTY": 101,
         "_deepnote_index_column": 3130
        },
        {
         "county_name": "Ohio County, IN",
         "crime_rate_per_100000": 0,
         "index": 3132,
         "EDITION": 1,
         "PART": 4,
         "IDNO": 762,
         "CPOPARST": 6084,
         "CPOPCRIM": 0,
         "AG_ARRST": 2,
         "AG_OFF": 1,
         "COVIND": 100,
         "INDEX": 0,
         "MODINDX": 5,
         "MURDER": 0,
         "RAPE": 0,
         "ROBBERY": 0,
         "AGASSLT": 0,
         "BURGLRY": 2,
         "LARCENY": 2,
         "MVTHEFT": 0,
         "ARSON": 0,
         "population": 5994,
         "FIPS_ST": 18,
         "FIPS_CTY": 115,
         "_deepnote_index_column": 3131
        },
        {
         "county_name": "Newton County, MS",
         "crime_rate_per_100000": 0,
         "index": 3133,
         "EDITION": 1,
         "PART": 4,
         "IDNO": 1465,
         "CPOPARST": 21545,
         "CPOPCRIM": 3346,
         "AG_ARRST": 3,
         "AG_OFF": 1,
         "COVIND": 100,
         "INDEX": 0,
         "MODINDX": 5,
         "MURDER": 0,
         "RAPE": 0,
         "ROBBERY": 0,
         "AGASSLT": 0,
         "BURGLRY": 4,
         "LARCENY": 0,
         "MVTHEFT": 1,
         "ARSON": 0,
         "population": 21689,
         "FIPS_ST": 28,
         "FIPS_CTY": 101,
         "_deepnote_index_column": 3132
        },
        {
         "county_name": "Jerauld County, SD",
         "crime_rate_per_100000": 0,
         "index": 3134,
         "EDITION": 1,
         "PART": 4,
         "IDNO": 2424,
         "CPOPARST": 2108,
         "CPOPCRIM": 2108,
         "AG_ARRST": 1,
         "AG_OFF": 1,
         "COVIND": 100,
         "INDEX": 0,
         "MODINDX": 5,
         "MURDER": 0,
         "RAPE": 0,
         "ROBBERY": 0,
         "AGASSLT": 0,
         "BURGLRY": 1,
         "LARCENY": 3,
         "MVTHEFT": 1,
         "ARSON": 0,
         "population": 2066,
         "FIPS_ST": 46,
         "FIPS_CTY": 73,
         "_deepnote_index_column": 3133
        },
        {
         "county_name": "Cimarron County, OK",
         "crime_rate_per_100000": 0,
         "index": 3135,
         "EDITION": 1,
         "PART": 4,
         "IDNO": 2167,
         "CPOPARST": 2502,
         "CPOPCRIM": 2502,
         "AG_ARRST": 2,
         "AG_OFF": 2,
         "COVIND": 100,
         "INDEX": 0,
         "MODINDX": 3,
         "MURDER": 0,
         "RAPE": 0,
         "ROBBERY": 0,
         "AGASSLT": 0,
         "BURGLRY": 1,
         "LARCENY": 2,
         "MVTHEFT": 0,
         "ARSON": 0,
         "population": 2335,
         "FIPS_ST": 40,
         "FIPS_CTY": 25,
         "_deepnote_index_column": 3134
        },
        {
         "county_name": "Lawrence County, MS",
         "crime_rate_per_100000": 0,
         "index": 3136,
         "EDITION": 1,
         "PART": 4,
         "IDNO": 1453,
         "CPOPARST": 12714,
         "CPOPCRIM": 0,
         "AG_ARRST": 1,
         "AG_OFF": 1,
         "COVIND": 100,
         "INDEX": 0,
         "MODINDX": 0,
         "MURDER": 0,
         "RAPE": 0,
         "ROBBERY": 0,
         "AGASSLT": 0,
         "BURGLRY": 0,
         "LARCENY": 0,
         "MVTHEFT": 0,
         "ARSON": 0,
         "population": 12514,
         "FIPS_ST": 28,
         "FIPS_CTY": 77,
         "_deepnote_index_column": 3135
        }
       ]
      },
      "text/plain": "                county_name  crime_rate_per_100000  index  EDITION  PART  \\\n0        St. Louis city, MO            1791.995377      1        1     4   \n1     Crittenden County, AR            1754.914968      2        1     4   \n2      Alexander County, IL            1664.700485      3        1     4   \n3         Kenedy County, TX            1456.310680      4        1     4   \n4        De Soto Parish, LA            1447.402430      5        1     4   \n...                     ...                    ...    ...      ...   ...   \n3131        Ohio County, IN               0.000000   3132        1     4   \n3132      Newton County, MS               0.000000   3133        1     4   \n3133     Jerauld County, SD               0.000000   3134        1     4   \n3134    Cimarron County, OK               0.000000   3135        1     4   \n3135    Lawrence County, MS               0.000000   3136        1     4   \n\n      IDNO  CPOPARST  CPOPCRIM  AG_ARRST  AG_OFF  ...  RAPE  ROBBERY  AGASSLT  \\\n0     1612    318667    318667        15      15  ...   200     1778     3609   \n1      130     50717     50717         4       4  ...    38      165      662   \n2      604      8040      8040         2       2  ...     2        5      119   \n3     2681       444       444         1       1  ...     3        1        2   \n4     1137     26971     26971         3       3  ...     4       17      368   \n...    ...       ...       ...       ...     ...  ...   ...      ...      ...   \n3131   762      6084         0         2       1  ...     0        0        0   \n3132  1465     21545      3346         3       1  ...     0        0        0   \n3133  2424      2108      2108         1       1  ...     0        0        0   \n3134  2167      2502      2502         2       2  ...     0        0        0   \n3135  1453     12714         0         1       1  ...     0        0        0   \n\n      BURGLRY  LARCENY  MVTHEFT  ARSON  population  FIPS_ST  FIPS_CTY  \n0        4995    13791     3543    464      318416       29       510  \n1        1482     1753      189     28       49746        5        35  \n2          82      184       12      2        7629       17         3  \n3           5        4        4      0         412       48       261  \n4         149      494       60      0       27083       22        31  \n...       ...      ...      ...    ...         ...      ...       ...  \n3131        2        2        0      0        5994       18       115  \n3132        4        0        1      0       21689       28       101  \n3133        1        3        1      0        2066       46        73  \n3134        1        2        0      0        2335       40        25  \n3135        0        0        0      0       12514       28        77  \n\n[3136 rows x 24 columns]",
      "text/html": "<div>\n<style scoped>\n    .dataframe tbody tr th:only-of-type {\n        vertical-align: middle;\n    }\n\n    .dataframe tbody tr th {\n        vertical-align: top;\n    }\n\n    .dataframe thead th {\n        text-align: right;\n    }\n</style>\n<table border=\"1\" class=\"dataframe\">\n  <thead>\n    <tr style=\"text-align: right;\">\n      <th></th>\n      <th>county_name</th>\n      <th>crime_rate_per_100000</th>\n      <th>index</th>\n      <th>EDITION</th>\n      <th>PART</th>\n      <th>IDNO</th>\n      <th>CPOPARST</th>\n      <th>CPOPCRIM</th>\n      <th>AG_ARRST</th>\n      <th>AG_OFF</th>\n      <th>...</th>\n      <th>RAPE</th>\n      <th>ROBBERY</th>\n      <th>AGASSLT</th>\n      <th>BURGLRY</th>\n      <th>LARCENY</th>\n      <th>MVTHEFT</th>\n      <th>ARSON</th>\n      <th>population</th>\n      <th>FIPS_ST</th>\n      <th>FIPS_CTY</th>\n    </tr>\n  </thead>\n  <tbody>\n    <tr>\n      <th>0</th>\n      <td>St. Louis city, MO</td>\n      <td>1791.995377</td>\n      <td>1</td>\n      <td>1</td>\n      <td>4</td>\n      <td>1612</td>\n      <td>318667</td>\n      <td>318667</td>\n      <td>15</td>\n      <td>15</td>\n      <td>...</td>\n      <td>200</td>\n      <td>1778</td>\n      <td>3609</td>\n      <td>4995</td>\n      <td>13791</td>\n      <td>3543</td>\n      <td>464</td>\n      <td>318416</td>\n      <td>29</td>\n      <td>510</td>\n    </tr>\n    <tr>\n      <th>1</th>\n      <td>Crittenden County, AR</td>\n      <td>1754.914968</td>\n      <td>2</td>\n      <td>1</td>\n      <td>4</td>\n      <td>130</td>\n      <td>50717</td>\n      <td>50717</td>\n      <td>4</td>\n      <td>4</td>\n      <td>...</td>\n      <td>38</td>\n      <td>165</td>\n      <td>662</td>\n      <td>1482</td>\n      <td>1753</td>\n      <td>189</td>\n      <td>28</td>\n      <td>49746</td>\n      <td>5</td>\n      <td>35</td>\n    </tr>\n    <tr>\n      <th>2</th>\n      <td>Alexander County, IL</td>\n      <td>1664.700485</td>\n      <td>3</td>\n      <td>1</td>\n      <td>4</td>\n      <td>604</td>\n      <td>8040</td>\n      <td>8040</td>\n      <td>2</td>\n      <td>2</td>\n      <td>...</td>\n      <td>2</td>\n      <td>5</td>\n      <td>119</td>\n      <td>82</td>\n      <td>184</td>\n      <td>12</td>\n      <td>2</td>\n      <td>7629</td>\n      <td>17</td>\n      <td>3</td>\n    </tr>\n    <tr>\n      <th>3</th>\n      <td>Kenedy County, TX</td>\n      <td>1456.310680</td>\n      <td>4</td>\n      <td>1</td>\n      <td>4</td>\n      <td>2681</td>\n      <td>444</td>\n      <td>444</td>\n      <td>1</td>\n      <td>1</td>\n      <td>...</td>\n      <td>3</td>\n      <td>1</td>\n      <td>2</td>\n      <td>5</td>\n      <td>4</td>\n      <td>4</td>\n      <td>0</td>\n      <td>412</td>\n      <td>48</td>\n      <td>261</td>\n    </tr>\n    <tr>\n      <th>4</th>\n      <td>De Soto Parish, LA</td>\n      <td>1447.402430</td>\n      <td>5</td>\n      <td>1</td>\n      <td>4</td>\n      <td>1137</td>\n      <td>26971</td>\n      <td>26971</td>\n      <td>3</td>\n      <td>3</td>\n      <td>...</td>\n      <td>4</td>\n      <td>17</td>\n      <td>368</td>\n      <td>149</td>\n      <td>494</td>\n      <td>60</td>\n      <td>0</td>\n      <td>27083</td>\n      <td>22</td>\n      <td>31</td>\n    </tr>\n    <tr>\n      <th>...</th>\n      <td>...</td>\n      <td>...</td>\n      <td>...</td>\n      <td>...</td>\n      <td>...</td>\n      <td>...</td>\n      <td>...</td>\n      <td>...</td>\n      <td>...</td>\n      <td>...</td>\n      <td>...</td>\n      <td>...</td>\n      <td>...</td>\n      <td>...</td>\n      <td>...</td>\n      <td>...</td>\n      <td>...</td>\n      <td>...</td>\n      <td>...</td>\n      <td>...</td>\n      <td>...</td>\n    </tr>\n    <tr>\n      <th>3131</th>\n      <td>Ohio County, IN</td>\n      <td>0.000000</td>\n      <td>3132</td>\n      <td>1</td>\n      <td>4</td>\n      <td>762</td>\n      <td>6084</td>\n      <td>0</td>\n      <td>2</td>\n      <td>1</td>\n      <td>...</td>\n      <td>0</td>\n      <td>0</td>\n      <td>0</td>\n      <td>2</td>\n      <td>2</td>\n      <td>0</td>\n      <td>0</td>\n      <td>5994</td>\n      <td>18</td>\n      <td>115</td>\n    </tr>\n    <tr>\n      <th>3132</th>\n      <td>Newton County, MS</td>\n      <td>0.000000</td>\n      <td>3133</td>\n      <td>1</td>\n      <td>4</td>\n      <td>1465</td>\n      <td>21545</td>\n      <td>3346</td>\n      <td>3</td>\n      <td>1</td>\n      <td>...</td>\n      <td>0</td>\n      <td>0</td>\n      <td>0</td>\n      <td>4</td>\n      <td>0</td>\n      <td>1</td>\n      <td>0</td>\n      <td>21689</td>\n      <td>28</td>\n      <td>101</td>\n    </tr>\n    <tr>\n      <th>3133</th>\n      <td>Jerauld County, SD</td>\n      <td>0.000000</td>\n      <td>3134</td>\n      <td>1</td>\n      <td>4</td>\n      <td>2424</td>\n      <td>2108</td>\n      <td>2108</td>\n      <td>1</td>\n      <td>1</td>\n      <td>...</td>\n      <td>0</td>\n      <td>0</td>\n      <td>0</td>\n      <td>1</td>\n      <td>3</td>\n      <td>1</td>\n      <td>0</td>\n      <td>2066</td>\n      <td>46</td>\n      <td>73</td>\n    </tr>\n    <tr>\n      <th>3134</th>\n      <td>Cimarron County, OK</td>\n      <td>0.000000</td>\n      <td>3135</td>\n      <td>1</td>\n      <td>4</td>\n      <td>2167</td>\n      <td>2502</td>\n      <td>2502</td>\n      <td>2</td>\n      <td>2</td>\n      <td>...</td>\n      <td>0</td>\n      <td>0</td>\n      <td>0</td>\n      <td>1</td>\n      <td>2</td>\n      <td>0</td>\n      <td>0</td>\n      <td>2335</td>\n      <td>40</td>\n      <td>25</td>\n    </tr>\n    <tr>\n      <th>3135</th>\n      <td>Lawrence County, MS</td>\n      <td>0.000000</td>\n      <td>3136</td>\n      <td>1</td>\n      <td>4</td>\n      <td>1453</td>\n      <td>12714</td>\n      <td>0</td>\n      <td>1</td>\n      <td>1</td>\n      <td>...</td>\n      <td>0</td>\n      <td>0</td>\n      <td>0</td>\n      <td>0</td>\n      <td>0</td>\n      <td>0</td>\n      <td>0</td>\n      <td>12514</td>\n      <td>28</td>\n      <td>77</td>\n    </tr>\n  </tbody>\n</table>\n<p>3136 rows × 24 columns</p>\n</div>"
     },
     "metadata": {}
    }
   ]
  },
  {
   "cell_type": "code",
   "metadata": {
    "tags": [],
    "cell_id": "00003-196ab827-b923-49c9-bc68-865be4fddc1b",
    "deepnote_to_be_reexecuted": false,
    "source_hash": "26188ae8",
    "execution_start": 1637769864228,
    "execution_millis": 21,
    "deepnote_cell_type": "code"
   },
   "source": "crime.info()",
   "execution_count": null,
   "outputs": [
    {
     "name": "stdout",
     "text": "<class 'pandas.core.frame.DataFrame'>\nRangeIndex: 3136 entries, 0 to 3135\nData columns (total 24 columns):\n #   Column                 Non-Null Count  Dtype  \n---  ------                 --------------  -----  \n 0   county_name            3136 non-null   object \n 1   crime_rate_per_100000  3136 non-null   float64\n 2   index                  3136 non-null   int64  \n 3   EDITION                3136 non-null   int64  \n 4   PART                   3136 non-null   int64  \n 5   IDNO                   3136 non-null   int64  \n 6   CPOPARST               3136 non-null   int64  \n 7   CPOPCRIM               3136 non-null   int64  \n 8   AG_ARRST               3136 non-null   int64  \n 9   AG_OFF                 3136 non-null   int64  \n 10  COVIND                 3136 non-null   float64\n 11  INDEX                  3136 non-null   int64  \n 12  MODINDX                3136 non-null   int64  \n 13  MURDER                 3136 non-null   int64  \n 14  RAPE                   3136 non-null   int64  \n 15  ROBBERY                3136 non-null   int64  \n 16  AGASSLT                3136 non-null   int64  \n 17  BURGLRY                3136 non-null   int64  \n 18  LARCENY                3136 non-null   int64  \n 19  MVTHEFT                3136 non-null   int64  \n 20  ARSON                  3136 non-null   int64  \n 21  population             3136 non-null   int64  \n 22  FIPS_ST                3136 non-null   int64  \n 23  FIPS_CTY               3136 non-null   int64  \ndtypes: float64(2), int64(21), object(1)\nmemory usage: 588.1+ KB\n",
     "output_type": "stream"
    }
   ]
  },
  {
   "cell_type": "code",
   "metadata": {
    "tags": [],
    "cell_id": "00005-468dbf67-1672-48a8-9574-29276e06ef20",
    "deepnote_to_be_reexecuted": false,
    "source_hash": "23802735",
    "execution_start": 1637769864300,
    "execution_millis": 115,
    "deepnote_cell_type": "code"
   },
   "source": "crime",
   "execution_count": null,
   "outputs": [
    {
     "output_type": "execute_result",
     "execution_count": 5,
     "data": {
      "application/vnd.deepnote.dataframe.v2+json": {
       "row_count": 3136,
       "column_count": 24,
       "columns": [
        {
         "name": "county_name",
         "dtype": "object",
         "stats": {
          "unique_count": 3136,
          "nan_count": 0,
          "categories": [
           {
            "name": "St. Louis city, MO",
            "count": 1
           },
           {
            "name": "Crittenden County, AR",
            "count": 1
           },
           {
            "name": "3134 others",
            "count": 3134
           }
          ]
         }
        },
        {
         "name": "crime_rate_per_100000",
         "dtype": "float64",
         "stats": {
          "unique_count": 2967,
          "nan_count": 0,
          "min": "0.0",
          "max": "1791.995377",
          "histogram": [
           {
            "bin_start": 0,
            "bin_end": 179.1995377,
            "count": 1512
           },
           {
            "bin_start": 179.1995377,
            "bin_end": 358.3990754,
            "count": 981
           },
           {
            "bin_start": 358.3990754,
            "bin_end": 537.5986131,
            "count": 392
           },
           {
            "bin_start": 537.5986131,
            "bin_end": 716.7981508,
            "count": 163
           },
           {
            "bin_start": 716.7981508,
            "bin_end": 895.9976885000001,
            "count": 49
           },
           {
            "bin_start": 895.9976885000001,
            "bin_end": 1075.1972262,
            "count": 21
           },
           {
            "bin_start": 1075.1972262,
            "bin_end": 1254.3967639,
            "count": 11
           },
           {
            "bin_start": 1254.3967639,
            "bin_end": 1433.5963016,
            "count": 2
           },
           {
            "bin_start": 1433.5963016,
            "bin_end": 1612.7958393000001,
            "count": 2
           },
           {
            "bin_start": 1612.7958393000001,
            "bin_end": 1791.995377,
            "count": 3
           }
          ]
         }
        },
        {
         "name": "index",
         "dtype": "int64",
         "stats": {
          "unique_count": 3136,
          "nan_count": 0,
          "min": "1",
          "max": "3136",
          "histogram": [
           {
            "bin_start": 1,
            "bin_end": 314.5,
            "count": 314
           },
           {
            "bin_start": 314.5,
            "bin_end": 628,
            "count": 313
           },
           {
            "bin_start": 628,
            "bin_end": 941.5,
            "count": 314
           },
           {
            "bin_start": 941.5,
            "bin_end": 1255,
            "count": 313
           },
           {
            "bin_start": 1255,
            "bin_end": 1568.5,
            "count": 314
           },
           {
            "bin_start": 1568.5,
            "bin_end": 1882,
            "count": 313
           },
           {
            "bin_start": 1882,
            "bin_end": 2195.5,
            "count": 314
           },
           {
            "bin_start": 2195.5,
            "bin_end": 2509,
            "count": 313
           },
           {
            "bin_start": 2509,
            "bin_end": 2822.5,
            "count": 314
           },
           {
            "bin_start": 2822.5,
            "bin_end": 3136,
            "count": 314
           }
          ]
         }
        },
        {
         "name": "EDITION",
         "dtype": "int64",
         "stats": {
          "unique_count": 1,
          "nan_count": 0,
          "min": "1",
          "max": "1",
          "histogram": [
           {
            "bin_start": 0.5,
            "bin_end": 0.6,
            "count": 0
           },
           {
            "bin_start": 0.6,
            "bin_end": 0.7,
            "count": 0
           },
           {
            "bin_start": 0.7,
            "bin_end": 0.8,
            "count": 0
           },
           {
            "bin_start": 0.8,
            "bin_end": 0.9,
            "count": 0
           },
           {
            "bin_start": 0.9,
            "bin_end": 1,
            "count": 0
           },
           {
            "bin_start": 1,
            "bin_end": 1.1,
            "count": 3136
           },
           {
            "bin_start": 1.1,
            "bin_end": 1.2000000000000002,
            "count": 0
           },
           {
            "bin_start": 1.2000000000000002,
            "bin_end": 1.3,
            "count": 0
           },
           {
            "bin_start": 1.3,
            "bin_end": 1.4,
            "count": 0
           },
           {
            "bin_start": 1.4,
            "bin_end": 1.5,
            "count": 0
           }
          ]
         }
        },
        {
         "name": "PART",
         "dtype": "int64",
         "stats": {
          "unique_count": 1,
          "nan_count": 0,
          "min": "4",
          "max": "4",
          "histogram": [
           {
            "bin_start": 3.5,
            "bin_end": 3.6,
            "count": 0
           },
           {
            "bin_start": 3.6,
            "bin_end": 3.7,
            "count": 0
           },
           {
            "bin_start": 3.7,
            "bin_end": 3.8,
            "count": 0
           },
           {
            "bin_start": 3.8,
            "bin_end": 3.9,
            "count": 0
           },
           {
            "bin_start": 3.9,
            "bin_end": 4,
            "count": 0
           },
           {
            "bin_start": 4,
            "bin_end": 4.1,
            "count": 3136
           },
           {
            "bin_start": 4.1,
            "bin_end": 4.2,
            "count": 0
           },
           {
            "bin_start": 4.2,
            "bin_end": 4.3,
            "count": 0
           },
           {
            "bin_start": 4.3,
            "bin_end": 4.4,
            "count": 0
           },
           {
            "bin_start": 4.4,
            "bin_end": 4.5,
            "count": 0
           }
          ]
         }
        },
        {
         "name": "IDNO",
         "dtype": "int64",
         "stats": {
          "unique_count": 3136,
          "nan_count": 0,
          "min": "1",
          "max": "3177",
          "histogram": [
           {
            "bin_start": 1,
            "bin_end": 318.6,
            "count": 309
           },
           {
            "bin_start": 318.6,
            "bin_end": 636.2,
            "count": 314
           },
           {
            "bin_start": 636.2,
            "bin_end": 953.8000000000001,
            "count": 317
           },
           {
            "bin_start": 953.8000000000001,
            "bin_end": 1271.4,
            "count": 314
           },
           {
            "bin_start": 1271.4,
            "bin_end": 1589,
            "count": 314
           },
           {
            "bin_start": 1589,
            "bin_end": 1906.6000000000001,
            "count": 311
           },
           {
            "bin_start": 1906.6000000000001,
            "bin_end": 2224.2000000000003,
            "count": 315
           },
           {
            "bin_start": 2224.2000000000003,
            "bin_end": 2541.8,
            "count": 313
           },
           {
            "bin_start": 2541.8,
            "bin_end": 2859.4,
            "count": 315
           },
           {
            "bin_start": 2859.4,
            "bin_end": 3177,
            "count": 314
           }
          ]
         }
        },
        {
         "name": "CPOPARST",
         "dtype": "int64",
         "stats": {
          "unique_count": 3065,
          "nan_count": 0,
          "min": "0",
          "max": "9980757",
          "histogram": [
           {
            "bin_start": 0,
            "bin_end": 998075.7,
            "count": 3094
           },
           {
            "bin_start": 998075.7,
            "bin_end": 1996151.4,
            "count": 29
           },
           {
            "bin_start": 1996151.4,
            "bin_end": 2994227.0999999996,
            "count": 7
           },
           {
            "bin_start": 2994227.0999999996,
            "bin_end": 3992302.8,
            "count": 3
           },
           {
            "bin_start": 3992302.8,
            "bin_end": 4990378.5,
            "count": 1
           },
           {
            "bin_start": 4990378.5,
            "bin_end": 5988454.199999999,
            "count": 1
           },
           {
            "bin_start": 5988454.199999999,
            "bin_end": 6986529.899999999,
            "count": 0
           },
           {
            "bin_start": 6986529.899999999,
            "bin_end": 7984605.6,
            "count": 0
           },
           {
            "bin_start": 7984605.6,
            "bin_end": 8982681.299999999,
            "count": 0
           },
           {
            "bin_start": 8982681.299999999,
            "bin_end": 9980757,
            "count": 1
           }
          ]
         }
        },
        {
         "name": "CPOPCRIM",
         "dtype": "int64",
         "stats": {
          "unique_count": 2997,
          "nan_count": 0,
          "min": "0",
          "max": "9980757",
          "histogram": [
           {
            "bin_start": 0,
            "bin_end": 998075.7,
            "count": 3094
           },
           {
            "bin_start": 998075.7,
            "bin_end": 1996151.4,
            "count": 30
           },
           {
            "bin_start": 1996151.4,
            "bin_end": 2994227.0999999996,
            "count": 6
           },
           {
            "bin_start": 2994227.0999999996,
            "bin_end": 3992302.8,
            "count": 3
           },
           {
            "bin_start": 3992302.8,
            "bin_end": 4990378.5,
            "count": 1
           },
           {
            "bin_start": 4990378.5,
            "bin_end": 5988454.199999999,
            "count": 1
           },
           {
            "bin_start": 5988454.199999999,
            "bin_end": 6986529.899999999,
            "count": 0
           },
           {
            "bin_start": 6986529.899999999,
            "bin_end": 7984605.6,
            "count": 0
           },
           {
            "bin_start": 7984605.6,
            "bin_end": 8982681.299999999,
            "count": 0
           },
           {
            "bin_start": 8982681.299999999,
            "bin_end": 9980757,
            "count": 1
           }
          ]
         }
        },
        {
         "name": "AG_ARRST",
         "dtype": "int64",
         "stats": {
          "unique_count": 62,
          "nan_count": 0,
          "min": "0",
          "max": "150",
          "histogram": [
           {
            "bin_start": 0,
            "bin_end": 15,
            "count": 2890
           },
           {
            "bin_start": 15,
            "bin_end": 30,
            "count": 180
           },
           {
            "bin_start": 30,
            "bin_end": 45,
            "count": 43
           },
           {
            "bin_start": 45,
            "bin_end": 60,
            "count": 15
           },
           {
            "bin_start": 60,
            "bin_end": 75,
            "count": 4
           },
           {
            "bin_start": 75,
            "bin_end": 90,
            "count": 1
           },
           {
            "bin_start": 90,
            "bin_end": 105,
            "count": 0
           },
           {
            "bin_start": 105,
            "bin_end": 120,
            "count": 1
           },
           {
            "bin_start": 120,
            "bin_end": 135,
            "count": 1
           },
           {
            "bin_start": 135,
            "bin_end": 150,
            "count": 1
           }
          ]
         }
        },
        {
         "name": "AG_OFF",
         "dtype": "int64",
         "stats": {
          "unique_count": 60,
          "nan_count": 0,
          "min": "0",
          "max": "140",
          "histogram": [
           {
            "bin_start": 0,
            "bin_end": 14,
            "count": 2930
           },
           {
            "bin_start": 14,
            "bin_end": 28,
            "count": 144
           },
           {
            "bin_start": 28,
            "bin_end": 42,
            "count": 36
           },
           {
            "bin_start": 42,
            "bin_end": 56,
            "count": 19
           },
           {
            "bin_start": 56,
            "bin_end": 70,
            "count": 2
           },
           {
            "bin_start": 70,
            "bin_end": 84,
            "count": 2
           },
           {
            "bin_start": 84,
            "bin_end": 98,
            "count": 0
           },
           {
            "bin_start": 98,
            "bin_end": 112,
            "count": 1
           },
           {
            "bin_start": 112,
            "bin_end": 126,
            "count": 0
           },
           {
            "bin_start": 126,
            "bin_end": 140,
            "count": 2
           }
          ]
         }
        },
        {
         "name": "COVIND",
         "dtype": "float64",
         "stats": {
          "unique_count": 573,
          "nan_count": 0,
          "min": "0.0",
          "max": "100.0",
          "histogram": [
           {
            "bin_start": 0,
            "bin_end": 10,
            "count": 6
           },
           {
            "bin_start": 10,
            "bin_end": 20,
            "count": 2
           },
           {
            "bin_start": 20,
            "bin_end": 30,
            "count": 3
           },
           {
            "bin_start": 30,
            "bin_end": 40,
            "count": 5
           },
           {
            "bin_start": 40,
            "bin_end": 50,
            "count": 13
           },
           {
            "bin_start": 50,
            "bin_end": 60,
            "count": 11
           },
           {
            "bin_start": 60,
            "bin_end": 70,
            "count": 13
           },
           {
            "bin_start": 70,
            "bin_end": 80,
            "count": 26
           },
           {
            "bin_start": 80,
            "bin_end": 90,
            "count": 70
           },
           {
            "bin_start": 90,
            "bin_end": 100,
            "count": 2987
           }
          ]
         }
        },
        {
         "name": "INDEX",
         "dtype": "int64",
         "stats": {
          "unique_count": 710,
          "nan_count": 0,
          "min": "0",
          "max": "44556",
          "histogram": [
           {
            "bin_start": 0,
            "bin_end": 4455.6,
            "count": 3081
           },
           {
            "bin_start": 4455.6,
            "bin_end": 8911.2,
            "count": 37
           },
           {
            "bin_start": 8911.2,
            "bin_end": 13366.800000000001,
            "count": 8
           },
           {
            "bin_start": 13366.800000000001,
            "bin_end": 17822.4,
            "count": 5
           },
           {
            "bin_start": 17822.4,
            "bin_end": 22278,
            "count": 2
           },
           {
            "bin_start": 22278,
            "bin_end": 26733.600000000002,
            "count": 0
           },
           {
            "bin_start": 26733.600000000002,
            "bin_end": 31189.200000000004,
            "count": 1
           },
           {
            "bin_start": 31189.200000000004,
            "bin_end": 35644.8,
            "count": 1
           },
           {
            "bin_start": 35644.8,
            "bin_end": 40100.4,
            "count": 0
           },
           {
            "bin_start": 40100.4,
            "bin_end": 44556,
            "count": 1
           }
          ]
         }
        },
        {
         "name": "MODINDX",
         "dtype": "int64",
         "stats": {
          "unique_count": 1758,
          "nan_count": 0,
          "min": "0",
          "max": "232266",
          "histogram": [
           {
            "bin_start": 0,
            "bin_end": 23226.6,
            "count": 3063
           },
           {
            "bin_start": 23226.6,
            "bin_end": 46453.2,
            "count": 47
           },
           {
            "bin_start": 46453.2,
            "bin_end": 69679.79999999999,
            "count": 17
           },
           {
            "bin_start": 69679.79999999999,
            "bin_end": 92906.4,
            "count": 2
           },
           {
            "bin_start": 92906.4,
            "bin_end": 116133,
            "count": 3
           },
           {
            "bin_start": 116133,
            "bin_end": 139359.59999999998,
            "count": 1
           },
           {
            "bin_start": 139359.59999999998,
            "bin_end": 162586.19999999998,
            "count": 0
           },
           {
            "bin_start": 162586.19999999998,
            "bin_end": 185812.8,
            "count": 2
           },
           {
            "bin_start": 185812.8,
            "bin_end": 209039.4,
            "count": 0
           },
           {
            "bin_start": 209039.4,
            "bin_end": 232266,
            "count": 1
           }
          ]
         }
        },
        {
         "name": "MURDER",
         "dtype": "int64",
         "stats": {
          "unique_count": 95,
          "nan_count": 0,
          "min": "0",
          "max": "600",
          "histogram": [
           {
            "bin_start": 0,
            "bin_end": 60,
            "count": 3082
           },
           {
            "bin_start": 60,
            "bin_end": 120,
            "count": 39
           },
           {
            "bin_start": 120,
            "bin_end": 180,
            "count": 6
           },
           {
            "bin_start": 180,
            "bin_end": 240,
            "count": 4
           },
           {
            "bin_start": 240,
            "bin_end": 300,
            "count": 0
           },
           {
            "bin_start": 300,
            "bin_end": 360,
            "count": 2
           },
           {
            "bin_start": 360,
            "bin_end": 420,
            "count": 0
           },
           {
            "bin_start": 420,
            "bin_end": 480,
            "count": 1
           },
           {
            "bin_start": 480,
            "bin_end": 540,
            "count": 0
           },
           {
            "bin_start": 540,
            "bin_end": 600,
            "count": 2
           }
          ]
         }
        },
        {
         "name": "RAPE",
         "dtype": "int64",
         "stats": {
          "unique_count": 232,
          "nan_count": 0,
          "min": "0",
          "max": "1976",
          "histogram": [
           {
            "bin_start": 0,
            "bin_end": 197.6,
            "count": 3062
           },
           {
            "bin_start": 197.6,
            "bin_end": 395.2,
            "count": 46
           },
           {
            "bin_start": 395.2,
            "bin_end": 592.8,
            "count": 17
           },
           {
            "bin_start": 592.8,
            "bin_end": 790.4,
            "count": 6
           },
           {
            "bin_start": 790.4,
            "bin_end": 988,
            "count": 2
           },
           {
            "bin_start": 988,
            "bin_end": 1185.6,
            "count": 2
           },
           {
            "bin_start": 1185.6,
            "bin_end": 1383.2,
            "count": 0
           },
           {
            "bin_start": 1383.2,
            "bin_end": 1580.8,
            "count": 0
           },
           {
            "bin_start": 1580.8,
            "bin_end": 1778.3999999999999,
            "count": 0
           },
           {
            "bin_start": 1778.3999999999999,
            "bin_end": 1976,
            "count": 1
           }
          ]
         }
        },
        {
         "name": "ROBBERY",
         "dtype": "int64",
         "stats": {
          "unique_count": 386,
          "nan_count": 0,
          "min": "0",
          "max": "18923",
          "histogram": [
           {
            "bin_start": 0,
            "bin_end": 1892.3,
            "count": 3095
           },
           {
            "bin_start": 1892.3,
            "bin_end": 3784.6,
            "count": 27
           },
           {
            "bin_start": 3784.6,
            "bin_end": 5676.9,
            "count": 6
           },
           {
            "bin_start": 5676.9,
            "bin_end": 7569.2,
            "count": 4
           },
           {
            "bin_start": 7569.2,
            "bin_end": 9461.5,
            "count": 1
           },
           {
            "bin_start": 9461.5,
            "bin_end": 11353.8,
            "count": 0
           },
           {
            "bin_start": 11353.8,
            "bin_end": 13246.1,
            "count": 1
           },
           {
            "bin_start": 13246.1,
            "bin_end": 15138.4,
            "count": 0
           },
           {
            "bin_start": 15138.4,
            "bin_end": 17030.7,
            "count": 1
           },
           {
            "bin_start": 17030.7,
            "bin_end": 18923,
            "count": 1
           }
          ]
         }
        },
        {
         "name": "AGASSLT",
         "dtype": "int64",
         "stats": {
          "unique_count": 631,
          "nan_count": 0,
          "min": "0",
          "max": "23057",
          "histogram": [
           {
            "bin_start": 0,
            "bin_end": 2305.7,
            "count": 3077
           },
           {
            "bin_start": 2305.7,
            "bin_end": 4611.4,
            "count": 33
           },
           {
            "bin_start": 4611.4,
            "bin_end": 6917.099999999999,
            "count": 14
           },
           {
            "bin_start": 6917.099999999999,
            "bin_end": 9222.8,
            "count": 5
           },
           {
            "bin_start": 9222.8,
            "bin_end": 11528.5,
            "count": 3
           },
           {
            "bin_start": 11528.5,
            "bin_end": 13834.199999999999,
            "count": 1
           },
           {
            "bin_start": 13834.199999999999,
            "bin_end": 16139.899999999998,
            "count": 1
           },
           {
            "bin_start": 16139.899999999998,
            "bin_end": 18445.6,
            "count": 1
           },
           {
            "bin_start": 18445.6,
            "bin_end": 20751.3,
            "count": 0
           },
           {
            "bin_start": 20751.3,
            "bin_end": 23057,
            "count": 1
           }
          ]
         }
        },
        {
         "name": "BURGLRY",
         "dtype": "int64",
         "stats": {
          "unique_count": 1050,
          "nan_count": 0,
          "min": "0",
          "max": "49107",
          "histogram": [
           {
            "bin_start": 0,
            "bin_end": 4910.7,
            "count": 3058
           },
           {
            "bin_start": 4910.7,
            "bin_end": 9821.4,
            "count": 47
           },
           {
            "bin_start": 9821.4,
            "bin_end": 14732.099999999999,
            "count": 15
           },
           {
            "bin_start": 14732.099999999999,
            "bin_end": 19642.8,
            "count": 9
           },
           {
            "bin_start": 19642.8,
            "bin_end": 24553.5,
            "count": 2
           },
           {
            "bin_start": 24553.5,
            "bin_end": 29464.199999999997,
            "count": 1
           },
           {
            "bin_start": 29464.199999999997,
            "bin_end": 34374.9,
            "count": 2
           },
           {
            "bin_start": 34374.9,
            "bin_end": 39285.6,
            "count": 0
           },
           {
            "bin_start": 39285.6,
            "bin_end": 44196.299999999996,
            "count": 1
           },
           {
            "bin_start": 44196.299999999996,
            "bin_end": 49107,
            "count": 1
           }
          ]
         }
        },
        {
         "name": "LARCENY",
         "dtype": "int64",
         "stats": {
          "unique_count": 1558,
          "nan_count": 0,
          "min": "0",
          "max": "142604",
          "histogram": [
           {
            "bin_start": 0,
            "bin_end": 14260.4,
            "count": 3057
           },
           {
            "bin_start": 14260.4,
            "bin_end": 28520.8,
            "count": 47
           },
           {
            "bin_start": 28520.8,
            "bin_end": 42781.2,
            "count": 20
           },
           {
            "bin_start": 42781.2,
            "bin_end": 57041.6,
            "count": 5
           },
           {
            "bin_start": 57041.6,
            "bin_end": 71302,
            "count": 2
           },
           {
            "bin_start": 71302,
            "bin_end": 85562.4,
            "count": 1
           },
           {
            "bin_start": 85562.4,
            "bin_end": 99822.8,
            "count": 1
           },
           {
            "bin_start": 99822.8,
            "bin_end": 114083.2,
            "count": 0
           },
           {
            "bin_start": 114083.2,
            "bin_end": 128343.59999999999,
            "count": 2
           },
           {
            "bin_start": 128343.59999999999,
            "bin_end": 142604,
            "count": 1
           }
          ]
         }
        },
        {
         "name": "MVTHEFT",
         "dtype": "int64",
         "stats": {
          "unique_count": 531,
          "nan_count": 0,
          "min": "0",
          "max": "40555",
          "histogram": [
           {
            "bin_start": 0,
            "bin_end": 4055.5,
            "count": 3099
           },
           {
            "bin_start": 4055.5,
            "bin_end": 8111,
            "count": 22
           },
           {
            "bin_start": 8111,
            "bin_end": 12166.5,
            "count": 10
           },
           {
            "bin_start": 12166.5,
            "bin_end": 16222,
            "count": 2
           },
           {
            "bin_start": 16222,
            "bin_end": 20277.5,
            "count": 1
           },
           {
            "bin_start": 20277.5,
            "bin_end": 24333,
            "count": 1
           },
           {
            "bin_start": 24333,
            "bin_end": 28388.5,
            "count": 0
           },
           {
            "bin_start": 28388.5,
            "bin_end": 32444,
            "count": 0
           },
           {
            "bin_start": 32444,
            "bin_end": 36499.5,
            "count": 0
           },
           {
            "bin_start": 36499.5,
            "bin_end": 40555,
            "count": 1
           }
          ]
         }
        },
        {
         "name": "ARSON",
         "dtype": "int64",
         "stats": {
          "unique_count": 176,
          "nan_count": 0,
          "min": "0",
          "max": "2210",
          "histogram": [
           {
            "bin_start": 0,
            "bin_end": 221,
            "count": 3093
           },
           {
            "bin_start": 221,
            "bin_end": 442,
            "count": 32
           },
           {
            "bin_start": 442,
            "bin_end": 663,
            "count": 5
           },
           {
            "bin_start": 663,
            "bin_end": 884,
            "count": 3
           },
           {
            "bin_start": 884,
            "bin_end": 1105,
            "count": 1
           },
           {
            "bin_start": 1105,
            "bin_end": 1326,
            "count": 1
           },
           {
            "bin_start": 1326,
            "bin_end": 1547,
            "count": 0
           },
           {
            "bin_start": 1547,
            "bin_end": 1768,
            "count": 0
           },
           {
            "bin_start": 1768,
            "bin_end": 1989,
            "count": 0
           },
           {
            "bin_start": 1989,
            "bin_end": 2210,
            "count": 1
           }
          ]
         }
        },
        {
         "name": "population",
         "dtype": "int64",
         "stats": {
          "unique_count": 3079,
          "nan_count": 0,
          "min": "90",
          "max": "10017068",
          "histogram": [
           {
            "bin_start": 90,
            "bin_end": 1001787.8,
            "count": 3096
           },
           {
            "bin_start": 1001787.8,
            "bin_end": 2003485.6,
            "count": 26
           },
           {
            "bin_start": 2003485.6,
            "bin_end": 3005183.4000000004,
            "count": 8
           },
           {
            "bin_start": 3005183.4000000004,
            "bin_end": 4006881.2,
            "count": 2
           },
           {
            "bin_start": 4006881.2,
            "bin_end": 5008579,
            "count": 2
           },
           {
            "bin_start": 5008579,
            "bin_end": 6010276.800000001,
            "count": 1
           },
           {
            "bin_start": 6010276.800000001,
            "bin_end": 7011974.600000001,
            "count": 0
           },
           {
            "bin_start": 7011974.600000001,
            "bin_end": 8013672.4,
            "count": 0
           },
           {
            "bin_start": 8013672.4,
            "bin_end": 9015370.200000001,
            "count": 0
           },
           {
            "bin_start": 9015370.200000001,
            "bin_end": 10017068,
            "count": 1
           }
          ]
         }
        },
        {
         "name": "FIPS_ST",
         "dtype": "int64",
         "stats": {
          "unique_count": 51,
          "nan_count": 0,
          "min": "1",
          "max": "56",
          "histogram": [
           {
            "bin_start": 1,
            "bin_end": 6.5,
            "count": 238
           },
           {
            "bin_start": 6.5,
            "bin_end": 12,
            "count": 76
           },
           {
            "bin_start": 12,
            "bin_end": 17.5,
            "count": 377
           },
           {
            "bin_start": 17.5,
            "bin_end": 23,
            "count": 480
           },
           {
            "bin_start": 23,
            "bin_end": 28.5,
            "count": 306
           },
           {
            "bin_start": 28.5,
            "bin_end": 34,
            "count": 291
           },
           {
            "bin_start": 34,
            "bin_end": 39.5,
            "count": 356
           },
           {
            "bin_start": 39.5,
            "bin_end": 45,
            "count": 185
           },
           {
            "bin_start": 45,
            "bin_end": 50.5,
            "count": 504
           },
           {
            "bin_start": 50.5,
            "bin_end": 56,
            "count": 323
           }
          ]
         }
        },
        {
         "name": "FIPS_CTY",
         "dtype": "int64",
         "stats": {
          "unique_count": 321,
          "nan_count": 0,
          "min": "1",
          "max": "840",
          "histogram": [
           {
            "bin_start": 1,
            "bin_end": 84.9,
            "count": 1658
           },
           {
            "bin_start": 84.9,
            "bin_end": 168.8,
            "count": 994
           },
           {
            "bin_start": 168.8,
            "bin_end": 252.70000000000002,
            "count": 275
           },
           {
            "bin_start": 252.70000000000002,
            "bin_end": 336.6,
            "count": 81
           },
           {
            "bin_start": 336.6,
            "bin_end": 420.5,
            "count": 42
           },
           {
            "bin_start": 420.5,
            "bin_end": 504.40000000000003,
            "count": 42
           },
           {
            "bin_start": 504.40000000000003,
            "bin_end": 588.3000000000001,
            "count": 13
           },
           {
            "bin_start": 588.3000000000001,
            "bin_end": 672.2,
            "count": 10
           },
           {
            "bin_start": 672.2,
            "bin_end": 756.1,
            "count": 12
           },
           {
            "bin_start": 756.1,
            "bin_end": 840,
            "count": 9
           }
          ]
         }
        },
        {
         "name": "_deepnote_index_column",
         "dtype": "int64"
        }
       ],
       "rows_top": [
        {
         "county_name": "St. Louis city, MO",
         "crime_rate_per_100000": 1791.995377,
         "index": 1,
         "EDITION": 1,
         "PART": 4,
         "IDNO": 1612,
         "CPOPARST": 318667,
         "CPOPCRIM": 318667,
         "AG_ARRST": 15,
         "AG_OFF": 15,
         "COVIND": 100,
         "INDEX": 5706,
         "MODINDX": 22329,
         "MURDER": 119,
         "RAPE": 200,
         "ROBBERY": 1778,
         "AGASSLT": 3609,
         "BURGLRY": 4995,
         "LARCENY": 13791,
         "MVTHEFT": 3543,
         "ARSON": 464,
         "population": 318416,
         "FIPS_ST": 29,
         "FIPS_CTY": 510,
         "_deepnote_index_column": 0
        },
        {
         "county_name": "Crittenden County, AR",
         "crime_rate_per_100000": 1754.914968,
         "index": 2,
         "EDITION": 1,
         "PART": 4,
         "IDNO": 130,
         "CPOPARST": 50717,
         "CPOPCRIM": 50717,
         "AG_ARRST": 4,
         "AG_OFF": 4,
         "COVIND": 100,
         "INDEX": 873,
         "MODINDX": 3424,
         "MURDER": 8,
         "RAPE": 38,
         "ROBBERY": 165,
         "AGASSLT": 662,
         "BURGLRY": 1482,
         "LARCENY": 1753,
         "MVTHEFT": 189,
         "ARSON": 28,
         "population": 49746,
         "FIPS_ST": 5,
         "FIPS_CTY": 35,
         "_deepnote_index_column": 1
        },
        {
         "county_name": "Alexander County, IL",
         "crime_rate_per_100000": 1664.700485,
         "index": 3,
         "EDITION": 1,
         "PART": 4,
         "IDNO": 604,
         "CPOPARST": 8040,
         "CPOPCRIM": 8040,
         "AG_ARRST": 2,
         "AG_OFF": 2,
         "COVIND": 100,
         "INDEX": 127,
         "MODINDX": 278,
         "MURDER": 1,
         "RAPE": 2,
         "ROBBERY": 5,
         "AGASSLT": 119,
         "BURGLRY": 82,
         "LARCENY": 184,
         "MVTHEFT": 12,
         "ARSON": 2,
         "population": 7629,
         "FIPS_ST": 17,
         "FIPS_CTY": 3,
         "_deepnote_index_column": 2
        },
        {
         "county_name": "Kenedy County, TX",
         "crime_rate_per_100000": 1456.31068,
         "index": 4,
         "EDITION": 1,
         "PART": 4,
         "IDNO": 2681,
         "CPOPARST": 444,
         "CPOPCRIM": 444,
         "AG_ARRST": 1,
         "AG_OFF": 1,
         "COVIND": 100,
         "INDEX": 6,
         "MODINDX": 13,
         "MURDER": 0,
         "RAPE": 3,
         "ROBBERY": 1,
         "AGASSLT": 2,
         "BURGLRY": 5,
         "LARCENY": 4,
         "MVTHEFT": 4,
         "ARSON": 0,
         "population": 412,
         "FIPS_ST": 48,
         "FIPS_CTY": 261,
         "_deepnote_index_column": 3
        },
        {
         "county_name": "De Soto Parish, LA",
         "crime_rate_per_100000": 1447.40243,
         "index": 5,
         "EDITION": 1,
         "PART": 4,
         "IDNO": 1137,
         "CPOPARST": 26971,
         "CPOPCRIM": 26971,
         "AG_ARRST": 3,
         "AG_OFF": 3,
         "COVIND": 100,
         "INDEX": 392,
         "MODINDX": 703,
         "MURDER": 3,
         "RAPE": 4,
         "ROBBERY": 17,
         "AGASSLT": 368,
         "BURGLRY": 149,
         "LARCENY": 494,
         "MVTHEFT": 60,
         "ARSON": 0,
         "population": 27083,
         "FIPS_ST": 22,
         "FIPS_CTY": 31,
         "_deepnote_index_column": 4
        },
        {
         "county_name": "Baltimore city, MD",
         "crime_rate_per_100000": 1419.537569,
         "index": 6,
         "EDITION": 1,
         "PART": 4,
         "IDNO": 1227,
         "CPOPARST": 625474,
         "CPOPCRIM": 625474,
         "AG_ARRST": 9,
         "AG_OFF": 9,
         "COVIND": 100,
         "INDEX": 8831,
         "MODINDX": 29868,
         "MURDER": 216,
         "RAPE": 317,
         "ROBBERY": 3638,
         "AGASSLT": 4660,
         "BURGLRY": 7804,
         "LARCENY": 18055,
         "MVTHEFT": 4009,
         "ARSON": 251,
         "population": 622104,
         "FIPS_ST": 24,
         "FIPS_CTY": 510,
         "_deepnote_index_column": 5
        },
        {
         "county_name": "Shelby County, TN",
         "crime_rate_per_100000": 1315.003752,
         "index": 7,
         "EDITION": 1,
         "PART": 4,
         "IDNO": 2534,
         "CPOPARST": 942807,
         "CPOPCRIM": 942807,
         "AG_ARRST": 15,
         "AG_OFF": 14,
         "COVIND": 100,
         "INDEX": 12354,
         "MODINDX": 47864,
         "MURDER": 135,
         "RAPE": 483,
         "ROBBERY": 3512,
         "AGASSLT": 8224,
         "BURGLRY": 14011,
         "LARCENY": 30620,
         "MVTHEFT": 3233,
         "ARSON": 435,
         "population": 939465,
         "FIPS_ST": 47,
         "FIPS_CTY": 157,
         "_deepnote_index_column": 6
        },
        {
         "county_name": "Marlboro County, SC",
         "crime_rate_per_100000": 1253.437132,
         "index": 8,
         "EDITION": 1,
         "PART": 4,
         "IDNO": 2377,
         "CPOPARST": 28780,
         "CPOPCRIM": 28780,
         "AG_ARRST": 9,
         "AG_OFF": 8,
         "COVIND": 100,
         "INDEX": 351,
         "MODINDX": 1549,
         "MURDER": 3,
         "RAPE": 20,
         "ROBBERY": 32,
         "AGASSLT": 296,
         "BURGLRY": 408,
         "LARCENY": 1074,
         "MVTHEFT": 67,
         "ARSON": 5,
         "population": 28003,
         "FIPS_ST": 45,
         "FIPS_CTY": 69,
         "_deepnote_index_column": 7
        },
        {
         "county_name": "Storey County, NV",
         "crime_rate_per_100000": 1217.656012,
         "index": 9,
         "EDITION": 1,
         "PART": 4,
         "IDNO": 1778,
         "CPOPARST": 3947,
         "CPOPCRIM": 3947,
         "AG_ARRST": 1,
         "AG_OFF": 1,
         "COVIND": 100,
         "INDEX": 48,
         "MODINDX": 86,
         "MURDER": 0,
         "RAPE": 7,
         "ROBBERY": 2,
         "AGASSLT": 39,
         "BURGLRY": 23,
         "LARCENY": 55,
         "MVTHEFT": 8,
         "ARSON": 2,
         "population": 3942,
         "FIPS_ST": 32,
         "FIPS_CTY": 29,
         "_deepnote_index_column": 8
        },
        {
         "county_name": "District of Columbia, DC",
         "crime_rate_per_100000": 1216.801325,
         "index": 10,
         "EDITION": 1,
         "PART": 4,
         "IDNO": 325,
         "CPOPARST": 632323,
         "CPOPCRIM": 632323,
         "AG_ARRST": 2,
         "AG_OFF": 1,
         "COVIND": 100,
         "INDEX": 7866,
         "MODINDX": 30757,
         "MURDER": 88,
         "RAPE": 236,
         "ROBBERY": 4037,
         "AGASSLT": 3505,
         "BURGLRY": 3519,
         "LARCENY": 23575,
         "MVTHEFT": 3663,
         "ARSON": 51,
         "population": 646449,
         "FIPS_ST": 11,
         "FIPS_CTY": 1,
         "_deepnote_index_column": 9
        },
        {
         "county_name": "Dillon County, SC",
         "crime_rate_per_100000": 1165.583272,
         "index": 11,
         "EDITION": 1,
         "PART": 4,
         "IDNO": 2359,
         "CPOPARST": 32060,
         "CPOPCRIM": 32060,
         "AG_ARRST": 9,
         "AG_OFF": 8,
         "COVIND": 100,
         "INDEX": 364,
         "MODINDX": 1906,
         "MURDER": 8,
         "RAPE": 17,
         "ROBBERY": 48,
         "AGASSLT": 291,
         "BURGLRY": 595,
         "LARCENY": 1206,
         "MVTHEFT": 105,
         "ARSON": 12,
         "population": 31229,
         "FIPS_ST": 45,
         "FIPS_CTY": 33,
         "_deepnote_index_column": 10
        },
        {
         "county_name": "Scott County, MO",
         "crime_rate_per_100000": 1163.145839,
         "index": 12,
         "EDITION": 1,
         "PART": 4,
         "IDNO": 1597,
         "CPOPARST": 40941,
         "CPOPCRIM": 40941,
         "AG_ARRST": 7,
         "AG_OFF": 8,
         "COVIND": 100,
         "INDEX": 457,
         "MODINDX": 1277,
         "MURDER": 2,
         "RAPE": 7,
         "ROBBERY": 26,
         "AGASSLT": 422,
         "BURGLRY": 236,
         "LARCENY": 1002,
         "MVTHEFT": 39,
         "ARSON": 8,
         "population": 39290,
         "FIPS_ST": 29,
         "FIPS_CTY": 201,
         "_deepnote_index_column": 11
        },
        {
         "county_name": "Philadelphia County, PA",
         "crime_rate_per_100000": 1150.29633,
         "index": 13,
         "EDITION": 1,
         "PART": 4,
         "IDNO": 2320,
         "CPOPARST": 1538957,
         "CPOPCRIM": 1538957,
         "AG_ARRST": 6,
         "AG_OFF": 5,
         "COVIND": 100,
         "INDEX": 17866,
         "MODINDX": 57000,
         "MURDER": 332,
         "RAPE": 881,
         "ROBBERY": 7984,
         "AGASSLT": 8669,
         "BURGLRY": 12004,
         "LARCENY": 38595,
         "MVTHEFT": 6401,
         "ARSON": 0,
         "population": 1553165,
         "FIPS_ST": 42,
         "FIPS_CTY": 101,
         "_deepnote_index_column": 12
        },
        {
         "county_name": "Pershing County, NV",
         "crime_rate_per_100000": 1148.756725,
         "index": 14,
         "EDITION": 1,
         "PART": 4,
         "IDNO": 1777,
         "CPOPARST": 6822,
         "CPOPCRIM": 6822,
         "AG_ARRST": 2,
         "AG_OFF": 2,
         "COVIND": 100,
         "INDEX": 79,
         "MODINDX": 75,
         "MURDER": 0,
         "RAPE": 3,
         "ROBBERY": 1,
         "AGASSLT": 75,
         "BURGLRY": 27,
         "LARCENY": 43,
         "MVTHEFT": 5,
         "ARSON": 0,
         "population": 6877,
         "FIPS_ST": 32,
         "FIPS_CTY": 27,
         "_deepnote_index_column": 13
        },
        {
         "county_name": "Greenwood County, SC",
         "crime_rate_per_100000": 1140.226324,
         "index": 15,
         "EDITION": 1,
         "PART": 4,
         "IDNO": 2366,
         "CPOPARST": 71009,
         "CPOPCRIM": 70499,
         "AG_ARRST": 10,
         "AG_OFF": 8,
         "COVIND": 100,
         "INDEX": 795,
         "MODINDX": 3651,
         "MURDER": 7,
         "RAPE": 39,
         "ROBBERY": 73,
         "AGASSLT": 676,
         "BURGLRY": 965,
         "LARCENY": 2564,
         "MVTHEFT": 122,
         "ARSON": 12,
         "population": 69723,
         "FIPS_ST": 45,
         "FIPS_CTY": 47,
         "_deepnote_index_column": 14
        },
        {
         "county_name": "Madison County, TN",
         "crime_rate_per_100000": 1138.42383,
         "index": 16,
         "EDITION": 1,
         "PART": 4,
         "IDNO": 2512,
         "CPOPARST": 98988,
         "CPOPCRIM": 99067,
         "AG_ARRST": 4,
         "AG_OFF": 5,
         "COVIND": 100,
         "INDEX": 1124,
         "MODINDX": 4084,
         "MURDER": 13,
         "RAPE": 33,
         "ROBBERY": 196,
         "AGASSLT": 882,
         "BURGLRY": 1300,
         "LARCENY": 2604,
         "MVTHEFT": 180,
         "ARSON": 27,
         "population": 98733,
         "FIPS_ST": 47,
         "FIPS_CTY": 113,
         "_deepnote_index_column": 15
        },
        {
         "county_name": "Davidson County, TN",
         "crime_rate_per_100000": 1129.513728,
         "index": 17,
         "EDITION": 1,
         "PART": 4,
         "IDNO": 2474,
         "CPOPARST": 635244,
         "CPOPCRIM": 635244,
         "AG_ARRST": 10,
         "AG_OFF": 10,
         "COVIND": 100,
         "INDEX": 7439,
         "MODINDX": 27666,
         "MURDER": 65,
         "RAPE": 312,
         "ROBBERY": 1753,
         "AGASSLT": 5309,
         "BURGLRY": 5875,
         "LARCENY": 20373,
         "MVTHEFT": 1418,
         "ARSON": 100,
         "population": 658602,
         "FIPS_ST": 47,
         "FIPS_CTY": 37,
         "_deepnote_index_column": 16
        },
        {
         "county_name": "Marion County, IN",
         "crime_rate_per_100000": 1083.508119,
         "index": 18,
         "EDITION": 1,
         "PART": 4,
         "IDNO": 753,
         "CPOPARST": 911521,
         "CPOPCRIM": 867596,
         "AG_ARRST": 11,
         "AG_OFF": 9,
         "COVIND": 100,
         "INDEX": 10058,
         "MODINDX": 49004,
         "MURDER": 102,
         "RAPE": 453,
         "ROBBERY": 3486,
         "AGASSLT": 6017,
         "BURGLRY": 15125,
         "LARCENY": 29122,
         "MVTHEFT": 4757,
         "ARSON": 414,
         "population": 928281,
         "FIPS_ST": 18,
         "FIPS_CTY": 97,
         "_deepnote_index_column": 17
        },
        {
         "county_name": "Wayne County, MI",
         "crime_rate_per_100000": 1065.188284,
         "index": 19,
         "EDITION": 1,
         "PART": 4,
         "IDNO": 1324,
         "CPOPARST": 1800769,
         "CPOPCRIM": 1793982,
         "AG_ARRST": 47,
         "AG_OFF": 47,
         "COVIND": 99.6046,
         "INDEX": 18910,
         "MODINDX": 69839,
         "MURDER": 433,
         "RAPE": 803,
         "ROBBERY": 5879,
         "AGASSLT": 11795,
         "BURGLRY": 19882,
         "LARCENY": 34706,
         "MVTHEFT": 15251,
         "ARSON": 766,
         "population": 1775273,
         "FIPS_ST": 26,
         "FIPS_CTY": 163,
         "_deepnote_index_column": 18
        },
        {
         "county_name": "Jackson County, MO",
         "crime_rate_per_100000": 1026.623686,
         "index": 20,
         "EDITION": 1,
         "PART": 4,
         "IDNO": 1545,
         "CPOPARST": 839561,
         "CPOPCRIM": 837636,
         "AG_ARRST": 19,
         "AG_OFF": 23,
         "COVIND": 100,
         "INDEX": 6981,
         "MODINDX": 40642,
         "MURDER": 116,
         "RAPE": 358,
         "ROBBERY": 1913,
         "AGASSLT": 4594,
         "BURGLRY": 9695,
         "LARCENY": 25994,
         "MVTHEFT": 4953,
         "ARSON": 318,
         "population": 679996,
         "FIPS_ST": 29,
         "FIPS_CTY": 95,
         "_deepnote_index_column": 19
        }
       ],
       "rows_bottom": [
        {
         "county_name": "Kinney County, TX",
         "crime_rate_per_100000": 0,
         "index": 3116,
         "EDITION": 1,
         "PART": 4,
         "IDNO": 2686,
         "CPOPARST": 3684,
         "CPOPCRIM": 1954,
         "AG_ARRST": 2,
         "AG_OFF": 1,
         "COVIND": 100,
         "INDEX": 0,
         "MODINDX": 3,
         "MURDER": 0,
         "RAPE": 0,
         "ROBBERY": 0,
         "AGASSLT": 0,
         "BURGLRY": 2,
         "LARCENY": 1,
         "MVTHEFT": 0,
         "ARSON": 0,
         "population": 3586,
         "FIPS_ST": 48,
         "FIPS_CTY": 271,
         "_deepnote_index_column": 3115
        },
        {
         "county_name": "Furnas County, NE",
         "crime_rate_per_100000": 0,
         "index": 3117,
         "EDITION": 1,
         "PART": 4,
         "IDNO": 1703,
         "CPOPARST": 4978,
         "CPOPCRIM": 0,
         "AG_ARRST": 2,
         "AG_OFF": 1,
         "COVIND": 100,
         "INDEX": 0,
         "MODINDX": 3,
         "MURDER": 0,
         "RAPE": 0,
         "ROBBERY": 0,
         "AGASSLT": 0,
         "BURGLRY": 1,
         "LARCENY": 2,
         "MVTHEFT": 0,
         "ARSON": 0,
         "population": 4865,
         "FIPS_ST": 31,
         "FIPS_CTY": 65,
         "_deepnote_index_column": 3116
        },
        {
         "county_name": "Wibaux County, MT",
         "crime_rate_per_100000": 0,
         "index": 3118,
         "EDITION": 1,
         "PART": 4,
         "IDNO": 1667,
         "CPOPARST": 992,
         "CPOPCRIM": 992,
         "AG_ARRST": 1,
         "AG_OFF": 1,
         "COVIND": 100,
         "INDEX": 0,
         "MODINDX": 3,
         "MURDER": 0,
         "RAPE": 0,
         "ROBBERY": 0,
         "AGASSLT": 0,
         "BURGLRY": 2,
         "LARCENY": 1,
         "MVTHEFT": 0,
         "ARSON": 0,
         "population": 1121,
         "FIPS_ST": 30,
         "FIPS_CTY": 109,
         "_deepnote_index_column": 3117
        },
        {
         "county_name": "McIntosh County, ND",
         "crime_rate_per_100000": 0,
         "index": 3119,
         "EDITION": 1,
         "PART": 4,
         "IDNO": 2038,
         "CPOPARST": 2833,
         "CPOPCRIM": 2833,
         "AG_ARRST": 2,
         "AG_OFF": 2,
         "COVIND": 88.0927,
         "INDEX": 0,
         "MODINDX": 8,
         "MURDER": 0,
         "RAPE": 0,
         "ROBBERY": 0,
         "AGASSLT": 0,
         "BURGLRY": 5,
         "LARCENY": 3,
         "MVTHEFT": 0,
         "ARSON": 0,
         "population": 2754,
         "FIPS_ST": 38,
         "FIPS_CTY": 51,
         "_deepnote_index_column": 3118
        },
        {
         "county_name": "Adams County, ND",
         "crime_rate_per_100000": 0,
         "index": 3120,
         "EDITION": 1,
         "PART": 4,
         "IDNO": 2013,
         "CPOPARST": 2360,
         "CPOPCRIM": 2360,
         "AG_ARRST": 1,
         "AG_OFF": 1,
         "COVIND": 100,
         "INDEX": 0,
         "MODINDX": 12,
         "MURDER": 0,
         "RAPE": 0,
         "ROBBERY": 0,
         "AGASSLT": 0,
         "BURGLRY": 7,
         "LARCENY": 5,
         "MVTHEFT": 0,
         "ARSON": 0,
         "population": 2360,
         "FIPS_ST": 38,
         "FIPS_CTY": 1,
         "_deepnote_index_column": 3119
        },
        {
         "county_name": "Osceola County, IA",
         "crime_rate_per_100000": 0,
         "index": 3121,
         "EDITION": 1,
         "PART": 4,
         "IDNO": 868,
         "CPOPARST": 6382,
         "CPOPCRIM": 6382,
         "AG_ARRST": 1,
         "AG_OFF": 1,
         "COVIND": 100,
         "INDEX": 0,
         "MODINDX": 12,
         "MURDER": 0,
         "RAPE": 0,
         "ROBBERY": 0,
         "AGASSLT": 0,
         "BURGLRY": 3,
         "LARCENY": 7,
         "MVTHEFT": 2,
         "ARSON": 0,
         "population": 6211,
         "FIPS_ST": 19,
         "FIPS_CTY": 143,
         "_deepnote_index_column": 3120
        },
        {
         "county_name": "Sherman County, TX",
         "crime_rate_per_100000": 0,
         "index": 3122,
         "EDITION": 1,
         "PART": 4,
         "IDNO": 2761,
         "CPOPARST": 3086,
         "CPOPCRIM": 3086,
         "AG_ARRST": 2,
         "AG_OFF": 2,
         "COVIND": 100,
         "INDEX": 0,
         "MODINDX": 12,
         "MURDER": 0,
         "RAPE": 0,
         "ROBBERY": 0,
         "AGASSLT": 0,
         "BURGLRY": 4,
         "LARCENY": 7,
         "MVTHEFT": 1,
         "ARSON": 0,
         "population": 3093,
         "FIPS_ST": 48,
         "FIPS_CTY": 421,
         "_deepnote_index_column": 3121
        },
        {
         "county_name": "Perkins County, SD",
         "crime_rate_per_100000": 0,
         "index": 3123,
         "EDITION": 1,
         "PART": 4,
         "IDNO": 2440,
         "CPOPARST": 3035,
         "CPOPCRIM": 3035,
         "AG_ARRST": 2,
         "AG_OFF": 2,
         "COVIND": 100,
         "INDEX": 0,
         "MODINDX": 11,
         "MURDER": 0,
         "RAPE": 0,
         "ROBBERY": 0,
         "AGASSLT": 0,
         "BURGLRY": 2,
         "LARCENY": 8,
         "MVTHEFT": 1,
         "ARSON": 0,
         "population": 3037,
         "FIPS_ST": 46,
         "FIPS_CTY": 105,
         "_deepnote_index_column": 3122
        },
        {
         "county_name": "Hinsdale County, CO",
         "crime_rate_per_100000": 0,
         "index": 3124,
         "EDITION": 1,
         "PART": 4,
         "IDNO": 274,
         "CPOPARST": 841,
         "CPOPCRIM": 841,
         "AG_ARRST": 1,
         "AG_OFF": 1,
         "COVIND": 100,
         "INDEX": 0,
         "MODINDX": 10,
         "MURDER": 0,
         "RAPE": 0,
         "ROBBERY": 0,
         "AGASSLT": 0,
         "BURGLRY": 5,
         "LARCENY": 5,
         "MVTHEFT": 0,
         "ARSON": 0,
         "population": 813,
         "FIPS_ST": 8,
         "FIPS_CTY": 53,
         "_deepnote_index_column": 3123
        },
        {
         "county_name": "Campbell County, SD",
         "crime_rate_per_100000": 0,
         "index": 3125,
         "EDITION": 1,
         "PART": 4,
         "IDNO": 2398,
         "CPOPARST": 1443,
         "CPOPCRIM": 1443,
         "AG_ARRST": 1,
         "AG_OFF": 1,
         "COVIND": 100,
         "INDEX": 0,
         "MODINDX": 8,
         "MURDER": 0,
         "RAPE": 0,
         "ROBBERY": 0,
         "AGASSLT": 0,
         "BURGLRY": 2,
         "LARCENY": 4,
         "MVTHEFT": 2,
         "ARSON": 1,
         "population": 1334,
         "FIPS_ST": 46,
         "FIPS_CTY": 21,
         "_deepnote_index_column": 3124
        },
        {
         "county_name": "Golden Valley County, ND",
         "crime_rate_per_100000": 0,
         "index": 3126,
         "EDITION": 1,
         "PART": 4,
         "IDNO": 2029,
         "CPOPARST": 1792,
         "CPOPCRIM": 1792,
         "AG_ARRST": 1,
         "AG_OFF": 1,
         "COVIND": 100,
         "INDEX": 0,
         "MODINDX": 8,
         "MURDER": 0,
         "RAPE": 0,
         "ROBBERY": 0,
         "AGASSLT": 0,
         "BURGLRY": 3,
         "LARCENY": 5,
         "MVTHEFT": 0,
         "ARSON": 0,
         "population": 1823,
         "FIPS_ST": 38,
         "FIPS_CTY": 33,
         "_deepnote_index_column": 3125
        },
        {
         "county_name": "Clark County, ID",
         "crime_rate_per_100000": 0,
         "index": 3127,
         "EDITION": 1,
         "PART": 4,
         "IDNO": 574,
         "CPOPARST": 955,
         "CPOPCRIM": 955,
         "AG_ARRST": 1,
         "AG_OFF": 1,
         "COVIND": 100,
         "INDEX": 0,
         "MODINDX": 8,
         "MURDER": 0,
         "RAPE": 0,
         "ROBBERY": 0,
         "AGASSLT": 0,
         "BURGLRY": 3,
         "LARCENY": 5,
         "MVTHEFT": 0,
         "ARSON": 0,
         "population": 867,
         "FIPS_ST": 16,
         "FIPS_CTY": 33,
         "_deepnote_index_column": 3126
        },
        {
         "county_name": "Briscoe County, TX",
         "crime_rate_per_100000": 0,
         "index": 3128,
         "EDITION": 1,
         "PART": 4,
         "IDNO": 2573,
         "CPOPARST": 1676,
         "CPOPCRIM": 1676,
         "AG_ARRST": 1,
         "AG_OFF": 1,
         "COVIND": 100,
         "INDEX": 0,
         "MODINDX": 3,
         "MURDER": 0,
         "RAPE": 0,
         "ROBBERY": 0,
         "AGASSLT": 0,
         "BURGLRY": 0,
         "LARCENY": 2,
         "MVTHEFT": 1,
         "ARSON": 0,
         "population": 1537,
         "FIPS_ST": 48,
         "FIPS_CTY": 45,
         "_deepnote_index_column": 3127
        },
        {
         "county_name": "Foster County, ND",
         "crime_rate_per_100000": 0,
         "index": 3129,
         "EDITION": 1,
         "PART": 4,
         "IDNO": 2028,
         "CPOPARST": 3418,
         "CPOPCRIM": 3418,
         "AG_ARRST": 2,
         "AG_OFF": 2,
         "COVIND": 100,
         "INDEX": 0,
         "MODINDX": 6,
         "MURDER": 0,
         "RAPE": 0,
         "ROBBERY": 0,
         "AGASSLT": 0,
         "BURGLRY": 0,
         "LARCENY": 4,
         "MVTHEFT": 2,
         "ARSON": 0,
         "population": 3366,
         "FIPS_ST": 38,
         "FIPS_CTY": 31,
         "_deepnote_index_column": 3128
        },
        {
         "county_name": "Box Butte County, NE",
         "crime_rate_per_100000": 0,
         "index": 3130,
         "EDITION": 1,
         "PART": 4,
         "IDNO": 1677,
         "CPOPARST": 11463,
         "CPOPCRIM": 2855,
         "AG_ARRST": 3,
         "AG_OFF": 2,
         "COVIND": 100,
         "INDEX": 0,
         "MODINDX": 5,
         "MURDER": 0,
         "RAPE": 0,
         "ROBBERY": 0,
         "AGASSLT": 0,
         "BURGLRY": 0,
         "LARCENY": 5,
         "MVTHEFT": 0,
         "ARSON": 0,
         "population": 11305,
         "FIPS_ST": 31,
         "FIPS_CTY": 13,
         "_deepnote_index_column": 3129
        },
        {
         "county_name": "Cottle County, TX",
         "crime_rate_per_100000": 0,
         "index": 3131,
         "EDITION": 1,
         "PART": 4,
         "IDNO": 2601,
         "CPOPARST": 1521,
         "CPOPCRIM": 1521,
         "AG_ARRST": 2,
         "AG_OFF": 2,
         "COVIND": 100,
         "INDEX": 0,
         "MODINDX": 5,
         "MURDER": 0,
         "RAPE": 0,
         "ROBBERY": 0,
         "AGASSLT": 0,
         "BURGLRY": 3,
         "LARCENY": 2,
         "MVTHEFT": 0,
         "ARSON": 0,
         "population": 1452,
         "FIPS_ST": 48,
         "FIPS_CTY": 101,
         "_deepnote_index_column": 3130
        },
        {
         "county_name": "Ohio County, IN",
         "crime_rate_per_100000": 0,
         "index": 3132,
         "EDITION": 1,
         "PART": 4,
         "IDNO": 762,
         "CPOPARST": 6084,
         "CPOPCRIM": 0,
         "AG_ARRST": 2,
         "AG_OFF": 1,
         "COVIND": 100,
         "INDEX": 0,
         "MODINDX": 5,
         "MURDER": 0,
         "RAPE": 0,
         "ROBBERY": 0,
         "AGASSLT": 0,
         "BURGLRY": 2,
         "LARCENY": 2,
         "MVTHEFT": 0,
         "ARSON": 0,
         "population": 5994,
         "FIPS_ST": 18,
         "FIPS_CTY": 115,
         "_deepnote_index_column": 3131
        },
        {
         "county_name": "Newton County, MS",
         "crime_rate_per_100000": 0,
         "index": 3133,
         "EDITION": 1,
         "PART": 4,
         "IDNO": 1465,
         "CPOPARST": 21545,
         "CPOPCRIM": 3346,
         "AG_ARRST": 3,
         "AG_OFF": 1,
         "COVIND": 100,
         "INDEX": 0,
         "MODINDX": 5,
         "MURDER": 0,
         "RAPE": 0,
         "ROBBERY": 0,
         "AGASSLT": 0,
         "BURGLRY": 4,
         "LARCENY": 0,
         "MVTHEFT": 1,
         "ARSON": 0,
         "population": 21689,
         "FIPS_ST": 28,
         "FIPS_CTY": 101,
         "_deepnote_index_column": 3132
        },
        {
         "county_name": "Jerauld County, SD",
         "crime_rate_per_100000": 0,
         "index": 3134,
         "EDITION": 1,
         "PART": 4,
         "IDNO": 2424,
         "CPOPARST": 2108,
         "CPOPCRIM": 2108,
         "AG_ARRST": 1,
         "AG_OFF": 1,
         "COVIND": 100,
         "INDEX": 0,
         "MODINDX": 5,
         "MURDER": 0,
         "RAPE": 0,
         "ROBBERY": 0,
         "AGASSLT": 0,
         "BURGLRY": 1,
         "LARCENY": 3,
         "MVTHEFT": 1,
         "ARSON": 0,
         "population": 2066,
         "FIPS_ST": 46,
         "FIPS_CTY": 73,
         "_deepnote_index_column": 3133
        },
        {
         "county_name": "Cimarron County, OK",
         "crime_rate_per_100000": 0,
         "index": 3135,
         "EDITION": 1,
         "PART": 4,
         "IDNO": 2167,
         "CPOPARST": 2502,
         "CPOPCRIM": 2502,
         "AG_ARRST": 2,
         "AG_OFF": 2,
         "COVIND": 100,
         "INDEX": 0,
         "MODINDX": 3,
         "MURDER": 0,
         "RAPE": 0,
         "ROBBERY": 0,
         "AGASSLT": 0,
         "BURGLRY": 1,
         "LARCENY": 2,
         "MVTHEFT": 0,
         "ARSON": 0,
         "population": 2335,
         "FIPS_ST": 40,
         "FIPS_CTY": 25,
         "_deepnote_index_column": 3134
        },
        {
         "county_name": "Lawrence County, MS",
         "crime_rate_per_100000": 0,
         "index": 3136,
         "EDITION": 1,
         "PART": 4,
         "IDNO": 1453,
         "CPOPARST": 12714,
         "CPOPCRIM": 0,
         "AG_ARRST": 1,
         "AG_OFF": 1,
         "COVIND": 100,
         "INDEX": 0,
         "MODINDX": 0,
         "MURDER": 0,
         "RAPE": 0,
         "ROBBERY": 0,
         "AGASSLT": 0,
         "BURGLRY": 0,
         "LARCENY": 0,
         "MVTHEFT": 0,
         "ARSON": 0,
         "population": 12514,
         "FIPS_ST": 28,
         "FIPS_CTY": 77,
         "_deepnote_index_column": 3135
        }
       ]
      },
      "text/plain": "                county_name  crime_rate_per_100000  index  EDITION  PART  \\\n0        St. Louis city, MO            1791.995377      1        1     4   \n1     Crittenden County, AR            1754.914968      2        1     4   \n2      Alexander County, IL            1664.700485      3        1     4   \n3         Kenedy County, TX            1456.310680      4        1     4   \n4        De Soto Parish, LA            1447.402430      5        1     4   \n...                     ...                    ...    ...      ...   ...   \n3131        Ohio County, IN               0.000000   3132        1     4   \n3132      Newton County, MS               0.000000   3133        1     4   \n3133     Jerauld County, SD               0.000000   3134        1     4   \n3134    Cimarron County, OK               0.000000   3135        1     4   \n3135    Lawrence County, MS               0.000000   3136        1     4   \n\n      IDNO  CPOPARST  CPOPCRIM  AG_ARRST  AG_OFF  ...  RAPE  ROBBERY  AGASSLT  \\\n0     1612    318667    318667        15      15  ...   200     1778     3609   \n1      130     50717     50717         4       4  ...    38      165      662   \n2      604      8040      8040         2       2  ...     2        5      119   \n3     2681       444       444         1       1  ...     3        1        2   \n4     1137     26971     26971         3       3  ...     4       17      368   \n...    ...       ...       ...       ...     ...  ...   ...      ...      ...   \n3131   762      6084         0         2       1  ...     0        0        0   \n3132  1465     21545      3346         3       1  ...     0        0        0   \n3133  2424      2108      2108         1       1  ...     0        0        0   \n3134  2167      2502      2502         2       2  ...     0        0        0   \n3135  1453     12714         0         1       1  ...     0        0        0   \n\n      BURGLRY  LARCENY  MVTHEFT  ARSON  population  FIPS_ST  FIPS_CTY  \n0        4995    13791     3543    464      318416       29       510  \n1        1482     1753      189     28       49746        5        35  \n2          82      184       12      2        7629       17         3  \n3           5        4        4      0         412       48       261  \n4         149      494       60      0       27083       22        31  \n...       ...      ...      ...    ...         ...      ...       ...  \n3131        2        2        0      0        5994       18       115  \n3132        4        0        1      0       21689       28       101  \n3133        1        3        1      0        2066       46        73  \n3134        1        2        0      0        2335       40        25  \n3135        0        0        0      0       12514       28        77  \n\n[3136 rows x 24 columns]",
      "text/html": "<div>\n<style scoped>\n    .dataframe tbody tr th:only-of-type {\n        vertical-align: middle;\n    }\n\n    .dataframe tbody tr th {\n        vertical-align: top;\n    }\n\n    .dataframe thead th {\n        text-align: right;\n    }\n</style>\n<table border=\"1\" class=\"dataframe\">\n  <thead>\n    <tr style=\"text-align: right;\">\n      <th></th>\n      <th>county_name</th>\n      <th>crime_rate_per_100000</th>\n      <th>index</th>\n      <th>EDITION</th>\n      <th>PART</th>\n      <th>IDNO</th>\n      <th>CPOPARST</th>\n      <th>CPOPCRIM</th>\n      <th>AG_ARRST</th>\n      <th>AG_OFF</th>\n      <th>...</th>\n      <th>RAPE</th>\n      <th>ROBBERY</th>\n      <th>AGASSLT</th>\n      <th>BURGLRY</th>\n      <th>LARCENY</th>\n      <th>MVTHEFT</th>\n      <th>ARSON</th>\n      <th>population</th>\n      <th>FIPS_ST</th>\n      <th>FIPS_CTY</th>\n    </tr>\n  </thead>\n  <tbody>\n    <tr>\n      <th>0</th>\n      <td>St. Louis city, MO</td>\n      <td>1791.995377</td>\n      <td>1</td>\n      <td>1</td>\n      <td>4</td>\n      <td>1612</td>\n      <td>318667</td>\n      <td>318667</td>\n      <td>15</td>\n      <td>15</td>\n      <td>...</td>\n      <td>200</td>\n      <td>1778</td>\n      <td>3609</td>\n      <td>4995</td>\n      <td>13791</td>\n      <td>3543</td>\n      <td>464</td>\n      <td>318416</td>\n      <td>29</td>\n      <td>510</td>\n    </tr>\n    <tr>\n      <th>1</th>\n      <td>Crittenden County, AR</td>\n      <td>1754.914968</td>\n      <td>2</td>\n      <td>1</td>\n      <td>4</td>\n      <td>130</td>\n      <td>50717</td>\n      <td>50717</td>\n      <td>4</td>\n      <td>4</td>\n      <td>...</td>\n      <td>38</td>\n      <td>165</td>\n      <td>662</td>\n      <td>1482</td>\n      <td>1753</td>\n      <td>189</td>\n      <td>28</td>\n      <td>49746</td>\n      <td>5</td>\n      <td>35</td>\n    </tr>\n    <tr>\n      <th>2</th>\n      <td>Alexander County, IL</td>\n      <td>1664.700485</td>\n      <td>3</td>\n      <td>1</td>\n      <td>4</td>\n      <td>604</td>\n      <td>8040</td>\n      <td>8040</td>\n      <td>2</td>\n      <td>2</td>\n      <td>...</td>\n      <td>2</td>\n      <td>5</td>\n      <td>119</td>\n      <td>82</td>\n      <td>184</td>\n      <td>12</td>\n      <td>2</td>\n      <td>7629</td>\n      <td>17</td>\n      <td>3</td>\n    </tr>\n    <tr>\n      <th>3</th>\n      <td>Kenedy County, TX</td>\n      <td>1456.310680</td>\n      <td>4</td>\n      <td>1</td>\n      <td>4</td>\n      <td>2681</td>\n      <td>444</td>\n      <td>444</td>\n      <td>1</td>\n      <td>1</td>\n      <td>...</td>\n      <td>3</td>\n      <td>1</td>\n      <td>2</td>\n      <td>5</td>\n      <td>4</td>\n      <td>4</td>\n      <td>0</td>\n      <td>412</td>\n      <td>48</td>\n      <td>261</td>\n    </tr>\n    <tr>\n      <th>4</th>\n      <td>De Soto Parish, LA</td>\n      <td>1447.402430</td>\n      <td>5</td>\n      <td>1</td>\n      <td>4</td>\n      <td>1137</td>\n      <td>26971</td>\n      <td>26971</td>\n      <td>3</td>\n      <td>3</td>\n      <td>...</td>\n      <td>4</td>\n      <td>17</td>\n      <td>368</td>\n      <td>149</td>\n      <td>494</td>\n      <td>60</td>\n      <td>0</td>\n      <td>27083</td>\n      <td>22</td>\n      <td>31</td>\n    </tr>\n    <tr>\n      <th>...</th>\n      <td>...</td>\n      <td>...</td>\n      <td>...</td>\n      <td>...</td>\n      <td>...</td>\n      <td>...</td>\n      <td>...</td>\n      <td>...</td>\n      <td>...</td>\n      <td>...</td>\n      <td>...</td>\n      <td>...</td>\n      <td>...</td>\n      <td>...</td>\n      <td>...</td>\n      <td>...</td>\n      <td>...</td>\n      <td>...</td>\n      <td>...</td>\n      <td>...</td>\n      <td>...</td>\n    </tr>\n    <tr>\n      <th>3131</th>\n      <td>Ohio County, IN</td>\n      <td>0.000000</td>\n      <td>3132</td>\n      <td>1</td>\n      <td>4</td>\n      <td>762</td>\n      <td>6084</td>\n      <td>0</td>\n      <td>2</td>\n      <td>1</td>\n      <td>...</td>\n      <td>0</td>\n      <td>0</td>\n      <td>0</td>\n      <td>2</td>\n      <td>2</td>\n      <td>0</td>\n      <td>0</td>\n      <td>5994</td>\n      <td>18</td>\n      <td>115</td>\n    </tr>\n    <tr>\n      <th>3132</th>\n      <td>Newton County, MS</td>\n      <td>0.000000</td>\n      <td>3133</td>\n      <td>1</td>\n      <td>4</td>\n      <td>1465</td>\n      <td>21545</td>\n      <td>3346</td>\n      <td>3</td>\n      <td>1</td>\n      <td>...</td>\n      <td>0</td>\n      <td>0</td>\n      <td>0</td>\n      <td>4</td>\n      <td>0</td>\n      <td>1</td>\n      <td>0</td>\n      <td>21689</td>\n      <td>28</td>\n      <td>101</td>\n    </tr>\n    <tr>\n      <th>3133</th>\n      <td>Jerauld County, SD</td>\n      <td>0.000000</td>\n      <td>3134</td>\n      <td>1</td>\n      <td>4</td>\n      <td>2424</td>\n      <td>2108</td>\n      <td>2108</td>\n      <td>1</td>\n      <td>1</td>\n      <td>...</td>\n      <td>0</td>\n      <td>0</td>\n      <td>0</td>\n      <td>1</td>\n      <td>3</td>\n      <td>1</td>\n      <td>0</td>\n      <td>2066</td>\n      <td>46</td>\n      <td>73</td>\n    </tr>\n    <tr>\n      <th>3134</th>\n      <td>Cimarron County, OK</td>\n      <td>0.000000</td>\n      <td>3135</td>\n      <td>1</td>\n      <td>4</td>\n      <td>2167</td>\n      <td>2502</td>\n      <td>2502</td>\n      <td>2</td>\n      <td>2</td>\n      <td>...</td>\n      <td>0</td>\n      <td>0</td>\n      <td>0</td>\n      <td>1</td>\n      <td>2</td>\n      <td>0</td>\n      <td>0</td>\n      <td>2335</td>\n      <td>40</td>\n      <td>25</td>\n    </tr>\n    <tr>\n      <th>3135</th>\n      <td>Lawrence County, MS</td>\n      <td>0.000000</td>\n      <td>3136</td>\n      <td>1</td>\n      <td>4</td>\n      <td>1453</td>\n      <td>12714</td>\n      <td>0</td>\n      <td>1</td>\n      <td>1</td>\n      <td>...</td>\n      <td>0</td>\n      <td>0</td>\n      <td>0</td>\n      <td>0</td>\n      <td>0</td>\n      <td>0</td>\n      <td>0</td>\n      <td>12514</td>\n      <td>28</td>\n      <td>77</td>\n    </tr>\n  </tbody>\n</table>\n<p>3136 rows × 24 columns</p>\n</div>"
     },
     "metadata": {}
    }
   ]
  },
  {
   "cell_type": "code",
   "metadata": {
    "tags": [],
    "cell_id": "00006-c11cfa7a-0050-40e2-9d49-bb92e8d19629",
    "deepnote_to_be_reexecuted": false,
    "source_hash": "3409e08",
    "execution_start": 1637770207742,
    "execution_millis": 4,
    "deepnote_cell_type": "code"
   },
   "source": "county, state = crime['county_name'].str.split(',', expand=True)\n",
   "execution_count": null,
   "outputs": []
  },
  {
   "cell_type": "code",
   "metadata": {
    "tags": [],
    "cell_id": "00007-38158d61-0f2f-43dd-8389-58c11bcf5d44",
    "deepnote_to_be_reexecuted": false,
    "source_hash": "58df5aca",
    "execution_start": 1637770291054,
    "execution_millis": 14,
    "deepnote_cell_type": "code"
   },
   "source": "crime[['county', 'State']] = crime['county_name'].str.split(',', expand=True)",
   "execution_count": null,
   "outputs": []
  },
  {
   "cell_type": "code",
   "metadata": {
    "tags": [],
    "cell_id": "00008-5b0a15b0-e1ed-40c4-99c7-78d869145964",
    "deepnote_to_be_reexecuted": false,
    "source_hash": "23802735",
    "execution_start": 1637770297217,
    "execution_millis": 150,
    "deepnote_cell_type": "code"
   },
   "source": "crime",
   "execution_count": null,
   "outputs": [
    {
     "output_type": "execute_result",
     "execution_count": 21,
     "data": {
      "application/vnd.deepnote.dataframe.v2+json": {
       "row_count": 3136,
       "column_count": 26,
       "columns": [
        {
         "name": "county_name",
         "dtype": "object",
         "stats": {
          "unique_count": 3136,
          "nan_count": 0,
          "categories": [
           {
            "name": "St. Louis city, MO",
            "count": 1
           },
           {
            "name": "Crittenden County, AR",
            "count": 1
           },
           {
            "name": "3134 others",
            "count": 3134
           }
          ]
         }
        },
        {
         "name": "crime_rate_per_100000",
         "dtype": "float64",
         "stats": {
          "unique_count": 2967,
          "nan_count": 0,
          "min": "0.0",
          "max": "1791.995377",
          "histogram": [
           {
            "bin_start": 0,
            "bin_end": 179.1995377,
            "count": 1512
           },
           {
            "bin_start": 179.1995377,
            "bin_end": 358.3990754,
            "count": 981
           },
           {
            "bin_start": 358.3990754,
            "bin_end": 537.5986131,
            "count": 392
           },
           {
            "bin_start": 537.5986131,
            "bin_end": 716.7981508,
            "count": 163
           },
           {
            "bin_start": 716.7981508,
            "bin_end": 895.9976885000001,
            "count": 49
           },
           {
            "bin_start": 895.9976885000001,
            "bin_end": 1075.1972262,
            "count": 21
           },
           {
            "bin_start": 1075.1972262,
            "bin_end": 1254.3967639,
            "count": 11
           },
           {
            "bin_start": 1254.3967639,
            "bin_end": 1433.5963016,
            "count": 2
           },
           {
            "bin_start": 1433.5963016,
            "bin_end": 1612.7958393000001,
            "count": 2
           },
           {
            "bin_start": 1612.7958393000001,
            "bin_end": 1791.995377,
            "count": 3
           }
          ]
         }
        },
        {
         "name": "index",
         "dtype": "int64",
         "stats": {
          "unique_count": 3136,
          "nan_count": 0,
          "min": "1",
          "max": "3136",
          "histogram": [
           {
            "bin_start": 1,
            "bin_end": 314.5,
            "count": 314
           },
           {
            "bin_start": 314.5,
            "bin_end": 628,
            "count": 313
           },
           {
            "bin_start": 628,
            "bin_end": 941.5,
            "count": 314
           },
           {
            "bin_start": 941.5,
            "bin_end": 1255,
            "count": 313
           },
           {
            "bin_start": 1255,
            "bin_end": 1568.5,
            "count": 314
           },
           {
            "bin_start": 1568.5,
            "bin_end": 1882,
            "count": 313
           },
           {
            "bin_start": 1882,
            "bin_end": 2195.5,
            "count": 314
           },
           {
            "bin_start": 2195.5,
            "bin_end": 2509,
            "count": 313
           },
           {
            "bin_start": 2509,
            "bin_end": 2822.5,
            "count": 314
           },
           {
            "bin_start": 2822.5,
            "bin_end": 3136,
            "count": 314
           }
          ]
         }
        },
        {
         "name": "EDITION",
         "dtype": "int64",
         "stats": {
          "unique_count": 1,
          "nan_count": 0,
          "min": "1",
          "max": "1",
          "histogram": [
           {
            "bin_start": 0.5,
            "bin_end": 0.6,
            "count": 0
           },
           {
            "bin_start": 0.6,
            "bin_end": 0.7,
            "count": 0
           },
           {
            "bin_start": 0.7,
            "bin_end": 0.8,
            "count": 0
           },
           {
            "bin_start": 0.8,
            "bin_end": 0.9,
            "count": 0
           },
           {
            "bin_start": 0.9,
            "bin_end": 1,
            "count": 0
           },
           {
            "bin_start": 1,
            "bin_end": 1.1,
            "count": 3136
           },
           {
            "bin_start": 1.1,
            "bin_end": 1.2000000000000002,
            "count": 0
           },
           {
            "bin_start": 1.2000000000000002,
            "bin_end": 1.3,
            "count": 0
           },
           {
            "bin_start": 1.3,
            "bin_end": 1.4,
            "count": 0
           },
           {
            "bin_start": 1.4,
            "bin_end": 1.5,
            "count": 0
           }
          ]
         }
        },
        {
         "name": "PART",
         "dtype": "int64",
         "stats": {
          "unique_count": 1,
          "nan_count": 0,
          "min": "4",
          "max": "4",
          "histogram": [
           {
            "bin_start": 3.5,
            "bin_end": 3.6,
            "count": 0
           },
           {
            "bin_start": 3.6,
            "bin_end": 3.7,
            "count": 0
           },
           {
            "bin_start": 3.7,
            "bin_end": 3.8,
            "count": 0
           },
           {
            "bin_start": 3.8,
            "bin_end": 3.9,
            "count": 0
           },
           {
            "bin_start": 3.9,
            "bin_end": 4,
            "count": 0
           },
           {
            "bin_start": 4,
            "bin_end": 4.1,
            "count": 3136
           },
           {
            "bin_start": 4.1,
            "bin_end": 4.2,
            "count": 0
           },
           {
            "bin_start": 4.2,
            "bin_end": 4.3,
            "count": 0
           },
           {
            "bin_start": 4.3,
            "bin_end": 4.4,
            "count": 0
           },
           {
            "bin_start": 4.4,
            "bin_end": 4.5,
            "count": 0
           }
          ]
         }
        },
        {
         "name": "IDNO",
         "dtype": "int64",
         "stats": {
          "unique_count": 3136,
          "nan_count": 0,
          "min": "1",
          "max": "3177",
          "histogram": [
           {
            "bin_start": 1,
            "bin_end": 318.6,
            "count": 309
           },
           {
            "bin_start": 318.6,
            "bin_end": 636.2,
            "count": 314
           },
           {
            "bin_start": 636.2,
            "bin_end": 953.8000000000001,
            "count": 317
           },
           {
            "bin_start": 953.8000000000001,
            "bin_end": 1271.4,
            "count": 314
           },
           {
            "bin_start": 1271.4,
            "bin_end": 1589,
            "count": 314
           },
           {
            "bin_start": 1589,
            "bin_end": 1906.6000000000001,
            "count": 311
           },
           {
            "bin_start": 1906.6000000000001,
            "bin_end": 2224.2000000000003,
            "count": 315
           },
           {
            "bin_start": 2224.2000000000003,
            "bin_end": 2541.8,
            "count": 313
           },
           {
            "bin_start": 2541.8,
            "bin_end": 2859.4,
            "count": 315
           },
           {
            "bin_start": 2859.4,
            "bin_end": 3177,
            "count": 314
           }
          ]
         }
        },
        {
         "name": "CPOPARST",
         "dtype": "int64",
         "stats": {
          "unique_count": 3065,
          "nan_count": 0,
          "min": "0",
          "max": "9980757",
          "histogram": [
           {
            "bin_start": 0,
            "bin_end": 998075.7,
            "count": 3094
           },
           {
            "bin_start": 998075.7,
            "bin_end": 1996151.4,
            "count": 29
           },
           {
            "bin_start": 1996151.4,
            "bin_end": 2994227.0999999996,
            "count": 7
           },
           {
            "bin_start": 2994227.0999999996,
            "bin_end": 3992302.8,
            "count": 3
           },
           {
            "bin_start": 3992302.8,
            "bin_end": 4990378.5,
            "count": 1
           },
           {
            "bin_start": 4990378.5,
            "bin_end": 5988454.199999999,
            "count": 1
           },
           {
            "bin_start": 5988454.199999999,
            "bin_end": 6986529.899999999,
            "count": 0
           },
           {
            "bin_start": 6986529.899999999,
            "bin_end": 7984605.6,
            "count": 0
           },
           {
            "bin_start": 7984605.6,
            "bin_end": 8982681.299999999,
            "count": 0
           },
           {
            "bin_start": 8982681.299999999,
            "bin_end": 9980757,
            "count": 1
           }
          ]
         }
        },
        {
         "name": "CPOPCRIM",
         "dtype": "int64",
         "stats": {
          "unique_count": 2997,
          "nan_count": 0,
          "min": "0",
          "max": "9980757",
          "histogram": [
           {
            "bin_start": 0,
            "bin_end": 998075.7,
            "count": 3094
           },
           {
            "bin_start": 998075.7,
            "bin_end": 1996151.4,
            "count": 30
           },
           {
            "bin_start": 1996151.4,
            "bin_end": 2994227.0999999996,
            "count": 6
           },
           {
            "bin_start": 2994227.0999999996,
            "bin_end": 3992302.8,
            "count": 3
           },
           {
            "bin_start": 3992302.8,
            "bin_end": 4990378.5,
            "count": 1
           },
           {
            "bin_start": 4990378.5,
            "bin_end": 5988454.199999999,
            "count": 1
           },
           {
            "bin_start": 5988454.199999999,
            "bin_end": 6986529.899999999,
            "count": 0
           },
           {
            "bin_start": 6986529.899999999,
            "bin_end": 7984605.6,
            "count": 0
           },
           {
            "bin_start": 7984605.6,
            "bin_end": 8982681.299999999,
            "count": 0
           },
           {
            "bin_start": 8982681.299999999,
            "bin_end": 9980757,
            "count": 1
           }
          ]
         }
        },
        {
         "name": "AG_ARRST",
         "dtype": "int64",
         "stats": {
          "unique_count": 62,
          "nan_count": 0,
          "min": "0",
          "max": "150",
          "histogram": [
           {
            "bin_start": 0,
            "bin_end": 15,
            "count": 2890
           },
           {
            "bin_start": 15,
            "bin_end": 30,
            "count": 180
           },
           {
            "bin_start": 30,
            "bin_end": 45,
            "count": 43
           },
           {
            "bin_start": 45,
            "bin_end": 60,
            "count": 15
           },
           {
            "bin_start": 60,
            "bin_end": 75,
            "count": 4
           },
           {
            "bin_start": 75,
            "bin_end": 90,
            "count": 1
           },
           {
            "bin_start": 90,
            "bin_end": 105,
            "count": 0
           },
           {
            "bin_start": 105,
            "bin_end": 120,
            "count": 1
           },
           {
            "bin_start": 120,
            "bin_end": 135,
            "count": 1
           },
           {
            "bin_start": 135,
            "bin_end": 150,
            "count": 1
           }
          ]
         }
        },
        {
         "name": "AG_OFF",
         "dtype": "int64",
         "stats": {
          "unique_count": 60,
          "nan_count": 0,
          "min": "0",
          "max": "140",
          "histogram": [
           {
            "bin_start": 0,
            "bin_end": 14,
            "count": 2930
           },
           {
            "bin_start": 14,
            "bin_end": 28,
            "count": 144
           },
           {
            "bin_start": 28,
            "bin_end": 42,
            "count": 36
           },
           {
            "bin_start": 42,
            "bin_end": 56,
            "count": 19
           },
           {
            "bin_start": 56,
            "bin_end": 70,
            "count": 2
           },
           {
            "bin_start": 70,
            "bin_end": 84,
            "count": 2
           },
           {
            "bin_start": 84,
            "bin_end": 98,
            "count": 0
           },
           {
            "bin_start": 98,
            "bin_end": 112,
            "count": 1
           },
           {
            "bin_start": 112,
            "bin_end": 126,
            "count": 0
           },
           {
            "bin_start": 126,
            "bin_end": 140,
            "count": 2
           }
          ]
         }
        },
        {
         "name": "COVIND",
         "dtype": "float64",
         "stats": {
          "unique_count": 573,
          "nan_count": 0,
          "min": "0.0",
          "max": "100.0",
          "histogram": [
           {
            "bin_start": 0,
            "bin_end": 10,
            "count": 6
           },
           {
            "bin_start": 10,
            "bin_end": 20,
            "count": 2
           },
           {
            "bin_start": 20,
            "bin_end": 30,
            "count": 3
           },
           {
            "bin_start": 30,
            "bin_end": 40,
            "count": 5
           },
           {
            "bin_start": 40,
            "bin_end": 50,
            "count": 13
           },
           {
            "bin_start": 50,
            "bin_end": 60,
            "count": 11
           },
           {
            "bin_start": 60,
            "bin_end": 70,
            "count": 13
           },
           {
            "bin_start": 70,
            "bin_end": 80,
            "count": 26
           },
           {
            "bin_start": 80,
            "bin_end": 90,
            "count": 70
           },
           {
            "bin_start": 90,
            "bin_end": 100,
            "count": 2987
           }
          ]
         }
        },
        {
         "name": "INDEX",
         "dtype": "int64",
         "stats": {
          "unique_count": 710,
          "nan_count": 0,
          "min": "0",
          "max": "44556",
          "histogram": [
           {
            "bin_start": 0,
            "bin_end": 4455.6,
            "count": 3081
           },
           {
            "bin_start": 4455.6,
            "bin_end": 8911.2,
            "count": 37
           },
           {
            "bin_start": 8911.2,
            "bin_end": 13366.800000000001,
            "count": 8
           },
           {
            "bin_start": 13366.800000000001,
            "bin_end": 17822.4,
            "count": 5
           },
           {
            "bin_start": 17822.4,
            "bin_end": 22278,
            "count": 2
           },
           {
            "bin_start": 22278,
            "bin_end": 26733.600000000002,
            "count": 0
           },
           {
            "bin_start": 26733.600000000002,
            "bin_end": 31189.200000000004,
            "count": 1
           },
           {
            "bin_start": 31189.200000000004,
            "bin_end": 35644.8,
            "count": 1
           },
           {
            "bin_start": 35644.8,
            "bin_end": 40100.4,
            "count": 0
           },
           {
            "bin_start": 40100.4,
            "bin_end": 44556,
            "count": 1
           }
          ]
         }
        },
        {
         "name": "MODINDX",
         "dtype": "int64",
         "stats": {
          "unique_count": 1758,
          "nan_count": 0,
          "min": "0",
          "max": "232266",
          "histogram": [
           {
            "bin_start": 0,
            "bin_end": 23226.6,
            "count": 3063
           },
           {
            "bin_start": 23226.6,
            "bin_end": 46453.2,
            "count": 47
           },
           {
            "bin_start": 46453.2,
            "bin_end": 69679.79999999999,
            "count": 17
           },
           {
            "bin_start": 69679.79999999999,
            "bin_end": 92906.4,
            "count": 2
           },
           {
            "bin_start": 92906.4,
            "bin_end": 116133,
            "count": 3
           },
           {
            "bin_start": 116133,
            "bin_end": 139359.59999999998,
            "count": 1
           },
           {
            "bin_start": 139359.59999999998,
            "bin_end": 162586.19999999998,
            "count": 0
           },
           {
            "bin_start": 162586.19999999998,
            "bin_end": 185812.8,
            "count": 2
           },
           {
            "bin_start": 185812.8,
            "bin_end": 209039.4,
            "count": 0
           },
           {
            "bin_start": 209039.4,
            "bin_end": 232266,
            "count": 1
           }
          ]
         }
        },
        {
         "name": "MURDER",
         "dtype": "int64",
         "stats": {
          "unique_count": 95,
          "nan_count": 0,
          "min": "0",
          "max": "600",
          "histogram": [
           {
            "bin_start": 0,
            "bin_end": 60,
            "count": 3082
           },
           {
            "bin_start": 60,
            "bin_end": 120,
            "count": 39
           },
           {
            "bin_start": 120,
            "bin_end": 180,
            "count": 6
           },
           {
            "bin_start": 180,
            "bin_end": 240,
            "count": 4
           },
           {
            "bin_start": 240,
            "bin_end": 300,
            "count": 0
           },
           {
            "bin_start": 300,
            "bin_end": 360,
            "count": 2
           },
           {
            "bin_start": 360,
            "bin_end": 420,
            "count": 0
           },
           {
            "bin_start": 420,
            "bin_end": 480,
            "count": 1
           },
           {
            "bin_start": 480,
            "bin_end": 540,
            "count": 0
           },
           {
            "bin_start": 540,
            "bin_end": 600,
            "count": 2
           }
          ]
         }
        },
        {
         "name": "RAPE",
         "dtype": "int64",
         "stats": {
          "unique_count": 232,
          "nan_count": 0,
          "min": "0",
          "max": "1976",
          "histogram": [
           {
            "bin_start": 0,
            "bin_end": 197.6,
            "count": 3062
           },
           {
            "bin_start": 197.6,
            "bin_end": 395.2,
            "count": 46
           },
           {
            "bin_start": 395.2,
            "bin_end": 592.8,
            "count": 17
           },
           {
            "bin_start": 592.8,
            "bin_end": 790.4,
            "count": 6
           },
           {
            "bin_start": 790.4,
            "bin_end": 988,
            "count": 2
           },
           {
            "bin_start": 988,
            "bin_end": 1185.6,
            "count": 2
           },
           {
            "bin_start": 1185.6,
            "bin_end": 1383.2,
            "count": 0
           },
           {
            "bin_start": 1383.2,
            "bin_end": 1580.8,
            "count": 0
           },
           {
            "bin_start": 1580.8,
            "bin_end": 1778.3999999999999,
            "count": 0
           },
           {
            "bin_start": 1778.3999999999999,
            "bin_end": 1976,
            "count": 1
           }
          ]
         }
        },
        {
         "name": "ROBBERY",
         "dtype": "int64",
         "stats": {
          "unique_count": 386,
          "nan_count": 0,
          "min": "0",
          "max": "18923",
          "histogram": [
           {
            "bin_start": 0,
            "bin_end": 1892.3,
            "count": 3095
           },
           {
            "bin_start": 1892.3,
            "bin_end": 3784.6,
            "count": 27
           },
           {
            "bin_start": 3784.6,
            "bin_end": 5676.9,
            "count": 6
           },
           {
            "bin_start": 5676.9,
            "bin_end": 7569.2,
            "count": 4
           },
           {
            "bin_start": 7569.2,
            "bin_end": 9461.5,
            "count": 1
           },
           {
            "bin_start": 9461.5,
            "bin_end": 11353.8,
            "count": 0
           },
           {
            "bin_start": 11353.8,
            "bin_end": 13246.1,
            "count": 1
           },
           {
            "bin_start": 13246.1,
            "bin_end": 15138.4,
            "count": 0
           },
           {
            "bin_start": 15138.4,
            "bin_end": 17030.7,
            "count": 1
           },
           {
            "bin_start": 17030.7,
            "bin_end": 18923,
            "count": 1
           }
          ]
         }
        },
        {
         "name": "AGASSLT",
         "dtype": "int64",
         "stats": {
          "unique_count": 631,
          "nan_count": 0,
          "min": "0",
          "max": "23057",
          "histogram": [
           {
            "bin_start": 0,
            "bin_end": 2305.7,
            "count": 3077
           },
           {
            "bin_start": 2305.7,
            "bin_end": 4611.4,
            "count": 33
           },
           {
            "bin_start": 4611.4,
            "bin_end": 6917.099999999999,
            "count": 14
           },
           {
            "bin_start": 6917.099999999999,
            "bin_end": 9222.8,
            "count": 5
           },
           {
            "bin_start": 9222.8,
            "bin_end": 11528.5,
            "count": 3
           },
           {
            "bin_start": 11528.5,
            "bin_end": 13834.199999999999,
            "count": 1
           },
           {
            "bin_start": 13834.199999999999,
            "bin_end": 16139.899999999998,
            "count": 1
           },
           {
            "bin_start": 16139.899999999998,
            "bin_end": 18445.6,
            "count": 1
           },
           {
            "bin_start": 18445.6,
            "bin_end": 20751.3,
            "count": 0
           },
           {
            "bin_start": 20751.3,
            "bin_end": 23057,
            "count": 1
           }
          ]
         }
        },
        {
         "name": "BURGLRY",
         "dtype": "int64",
         "stats": {
          "unique_count": 1050,
          "nan_count": 0,
          "min": "0",
          "max": "49107",
          "histogram": [
           {
            "bin_start": 0,
            "bin_end": 4910.7,
            "count": 3058
           },
           {
            "bin_start": 4910.7,
            "bin_end": 9821.4,
            "count": 47
           },
           {
            "bin_start": 9821.4,
            "bin_end": 14732.099999999999,
            "count": 15
           },
           {
            "bin_start": 14732.099999999999,
            "bin_end": 19642.8,
            "count": 9
           },
           {
            "bin_start": 19642.8,
            "bin_end": 24553.5,
            "count": 2
           },
           {
            "bin_start": 24553.5,
            "bin_end": 29464.199999999997,
            "count": 1
           },
           {
            "bin_start": 29464.199999999997,
            "bin_end": 34374.9,
            "count": 2
           },
           {
            "bin_start": 34374.9,
            "bin_end": 39285.6,
            "count": 0
           },
           {
            "bin_start": 39285.6,
            "bin_end": 44196.299999999996,
            "count": 1
           },
           {
            "bin_start": 44196.299999999996,
            "bin_end": 49107,
            "count": 1
           }
          ]
         }
        },
        {
         "name": "LARCENY",
         "dtype": "int64",
         "stats": {
          "unique_count": 1558,
          "nan_count": 0,
          "min": "0",
          "max": "142604",
          "histogram": [
           {
            "bin_start": 0,
            "bin_end": 14260.4,
            "count": 3057
           },
           {
            "bin_start": 14260.4,
            "bin_end": 28520.8,
            "count": 47
           },
           {
            "bin_start": 28520.8,
            "bin_end": 42781.2,
            "count": 20
           },
           {
            "bin_start": 42781.2,
            "bin_end": 57041.6,
            "count": 5
           },
           {
            "bin_start": 57041.6,
            "bin_end": 71302,
            "count": 2
           },
           {
            "bin_start": 71302,
            "bin_end": 85562.4,
            "count": 1
           },
           {
            "bin_start": 85562.4,
            "bin_end": 99822.8,
            "count": 1
           },
           {
            "bin_start": 99822.8,
            "bin_end": 114083.2,
            "count": 0
           },
           {
            "bin_start": 114083.2,
            "bin_end": 128343.59999999999,
            "count": 2
           },
           {
            "bin_start": 128343.59999999999,
            "bin_end": 142604,
            "count": 1
           }
          ]
         }
        },
        {
         "name": "MVTHEFT",
         "dtype": "int64",
         "stats": {
          "unique_count": 531,
          "nan_count": 0,
          "min": "0",
          "max": "40555",
          "histogram": [
           {
            "bin_start": 0,
            "bin_end": 4055.5,
            "count": 3099
           },
           {
            "bin_start": 4055.5,
            "bin_end": 8111,
            "count": 22
           },
           {
            "bin_start": 8111,
            "bin_end": 12166.5,
            "count": 10
           },
           {
            "bin_start": 12166.5,
            "bin_end": 16222,
            "count": 2
           },
           {
            "bin_start": 16222,
            "bin_end": 20277.5,
            "count": 1
           },
           {
            "bin_start": 20277.5,
            "bin_end": 24333,
            "count": 1
           },
           {
            "bin_start": 24333,
            "bin_end": 28388.5,
            "count": 0
           },
           {
            "bin_start": 28388.5,
            "bin_end": 32444,
            "count": 0
           },
           {
            "bin_start": 32444,
            "bin_end": 36499.5,
            "count": 0
           },
           {
            "bin_start": 36499.5,
            "bin_end": 40555,
            "count": 1
           }
          ]
         }
        },
        {
         "name": "ARSON",
         "dtype": "int64",
         "stats": {
          "unique_count": 176,
          "nan_count": 0,
          "min": "0",
          "max": "2210",
          "histogram": [
           {
            "bin_start": 0,
            "bin_end": 221,
            "count": 3093
           },
           {
            "bin_start": 221,
            "bin_end": 442,
            "count": 32
           },
           {
            "bin_start": 442,
            "bin_end": 663,
            "count": 5
           },
           {
            "bin_start": 663,
            "bin_end": 884,
            "count": 3
           },
           {
            "bin_start": 884,
            "bin_end": 1105,
            "count": 1
           },
           {
            "bin_start": 1105,
            "bin_end": 1326,
            "count": 1
           },
           {
            "bin_start": 1326,
            "bin_end": 1547,
            "count": 0
           },
           {
            "bin_start": 1547,
            "bin_end": 1768,
            "count": 0
           },
           {
            "bin_start": 1768,
            "bin_end": 1989,
            "count": 0
           },
           {
            "bin_start": 1989,
            "bin_end": 2210,
            "count": 1
           }
          ]
         }
        },
        {
         "name": "population",
         "dtype": "int64",
         "stats": {
          "unique_count": 3079,
          "nan_count": 0,
          "min": "90",
          "max": "10017068",
          "histogram": [
           {
            "bin_start": 90,
            "bin_end": 1001787.8,
            "count": 3096
           },
           {
            "bin_start": 1001787.8,
            "bin_end": 2003485.6,
            "count": 26
           },
           {
            "bin_start": 2003485.6,
            "bin_end": 3005183.4000000004,
            "count": 8
           },
           {
            "bin_start": 3005183.4000000004,
            "bin_end": 4006881.2,
            "count": 2
           },
           {
            "bin_start": 4006881.2,
            "bin_end": 5008579,
            "count": 2
           },
           {
            "bin_start": 5008579,
            "bin_end": 6010276.800000001,
            "count": 1
           },
           {
            "bin_start": 6010276.800000001,
            "bin_end": 7011974.600000001,
            "count": 0
           },
           {
            "bin_start": 7011974.600000001,
            "bin_end": 8013672.4,
            "count": 0
           },
           {
            "bin_start": 8013672.4,
            "bin_end": 9015370.200000001,
            "count": 0
           },
           {
            "bin_start": 9015370.200000001,
            "bin_end": 10017068,
            "count": 1
           }
          ]
         }
        },
        {
         "name": "FIPS_ST",
         "dtype": "int64",
         "stats": {
          "unique_count": 51,
          "nan_count": 0,
          "min": "1",
          "max": "56",
          "histogram": [
           {
            "bin_start": 1,
            "bin_end": 6.5,
            "count": 238
           },
           {
            "bin_start": 6.5,
            "bin_end": 12,
            "count": 76
           },
           {
            "bin_start": 12,
            "bin_end": 17.5,
            "count": 377
           },
           {
            "bin_start": 17.5,
            "bin_end": 23,
            "count": 480
           },
           {
            "bin_start": 23,
            "bin_end": 28.5,
            "count": 306
           },
           {
            "bin_start": 28.5,
            "bin_end": 34,
            "count": 291
           },
           {
            "bin_start": 34,
            "bin_end": 39.5,
            "count": 356
           },
           {
            "bin_start": 39.5,
            "bin_end": 45,
            "count": 185
           },
           {
            "bin_start": 45,
            "bin_end": 50.5,
            "count": 504
           },
           {
            "bin_start": 50.5,
            "bin_end": 56,
            "count": 323
           }
          ]
         }
        },
        {
         "name": "FIPS_CTY",
         "dtype": "int64",
         "stats": {
          "unique_count": 321,
          "nan_count": 0,
          "min": "1",
          "max": "840",
          "histogram": [
           {
            "bin_start": 1,
            "bin_end": 84.9,
            "count": 1658
           },
           {
            "bin_start": 84.9,
            "bin_end": 168.8,
            "count": 994
           },
           {
            "bin_start": 168.8,
            "bin_end": 252.70000000000002,
            "count": 275
           },
           {
            "bin_start": 252.70000000000002,
            "bin_end": 336.6,
            "count": 81
           },
           {
            "bin_start": 336.6,
            "bin_end": 420.5,
            "count": 42
           },
           {
            "bin_start": 420.5,
            "bin_end": 504.40000000000003,
            "count": 42
           },
           {
            "bin_start": 504.40000000000003,
            "bin_end": 588.3000000000001,
            "count": 13
           },
           {
            "bin_start": 588.3000000000001,
            "bin_end": 672.2,
            "count": 10
           },
           {
            "bin_start": 672.2,
            "bin_end": 756.1,
            "count": 12
           },
           {
            "bin_start": 756.1,
            "bin_end": 840,
            "count": 9
           }
          ]
         }
        },
        {
         "name": "county",
         "dtype": "object",
         "stats": {
          "unique_count": 1870,
          "nan_count": 0,
          "categories": [
           {
            "name": "Washington County",
            "count": 30
           },
           {
            "name": "Jefferson County",
            "count": 25
           },
           {
            "name": "1868 others",
            "count": 3081
           }
          ]
         }
        },
        {
         "name": "State",
         "dtype": "object",
         "stats": {
          "unique_count": 51,
          "nan_count": 0,
          "categories": [
           {
            "name": " TX",
            "count": 254
           },
           {
            "name": " GA",
            "count": 159
           },
           {
            "name": "49 others",
            "count": 2723
           }
          ]
         }
        },
        {
         "name": "_deepnote_index_column",
         "dtype": "int64"
        }
       ],
       "rows_top": [
        {
         "county_name": "St. Louis city, MO",
         "crime_rate_per_100000": 1791.995377,
         "index": 1,
         "EDITION": 1,
         "PART": 4,
         "IDNO": 1612,
         "CPOPARST": 318667,
         "CPOPCRIM": 318667,
         "AG_ARRST": 15,
         "AG_OFF": 15,
         "COVIND": 100,
         "INDEX": 5706,
         "MODINDX": 22329,
         "MURDER": 119,
         "RAPE": 200,
         "ROBBERY": 1778,
         "AGASSLT": 3609,
         "BURGLRY": 4995,
         "LARCENY": 13791,
         "MVTHEFT": 3543,
         "ARSON": 464,
         "population": 318416,
         "FIPS_ST": 29,
         "FIPS_CTY": 510,
         "county": "St. Louis city",
         "State": " MO",
         "_deepnote_index_column": 0
        },
        {
         "county_name": "Crittenden County, AR",
         "crime_rate_per_100000": 1754.914968,
         "index": 2,
         "EDITION": 1,
         "PART": 4,
         "IDNO": 130,
         "CPOPARST": 50717,
         "CPOPCRIM": 50717,
         "AG_ARRST": 4,
         "AG_OFF": 4,
         "COVIND": 100,
         "INDEX": 873,
         "MODINDX": 3424,
         "MURDER": 8,
         "RAPE": 38,
         "ROBBERY": 165,
         "AGASSLT": 662,
         "BURGLRY": 1482,
         "LARCENY": 1753,
         "MVTHEFT": 189,
         "ARSON": 28,
         "population": 49746,
         "FIPS_ST": 5,
         "FIPS_CTY": 35,
         "county": "Crittenden County",
         "State": " AR",
         "_deepnote_index_column": 1
        },
        {
         "county_name": "Alexander County, IL",
         "crime_rate_per_100000": 1664.700485,
         "index": 3,
         "EDITION": 1,
         "PART": 4,
         "IDNO": 604,
         "CPOPARST": 8040,
         "CPOPCRIM": 8040,
         "AG_ARRST": 2,
         "AG_OFF": 2,
         "COVIND": 100,
         "INDEX": 127,
         "MODINDX": 278,
         "MURDER": 1,
         "RAPE": 2,
         "ROBBERY": 5,
         "AGASSLT": 119,
         "BURGLRY": 82,
         "LARCENY": 184,
         "MVTHEFT": 12,
         "ARSON": 2,
         "population": 7629,
         "FIPS_ST": 17,
         "FIPS_CTY": 3,
         "county": "Alexander County",
         "State": " IL",
         "_deepnote_index_column": 2
        },
        {
         "county_name": "Kenedy County, TX",
         "crime_rate_per_100000": 1456.31068,
         "index": 4,
         "EDITION": 1,
         "PART": 4,
         "IDNO": 2681,
         "CPOPARST": 444,
         "CPOPCRIM": 444,
         "AG_ARRST": 1,
         "AG_OFF": 1,
         "COVIND": 100,
         "INDEX": 6,
         "MODINDX": 13,
         "MURDER": 0,
         "RAPE": 3,
         "ROBBERY": 1,
         "AGASSLT": 2,
         "BURGLRY": 5,
         "LARCENY": 4,
         "MVTHEFT": 4,
         "ARSON": 0,
         "population": 412,
         "FIPS_ST": 48,
         "FIPS_CTY": 261,
         "county": "Kenedy County",
         "State": " TX",
         "_deepnote_index_column": 3
        },
        {
         "county_name": "De Soto Parish, LA",
         "crime_rate_per_100000": 1447.40243,
         "index": 5,
         "EDITION": 1,
         "PART": 4,
         "IDNO": 1137,
         "CPOPARST": 26971,
         "CPOPCRIM": 26971,
         "AG_ARRST": 3,
         "AG_OFF": 3,
         "COVIND": 100,
         "INDEX": 392,
         "MODINDX": 703,
         "MURDER": 3,
         "RAPE": 4,
         "ROBBERY": 17,
         "AGASSLT": 368,
         "BURGLRY": 149,
         "LARCENY": 494,
         "MVTHEFT": 60,
         "ARSON": 0,
         "population": 27083,
         "FIPS_ST": 22,
         "FIPS_CTY": 31,
         "county": "De Soto Parish",
         "State": " LA",
         "_deepnote_index_column": 4
        },
        {
         "county_name": "Baltimore city, MD",
         "crime_rate_per_100000": 1419.537569,
         "index": 6,
         "EDITION": 1,
         "PART": 4,
         "IDNO": 1227,
         "CPOPARST": 625474,
         "CPOPCRIM": 625474,
         "AG_ARRST": 9,
         "AG_OFF": 9,
         "COVIND": 100,
         "INDEX": 8831,
         "MODINDX": 29868,
         "MURDER": 216,
         "RAPE": 317,
         "ROBBERY": 3638,
         "AGASSLT": 4660,
         "BURGLRY": 7804,
         "LARCENY": 18055,
         "MVTHEFT": 4009,
         "ARSON": 251,
         "population": 622104,
         "FIPS_ST": 24,
         "FIPS_CTY": 510,
         "county": "Baltimore city",
         "State": " MD",
         "_deepnote_index_column": 5
        },
        {
         "county_name": "Shelby County, TN",
         "crime_rate_per_100000": 1315.003752,
         "index": 7,
         "EDITION": 1,
         "PART": 4,
         "IDNO": 2534,
         "CPOPARST": 942807,
         "CPOPCRIM": 942807,
         "AG_ARRST": 15,
         "AG_OFF": 14,
         "COVIND": 100,
         "INDEX": 12354,
         "MODINDX": 47864,
         "MURDER": 135,
         "RAPE": 483,
         "ROBBERY": 3512,
         "AGASSLT": 8224,
         "BURGLRY": 14011,
         "LARCENY": 30620,
         "MVTHEFT": 3233,
         "ARSON": 435,
         "population": 939465,
         "FIPS_ST": 47,
         "FIPS_CTY": 157,
         "county": "Shelby County",
         "State": " TN",
         "_deepnote_index_column": 6
        },
        {
         "county_name": "Marlboro County, SC",
         "crime_rate_per_100000": 1253.437132,
         "index": 8,
         "EDITION": 1,
         "PART": 4,
         "IDNO": 2377,
         "CPOPARST": 28780,
         "CPOPCRIM": 28780,
         "AG_ARRST": 9,
         "AG_OFF": 8,
         "COVIND": 100,
         "INDEX": 351,
         "MODINDX": 1549,
         "MURDER": 3,
         "RAPE": 20,
         "ROBBERY": 32,
         "AGASSLT": 296,
         "BURGLRY": 408,
         "LARCENY": 1074,
         "MVTHEFT": 67,
         "ARSON": 5,
         "population": 28003,
         "FIPS_ST": 45,
         "FIPS_CTY": 69,
         "county": "Marlboro County",
         "State": " SC",
         "_deepnote_index_column": 7
        },
        {
         "county_name": "Storey County, NV",
         "crime_rate_per_100000": 1217.656012,
         "index": 9,
         "EDITION": 1,
         "PART": 4,
         "IDNO": 1778,
         "CPOPARST": 3947,
         "CPOPCRIM": 3947,
         "AG_ARRST": 1,
         "AG_OFF": 1,
         "COVIND": 100,
         "INDEX": 48,
         "MODINDX": 86,
         "MURDER": 0,
         "RAPE": 7,
         "ROBBERY": 2,
         "AGASSLT": 39,
         "BURGLRY": 23,
         "LARCENY": 55,
         "MVTHEFT": 8,
         "ARSON": 2,
         "population": 3942,
         "FIPS_ST": 32,
         "FIPS_CTY": 29,
         "county": "Storey County",
         "State": " NV",
         "_deepnote_index_column": 8
        },
        {
         "county_name": "District of Columbia, DC",
         "crime_rate_per_100000": 1216.801325,
         "index": 10,
         "EDITION": 1,
         "PART": 4,
         "IDNO": 325,
         "CPOPARST": 632323,
         "CPOPCRIM": 632323,
         "AG_ARRST": 2,
         "AG_OFF": 1,
         "COVIND": 100,
         "INDEX": 7866,
         "MODINDX": 30757,
         "MURDER": 88,
         "RAPE": 236,
         "ROBBERY": 4037,
         "AGASSLT": 3505,
         "BURGLRY": 3519,
         "LARCENY": 23575,
         "MVTHEFT": 3663,
         "ARSON": 51,
         "population": 646449,
         "FIPS_ST": 11,
         "FIPS_CTY": 1,
         "county": "District of Columbia",
         "State": " DC",
         "_deepnote_index_column": 9
        },
        {
         "county_name": "Dillon County, SC",
         "crime_rate_per_100000": 1165.583272,
         "index": 11,
         "EDITION": 1,
         "PART": 4,
         "IDNO": 2359,
         "CPOPARST": 32060,
         "CPOPCRIM": 32060,
         "AG_ARRST": 9,
         "AG_OFF": 8,
         "COVIND": 100,
         "INDEX": 364,
         "MODINDX": 1906,
         "MURDER": 8,
         "RAPE": 17,
         "ROBBERY": 48,
         "AGASSLT": 291,
         "BURGLRY": 595,
         "LARCENY": 1206,
         "MVTHEFT": 105,
         "ARSON": 12,
         "population": 31229,
         "FIPS_ST": 45,
         "FIPS_CTY": 33,
         "county": "Dillon County",
         "State": " SC",
         "_deepnote_index_column": 10
        },
        {
         "county_name": "Scott County, MO",
         "crime_rate_per_100000": 1163.145839,
         "index": 12,
         "EDITION": 1,
         "PART": 4,
         "IDNO": 1597,
         "CPOPARST": 40941,
         "CPOPCRIM": 40941,
         "AG_ARRST": 7,
         "AG_OFF": 8,
         "COVIND": 100,
         "INDEX": 457,
         "MODINDX": 1277,
         "MURDER": 2,
         "RAPE": 7,
         "ROBBERY": 26,
         "AGASSLT": 422,
         "BURGLRY": 236,
         "LARCENY": 1002,
         "MVTHEFT": 39,
         "ARSON": 8,
         "population": 39290,
         "FIPS_ST": 29,
         "FIPS_CTY": 201,
         "county": "Scott County",
         "State": " MO",
         "_deepnote_index_column": 11
        },
        {
         "county_name": "Philadelphia County, PA",
         "crime_rate_per_100000": 1150.29633,
         "index": 13,
         "EDITION": 1,
         "PART": 4,
         "IDNO": 2320,
         "CPOPARST": 1538957,
         "CPOPCRIM": 1538957,
         "AG_ARRST": 6,
         "AG_OFF": 5,
         "COVIND": 100,
         "INDEX": 17866,
         "MODINDX": 57000,
         "MURDER": 332,
         "RAPE": 881,
         "ROBBERY": 7984,
         "AGASSLT": 8669,
         "BURGLRY": 12004,
         "LARCENY": 38595,
         "MVTHEFT": 6401,
         "ARSON": 0,
         "population": 1553165,
         "FIPS_ST": 42,
         "FIPS_CTY": 101,
         "county": "Philadelphia County",
         "State": " PA",
         "_deepnote_index_column": 12
        },
        {
         "county_name": "Pershing County, NV",
         "crime_rate_per_100000": 1148.756725,
         "index": 14,
         "EDITION": 1,
         "PART": 4,
         "IDNO": 1777,
         "CPOPARST": 6822,
         "CPOPCRIM": 6822,
         "AG_ARRST": 2,
         "AG_OFF": 2,
         "COVIND": 100,
         "INDEX": 79,
         "MODINDX": 75,
         "MURDER": 0,
         "RAPE": 3,
         "ROBBERY": 1,
         "AGASSLT": 75,
         "BURGLRY": 27,
         "LARCENY": 43,
         "MVTHEFT": 5,
         "ARSON": 0,
         "population": 6877,
         "FIPS_ST": 32,
         "FIPS_CTY": 27,
         "county": "Pershing County",
         "State": " NV",
         "_deepnote_index_column": 13
        },
        {
         "county_name": "Greenwood County, SC",
         "crime_rate_per_100000": 1140.226324,
         "index": 15,
         "EDITION": 1,
         "PART": 4,
         "IDNO": 2366,
         "CPOPARST": 71009,
         "CPOPCRIM": 70499,
         "AG_ARRST": 10,
         "AG_OFF": 8,
         "COVIND": 100,
         "INDEX": 795,
         "MODINDX": 3651,
         "MURDER": 7,
         "RAPE": 39,
         "ROBBERY": 73,
         "AGASSLT": 676,
         "BURGLRY": 965,
         "LARCENY": 2564,
         "MVTHEFT": 122,
         "ARSON": 12,
         "population": 69723,
         "FIPS_ST": 45,
         "FIPS_CTY": 47,
         "county": "Greenwood County",
         "State": " SC",
         "_deepnote_index_column": 14
        },
        {
         "county_name": "Madison County, TN",
         "crime_rate_per_100000": 1138.42383,
         "index": 16,
         "EDITION": 1,
         "PART": 4,
         "IDNO": 2512,
         "CPOPARST": 98988,
         "CPOPCRIM": 99067,
         "AG_ARRST": 4,
         "AG_OFF": 5,
         "COVIND": 100,
         "INDEX": 1124,
         "MODINDX": 4084,
         "MURDER": 13,
         "RAPE": 33,
         "ROBBERY": 196,
         "AGASSLT": 882,
         "BURGLRY": 1300,
         "LARCENY": 2604,
         "MVTHEFT": 180,
         "ARSON": 27,
         "population": 98733,
         "FIPS_ST": 47,
         "FIPS_CTY": 113,
         "county": "Madison County",
         "State": " TN",
         "_deepnote_index_column": 15
        },
        {
         "county_name": "Davidson County, TN",
         "crime_rate_per_100000": 1129.513728,
         "index": 17,
         "EDITION": 1,
         "PART": 4,
         "IDNO": 2474,
         "CPOPARST": 635244,
         "CPOPCRIM": 635244,
         "AG_ARRST": 10,
         "AG_OFF": 10,
         "COVIND": 100,
         "INDEX": 7439,
         "MODINDX": 27666,
         "MURDER": 65,
         "RAPE": 312,
         "ROBBERY": 1753,
         "AGASSLT": 5309,
         "BURGLRY": 5875,
         "LARCENY": 20373,
         "MVTHEFT": 1418,
         "ARSON": 100,
         "population": 658602,
         "FIPS_ST": 47,
         "FIPS_CTY": 37,
         "county": "Davidson County",
         "State": " TN",
         "_deepnote_index_column": 16
        },
        {
         "county_name": "Marion County, IN",
         "crime_rate_per_100000": 1083.508119,
         "index": 18,
         "EDITION": 1,
         "PART": 4,
         "IDNO": 753,
         "CPOPARST": 911521,
         "CPOPCRIM": 867596,
         "AG_ARRST": 11,
         "AG_OFF": 9,
         "COVIND": 100,
         "INDEX": 10058,
         "MODINDX": 49004,
         "MURDER": 102,
         "RAPE": 453,
         "ROBBERY": 3486,
         "AGASSLT": 6017,
         "BURGLRY": 15125,
         "LARCENY": 29122,
         "MVTHEFT": 4757,
         "ARSON": 414,
         "population": 928281,
         "FIPS_ST": 18,
         "FIPS_CTY": 97,
         "county": "Marion County",
         "State": " IN",
         "_deepnote_index_column": 17
        },
        {
         "county_name": "Wayne County, MI",
         "crime_rate_per_100000": 1065.188284,
         "index": 19,
         "EDITION": 1,
         "PART": 4,
         "IDNO": 1324,
         "CPOPARST": 1800769,
         "CPOPCRIM": 1793982,
         "AG_ARRST": 47,
         "AG_OFF": 47,
         "COVIND": 99.6046,
         "INDEX": 18910,
         "MODINDX": 69839,
         "MURDER": 433,
         "RAPE": 803,
         "ROBBERY": 5879,
         "AGASSLT": 11795,
         "BURGLRY": 19882,
         "LARCENY": 34706,
         "MVTHEFT": 15251,
         "ARSON": 766,
         "population": 1775273,
         "FIPS_ST": 26,
         "FIPS_CTY": 163,
         "county": "Wayne County",
         "State": " MI",
         "_deepnote_index_column": 18
        }
       ],
       "rows_bottom": [
        {
         "county_name": "Wibaux County, MT",
         "crime_rate_per_100000": 0,
         "index": 3118,
         "EDITION": 1,
         "PART": 4,
         "IDNO": 1667,
         "CPOPARST": 992,
         "CPOPCRIM": 992,
         "AG_ARRST": 1,
         "AG_OFF": 1,
         "COVIND": 100,
         "INDEX": 0,
         "MODINDX": 3,
         "MURDER": 0,
         "RAPE": 0,
         "ROBBERY": 0,
         "AGASSLT": 0,
         "BURGLRY": 2,
         "LARCENY": 1,
         "MVTHEFT": 0,
         "ARSON": 0,
         "population": 1121,
         "FIPS_ST": 30,
         "FIPS_CTY": 109,
         "county": "Wibaux County",
         "State": " MT",
         "_deepnote_index_column": 3117
        },
        {
         "county_name": "McIntosh County, ND",
         "crime_rate_per_100000": 0,
         "index": 3119,
         "EDITION": 1,
         "PART": 4,
         "IDNO": 2038,
         "CPOPARST": 2833,
         "CPOPCRIM": 2833,
         "AG_ARRST": 2,
         "AG_OFF": 2,
         "COVIND": 88.0927,
         "INDEX": 0,
         "MODINDX": 8,
         "MURDER": 0,
         "RAPE": 0,
         "ROBBERY": 0,
         "AGASSLT": 0,
         "BURGLRY": 5,
         "LARCENY": 3,
         "MVTHEFT": 0,
         "ARSON": 0,
         "population": 2754,
         "FIPS_ST": 38,
         "FIPS_CTY": 51,
         "county": "McIntosh County",
         "State": " ND",
         "_deepnote_index_column": 3118
        },
        {
         "county_name": "Adams County, ND",
         "crime_rate_per_100000": 0,
         "index": 3120,
         "EDITION": 1,
         "PART": 4,
         "IDNO": 2013,
         "CPOPARST": 2360,
         "CPOPCRIM": 2360,
         "AG_ARRST": 1,
         "AG_OFF": 1,
         "COVIND": 100,
         "INDEX": 0,
         "MODINDX": 12,
         "MURDER": 0,
         "RAPE": 0,
         "ROBBERY": 0,
         "AGASSLT": 0,
         "BURGLRY": 7,
         "LARCENY": 5,
         "MVTHEFT": 0,
         "ARSON": 0,
         "population": 2360,
         "FIPS_ST": 38,
         "FIPS_CTY": 1,
         "county": "Adams County",
         "State": " ND",
         "_deepnote_index_column": 3119
        },
        {
         "county_name": "Osceola County, IA",
         "crime_rate_per_100000": 0,
         "index": 3121,
         "EDITION": 1,
         "PART": 4,
         "IDNO": 868,
         "CPOPARST": 6382,
         "CPOPCRIM": 6382,
         "AG_ARRST": 1,
         "AG_OFF": 1,
         "COVIND": 100,
         "INDEX": 0,
         "MODINDX": 12,
         "MURDER": 0,
         "RAPE": 0,
         "ROBBERY": 0,
         "AGASSLT": 0,
         "BURGLRY": 3,
         "LARCENY": 7,
         "MVTHEFT": 2,
         "ARSON": 0,
         "population": 6211,
         "FIPS_ST": 19,
         "FIPS_CTY": 143,
         "county": "Osceola County",
         "State": " IA",
         "_deepnote_index_column": 3120
        },
        {
         "county_name": "Sherman County, TX",
         "crime_rate_per_100000": 0,
         "index": 3122,
         "EDITION": 1,
         "PART": 4,
         "IDNO": 2761,
         "CPOPARST": 3086,
         "CPOPCRIM": 3086,
         "AG_ARRST": 2,
         "AG_OFF": 2,
         "COVIND": 100,
         "INDEX": 0,
         "MODINDX": 12,
         "MURDER": 0,
         "RAPE": 0,
         "ROBBERY": 0,
         "AGASSLT": 0,
         "BURGLRY": 4,
         "LARCENY": 7,
         "MVTHEFT": 1,
         "ARSON": 0,
         "population": 3093,
         "FIPS_ST": 48,
         "FIPS_CTY": 421,
         "county": "Sherman County",
         "State": " TX",
         "_deepnote_index_column": 3121
        },
        {
         "county_name": "Perkins County, SD",
         "crime_rate_per_100000": 0,
         "index": 3123,
         "EDITION": 1,
         "PART": 4,
         "IDNO": 2440,
         "CPOPARST": 3035,
         "CPOPCRIM": 3035,
         "AG_ARRST": 2,
         "AG_OFF": 2,
         "COVIND": 100,
         "INDEX": 0,
         "MODINDX": 11,
         "MURDER": 0,
         "RAPE": 0,
         "ROBBERY": 0,
         "AGASSLT": 0,
         "BURGLRY": 2,
         "LARCENY": 8,
         "MVTHEFT": 1,
         "ARSON": 0,
         "population": 3037,
         "FIPS_ST": 46,
         "FIPS_CTY": 105,
         "county": "Perkins County",
         "State": " SD",
         "_deepnote_index_column": 3122
        },
        {
         "county_name": "Hinsdale County, CO",
         "crime_rate_per_100000": 0,
         "index": 3124,
         "EDITION": 1,
         "PART": 4,
         "IDNO": 274,
         "CPOPARST": 841,
         "CPOPCRIM": 841,
         "AG_ARRST": 1,
         "AG_OFF": 1,
         "COVIND": 100,
         "INDEX": 0,
         "MODINDX": 10,
         "MURDER": 0,
         "RAPE": 0,
         "ROBBERY": 0,
         "AGASSLT": 0,
         "BURGLRY": 5,
         "LARCENY": 5,
         "MVTHEFT": 0,
         "ARSON": 0,
         "population": 813,
         "FIPS_ST": 8,
         "FIPS_CTY": 53,
         "county": "Hinsdale County",
         "State": " CO",
         "_deepnote_index_column": 3123
        },
        {
         "county_name": "Campbell County, SD",
         "crime_rate_per_100000": 0,
         "index": 3125,
         "EDITION": 1,
         "PART": 4,
         "IDNO": 2398,
         "CPOPARST": 1443,
         "CPOPCRIM": 1443,
         "AG_ARRST": 1,
         "AG_OFF": 1,
         "COVIND": 100,
         "INDEX": 0,
         "MODINDX": 8,
         "MURDER": 0,
         "RAPE": 0,
         "ROBBERY": 0,
         "AGASSLT": 0,
         "BURGLRY": 2,
         "LARCENY": 4,
         "MVTHEFT": 2,
         "ARSON": 1,
         "population": 1334,
         "FIPS_ST": 46,
         "FIPS_CTY": 21,
         "county": "Campbell County",
         "State": " SD",
         "_deepnote_index_column": 3124
        },
        {
         "county_name": "Golden Valley County, ND",
         "crime_rate_per_100000": 0,
         "index": 3126,
         "EDITION": 1,
         "PART": 4,
         "IDNO": 2029,
         "CPOPARST": 1792,
         "CPOPCRIM": 1792,
         "AG_ARRST": 1,
         "AG_OFF": 1,
         "COVIND": 100,
         "INDEX": 0,
         "MODINDX": 8,
         "MURDER": 0,
         "RAPE": 0,
         "ROBBERY": 0,
         "AGASSLT": 0,
         "BURGLRY": 3,
         "LARCENY": 5,
         "MVTHEFT": 0,
         "ARSON": 0,
         "population": 1823,
         "FIPS_ST": 38,
         "FIPS_CTY": 33,
         "county": "Golden Valley County",
         "State": " ND",
         "_deepnote_index_column": 3125
        },
        {
         "county_name": "Clark County, ID",
         "crime_rate_per_100000": 0,
         "index": 3127,
         "EDITION": 1,
         "PART": 4,
         "IDNO": 574,
         "CPOPARST": 955,
         "CPOPCRIM": 955,
         "AG_ARRST": 1,
         "AG_OFF": 1,
         "COVIND": 100,
         "INDEX": 0,
         "MODINDX": 8,
         "MURDER": 0,
         "RAPE": 0,
         "ROBBERY": 0,
         "AGASSLT": 0,
         "BURGLRY": 3,
         "LARCENY": 5,
         "MVTHEFT": 0,
         "ARSON": 0,
         "population": 867,
         "FIPS_ST": 16,
         "FIPS_CTY": 33,
         "county": "Clark County",
         "State": " ID",
         "_deepnote_index_column": 3126
        },
        {
         "county_name": "Briscoe County, TX",
         "crime_rate_per_100000": 0,
         "index": 3128,
         "EDITION": 1,
         "PART": 4,
         "IDNO": 2573,
         "CPOPARST": 1676,
         "CPOPCRIM": 1676,
         "AG_ARRST": 1,
         "AG_OFF": 1,
         "COVIND": 100,
         "INDEX": 0,
         "MODINDX": 3,
         "MURDER": 0,
         "RAPE": 0,
         "ROBBERY": 0,
         "AGASSLT": 0,
         "BURGLRY": 0,
         "LARCENY": 2,
         "MVTHEFT": 1,
         "ARSON": 0,
         "population": 1537,
         "FIPS_ST": 48,
         "FIPS_CTY": 45,
         "county": "Briscoe County",
         "State": " TX",
         "_deepnote_index_column": 3127
        },
        {
         "county_name": "Foster County, ND",
         "crime_rate_per_100000": 0,
         "index": 3129,
         "EDITION": 1,
         "PART": 4,
         "IDNO": 2028,
         "CPOPARST": 3418,
         "CPOPCRIM": 3418,
         "AG_ARRST": 2,
         "AG_OFF": 2,
         "COVIND": 100,
         "INDEX": 0,
         "MODINDX": 6,
         "MURDER": 0,
         "RAPE": 0,
         "ROBBERY": 0,
         "AGASSLT": 0,
         "BURGLRY": 0,
         "LARCENY": 4,
         "MVTHEFT": 2,
         "ARSON": 0,
         "population": 3366,
         "FIPS_ST": 38,
         "FIPS_CTY": 31,
         "county": "Foster County",
         "State": " ND",
         "_deepnote_index_column": 3128
        },
        {
         "county_name": "Box Butte County, NE",
         "crime_rate_per_100000": 0,
         "index": 3130,
         "EDITION": 1,
         "PART": 4,
         "IDNO": 1677,
         "CPOPARST": 11463,
         "CPOPCRIM": 2855,
         "AG_ARRST": 3,
         "AG_OFF": 2,
         "COVIND": 100,
         "INDEX": 0,
         "MODINDX": 5,
         "MURDER": 0,
         "RAPE": 0,
         "ROBBERY": 0,
         "AGASSLT": 0,
         "BURGLRY": 0,
         "LARCENY": 5,
         "MVTHEFT": 0,
         "ARSON": 0,
         "population": 11305,
         "FIPS_ST": 31,
         "FIPS_CTY": 13,
         "county": "Box Butte County",
         "State": " NE",
         "_deepnote_index_column": 3129
        },
        {
         "county_name": "Cottle County, TX",
         "crime_rate_per_100000": 0,
         "index": 3131,
         "EDITION": 1,
         "PART": 4,
         "IDNO": 2601,
         "CPOPARST": 1521,
         "CPOPCRIM": 1521,
         "AG_ARRST": 2,
         "AG_OFF": 2,
         "COVIND": 100,
         "INDEX": 0,
         "MODINDX": 5,
         "MURDER": 0,
         "RAPE": 0,
         "ROBBERY": 0,
         "AGASSLT": 0,
         "BURGLRY": 3,
         "LARCENY": 2,
         "MVTHEFT": 0,
         "ARSON": 0,
         "population": 1452,
         "FIPS_ST": 48,
         "FIPS_CTY": 101,
         "county": "Cottle County",
         "State": " TX",
         "_deepnote_index_column": 3130
        },
        {
         "county_name": "Ohio County, IN",
         "crime_rate_per_100000": 0,
         "index": 3132,
         "EDITION": 1,
         "PART": 4,
         "IDNO": 762,
         "CPOPARST": 6084,
         "CPOPCRIM": 0,
         "AG_ARRST": 2,
         "AG_OFF": 1,
         "COVIND": 100,
         "INDEX": 0,
         "MODINDX": 5,
         "MURDER": 0,
         "RAPE": 0,
         "ROBBERY": 0,
         "AGASSLT": 0,
         "BURGLRY": 2,
         "LARCENY": 2,
         "MVTHEFT": 0,
         "ARSON": 0,
         "population": 5994,
         "FIPS_ST": 18,
         "FIPS_CTY": 115,
         "county": "Ohio County",
         "State": " IN",
         "_deepnote_index_column": 3131
        },
        {
         "county_name": "Newton County, MS",
         "crime_rate_per_100000": 0,
         "index": 3133,
         "EDITION": 1,
         "PART": 4,
         "IDNO": 1465,
         "CPOPARST": 21545,
         "CPOPCRIM": 3346,
         "AG_ARRST": 3,
         "AG_OFF": 1,
         "COVIND": 100,
         "INDEX": 0,
         "MODINDX": 5,
         "MURDER": 0,
         "RAPE": 0,
         "ROBBERY": 0,
         "AGASSLT": 0,
         "BURGLRY": 4,
         "LARCENY": 0,
         "MVTHEFT": 1,
         "ARSON": 0,
         "population": 21689,
         "FIPS_ST": 28,
         "FIPS_CTY": 101,
         "county": "Newton County",
         "State": " MS",
         "_deepnote_index_column": 3132
        },
        {
         "county_name": "Jerauld County, SD",
         "crime_rate_per_100000": 0,
         "index": 3134,
         "EDITION": 1,
         "PART": 4,
         "IDNO": 2424,
         "CPOPARST": 2108,
         "CPOPCRIM": 2108,
         "AG_ARRST": 1,
         "AG_OFF": 1,
         "COVIND": 100,
         "INDEX": 0,
         "MODINDX": 5,
         "MURDER": 0,
         "RAPE": 0,
         "ROBBERY": 0,
         "AGASSLT": 0,
         "BURGLRY": 1,
         "LARCENY": 3,
         "MVTHEFT": 1,
         "ARSON": 0,
         "population": 2066,
         "FIPS_ST": 46,
         "FIPS_CTY": 73,
         "county": "Jerauld County",
         "State": " SD",
         "_deepnote_index_column": 3133
        },
        {
         "county_name": "Cimarron County, OK",
         "crime_rate_per_100000": 0,
         "index": 3135,
         "EDITION": 1,
         "PART": 4,
         "IDNO": 2167,
         "CPOPARST": 2502,
         "CPOPCRIM": 2502,
         "AG_ARRST": 2,
         "AG_OFF": 2,
         "COVIND": 100,
         "INDEX": 0,
         "MODINDX": 3,
         "MURDER": 0,
         "RAPE": 0,
         "ROBBERY": 0,
         "AGASSLT": 0,
         "BURGLRY": 1,
         "LARCENY": 2,
         "MVTHEFT": 0,
         "ARSON": 0,
         "population": 2335,
         "FIPS_ST": 40,
         "FIPS_CTY": 25,
         "county": "Cimarron County",
         "State": " OK",
         "_deepnote_index_column": 3134
        },
        {
         "county_name": "Lawrence County, MS",
         "crime_rate_per_100000": 0,
         "index": 3136,
         "EDITION": 1,
         "PART": 4,
         "IDNO": 1453,
         "CPOPARST": 12714,
         "CPOPCRIM": 0,
         "AG_ARRST": 1,
         "AG_OFF": 1,
         "COVIND": 100,
         "INDEX": 0,
         "MODINDX": 0,
         "MURDER": 0,
         "RAPE": 0,
         "ROBBERY": 0,
         "AGASSLT": 0,
         "BURGLRY": 0,
         "LARCENY": 0,
         "MVTHEFT": 0,
         "ARSON": 0,
         "population": 12514,
         "FIPS_ST": 28,
         "FIPS_CTY": 77,
         "county": "Lawrence County",
         "State": " MS",
         "_deepnote_index_column": 3135
        }
       ]
      },
      "text/plain": "                county_name  crime_rate_per_100000  index  EDITION  PART  \\\n0        St. Louis city, MO            1791.995377      1        1     4   \n1     Crittenden County, AR            1754.914968      2        1     4   \n2      Alexander County, IL            1664.700485      3        1     4   \n3         Kenedy County, TX            1456.310680      4        1     4   \n4        De Soto Parish, LA            1447.402430      5        1     4   \n...                     ...                    ...    ...      ...   ...   \n3131        Ohio County, IN               0.000000   3132        1     4   \n3132      Newton County, MS               0.000000   3133        1     4   \n3133     Jerauld County, SD               0.000000   3134        1     4   \n3134    Cimarron County, OK               0.000000   3135        1     4   \n3135    Lawrence County, MS               0.000000   3136        1     4   \n\n      IDNO  CPOPARST  CPOPCRIM  AG_ARRST  AG_OFF  ...  AGASSLT  BURGLRY  \\\n0     1612    318667    318667        15      15  ...     3609     4995   \n1      130     50717     50717         4       4  ...      662     1482   \n2      604      8040      8040         2       2  ...      119       82   \n3     2681       444       444         1       1  ...        2        5   \n4     1137     26971     26971         3       3  ...      368      149   \n...    ...       ...       ...       ...     ...  ...      ...      ...   \n3131   762      6084         0         2       1  ...        0        2   \n3132  1465     21545      3346         3       1  ...        0        4   \n3133  2424      2108      2108         1       1  ...        0        1   \n3134  2167      2502      2502         2       2  ...        0        1   \n3135  1453     12714         0         1       1  ...        0        0   \n\n      LARCENY  MVTHEFT  ARSON  population  FIPS_ST  FIPS_CTY  \\\n0       13791     3543    464      318416       29       510   \n1        1753      189     28       49746        5        35   \n2         184       12      2        7629       17         3   \n3           4        4      0         412       48       261   \n4         494       60      0       27083       22        31   \n...       ...      ...    ...         ...      ...       ...   \n3131        2        0      0        5994       18       115   \n3132        0        1      0       21689       28       101   \n3133        3        1      0        2066       46        73   \n3134        2        0      0        2335       40        25   \n3135        0        0      0       12514       28        77   \n\n                 county  State  \n0        St. Louis city     MO  \n1     Crittenden County     AR  \n2      Alexander County     IL  \n3         Kenedy County     TX  \n4        De Soto Parish     LA  \n...                 ...    ...  \n3131        Ohio County     IN  \n3132      Newton County     MS  \n3133     Jerauld County     SD  \n3134    Cimarron County     OK  \n3135    Lawrence County     MS  \n\n[3136 rows x 26 columns]",
      "text/html": "<div>\n<style scoped>\n    .dataframe tbody tr th:only-of-type {\n        vertical-align: middle;\n    }\n\n    .dataframe tbody tr th {\n        vertical-align: top;\n    }\n\n    .dataframe thead th {\n        text-align: right;\n    }\n</style>\n<table border=\"1\" class=\"dataframe\">\n  <thead>\n    <tr style=\"text-align: right;\">\n      <th></th>\n      <th>county_name</th>\n      <th>crime_rate_per_100000</th>\n      <th>index</th>\n      <th>EDITION</th>\n      <th>PART</th>\n      <th>IDNO</th>\n      <th>CPOPARST</th>\n      <th>CPOPCRIM</th>\n      <th>AG_ARRST</th>\n      <th>AG_OFF</th>\n      <th>...</th>\n      <th>AGASSLT</th>\n      <th>BURGLRY</th>\n      <th>LARCENY</th>\n      <th>MVTHEFT</th>\n      <th>ARSON</th>\n      <th>population</th>\n      <th>FIPS_ST</th>\n      <th>FIPS_CTY</th>\n      <th>county</th>\n      <th>State</th>\n    </tr>\n  </thead>\n  <tbody>\n    <tr>\n      <th>0</th>\n      <td>St. Louis city, MO</td>\n      <td>1791.995377</td>\n      <td>1</td>\n      <td>1</td>\n      <td>4</td>\n      <td>1612</td>\n      <td>318667</td>\n      <td>318667</td>\n      <td>15</td>\n      <td>15</td>\n      <td>...</td>\n      <td>3609</td>\n      <td>4995</td>\n      <td>13791</td>\n      <td>3543</td>\n      <td>464</td>\n      <td>318416</td>\n      <td>29</td>\n      <td>510</td>\n      <td>St. Louis city</td>\n      <td>MO</td>\n    </tr>\n    <tr>\n      <th>1</th>\n      <td>Crittenden County, AR</td>\n      <td>1754.914968</td>\n      <td>2</td>\n      <td>1</td>\n      <td>4</td>\n      <td>130</td>\n      <td>50717</td>\n      <td>50717</td>\n      <td>4</td>\n      <td>4</td>\n      <td>...</td>\n      <td>662</td>\n      <td>1482</td>\n      <td>1753</td>\n      <td>189</td>\n      <td>28</td>\n      <td>49746</td>\n      <td>5</td>\n      <td>35</td>\n      <td>Crittenden County</td>\n      <td>AR</td>\n    </tr>\n    <tr>\n      <th>2</th>\n      <td>Alexander County, IL</td>\n      <td>1664.700485</td>\n      <td>3</td>\n      <td>1</td>\n      <td>4</td>\n      <td>604</td>\n      <td>8040</td>\n      <td>8040</td>\n      <td>2</td>\n      <td>2</td>\n      <td>...</td>\n      <td>119</td>\n      <td>82</td>\n      <td>184</td>\n      <td>12</td>\n      <td>2</td>\n      <td>7629</td>\n      <td>17</td>\n      <td>3</td>\n      <td>Alexander County</td>\n      <td>IL</td>\n    </tr>\n    <tr>\n      <th>3</th>\n      <td>Kenedy County, TX</td>\n      <td>1456.310680</td>\n      <td>4</td>\n      <td>1</td>\n      <td>4</td>\n      <td>2681</td>\n      <td>444</td>\n      <td>444</td>\n      <td>1</td>\n      <td>1</td>\n      <td>...</td>\n      <td>2</td>\n      <td>5</td>\n      <td>4</td>\n      <td>4</td>\n      <td>0</td>\n      <td>412</td>\n      <td>48</td>\n      <td>261</td>\n      <td>Kenedy County</td>\n      <td>TX</td>\n    </tr>\n    <tr>\n      <th>4</th>\n      <td>De Soto Parish, LA</td>\n      <td>1447.402430</td>\n      <td>5</td>\n      <td>1</td>\n      <td>4</td>\n      <td>1137</td>\n      <td>26971</td>\n      <td>26971</td>\n      <td>3</td>\n      <td>3</td>\n      <td>...</td>\n      <td>368</td>\n      <td>149</td>\n      <td>494</td>\n      <td>60</td>\n      <td>0</td>\n      <td>27083</td>\n      <td>22</td>\n      <td>31</td>\n      <td>De Soto Parish</td>\n      <td>LA</td>\n    </tr>\n    <tr>\n      <th>...</th>\n      <td>...</td>\n      <td>...</td>\n      <td>...</td>\n      <td>...</td>\n      <td>...</td>\n      <td>...</td>\n      <td>...</td>\n      <td>...</td>\n      <td>...</td>\n      <td>...</td>\n      <td>...</td>\n      <td>...</td>\n      <td>...</td>\n      <td>...</td>\n      <td>...</td>\n      <td>...</td>\n      <td>...</td>\n      <td>...</td>\n      <td>...</td>\n      <td>...</td>\n      <td>...</td>\n    </tr>\n    <tr>\n      <th>3131</th>\n      <td>Ohio County, IN</td>\n      <td>0.000000</td>\n      <td>3132</td>\n      <td>1</td>\n      <td>4</td>\n      <td>762</td>\n      <td>6084</td>\n      <td>0</td>\n      <td>2</td>\n      <td>1</td>\n      <td>...</td>\n      <td>0</td>\n      <td>2</td>\n      <td>2</td>\n      <td>0</td>\n      <td>0</td>\n      <td>5994</td>\n      <td>18</td>\n      <td>115</td>\n      <td>Ohio County</td>\n      <td>IN</td>\n    </tr>\n    <tr>\n      <th>3132</th>\n      <td>Newton County, MS</td>\n      <td>0.000000</td>\n      <td>3133</td>\n      <td>1</td>\n      <td>4</td>\n      <td>1465</td>\n      <td>21545</td>\n      <td>3346</td>\n      <td>3</td>\n      <td>1</td>\n      <td>...</td>\n      <td>0</td>\n      <td>4</td>\n      <td>0</td>\n      <td>1</td>\n      <td>0</td>\n      <td>21689</td>\n      <td>28</td>\n      <td>101</td>\n      <td>Newton County</td>\n      <td>MS</td>\n    </tr>\n    <tr>\n      <th>3133</th>\n      <td>Jerauld County, SD</td>\n      <td>0.000000</td>\n      <td>3134</td>\n      <td>1</td>\n      <td>4</td>\n      <td>2424</td>\n      <td>2108</td>\n      <td>2108</td>\n      <td>1</td>\n      <td>1</td>\n      <td>...</td>\n      <td>0</td>\n      <td>1</td>\n      <td>3</td>\n      <td>1</td>\n      <td>0</td>\n      <td>2066</td>\n      <td>46</td>\n      <td>73</td>\n      <td>Jerauld County</td>\n      <td>SD</td>\n    </tr>\n    <tr>\n      <th>3134</th>\n      <td>Cimarron County, OK</td>\n      <td>0.000000</td>\n      <td>3135</td>\n      <td>1</td>\n      <td>4</td>\n      <td>2167</td>\n      <td>2502</td>\n      <td>2502</td>\n      <td>2</td>\n      <td>2</td>\n      <td>...</td>\n      <td>0</td>\n      <td>1</td>\n      <td>2</td>\n      <td>0</td>\n      <td>0</td>\n      <td>2335</td>\n      <td>40</td>\n      <td>25</td>\n      <td>Cimarron County</td>\n      <td>OK</td>\n    </tr>\n    <tr>\n      <th>3135</th>\n      <td>Lawrence County, MS</td>\n      <td>0.000000</td>\n      <td>3136</td>\n      <td>1</td>\n      <td>4</td>\n      <td>1453</td>\n      <td>12714</td>\n      <td>0</td>\n      <td>1</td>\n      <td>1</td>\n      <td>...</td>\n      <td>0</td>\n      <td>0</td>\n      <td>0</td>\n      <td>0</td>\n      <td>0</td>\n      <td>12514</td>\n      <td>28</td>\n      <td>77</td>\n      <td>Lawrence County</td>\n      <td>MS</td>\n    </tr>\n  </tbody>\n</table>\n<p>3136 rows × 26 columns</p>\n</div>"
     },
     "metadata": {}
    }
   ]
  },
  {
   "cell_type": "code",
   "metadata": {
    "tags": [],
    "cell_id": "00009-3a0747b5-806f-4975-b043-9b5d7aa29e9b",
    "deepnote_to_be_reexecuted": false,
    "source_hash": "5cb1cb11",
    "execution_start": 1637772192757,
    "execution_millis": 41,
    "deepnote_cell_type": "code"
   },
   "source": "crime_clean = crime.to_csv('cleaned_crime.csv', index=False)",
   "execution_count": null,
   "outputs": []
  },
  {
   "cell_type": "code",
   "metadata": {
    "tags": [],
    "cell_id": "00009-72b68c78-24ca-488a-af8b-3b7796f086de",
    "deepnote_to_be_reexecuted": false,
    "source_hash": "a21d036b",
    "execution_start": 1638113317209,
    "execution_millis": 19,
    "deepnote_cell_type": "code"
   },
   "source": "crime_clean = pd.read_csv('cleaned_crime.csv')",
   "execution_count": 7,
   "outputs": []
  },
  {
   "cell_type": "code",
   "metadata": {
    "tags": [],
    "cell_id": "00009-3666ca9d-4463-4b02-8b92-d7a2a89e8be5",
    "deepnote_to_be_reexecuted": false,
    "source_hash": "3df56ed",
    "execution_start": 1637772249302,
    "execution_millis": 241,
    "deepnote_cell_type": "code"
   },
   "source": "crime_clean",
   "execution_count": null,
   "outputs": [
    {
     "output_type": "execute_result",
     "execution_count": 54,
     "data": {
      "application/vnd.deepnote.dataframe.v2+json": {
       "row_count": 3136,
       "column_count": 25,
       "columns": [
        {
         "name": "crime_rate_per_100000",
         "dtype": "float64",
         "stats": {
          "unique_count": 2967,
          "nan_count": 0,
          "min": "0.0",
          "max": "1791.995377",
          "histogram": [
           {
            "bin_start": 0,
            "bin_end": 179.1995377,
            "count": 1512
           },
           {
            "bin_start": 179.1995377,
            "bin_end": 358.3990754,
            "count": 981
           },
           {
            "bin_start": 358.3990754,
            "bin_end": 537.5986131,
            "count": 392
           },
           {
            "bin_start": 537.5986131,
            "bin_end": 716.7981508,
            "count": 163
           },
           {
            "bin_start": 716.7981508,
            "bin_end": 895.9976885000001,
            "count": 49
           },
           {
            "bin_start": 895.9976885000001,
            "bin_end": 1075.1972262,
            "count": 21
           },
           {
            "bin_start": 1075.1972262,
            "bin_end": 1254.3967639,
            "count": 11
           },
           {
            "bin_start": 1254.3967639,
            "bin_end": 1433.5963016,
            "count": 2
           },
           {
            "bin_start": 1433.5963016,
            "bin_end": 1612.7958393000001,
            "count": 2
           },
           {
            "bin_start": 1612.7958393000001,
            "bin_end": 1791.995377,
            "count": 3
           }
          ]
         }
        },
        {
         "name": "index",
         "dtype": "int64",
         "stats": {
          "unique_count": 3136,
          "nan_count": 0,
          "min": "1",
          "max": "3136",
          "histogram": [
           {
            "bin_start": 1,
            "bin_end": 314.5,
            "count": 314
           },
           {
            "bin_start": 314.5,
            "bin_end": 628,
            "count": 313
           },
           {
            "bin_start": 628,
            "bin_end": 941.5,
            "count": 314
           },
           {
            "bin_start": 941.5,
            "bin_end": 1255,
            "count": 313
           },
           {
            "bin_start": 1255,
            "bin_end": 1568.5,
            "count": 314
           },
           {
            "bin_start": 1568.5,
            "bin_end": 1882,
            "count": 313
           },
           {
            "bin_start": 1882,
            "bin_end": 2195.5,
            "count": 314
           },
           {
            "bin_start": 2195.5,
            "bin_end": 2509,
            "count": 313
           },
           {
            "bin_start": 2509,
            "bin_end": 2822.5,
            "count": 314
           },
           {
            "bin_start": 2822.5,
            "bin_end": 3136,
            "count": 314
           }
          ]
         }
        },
        {
         "name": "EDITION",
         "dtype": "int64",
         "stats": {
          "unique_count": 1,
          "nan_count": 0,
          "min": "1",
          "max": "1",
          "histogram": [
           {
            "bin_start": 0.5,
            "bin_end": 0.6,
            "count": 0
           },
           {
            "bin_start": 0.6,
            "bin_end": 0.7,
            "count": 0
           },
           {
            "bin_start": 0.7,
            "bin_end": 0.8,
            "count": 0
           },
           {
            "bin_start": 0.8,
            "bin_end": 0.9,
            "count": 0
           },
           {
            "bin_start": 0.9,
            "bin_end": 1,
            "count": 0
           },
           {
            "bin_start": 1,
            "bin_end": 1.1,
            "count": 3136
           },
           {
            "bin_start": 1.1,
            "bin_end": 1.2000000000000002,
            "count": 0
           },
           {
            "bin_start": 1.2000000000000002,
            "bin_end": 1.3,
            "count": 0
           },
           {
            "bin_start": 1.3,
            "bin_end": 1.4,
            "count": 0
           },
           {
            "bin_start": 1.4,
            "bin_end": 1.5,
            "count": 0
           }
          ]
         }
        },
        {
         "name": "PART",
         "dtype": "int64",
         "stats": {
          "unique_count": 1,
          "nan_count": 0,
          "min": "4",
          "max": "4",
          "histogram": [
           {
            "bin_start": 3.5,
            "bin_end": 3.6,
            "count": 0
           },
           {
            "bin_start": 3.6,
            "bin_end": 3.7,
            "count": 0
           },
           {
            "bin_start": 3.7,
            "bin_end": 3.8,
            "count": 0
           },
           {
            "bin_start": 3.8,
            "bin_end": 3.9,
            "count": 0
           },
           {
            "bin_start": 3.9,
            "bin_end": 4,
            "count": 0
           },
           {
            "bin_start": 4,
            "bin_end": 4.1,
            "count": 3136
           },
           {
            "bin_start": 4.1,
            "bin_end": 4.2,
            "count": 0
           },
           {
            "bin_start": 4.2,
            "bin_end": 4.3,
            "count": 0
           },
           {
            "bin_start": 4.3,
            "bin_end": 4.4,
            "count": 0
           },
           {
            "bin_start": 4.4,
            "bin_end": 4.5,
            "count": 0
           }
          ]
         }
        },
        {
         "name": "IDNO",
         "dtype": "int64",
         "stats": {
          "unique_count": 3136,
          "nan_count": 0,
          "min": "1",
          "max": "3177",
          "histogram": [
           {
            "bin_start": 1,
            "bin_end": 318.6,
            "count": 309
           },
           {
            "bin_start": 318.6,
            "bin_end": 636.2,
            "count": 314
           },
           {
            "bin_start": 636.2,
            "bin_end": 953.8000000000001,
            "count": 317
           },
           {
            "bin_start": 953.8000000000001,
            "bin_end": 1271.4,
            "count": 314
           },
           {
            "bin_start": 1271.4,
            "bin_end": 1589,
            "count": 314
           },
           {
            "bin_start": 1589,
            "bin_end": 1906.6000000000001,
            "count": 311
           },
           {
            "bin_start": 1906.6000000000001,
            "bin_end": 2224.2000000000003,
            "count": 315
           },
           {
            "bin_start": 2224.2000000000003,
            "bin_end": 2541.8,
            "count": 313
           },
           {
            "bin_start": 2541.8,
            "bin_end": 2859.4,
            "count": 315
           },
           {
            "bin_start": 2859.4,
            "bin_end": 3177,
            "count": 314
           }
          ]
         }
        },
        {
         "name": "CPOPARST",
         "dtype": "int64",
         "stats": {
          "unique_count": 3065,
          "nan_count": 0,
          "min": "0",
          "max": "9980757",
          "histogram": [
           {
            "bin_start": 0,
            "bin_end": 998075.7,
            "count": 3094
           },
           {
            "bin_start": 998075.7,
            "bin_end": 1996151.4,
            "count": 29
           },
           {
            "bin_start": 1996151.4,
            "bin_end": 2994227.0999999996,
            "count": 7
           },
           {
            "bin_start": 2994227.0999999996,
            "bin_end": 3992302.8,
            "count": 3
           },
           {
            "bin_start": 3992302.8,
            "bin_end": 4990378.5,
            "count": 1
           },
           {
            "bin_start": 4990378.5,
            "bin_end": 5988454.199999999,
            "count": 1
           },
           {
            "bin_start": 5988454.199999999,
            "bin_end": 6986529.899999999,
            "count": 0
           },
           {
            "bin_start": 6986529.899999999,
            "bin_end": 7984605.6,
            "count": 0
           },
           {
            "bin_start": 7984605.6,
            "bin_end": 8982681.299999999,
            "count": 0
           },
           {
            "bin_start": 8982681.299999999,
            "bin_end": 9980757,
            "count": 1
           }
          ]
         }
        },
        {
         "name": "CPOPCRIM",
         "dtype": "int64",
         "stats": {
          "unique_count": 2997,
          "nan_count": 0,
          "min": "0",
          "max": "9980757",
          "histogram": [
           {
            "bin_start": 0,
            "bin_end": 998075.7,
            "count": 3094
           },
           {
            "bin_start": 998075.7,
            "bin_end": 1996151.4,
            "count": 30
           },
           {
            "bin_start": 1996151.4,
            "bin_end": 2994227.0999999996,
            "count": 6
           },
           {
            "bin_start": 2994227.0999999996,
            "bin_end": 3992302.8,
            "count": 3
           },
           {
            "bin_start": 3992302.8,
            "bin_end": 4990378.5,
            "count": 1
           },
           {
            "bin_start": 4990378.5,
            "bin_end": 5988454.199999999,
            "count": 1
           },
           {
            "bin_start": 5988454.199999999,
            "bin_end": 6986529.899999999,
            "count": 0
           },
           {
            "bin_start": 6986529.899999999,
            "bin_end": 7984605.6,
            "count": 0
           },
           {
            "bin_start": 7984605.6,
            "bin_end": 8982681.299999999,
            "count": 0
           },
           {
            "bin_start": 8982681.299999999,
            "bin_end": 9980757,
            "count": 1
           }
          ]
         }
        },
        {
         "name": "AG_ARRST",
         "dtype": "int64",
         "stats": {
          "unique_count": 62,
          "nan_count": 0,
          "min": "0",
          "max": "150",
          "histogram": [
           {
            "bin_start": 0,
            "bin_end": 15,
            "count": 2890
           },
           {
            "bin_start": 15,
            "bin_end": 30,
            "count": 180
           },
           {
            "bin_start": 30,
            "bin_end": 45,
            "count": 43
           },
           {
            "bin_start": 45,
            "bin_end": 60,
            "count": 15
           },
           {
            "bin_start": 60,
            "bin_end": 75,
            "count": 4
           },
           {
            "bin_start": 75,
            "bin_end": 90,
            "count": 1
           },
           {
            "bin_start": 90,
            "bin_end": 105,
            "count": 0
           },
           {
            "bin_start": 105,
            "bin_end": 120,
            "count": 1
           },
           {
            "bin_start": 120,
            "bin_end": 135,
            "count": 1
           },
           {
            "bin_start": 135,
            "bin_end": 150,
            "count": 1
           }
          ]
         }
        },
        {
         "name": "AG_OFF",
         "dtype": "int64",
         "stats": {
          "unique_count": 60,
          "nan_count": 0,
          "min": "0",
          "max": "140",
          "histogram": [
           {
            "bin_start": 0,
            "bin_end": 14,
            "count": 2930
           },
           {
            "bin_start": 14,
            "bin_end": 28,
            "count": 144
           },
           {
            "bin_start": 28,
            "bin_end": 42,
            "count": 36
           },
           {
            "bin_start": 42,
            "bin_end": 56,
            "count": 19
           },
           {
            "bin_start": 56,
            "bin_end": 70,
            "count": 2
           },
           {
            "bin_start": 70,
            "bin_end": 84,
            "count": 2
           },
           {
            "bin_start": 84,
            "bin_end": 98,
            "count": 0
           },
           {
            "bin_start": 98,
            "bin_end": 112,
            "count": 1
           },
           {
            "bin_start": 112,
            "bin_end": 126,
            "count": 0
           },
           {
            "bin_start": 126,
            "bin_end": 140,
            "count": 2
           }
          ]
         }
        },
        {
         "name": "COVIND",
         "dtype": "float64",
         "stats": {
          "unique_count": 573,
          "nan_count": 0,
          "min": "0.0",
          "max": "100.0",
          "histogram": [
           {
            "bin_start": 0,
            "bin_end": 10,
            "count": 6
           },
           {
            "bin_start": 10,
            "bin_end": 20,
            "count": 2
           },
           {
            "bin_start": 20,
            "bin_end": 30,
            "count": 3
           },
           {
            "bin_start": 30,
            "bin_end": 40,
            "count": 5
           },
           {
            "bin_start": 40,
            "bin_end": 50,
            "count": 13
           },
           {
            "bin_start": 50,
            "bin_end": 60,
            "count": 11
           },
           {
            "bin_start": 60,
            "bin_end": 70,
            "count": 13
           },
           {
            "bin_start": 70,
            "bin_end": 80,
            "count": 26
           },
           {
            "bin_start": 80,
            "bin_end": 90,
            "count": 70
           },
           {
            "bin_start": 90,
            "bin_end": 100,
            "count": 2987
           }
          ]
         }
        },
        {
         "name": "INDEX",
         "dtype": "int64",
         "stats": {
          "unique_count": 710,
          "nan_count": 0,
          "min": "0",
          "max": "44556",
          "histogram": [
           {
            "bin_start": 0,
            "bin_end": 4455.6,
            "count": 3081
           },
           {
            "bin_start": 4455.6,
            "bin_end": 8911.2,
            "count": 37
           },
           {
            "bin_start": 8911.2,
            "bin_end": 13366.800000000001,
            "count": 8
           },
           {
            "bin_start": 13366.800000000001,
            "bin_end": 17822.4,
            "count": 5
           },
           {
            "bin_start": 17822.4,
            "bin_end": 22278,
            "count": 2
           },
           {
            "bin_start": 22278,
            "bin_end": 26733.600000000002,
            "count": 0
           },
           {
            "bin_start": 26733.600000000002,
            "bin_end": 31189.200000000004,
            "count": 1
           },
           {
            "bin_start": 31189.200000000004,
            "bin_end": 35644.8,
            "count": 1
           },
           {
            "bin_start": 35644.8,
            "bin_end": 40100.4,
            "count": 0
           },
           {
            "bin_start": 40100.4,
            "bin_end": 44556,
            "count": 1
           }
          ]
         }
        },
        {
         "name": "MODINDX",
         "dtype": "int64",
         "stats": {
          "unique_count": 1758,
          "nan_count": 0,
          "min": "0",
          "max": "232266",
          "histogram": [
           {
            "bin_start": 0,
            "bin_end": 23226.6,
            "count": 3063
           },
           {
            "bin_start": 23226.6,
            "bin_end": 46453.2,
            "count": 47
           },
           {
            "bin_start": 46453.2,
            "bin_end": 69679.79999999999,
            "count": 17
           },
           {
            "bin_start": 69679.79999999999,
            "bin_end": 92906.4,
            "count": 2
           },
           {
            "bin_start": 92906.4,
            "bin_end": 116133,
            "count": 3
           },
           {
            "bin_start": 116133,
            "bin_end": 139359.59999999998,
            "count": 1
           },
           {
            "bin_start": 139359.59999999998,
            "bin_end": 162586.19999999998,
            "count": 0
           },
           {
            "bin_start": 162586.19999999998,
            "bin_end": 185812.8,
            "count": 2
           },
           {
            "bin_start": 185812.8,
            "bin_end": 209039.4,
            "count": 0
           },
           {
            "bin_start": 209039.4,
            "bin_end": 232266,
            "count": 1
           }
          ]
         }
        },
        {
         "name": "MURDER",
         "dtype": "int64",
         "stats": {
          "unique_count": 95,
          "nan_count": 0,
          "min": "0",
          "max": "600",
          "histogram": [
           {
            "bin_start": 0,
            "bin_end": 60,
            "count": 3082
           },
           {
            "bin_start": 60,
            "bin_end": 120,
            "count": 39
           },
           {
            "bin_start": 120,
            "bin_end": 180,
            "count": 6
           },
           {
            "bin_start": 180,
            "bin_end": 240,
            "count": 4
           },
           {
            "bin_start": 240,
            "bin_end": 300,
            "count": 0
           },
           {
            "bin_start": 300,
            "bin_end": 360,
            "count": 2
           },
           {
            "bin_start": 360,
            "bin_end": 420,
            "count": 0
           },
           {
            "bin_start": 420,
            "bin_end": 480,
            "count": 1
           },
           {
            "bin_start": 480,
            "bin_end": 540,
            "count": 0
           },
           {
            "bin_start": 540,
            "bin_end": 600,
            "count": 2
           }
          ]
         }
        },
        {
         "name": "RAPE",
         "dtype": "int64",
         "stats": {
          "unique_count": 232,
          "nan_count": 0,
          "min": "0",
          "max": "1976",
          "histogram": [
           {
            "bin_start": 0,
            "bin_end": 197.6,
            "count": 3062
           },
           {
            "bin_start": 197.6,
            "bin_end": 395.2,
            "count": 46
           },
           {
            "bin_start": 395.2,
            "bin_end": 592.8,
            "count": 17
           },
           {
            "bin_start": 592.8,
            "bin_end": 790.4,
            "count": 6
           },
           {
            "bin_start": 790.4,
            "bin_end": 988,
            "count": 2
           },
           {
            "bin_start": 988,
            "bin_end": 1185.6,
            "count": 2
           },
           {
            "bin_start": 1185.6,
            "bin_end": 1383.2,
            "count": 0
           },
           {
            "bin_start": 1383.2,
            "bin_end": 1580.8,
            "count": 0
           },
           {
            "bin_start": 1580.8,
            "bin_end": 1778.3999999999999,
            "count": 0
           },
           {
            "bin_start": 1778.3999999999999,
            "bin_end": 1976,
            "count": 1
           }
          ]
         }
        },
        {
         "name": "ROBBERY",
         "dtype": "int64",
         "stats": {
          "unique_count": 386,
          "nan_count": 0,
          "min": "0",
          "max": "18923",
          "histogram": [
           {
            "bin_start": 0,
            "bin_end": 1892.3,
            "count": 3095
           },
           {
            "bin_start": 1892.3,
            "bin_end": 3784.6,
            "count": 27
           },
           {
            "bin_start": 3784.6,
            "bin_end": 5676.9,
            "count": 6
           },
           {
            "bin_start": 5676.9,
            "bin_end": 7569.2,
            "count": 4
           },
           {
            "bin_start": 7569.2,
            "bin_end": 9461.5,
            "count": 1
           },
           {
            "bin_start": 9461.5,
            "bin_end": 11353.8,
            "count": 0
           },
           {
            "bin_start": 11353.8,
            "bin_end": 13246.1,
            "count": 1
           },
           {
            "bin_start": 13246.1,
            "bin_end": 15138.4,
            "count": 0
           },
           {
            "bin_start": 15138.4,
            "bin_end": 17030.7,
            "count": 1
           },
           {
            "bin_start": 17030.7,
            "bin_end": 18923,
            "count": 1
           }
          ]
         }
        },
        {
         "name": "AGASSLT",
         "dtype": "int64",
         "stats": {
          "unique_count": 631,
          "nan_count": 0,
          "min": "0",
          "max": "23057",
          "histogram": [
           {
            "bin_start": 0,
            "bin_end": 2305.7,
            "count": 3077
           },
           {
            "bin_start": 2305.7,
            "bin_end": 4611.4,
            "count": 33
           },
           {
            "bin_start": 4611.4,
            "bin_end": 6917.099999999999,
            "count": 14
           },
           {
            "bin_start": 6917.099999999999,
            "bin_end": 9222.8,
            "count": 5
           },
           {
            "bin_start": 9222.8,
            "bin_end": 11528.5,
            "count": 3
           },
           {
            "bin_start": 11528.5,
            "bin_end": 13834.199999999999,
            "count": 1
           },
           {
            "bin_start": 13834.199999999999,
            "bin_end": 16139.899999999998,
            "count": 1
           },
           {
            "bin_start": 16139.899999999998,
            "bin_end": 18445.6,
            "count": 1
           },
           {
            "bin_start": 18445.6,
            "bin_end": 20751.3,
            "count": 0
           },
           {
            "bin_start": 20751.3,
            "bin_end": 23057,
            "count": 1
           }
          ]
         }
        },
        {
         "name": "BURGLRY",
         "dtype": "int64",
         "stats": {
          "unique_count": 1050,
          "nan_count": 0,
          "min": "0",
          "max": "49107",
          "histogram": [
           {
            "bin_start": 0,
            "bin_end": 4910.7,
            "count": 3058
           },
           {
            "bin_start": 4910.7,
            "bin_end": 9821.4,
            "count": 47
           },
           {
            "bin_start": 9821.4,
            "bin_end": 14732.099999999999,
            "count": 15
           },
           {
            "bin_start": 14732.099999999999,
            "bin_end": 19642.8,
            "count": 9
           },
           {
            "bin_start": 19642.8,
            "bin_end": 24553.5,
            "count": 2
           },
           {
            "bin_start": 24553.5,
            "bin_end": 29464.199999999997,
            "count": 1
           },
           {
            "bin_start": 29464.199999999997,
            "bin_end": 34374.9,
            "count": 2
           },
           {
            "bin_start": 34374.9,
            "bin_end": 39285.6,
            "count": 0
           },
           {
            "bin_start": 39285.6,
            "bin_end": 44196.299999999996,
            "count": 1
           },
           {
            "bin_start": 44196.299999999996,
            "bin_end": 49107,
            "count": 1
           }
          ]
         }
        },
        {
         "name": "LARCENY",
         "dtype": "int64",
         "stats": {
          "unique_count": 1558,
          "nan_count": 0,
          "min": "0",
          "max": "142604",
          "histogram": [
           {
            "bin_start": 0,
            "bin_end": 14260.4,
            "count": 3057
           },
           {
            "bin_start": 14260.4,
            "bin_end": 28520.8,
            "count": 47
           },
           {
            "bin_start": 28520.8,
            "bin_end": 42781.2,
            "count": 20
           },
           {
            "bin_start": 42781.2,
            "bin_end": 57041.6,
            "count": 5
           },
           {
            "bin_start": 57041.6,
            "bin_end": 71302,
            "count": 2
           },
           {
            "bin_start": 71302,
            "bin_end": 85562.4,
            "count": 1
           },
           {
            "bin_start": 85562.4,
            "bin_end": 99822.8,
            "count": 1
           },
           {
            "bin_start": 99822.8,
            "bin_end": 114083.2,
            "count": 0
           },
           {
            "bin_start": 114083.2,
            "bin_end": 128343.59999999999,
            "count": 2
           },
           {
            "bin_start": 128343.59999999999,
            "bin_end": 142604,
            "count": 1
           }
          ]
         }
        },
        {
         "name": "MVTHEFT",
         "dtype": "int64",
         "stats": {
          "unique_count": 531,
          "nan_count": 0,
          "min": "0",
          "max": "40555",
          "histogram": [
           {
            "bin_start": 0,
            "bin_end": 4055.5,
            "count": 3099
           },
           {
            "bin_start": 4055.5,
            "bin_end": 8111,
            "count": 22
           },
           {
            "bin_start": 8111,
            "bin_end": 12166.5,
            "count": 10
           },
           {
            "bin_start": 12166.5,
            "bin_end": 16222,
            "count": 2
           },
           {
            "bin_start": 16222,
            "bin_end": 20277.5,
            "count": 1
           },
           {
            "bin_start": 20277.5,
            "bin_end": 24333,
            "count": 1
           },
           {
            "bin_start": 24333,
            "bin_end": 28388.5,
            "count": 0
           },
           {
            "bin_start": 28388.5,
            "bin_end": 32444,
            "count": 0
           },
           {
            "bin_start": 32444,
            "bin_end": 36499.5,
            "count": 0
           },
           {
            "bin_start": 36499.5,
            "bin_end": 40555,
            "count": 1
           }
          ]
         }
        },
        {
         "name": "ARSON",
         "dtype": "int64",
         "stats": {
          "unique_count": 176,
          "nan_count": 0,
          "min": "0",
          "max": "2210",
          "histogram": [
           {
            "bin_start": 0,
            "bin_end": 221,
            "count": 3093
           },
           {
            "bin_start": 221,
            "bin_end": 442,
            "count": 32
           },
           {
            "bin_start": 442,
            "bin_end": 663,
            "count": 5
           },
           {
            "bin_start": 663,
            "bin_end": 884,
            "count": 3
           },
           {
            "bin_start": 884,
            "bin_end": 1105,
            "count": 1
           },
           {
            "bin_start": 1105,
            "bin_end": 1326,
            "count": 1
           },
           {
            "bin_start": 1326,
            "bin_end": 1547,
            "count": 0
           },
           {
            "bin_start": 1547,
            "bin_end": 1768,
            "count": 0
           },
           {
            "bin_start": 1768,
            "bin_end": 1989,
            "count": 0
           },
           {
            "bin_start": 1989,
            "bin_end": 2210,
            "count": 1
           }
          ]
         }
        },
        {
         "name": "population",
         "dtype": "int64",
         "stats": {
          "unique_count": 3079,
          "nan_count": 0,
          "min": "90",
          "max": "10017068",
          "histogram": [
           {
            "bin_start": 90,
            "bin_end": 1001787.8,
            "count": 3096
           },
           {
            "bin_start": 1001787.8,
            "bin_end": 2003485.6,
            "count": 26
           },
           {
            "bin_start": 2003485.6,
            "bin_end": 3005183.4000000004,
            "count": 8
           },
           {
            "bin_start": 3005183.4000000004,
            "bin_end": 4006881.2,
            "count": 2
           },
           {
            "bin_start": 4006881.2,
            "bin_end": 5008579,
            "count": 2
           },
           {
            "bin_start": 5008579,
            "bin_end": 6010276.800000001,
            "count": 1
           },
           {
            "bin_start": 6010276.800000001,
            "bin_end": 7011974.600000001,
            "count": 0
           },
           {
            "bin_start": 7011974.600000001,
            "bin_end": 8013672.4,
            "count": 0
           },
           {
            "bin_start": 8013672.4,
            "bin_end": 9015370.200000001,
            "count": 0
           },
           {
            "bin_start": 9015370.200000001,
            "bin_end": 10017068,
            "count": 1
           }
          ]
         }
        },
        {
         "name": "FIPS_ST",
         "dtype": "int64",
         "stats": {
          "unique_count": 51,
          "nan_count": 0,
          "min": "1",
          "max": "56",
          "histogram": [
           {
            "bin_start": 1,
            "bin_end": 6.5,
            "count": 238
           },
           {
            "bin_start": 6.5,
            "bin_end": 12,
            "count": 76
           },
           {
            "bin_start": 12,
            "bin_end": 17.5,
            "count": 377
           },
           {
            "bin_start": 17.5,
            "bin_end": 23,
            "count": 480
           },
           {
            "bin_start": 23,
            "bin_end": 28.5,
            "count": 306
           },
           {
            "bin_start": 28.5,
            "bin_end": 34,
            "count": 291
           },
           {
            "bin_start": 34,
            "bin_end": 39.5,
            "count": 356
           },
           {
            "bin_start": 39.5,
            "bin_end": 45,
            "count": 185
           },
           {
            "bin_start": 45,
            "bin_end": 50.5,
            "count": 504
           },
           {
            "bin_start": 50.5,
            "bin_end": 56,
            "count": 323
           }
          ]
         }
        },
        {
         "name": "FIPS_CTY",
         "dtype": "int64",
         "stats": {
          "unique_count": 321,
          "nan_count": 0,
          "min": "1",
          "max": "840",
          "histogram": [
           {
            "bin_start": 1,
            "bin_end": 84.9,
            "count": 1658
           },
           {
            "bin_start": 84.9,
            "bin_end": 168.8,
            "count": 994
           },
           {
            "bin_start": 168.8,
            "bin_end": 252.70000000000002,
            "count": 275
           },
           {
            "bin_start": 252.70000000000002,
            "bin_end": 336.6,
            "count": 81
           },
           {
            "bin_start": 336.6,
            "bin_end": 420.5,
            "count": 42
           },
           {
            "bin_start": 420.5,
            "bin_end": 504.40000000000003,
            "count": 42
           },
           {
            "bin_start": 504.40000000000003,
            "bin_end": 588.3000000000001,
            "count": 13
           },
           {
            "bin_start": 588.3000000000001,
            "bin_end": 672.2,
            "count": 10
           },
           {
            "bin_start": 672.2,
            "bin_end": 756.1,
            "count": 12
           },
           {
            "bin_start": 756.1,
            "bin_end": 840,
            "count": 9
           }
          ]
         }
        },
        {
         "name": "county",
         "dtype": "object",
         "stats": {
          "unique_count": 1870,
          "nan_count": 0,
          "categories": [
           {
            "name": "Washington County",
            "count": 30
           },
           {
            "name": "Jefferson County",
            "count": 25
           },
           {
            "name": "1868 others",
            "count": 3081
           }
          ]
         }
        },
        {
         "name": "State",
         "dtype": "object",
         "stats": {
          "unique_count": 51,
          "nan_count": 0,
          "categories": [
           {
            "name": " TX",
            "count": 254
           },
           {
            "name": " GA",
            "count": 159
           },
           {
            "name": "49 others",
            "count": 2723
           }
          ]
         }
        },
        {
         "name": "_deepnote_index_column",
         "dtype": "int64"
        }
       ],
       "rows_top": [
        {
         "crime_rate_per_100000": 1791.995377,
         "index": 1,
         "EDITION": 1,
         "PART": 4,
         "IDNO": 1612,
         "CPOPARST": 318667,
         "CPOPCRIM": 318667,
         "AG_ARRST": 15,
         "AG_OFF": 15,
         "COVIND": 100,
         "INDEX": 5706,
         "MODINDX": 22329,
         "MURDER": 119,
         "RAPE": 200,
         "ROBBERY": 1778,
         "AGASSLT": 3609,
         "BURGLRY": 4995,
         "LARCENY": 13791,
         "MVTHEFT": 3543,
         "ARSON": 464,
         "population": 318416,
         "FIPS_ST": 29,
         "FIPS_CTY": 510,
         "county": "St. Louis city",
         "State": " MO",
         "_deepnote_index_column": 0
        },
        {
         "crime_rate_per_100000": 1754.914968,
         "index": 2,
         "EDITION": 1,
         "PART": 4,
         "IDNO": 130,
         "CPOPARST": 50717,
         "CPOPCRIM": 50717,
         "AG_ARRST": 4,
         "AG_OFF": 4,
         "COVIND": 100,
         "INDEX": 873,
         "MODINDX": 3424,
         "MURDER": 8,
         "RAPE": 38,
         "ROBBERY": 165,
         "AGASSLT": 662,
         "BURGLRY": 1482,
         "LARCENY": 1753,
         "MVTHEFT": 189,
         "ARSON": 28,
         "population": 49746,
         "FIPS_ST": 5,
         "FIPS_CTY": 35,
         "county": "Crittenden County",
         "State": " AR",
         "_deepnote_index_column": 1
        },
        {
         "crime_rate_per_100000": 1664.700485,
         "index": 3,
         "EDITION": 1,
         "PART": 4,
         "IDNO": 604,
         "CPOPARST": 8040,
         "CPOPCRIM": 8040,
         "AG_ARRST": 2,
         "AG_OFF": 2,
         "COVIND": 100,
         "INDEX": 127,
         "MODINDX": 278,
         "MURDER": 1,
         "RAPE": 2,
         "ROBBERY": 5,
         "AGASSLT": 119,
         "BURGLRY": 82,
         "LARCENY": 184,
         "MVTHEFT": 12,
         "ARSON": 2,
         "population": 7629,
         "FIPS_ST": 17,
         "FIPS_CTY": 3,
         "county": "Alexander County",
         "State": " IL",
         "_deepnote_index_column": 2
        },
        {
         "crime_rate_per_100000": 1456.31068,
         "index": 4,
         "EDITION": 1,
         "PART": 4,
         "IDNO": 2681,
         "CPOPARST": 444,
         "CPOPCRIM": 444,
         "AG_ARRST": 1,
         "AG_OFF": 1,
         "COVIND": 100,
         "INDEX": 6,
         "MODINDX": 13,
         "MURDER": 0,
         "RAPE": 3,
         "ROBBERY": 1,
         "AGASSLT": 2,
         "BURGLRY": 5,
         "LARCENY": 4,
         "MVTHEFT": 4,
         "ARSON": 0,
         "population": 412,
         "FIPS_ST": 48,
         "FIPS_CTY": 261,
         "county": "Kenedy County",
         "State": " TX",
         "_deepnote_index_column": 3
        },
        {
         "crime_rate_per_100000": 1447.40243,
         "index": 5,
         "EDITION": 1,
         "PART": 4,
         "IDNO": 1137,
         "CPOPARST": 26971,
         "CPOPCRIM": 26971,
         "AG_ARRST": 3,
         "AG_OFF": 3,
         "COVIND": 100,
         "INDEX": 392,
         "MODINDX": 703,
         "MURDER": 3,
         "RAPE": 4,
         "ROBBERY": 17,
         "AGASSLT": 368,
         "BURGLRY": 149,
         "LARCENY": 494,
         "MVTHEFT": 60,
         "ARSON": 0,
         "population": 27083,
         "FIPS_ST": 22,
         "FIPS_CTY": 31,
         "county": "De Soto Parish",
         "State": " LA",
         "_deepnote_index_column": 4
        },
        {
         "crime_rate_per_100000": 1419.537569,
         "index": 6,
         "EDITION": 1,
         "PART": 4,
         "IDNO": 1227,
         "CPOPARST": 625474,
         "CPOPCRIM": 625474,
         "AG_ARRST": 9,
         "AG_OFF": 9,
         "COVIND": 100,
         "INDEX": 8831,
         "MODINDX": 29868,
         "MURDER": 216,
         "RAPE": 317,
         "ROBBERY": 3638,
         "AGASSLT": 4660,
         "BURGLRY": 7804,
         "LARCENY": 18055,
         "MVTHEFT": 4009,
         "ARSON": 251,
         "population": 622104,
         "FIPS_ST": 24,
         "FIPS_CTY": 510,
         "county": "Baltimore city",
         "State": " MD",
         "_deepnote_index_column": 5
        },
        {
         "crime_rate_per_100000": 1315.003752,
         "index": 7,
         "EDITION": 1,
         "PART": 4,
         "IDNO": 2534,
         "CPOPARST": 942807,
         "CPOPCRIM": 942807,
         "AG_ARRST": 15,
         "AG_OFF": 14,
         "COVIND": 100,
         "INDEX": 12354,
         "MODINDX": 47864,
         "MURDER": 135,
         "RAPE": 483,
         "ROBBERY": 3512,
         "AGASSLT": 8224,
         "BURGLRY": 14011,
         "LARCENY": 30620,
         "MVTHEFT": 3233,
         "ARSON": 435,
         "population": 939465,
         "FIPS_ST": 47,
         "FIPS_CTY": 157,
         "county": "Shelby County",
         "State": " TN",
         "_deepnote_index_column": 6
        },
        {
         "crime_rate_per_100000": 1253.437132,
         "index": 8,
         "EDITION": 1,
         "PART": 4,
         "IDNO": 2377,
         "CPOPARST": 28780,
         "CPOPCRIM": 28780,
         "AG_ARRST": 9,
         "AG_OFF": 8,
         "COVIND": 100,
         "INDEX": 351,
         "MODINDX": 1549,
         "MURDER": 3,
         "RAPE": 20,
         "ROBBERY": 32,
         "AGASSLT": 296,
         "BURGLRY": 408,
         "LARCENY": 1074,
         "MVTHEFT": 67,
         "ARSON": 5,
         "population": 28003,
         "FIPS_ST": 45,
         "FIPS_CTY": 69,
         "county": "Marlboro County",
         "State": " SC",
         "_deepnote_index_column": 7
        },
        {
         "crime_rate_per_100000": 1217.656012,
         "index": 9,
         "EDITION": 1,
         "PART": 4,
         "IDNO": 1778,
         "CPOPARST": 3947,
         "CPOPCRIM": 3947,
         "AG_ARRST": 1,
         "AG_OFF": 1,
         "COVIND": 100,
         "INDEX": 48,
         "MODINDX": 86,
         "MURDER": 0,
         "RAPE": 7,
         "ROBBERY": 2,
         "AGASSLT": 39,
         "BURGLRY": 23,
         "LARCENY": 55,
         "MVTHEFT": 8,
         "ARSON": 2,
         "population": 3942,
         "FIPS_ST": 32,
         "FIPS_CTY": 29,
         "county": "Storey County",
         "State": " NV",
         "_deepnote_index_column": 8
        },
        {
         "crime_rate_per_100000": 1216.801325,
         "index": 10,
         "EDITION": 1,
         "PART": 4,
         "IDNO": 325,
         "CPOPARST": 632323,
         "CPOPCRIM": 632323,
         "AG_ARRST": 2,
         "AG_OFF": 1,
         "COVIND": 100,
         "INDEX": 7866,
         "MODINDX": 30757,
         "MURDER": 88,
         "RAPE": 236,
         "ROBBERY": 4037,
         "AGASSLT": 3505,
         "BURGLRY": 3519,
         "LARCENY": 23575,
         "MVTHEFT": 3663,
         "ARSON": 51,
         "population": 646449,
         "FIPS_ST": 11,
         "FIPS_CTY": 1,
         "county": "District of Columbia",
         "State": " DC",
         "_deepnote_index_column": 9
        },
        {
         "crime_rate_per_100000": 1165.583272,
         "index": 11,
         "EDITION": 1,
         "PART": 4,
         "IDNO": 2359,
         "CPOPARST": 32060,
         "CPOPCRIM": 32060,
         "AG_ARRST": 9,
         "AG_OFF": 8,
         "COVIND": 100,
         "INDEX": 364,
         "MODINDX": 1906,
         "MURDER": 8,
         "RAPE": 17,
         "ROBBERY": 48,
         "AGASSLT": 291,
         "BURGLRY": 595,
         "LARCENY": 1206,
         "MVTHEFT": 105,
         "ARSON": 12,
         "population": 31229,
         "FIPS_ST": 45,
         "FIPS_CTY": 33,
         "county": "Dillon County",
         "State": " SC",
         "_deepnote_index_column": 10
        },
        {
         "crime_rate_per_100000": 1163.145839,
         "index": 12,
         "EDITION": 1,
         "PART": 4,
         "IDNO": 1597,
         "CPOPARST": 40941,
         "CPOPCRIM": 40941,
         "AG_ARRST": 7,
         "AG_OFF": 8,
         "COVIND": 100,
         "INDEX": 457,
         "MODINDX": 1277,
         "MURDER": 2,
         "RAPE": 7,
         "ROBBERY": 26,
         "AGASSLT": 422,
         "BURGLRY": 236,
         "LARCENY": 1002,
         "MVTHEFT": 39,
         "ARSON": 8,
         "population": 39290,
         "FIPS_ST": 29,
         "FIPS_CTY": 201,
         "county": "Scott County",
         "State": " MO",
         "_deepnote_index_column": 11
        },
        {
         "crime_rate_per_100000": 1150.29633,
         "index": 13,
         "EDITION": 1,
         "PART": 4,
         "IDNO": 2320,
         "CPOPARST": 1538957,
         "CPOPCRIM": 1538957,
         "AG_ARRST": 6,
         "AG_OFF": 5,
         "COVIND": 100,
         "INDEX": 17866,
         "MODINDX": 57000,
         "MURDER": 332,
         "RAPE": 881,
         "ROBBERY": 7984,
         "AGASSLT": 8669,
         "BURGLRY": 12004,
         "LARCENY": 38595,
         "MVTHEFT": 6401,
         "ARSON": 0,
         "population": 1553165,
         "FIPS_ST": 42,
         "FIPS_CTY": 101,
         "county": "Philadelphia County",
         "State": " PA",
         "_deepnote_index_column": 12
        },
        {
         "crime_rate_per_100000": 1148.756725,
         "index": 14,
         "EDITION": 1,
         "PART": 4,
         "IDNO": 1777,
         "CPOPARST": 6822,
         "CPOPCRIM": 6822,
         "AG_ARRST": 2,
         "AG_OFF": 2,
         "COVIND": 100,
         "INDEX": 79,
         "MODINDX": 75,
         "MURDER": 0,
         "RAPE": 3,
         "ROBBERY": 1,
         "AGASSLT": 75,
         "BURGLRY": 27,
         "LARCENY": 43,
         "MVTHEFT": 5,
         "ARSON": 0,
         "population": 6877,
         "FIPS_ST": 32,
         "FIPS_CTY": 27,
         "county": "Pershing County",
         "State": " NV",
         "_deepnote_index_column": 13
        },
        {
         "crime_rate_per_100000": 1140.226324,
         "index": 15,
         "EDITION": 1,
         "PART": 4,
         "IDNO": 2366,
         "CPOPARST": 71009,
         "CPOPCRIM": 70499,
         "AG_ARRST": 10,
         "AG_OFF": 8,
         "COVIND": 100,
         "INDEX": 795,
         "MODINDX": 3651,
         "MURDER": 7,
         "RAPE": 39,
         "ROBBERY": 73,
         "AGASSLT": 676,
         "BURGLRY": 965,
         "LARCENY": 2564,
         "MVTHEFT": 122,
         "ARSON": 12,
         "population": 69723,
         "FIPS_ST": 45,
         "FIPS_CTY": 47,
         "county": "Greenwood County",
         "State": " SC",
         "_deepnote_index_column": 14
        },
        {
         "crime_rate_per_100000": 1138.42383,
         "index": 16,
         "EDITION": 1,
         "PART": 4,
         "IDNO": 2512,
         "CPOPARST": 98988,
         "CPOPCRIM": 99067,
         "AG_ARRST": 4,
         "AG_OFF": 5,
         "COVIND": 100,
         "INDEX": 1124,
         "MODINDX": 4084,
         "MURDER": 13,
         "RAPE": 33,
         "ROBBERY": 196,
         "AGASSLT": 882,
         "BURGLRY": 1300,
         "LARCENY": 2604,
         "MVTHEFT": 180,
         "ARSON": 27,
         "population": 98733,
         "FIPS_ST": 47,
         "FIPS_CTY": 113,
         "county": "Madison County",
         "State": " TN",
         "_deepnote_index_column": 15
        },
        {
         "crime_rate_per_100000": 1129.513728,
         "index": 17,
         "EDITION": 1,
         "PART": 4,
         "IDNO": 2474,
         "CPOPARST": 635244,
         "CPOPCRIM": 635244,
         "AG_ARRST": 10,
         "AG_OFF": 10,
         "COVIND": 100,
         "INDEX": 7439,
         "MODINDX": 27666,
         "MURDER": 65,
         "RAPE": 312,
         "ROBBERY": 1753,
         "AGASSLT": 5309,
         "BURGLRY": 5875,
         "LARCENY": 20373,
         "MVTHEFT": 1418,
         "ARSON": 100,
         "population": 658602,
         "FIPS_ST": 47,
         "FIPS_CTY": 37,
         "county": "Davidson County",
         "State": " TN",
         "_deepnote_index_column": 16
        },
        {
         "crime_rate_per_100000": 1083.508119,
         "index": 18,
         "EDITION": 1,
         "PART": 4,
         "IDNO": 753,
         "CPOPARST": 911521,
         "CPOPCRIM": 867596,
         "AG_ARRST": 11,
         "AG_OFF": 9,
         "COVIND": 100,
         "INDEX": 10058,
         "MODINDX": 49004,
         "MURDER": 102,
         "RAPE": 453,
         "ROBBERY": 3486,
         "AGASSLT": 6017,
         "BURGLRY": 15125,
         "LARCENY": 29122,
         "MVTHEFT": 4757,
         "ARSON": 414,
         "population": 928281,
         "FIPS_ST": 18,
         "FIPS_CTY": 97,
         "county": "Marion County",
         "State": " IN",
         "_deepnote_index_column": 17
        },
        {
         "crime_rate_per_100000": 1065.188284,
         "index": 19,
         "EDITION": 1,
         "PART": 4,
         "IDNO": 1324,
         "CPOPARST": 1800769,
         "CPOPCRIM": 1793982,
         "AG_ARRST": 47,
         "AG_OFF": 47,
         "COVIND": 99.6046,
         "INDEX": 18910,
         "MODINDX": 69839,
         "MURDER": 433,
         "RAPE": 803,
         "ROBBERY": 5879,
         "AGASSLT": 11795,
         "BURGLRY": 19882,
         "LARCENY": 34706,
         "MVTHEFT": 15251,
         "ARSON": 766,
         "population": 1775273,
         "FIPS_ST": 26,
         "FIPS_CTY": 163,
         "county": "Wayne County",
         "State": " MI",
         "_deepnote_index_column": 18
        },
        {
         "crime_rate_per_100000": 1026.623686,
         "index": 20,
         "EDITION": 1,
         "PART": 4,
         "IDNO": 1545,
         "CPOPARST": 839561,
         "CPOPCRIM": 837636,
         "AG_ARRST": 19,
         "AG_OFF": 23,
         "COVIND": 100,
         "INDEX": 6981,
         "MODINDX": 40642,
         "MURDER": 116,
         "RAPE": 358,
         "ROBBERY": 1913,
         "AGASSLT": 4594,
         "BURGLRY": 9695,
         "LARCENY": 25994,
         "MVTHEFT": 4953,
         "ARSON": 318,
         "population": 679996,
         "FIPS_ST": 29,
         "FIPS_CTY": 95,
         "county": "Jackson County",
         "State": " MO",
         "_deepnote_index_column": 19
        }
       ],
       "rows_bottom": [
        {
         "crime_rate_per_100000": 0,
         "index": 3117,
         "EDITION": 1,
         "PART": 4,
         "IDNO": 1703,
         "CPOPARST": 4978,
         "CPOPCRIM": 0,
         "AG_ARRST": 2,
         "AG_OFF": 1,
         "COVIND": 100,
         "INDEX": 0,
         "MODINDX": 3,
         "MURDER": 0,
         "RAPE": 0,
         "ROBBERY": 0,
         "AGASSLT": 0,
         "BURGLRY": 1,
         "LARCENY": 2,
         "MVTHEFT": 0,
         "ARSON": 0,
         "population": 4865,
         "FIPS_ST": 31,
         "FIPS_CTY": 65,
         "county": "Furnas County",
         "State": " NE",
         "_deepnote_index_column": 3116
        },
        {
         "crime_rate_per_100000": 0,
         "index": 3118,
         "EDITION": 1,
         "PART": 4,
         "IDNO": 1667,
         "CPOPARST": 992,
         "CPOPCRIM": 992,
         "AG_ARRST": 1,
         "AG_OFF": 1,
         "COVIND": 100,
         "INDEX": 0,
         "MODINDX": 3,
         "MURDER": 0,
         "RAPE": 0,
         "ROBBERY": 0,
         "AGASSLT": 0,
         "BURGLRY": 2,
         "LARCENY": 1,
         "MVTHEFT": 0,
         "ARSON": 0,
         "population": 1121,
         "FIPS_ST": 30,
         "FIPS_CTY": 109,
         "county": "Wibaux County",
         "State": " MT",
         "_deepnote_index_column": 3117
        },
        {
         "crime_rate_per_100000": 0,
         "index": 3119,
         "EDITION": 1,
         "PART": 4,
         "IDNO": 2038,
         "CPOPARST": 2833,
         "CPOPCRIM": 2833,
         "AG_ARRST": 2,
         "AG_OFF": 2,
         "COVIND": 88.0927,
         "INDEX": 0,
         "MODINDX": 8,
         "MURDER": 0,
         "RAPE": 0,
         "ROBBERY": 0,
         "AGASSLT": 0,
         "BURGLRY": 5,
         "LARCENY": 3,
         "MVTHEFT": 0,
         "ARSON": 0,
         "population": 2754,
         "FIPS_ST": 38,
         "FIPS_CTY": 51,
         "county": "McIntosh County",
         "State": " ND",
         "_deepnote_index_column": 3118
        },
        {
         "crime_rate_per_100000": 0,
         "index": 3120,
         "EDITION": 1,
         "PART": 4,
         "IDNO": 2013,
         "CPOPARST": 2360,
         "CPOPCRIM": 2360,
         "AG_ARRST": 1,
         "AG_OFF": 1,
         "COVIND": 100,
         "INDEX": 0,
         "MODINDX": 12,
         "MURDER": 0,
         "RAPE": 0,
         "ROBBERY": 0,
         "AGASSLT": 0,
         "BURGLRY": 7,
         "LARCENY": 5,
         "MVTHEFT": 0,
         "ARSON": 0,
         "population": 2360,
         "FIPS_ST": 38,
         "FIPS_CTY": 1,
         "county": "Adams County",
         "State": " ND",
         "_deepnote_index_column": 3119
        },
        {
         "crime_rate_per_100000": 0,
         "index": 3121,
         "EDITION": 1,
         "PART": 4,
         "IDNO": 868,
         "CPOPARST": 6382,
         "CPOPCRIM": 6382,
         "AG_ARRST": 1,
         "AG_OFF": 1,
         "COVIND": 100,
         "INDEX": 0,
         "MODINDX": 12,
         "MURDER": 0,
         "RAPE": 0,
         "ROBBERY": 0,
         "AGASSLT": 0,
         "BURGLRY": 3,
         "LARCENY": 7,
         "MVTHEFT": 2,
         "ARSON": 0,
         "population": 6211,
         "FIPS_ST": 19,
         "FIPS_CTY": 143,
         "county": "Osceola County",
         "State": " IA",
         "_deepnote_index_column": 3120
        },
        {
         "crime_rate_per_100000": 0,
         "index": 3122,
         "EDITION": 1,
         "PART": 4,
         "IDNO": 2761,
         "CPOPARST": 3086,
         "CPOPCRIM": 3086,
         "AG_ARRST": 2,
         "AG_OFF": 2,
         "COVIND": 100,
         "INDEX": 0,
         "MODINDX": 12,
         "MURDER": 0,
         "RAPE": 0,
         "ROBBERY": 0,
         "AGASSLT": 0,
         "BURGLRY": 4,
         "LARCENY": 7,
         "MVTHEFT": 1,
         "ARSON": 0,
         "population": 3093,
         "FIPS_ST": 48,
         "FIPS_CTY": 421,
         "county": "Sherman County",
         "State": " TX",
         "_deepnote_index_column": 3121
        },
        {
         "crime_rate_per_100000": 0,
         "index": 3123,
         "EDITION": 1,
         "PART": 4,
         "IDNO": 2440,
         "CPOPARST": 3035,
         "CPOPCRIM": 3035,
         "AG_ARRST": 2,
         "AG_OFF": 2,
         "COVIND": 100,
         "INDEX": 0,
         "MODINDX": 11,
         "MURDER": 0,
         "RAPE": 0,
         "ROBBERY": 0,
         "AGASSLT": 0,
         "BURGLRY": 2,
         "LARCENY": 8,
         "MVTHEFT": 1,
         "ARSON": 0,
         "population": 3037,
         "FIPS_ST": 46,
         "FIPS_CTY": 105,
         "county": "Perkins County",
         "State": " SD",
         "_deepnote_index_column": 3122
        },
        {
         "crime_rate_per_100000": 0,
         "index": 3124,
         "EDITION": 1,
         "PART": 4,
         "IDNO": 274,
         "CPOPARST": 841,
         "CPOPCRIM": 841,
         "AG_ARRST": 1,
         "AG_OFF": 1,
         "COVIND": 100,
         "INDEX": 0,
         "MODINDX": 10,
         "MURDER": 0,
         "RAPE": 0,
         "ROBBERY": 0,
         "AGASSLT": 0,
         "BURGLRY": 5,
         "LARCENY": 5,
         "MVTHEFT": 0,
         "ARSON": 0,
         "population": 813,
         "FIPS_ST": 8,
         "FIPS_CTY": 53,
         "county": "Hinsdale County",
         "State": " CO",
         "_deepnote_index_column": 3123
        },
        {
         "crime_rate_per_100000": 0,
         "index": 3125,
         "EDITION": 1,
         "PART": 4,
         "IDNO": 2398,
         "CPOPARST": 1443,
         "CPOPCRIM": 1443,
         "AG_ARRST": 1,
         "AG_OFF": 1,
         "COVIND": 100,
         "INDEX": 0,
         "MODINDX": 8,
         "MURDER": 0,
         "RAPE": 0,
         "ROBBERY": 0,
         "AGASSLT": 0,
         "BURGLRY": 2,
         "LARCENY": 4,
         "MVTHEFT": 2,
         "ARSON": 1,
         "population": 1334,
         "FIPS_ST": 46,
         "FIPS_CTY": 21,
         "county": "Campbell County",
         "State": " SD",
         "_deepnote_index_column": 3124
        },
        {
         "crime_rate_per_100000": 0,
         "index": 3126,
         "EDITION": 1,
         "PART": 4,
         "IDNO": 2029,
         "CPOPARST": 1792,
         "CPOPCRIM": 1792,
         "AG_ARRST": 1,
         "AG_OFF": 1,
         "COVIND": 100,
         "INDEX": 0,
         "MODINDX": 8,
         "MURDER": 0,
         "RAPE": 0,
         "ROBBERY": 0,
         "AGASSLT": 0,
         "BURGLRY": 3,
         "LARCENY": 5,
         "MVTHEFT": 0,
         "ARSON": 0,
         "population": 1823,
         "FIPS_ST": 38,
         "FIPS_CTY": 33,
         "county": "Golden Valley County",
         "State": " ND",
         "_deepnote_index_column": 3125
        },
        {
         "crime_rate_per_100000": 0,
         "index": 3127,
         "EDITION": 1,
         "PART": 4,
         "IDNO": 574,
         "CPOPARST": 955,
         "CPOPCRIM": 955,
         "AG_ARRST": 1,
         "AG_OFF": 1,
         "COVIND": 100,
         "INDEX": 0,
         "MODINDX": 8,
         "MURDER": 0,
         "RAPE": 0,
         "ROBBERY": 0,
         "AGASSLT": 0,
         "BURGLRY": 3,
         "LARCENY": 5,
         "MVTHEFT": 0,
         "ARSON": 0,
         "population": 867,
         "FIPS_ST": 16,
         "FIPS_CTY": 33,
         "county": "Clark County",
         "State": " ID",
         "_deepnote_index_column": 3126
        },
        {
         "crime_rate_per_100000": 0,
         "index": 3128,
         "EDITION": 1,
         "PART": 4,
         "IDNO": 2573,
         "CPOPARST": 1676,
         "CPOPCRIM": 1676,
         "AG_ARRST": 1,
         "AG_OFF": 1,
         "COVIND": 100,
         "INDEX": 0,
         "MODINDX": 3,
         "MURDER": 0,
         "RAPE": 0,
         "ROBBERY": 0,
         "AGASSLT": 0,
         "BURGLRY": 0,
         "LARCENY": 2,
         "MVTHEFT": 1,
         "ARSON": 0,
         "population": 1537,
         "FIPS_ST": 48,
         "FIPS_CTY": 45,
         "county": "Briscoe County",
         "State": " TX",
         "_deepnote_index_column": 3127
        },
        {
         "crime_rate_per_100000": 0,
         "index": 3129,
         "EDITION": 1,
         "PART": 4,
         "IDNO": 2028,
         "CPOPARST": 3418,
         "CPOPCRIM": 3418,
         "AG_ARRST": 2,
         "AG_OFF": 2,
         "COVIND": 100,
         "INDEX": 0,
         "MODINDX": 6,
         "MURDER": 0,
         "RAPE": 0,
         "ROBBERY": 0,
         "AGASSLT": 0,
         "BURGLRY": 0,
         "LARCENY": 4,
         "MVTHEFT": 2,
         "ARSON": 0,
         "population": 3366,
         "FIPS_ST": 38,
         "FIPS_CTY": 31,
         "county": "Foster County",
         "State": " ND",
         "_deepnote_index_column": 3128
        },
        {
         "crime_rate_per_100000": 0,
         "index": 3130,
         "EDITION": 1,
         "PART": 4,
         "IDNO": 1677,
         "CPOPARST": 11463,
         "CPOPCRIM": 2855,
         "AG_ARRST": 3,
         "AG_OFF": 2,
         "COVIND": 100,
         "INDEX": 0,
         "MODINDX": 5,
         "MURDER": 0,
         "RAPE": 0,
         "ROBBERY": 0,
         "AGASSLT": 0,
         "BURGLRY": 0,
         "LARCENY": 5,
         "MVTHEFT": 0,
         "ARSON": 0,
         "population": 11305,
         "FIPS_ST": 31,
         "FIPS_CTY": 13,
         "county": "Box Butte County",
         "State": " NE",
         "_deepnote_index_column": 3129
        },
        {
         "crime_rate_per_100000": 0,
         "index": 3131,
         "EDITION": 1,
         "PART": 4,
         "IDNO": 2601,
         "CPOPARST": 1521,
         "CPOPCRIM": 1521,
         "AG_ARRST": 2,
         "AG_OFF": 2,
         "COVIND": 100,
         "INDEX": 0,
         "MODINDX": 5,
         "MURDER": 0,
         "RAPE": 0,
         "ROBBERY": 0,
         "AGASSLT": 0,
         "BURGLRY": 3,
         "LARCENY": 2,
         "MVTHEFT": 0,
         "ARSON": 0,
         "population": 1452,
         "FIPS_ST": 48,
         "FIPS_CTY": 101,
         "county": "Cottle County",
         "State": " TX",
         "_deepnote_index_column": 3130
        },
        {
         "crime_rate_per_100000": 0,
         "index": 3132,
         "EDITION": 1,
         "PART": 4,
         "IDNO": 762,
         "CPOPARST": 6084,
         "CPOPCRIM": 0,
         "AG_ARRST": 2,
         "AG_OFF": 1,
         "COVIND": 100,
         "INDEX": 0,
         "MODINDX": 5,
         "MURDER": 0,
         "RAPE": 0,
         "ROBBERY": 0,
         "AGASSLT": 0,
         "BURGLRY": 2,
         "LARCENY": 2,
         "MVTHEFT": 0,
         "ARSON": 0,
         "population": 5994,
         "FIPS_ST": 18,
         "FIPS_CTY": 115,
         "county": "Ohio County",
         "State": " IN",
         "_deepnote_index_column": 3131
        },
        {
         "crime_rate_per_100000": 0,
         "index": 3133,
         "EDITION": 1,
         "PART": 4,
         "IDNO": 1465,
         "CPOPARST": 21545,
         "CPOPCRIM": 3346,
         "AG_ARRST": 3,
         "AG_OFF": 1,
         "COVIND": 100,
         "INDEX": 0,
         "MODINDX": 5,
         "MURDER": 0,
         "RAPE": 0,
         "ROBBERY": 0,
         "AGASSLT": 0,
         "BURGLRY": 4,
         "LARCENY": 0,
         "MVTHEFT": 1,
         "ARSON": 0,
         "population": 21689,
         "FIPS_ST": 28,
         "FIPS_CTY": 101,
         "county": "Newton County",
         "State": " MS",
         "_deepnote_index_column": 3132
        },
        {
         "crime_rate_per_100000": 0,
         "index": 3134,
         "EDITION": 1,
         "PART": 4,
         "IDNO": 2424,
         "CPOPARST": 2108,
         "CPOPCRIM": 2108,
         "AG_ARRST": 1,
         "AG_OFF": 1,
         "COVIND": 100,
         "INDEX": 0,
         "MODINDX": 5,
         "MURDER": 0,
         "RAPE": 0,
         "ROBBERY": 0,
         "AGASSLT": 0,
         "BURGLRY": 1,
         "LARCENY": 3,
         "MVTHEFT": 1,
         "ARSON": 0,
         "population": 2066,
         "FIPS_ST": 46,
         "FIPS_CTY": 73,
         "county": "Jerauld County",
         "State": " SD",
         "_deepnote_index_column": 3133
        },
        {
         "crime_rate_per_100000": 0,
         "index": 3135,
         "EDITION": 1,
         "PART": 4,
         "IDNO": 2167,
         "CPOPARST": 2502,
         "CPOPCRIM": 2502,
         "AG_ARRST": 2,
         "AG_OFF": 2,
         "COVIND": 100,
         "INDEX": 0,
         "MODINDX": 3,
         "MURDER": 0,
         "RAPE": 0,
         "ROBBERY": 0,
         "AGASSLT": 0,
         "BURGLRY": 1,
         "LARCENY": 2,
         "MVTHEFT": 0,
         "ARSON": 0,
         "population": 2335,
         "FIPS_ST": 40,
         "FIPS_CTY": 25,
         "county": "Cimarron County",
         "State": " OK",
         "_deepnote_index_column": 3134
        },
        {
         "crime_rate_per_100000": 0,
         "index": 3136,
         "EDITION": 1,
         "PART": 4,
         "IDNO": 1453,
         "CPOPARST": 12714,
         "CPOPCRIM": 0,
         "AG_ARRST": 1,
         "AG_OFF": 1,
         "COVIND": 100,
         "INDEX": 0,
         "MODINDX": 0,
         "MURDER": 0,
         "RAPE": 0,
         "ROBBERY": 0,
         "AGASSLT": 0,
         "BURGLRY": 0,
         "LARCENY": 0,
         "MVTHEFT": 0,
         "ARSON": 0,
         "population": 12514,
         "FIPS_ST": 28,
         "FIPS_CTY": 77,
         "county": "Lawrence County",
         "State": " MS",
         "_deepnote_index_column": 3135
        }
       ]
      },
      "text/plain": "      crime_rate_per_100000  index  EDITION  PART  IDNO  CPOPARST  CPOPCRIM  \\\n0               1791.995377      1        1     4  1612    318667    318667   \n1               1754.914968      2        1     4   130     50717     50717   \n2               1664.700485      3        1     4   604      8040      8040   \n3               1456.310680      4        1     4  2681       444       444   \n4               1447.402430      5        1     4  1137     26971     26971   \n...                     ...    ...      ...   ...   ...       ...       ...   \n3131               0.000000   3132        1     4   762      6084         0   \n3132               0.000000   3133        1     4  1465     21545      3346   \n3133               0.000000   3134        1     4  2424      2108      2108   \n3134               0.000000   3135        1     4  2167      2502      2502   \n3135               0.000000   3136        1     4  1453     12714         0   \n\n      AG_ARRST  AG_OFF  COVIND  ...  AGASSLT  BURGLRY  LARCENY  MVTHEFT  \\\n0           15      15   100.0  ...     3609     4995    13791     3543   \n1            4       4   100.0  ...      662     1482     1753      189   \n2            2       2   100.0  ...      119       82      184       12   \n3            1       1   100.0  ...        2        5        4        4   \n4            3       3   100.0  ...      368      149      494       60   \n...        ...     ...     ...  ...      ...      ...      ...      ...   \n3131         2       1   100.0  ...        0        2        2        0   \n3132         3       1   100.0  ...        0        4        0        1   \n3133         1       1   100.0  ...        0        1        3        1   \n3134         2       2   100.0  ...        0        1        2        0   \n3135         1       1   100.0  ...        0        0        0        0   \n\n      ARSON  population  FIPS_ST  FIPS_CTY             county  State  \n0       464      318416       29       510     St. Louis city     MO  \n1        28       49746        5        35  Crittenden County     AR  \n2         2        7629       17         3   Alexander County     IL  \n3         0         412       48       261      Kenedy County     TX  \n4         0       27083       22        31     De Soto Parish     LA  \n...     ...         ...      ...       ...                ...    ...  \n3131      0        5994       18       115        Ohio County     IN  \n3132      0       21689       28       101      Newton County     MS  \n3133      0        2066       46        73     Jerauld County     SD  \n3134      0        2335       40        25    Cimarron County     OK  \n3135      0       12514       28        77    Lawrence County     MS  \n\n[3136 rows x 25 columns]",
      "text/html": "<div>\n<style scoped>\n    .dataframe tbody tr th:only-of-type {\n        vertical-align: middle;\n    }\n\n    .dataframe tbody tr th {\n        vertical-align: top;\n    }\n\n    .dataframe thead th {\n        text-align: right;\n    }\n</style>\n<table border=\"1\" class=\"dataframe\">\n  <thead>\n    <tr style=\"text-align: right;\">\n      <th></th>\n      <th>crime_rate_per_100000</th>\n      <th>index</th>\n      <th>EDITION</th>\n      <th>PART</th>\n      <th>IDNO</th>\n      <th>CPOPARST</th>\n      <th>CPOPCRIM</th>\n      <th>AG_ARRST</th>\n      <th>AG_OFF</th>\n      <th>COVIND</th>\n      <th>...</th>\n      <th>AGASSLT</th>\n      <th>BURGLRY</th>\n      <th>LARCENY</th>\n      <th>MVTHEFT</th>\n      <th>ARSON</th>\n      <th>population</th>\n      <th>FIPS_ST</th>\n      <th>FIPS_CTY</th>\n      <th>county</th>\n      <th>State</th>\n    </tr>\n  </thead>\n  <tbody>\n    <tr>\n      <th>0</th>\n      <td>1791.995377</td>\n      <td>1</td>\n      <td>1</td>\n      <td>4</td>\n      <td>1612</td>\n      <td>318667</td>\n      <td>318667</td>\n      <td>15</td>\n      <td>15</td>\n      <td>100.0</td>\n      <td>...</td>\n      <td>3609</td>\n      <td>4995</td>\n      <td>13791</td>\n      <td>3543</td>\n      <td>464</td>\n      <td>318416</td>\n      <td>29</td>\n      <td>510</td>\n      <td>St. Louis city</td>\n      <td>MO</td>\n    </tr>\n    <tr>\n      <th>1</th>\n      <td>1754.914968</td>\n      <td>2</td>\n      <td>1</td>\n      <td>4</td>\n      <td>130</td>\n      <td>50717</td>\n      <td>50717</td>\n      <td>4</td>\n      <td>4</td>\n      <td>100.0</td>\n      <td>...</td>\n      <td>662</td>\n      <td>1482</td>\n      <td>1753</td>\n      <td>189</td>\n      <td>28</td>\n      <td>49746</td>\n      <td>5</td>\n      <td>35</td>\n      <td>Crittenden County</td>\n      <td>AR</td>\n    </tr>\n    <tr>\n      <th>2</th>\n      <td>1664.700485</td>\n      <td>3</td>\n      <td>1</td>\n      <td>4</td>\n      <td>604</td>\n      <td>8040</td>\n      <td>8040</td>\n      <td>2</td>\n      <td>2</td>\n      <td>100.0</td>\n      <td>...</td>\n      <td>119</td>\n      <td>82</td>\n      <td>184</td>\n      <td>12</td>\n      <td>2</td>\n      <td>7629</td>\n      <td>17</td>\n      <td>3</td>\n      <td>Alexander County</td>\n      <td>IL</td>\n    </tr>\n    <tr>\n      <th>3</th>\n      <td>1456.310680</td>\n      <td>4</td>\n      <td>1</td>\n      <td>4</td>\n      <td>2681</td>\n      <td>444</td>\n      <td>444</td>\n      <td>1</td>\n      <td>1</td>\n      <td>100.0</td>\n      <td>...</td>\n      <td>2</td>\n      <td>5</td>\n      <td>4</td>\n      <td>4</td>\n      <td>0</td>\n      <td>412</td>\n      <td>48</td>\n      <td>261</td>\n      <td>Kenedy County</td>\n      <td>TX</td>\n    </tr>\n    <tr>\n      <th>4</th>\n      <td>1447.402430</td>\n      <td>5</td>\n      <td>1</td>\n      <td>4</td>\n      <td>1137</td>\n      <td>26971</td>\n      <td>26971</td>\n      <td>3</td>\n      <td>3</td>\n      <td>100.0</td>\n      <td>...</td>\n      <td>368</td>\n      <td>149</td>\n      <td>494</td>\n      <td>60</td>\n      <td>0</td>\n      <td>27083</td>\n      <td>22</td>\n      <td>31</td>\n      <td>De Soto Parish</td>\n      <td>LA</td>\n    </tr>\n    <tr>\n      <th>...</th>\n      <td>...</td>\n      <td>...</td>\n      <td>...</td>\n      <td>...</td>\n      <td>...</td>\n      <td>...</td>\n      <td>...</td>\n      <td>...</td>\n      <td>...</td>\n      <td>...</td>\n      <td>...</td>\n      <td>...</td>\n      <td>...</td>\n      <td>...</td>\n      <td>...</td>\n      <td>...</td>\n      <td>...</td>\n      <td>...</td>\n      <td>...</td>\n      <td>...</td>\n      <td>...</td>\n    </tr>\n    <tr>\n      <th>3131</th>\n      <td>0.000000</td>\n      <td>3132</td>\n      <td>1</td>\n      <td>4</td>\n      <td>762</td>\n      <td>6084</td>\n      <td>0</td>\n      <td>2</td>\n      <td>1</td>\n      <td>100.0</td>\n      <td>...</td>\n      <td>0</td>\n      <td>2</td>\n      <td>2</td>\n      <td>0</td>\n      <td>0</td>\n      <td>5994</td>\n      <td>18</td>\n      <td>115</td>\n      <td>Ohio County</td>\n      <td>IN</td>\n    </tr>\n    <tr>\n      <th>3132</th>\n      <td>0.000000</td>\n      <td>3133</td>\n      <td>1</td>\n      <td>4</td>\n      <td>1465</td>\n      <td>21545</td>\n      <td>3346</td>\n      <td>3</td>\n      <td>1</td>\n      <td>100.0</td>\n      <td>...</td>\n      <td>0</td>\n      <td>4</td>\n      <td>0</td>\n      <td>1</td>\n      <td>0</td>\n      <td>21689</td>\n      <td>28</td>\n      <td>101</td>\n      <td>Newton County</td>\n      <td>MS</td>\n    </tr>\n    <tr>\n      <th>3133</th>\n      <td>0.000000</td>\n      <td>3134</td>\n      <td>1</td>\n      <td>4</td>\n      <td>2424</td>\n      <td>2108</td>\n      <td>2108</td>\n      <td>1</td>\n      <td>1</td>\n      <td>100.0</td>\n      <td>...</td>\n      <td>0</td>\n      <td>1</td>\n      <td>3</td>\n      <td>1</td>\n      <td>0</td>\n      <td>2066</td>\n      <td>46</td>\n      <td>73</td>\n      <td>Jerauld County</td>\n      <td>SD</td>\n    </tr>\n    <tr>\n      <th>3134</th>\n      <td>0.000000</td>\n      <td>3135</td>\n      <td>1</td>\n      <td>4</td>\n      <td>2167</td>\n      <td>2502</td>\n      <td>2502</td>\n      <td>2</td>\n      <td>2</td>\n      <td>100.0</td>\n      <td>...</td>\n      <td>0</td>\n      <td>1</td>\n      <td>2</td>\n      <td>0</td>\n      <td>0</td>\n      <td>2335</td>\n      <td>40</td>\n      <td>25</td>\n      <td>Cimarron County</td>\n      <td>OK</td>\n    </tr>\n    <tr>\n      <th>3135</th>\n      <td>0.000000</td>\n      <td>3136</td>\n      <td>1</td>\n      <td>4</td>\n      <td>1453</td>\n      <td>12714</td>\n      <td>0</td>\n      <td>1</td>\n      <td>1</td>\n      <td>100.0</td>\n      <td>...</td>\n      <td>0</td>\n      <td>0</td>\n      <td>0</td>\n      <td>0</td>\n      <td>0</td>\n      <td>12514</td>\n      <td>28</td>\n      <td>77</td>\n      <td>Lawrence County</td>\n      <td>MS</td>\n    </tr>\n  </tbody>\n</table>\n<p>3136 rows × 25 columns</p>\n</div>"
     },
     "metadata": {}
    }
   ]
  },
  {
   "cell_type": "code",
   "metadata": {
    "tags": [],
    "cell_id": "00010-b831c4a5-0336-4227-812c-cd0bd386bbbc",
    "deepnote_to_be_reexecuted": false,
    "source_hash": "cb90702b",
    "execution_start": 1638113321121,
    "execution_millis": 7,
    "deepnote_cell_type": "code"
   },
   "source": "crime_state = crime_clean.groupby(['State'])",
   "execution_count": 8,
   "outputs": []
  },
  {
   "cell_type": "code",
   "metadata": {
    "tags": [],
    "cell_id": "00012-8c51754b-df42-45a9-b47b-3cabcff5e041",
    "deepnote_to_be_reexecuted": false,
    "source_hash": "ae1e81d4",
    "execution_start": 1638113324419,
    "execution_millis": 4,
    "deepnote_cell_type": "code"
   },
   "source": "n_crime_state = crime_clean.groupby(\"State\")[\"crime_rate_per_100000\",].mean()",
   "execution_count": 9,
   "outputs": []
  },
  {
   "cell_type": "code",
   "metadata": {
    "tags": [],
    "cell_id": "00013-86c58384-bd19-4cf6-bcc9-10c7bf1f4eeb",
    "deepnote_to_be_reexecuted": false,
    "source_hash": "3849d565",
    "execution_start": 1638113327809,
    "execution_millis": 3,
    "deepnote_cell_type": "code"
   },
   "source": "crime_rate_df = pd.DataFrame(n_crime_state) #create dataframe for crime rate by state",
   "execution_count": 10,
   "outputs": []
  },
  {
   "cell_type": "code",
   "metadata": {
    "tags": [],
    "cell_id": "00014-fd09607f-1c99-41cd-8216-1431527e1e33",
    "deepnote_to_be_reexecuted": false,
    "source_hash": "3d77b625",
    "execution_start": 1638113330497,
    "execution_millis": 67,
    "deepnote_cell_type": "code"
   },
   "source": "crime_rate_df",
   "execution_count": 11,
   "outputs": [
    {
     "output_type": "execute_result",
     "execution_count": 11,
     "data": {
      "application/vnd.deepnote.dataframe.v2+json": {
       "row_count": 51,
       "column_count": 1,
       "columns": [
        {
         "name": "crime_rate_per_100000",
         "dtype": "float64",
         "stats": {
          "unique_count": 51,
          "nan_count": 0,
          "min": "61.62639436516127",
          "max": "1216.801325",
          "histogram": [
           {
            "bin_start": 61.62639436516127,
            "bin_end": 177.14388742864512,
            "count": 19
           },
           {
            "bin_start": 177.14388742864512,
            "bin_end": 292.66138049212896,
            "count": 17
           },
           {
            "bin_start": 292.66138049212896,
            "bin_end": 408.1788735556128,
            "count": 8
           },
           {
            "bin_start": 408.1788735556128,
            "bin_end": 523.6963666190967,
            "count": 4
           },
           {
            "bin_start": 523.6963666190967,
            "bin_end": 639.2138596825805,
            "count": 2
           },
           {
            "bin_start": 639.2138596825805,
            "bin_end": 754.7313527460643,
            "count": 0
           },
           {
            "bin_start": 754.7313527460643,
            "bin_end": 870.2488458095482,
            "count": 0
           },
           {
            "bin_start": 870.2488458095482,
            "bin_end": 985.766338873032,
            "count": 0
           },
           {
            "bin_start": 985.766338873032,
            "bin_end": 1101.283831936516,
            "count": 0
           },
           {
            "bin_start": 1101.283831936516,
            "bin_end": 1216.801325,
            "count": 1
           }
          ]
         }
        },
        {
         "name": "_deepnote_index_column",
         "dtype": "object"
        }
       ],
       "rows_top": [
        {
         "crime_rate_per_100000": 289.3209568091304,
         "_deepnote_index_column": " AK"
        },
        {
         "crime_rate_per_100000": 385.64569081925373,
         "_deepnote_index_column": " AL"
        },
        {
         "crime_rate_per_100000": 334.7507271336001,
         "_deepnote_index_column": " AR"
        },
        {
         "crime_rate_per_100000": 352.6294427173333,
         "_deepnote_index_column": " AZ"
        },
        {
         "crime_rate_per_100000": 416.0779525741381,
         "_deepnote_index_column": " CA"
        },
        {
         "crime_rate_per_100000": 181.8246266170312,
         "_deepnote_index_column": " CO"
        },
        {
         "crime_rate_per_100000": 180.52094943125002,
         "_deepnote_index_column": " CT"
        },
        {
         "crime_rate_per_100000": 1216.801325,
         "_deepnote_index_column": " DC"
        },
        {
         "crime_rate_per_100000": 524.4246666,
         "_deepnote_index_column": " DE"
        },
        {
         "crime_rate_per_100000": 412.9387034,
         "_deepnote_index_column": " FL"
        },
        {
         "crime_rate_per_100000": 295.5525950400001,
         "_deepnote_index_column": " GA"
        },
        {
         "crime_rate_per_100000": 203.3638081,
         "_deepnote_index_column": " HI"
        },
        {
         "crime_rate_per_100000": 168.58333933651522,
         "_deepnote_index_column": " IA"
        },
        {
         "crime_rate_per_100000": 156.56105630431819,
         "_deepnote_index_column": " ID"
        },
        {
         "crime_rate_per_100000": 242.7878834759707,
         "_deepnote_index_column": " IL"
        },
        {
         "crime_rate_per_100000": 139.11894647260868,
         "_deepnote_index_column": " IN"
        },
        {
         "crime_rate_per_100000": 237.48036883533334,
         "_deepnote_index_column": " KS"
        },
        {
         "crime_rate_per_100000": 98.71789588420837,
         "_deepnote_index_column": " KY"
        },
        {
         "crime_rate_per_100000": 397.678397939375,
         "_deepnote_index_column": " LA"
        },
        {
         "crime_rate_per_100000": 392.38127441428566,
         "_deepnote_index_column": " MA"
        },
        {
         "crime_rate_per_100000": 378.3289625625,
         "_deepnote_index_column": " MD"
        },
        {
         "crime_rate_per_100000": 115.95718188249998,
         "_deepnote_index_column": " ME"
        },
        {
         "crime_rate_per_100000": 244.08254211542155,
         "_deepnote_index_column": " MI"
        },
        {
         "crime_rate_per_100000": 134.415778915862,
         "_deepnote_index_column": " MN"
        },
        {
         "crime_rate_per_100000": 270.20932594791316,
         "_deepnote_index_column": " MO"
        },
        {
         "crime_rate_per_100000": 146.21102696178045,
         "_deepnote_index_column": " MS"
        },
        {
         "crime_rate_per_100000": 182.74077371125006,
         "_deepnote_index_column": " MT"
        },
        {
         "crime_rate_per_100000": 269.3901540027001,
         "_deepnote_index_column": " NC"
        },
        {
         "crime_rate_per_100000": 94.4770582311321,
         "_deepnote_index_column": " ND"
        },
        {
         "crime_rate_per_100000": 61.62639436516127,
         "_deepnote_index_column": " NE"
        },
        {
         "crime_rate_per_100000": 160.15512436,
         "_deepnote_index_column": " NH"
        },
        {
         "crime_rate_per_100000": 270.73771662047625,
         "_deepnote_index_column": " NJ"
        },
        {
         "crime_rate_per_100000": 427.22242584687496,
         "_deepnote_index_column": " NM"
        },
        {
         "crime_rate_per_100000": 434.9563523741176,
         "_deepnote_index_column": " NV"
        },
        {
         "crime_rate_per_100000": 212.16515759741932,
         "_deepnote_index_column": " NY"
        },
        {
         "crime_rate_per_100000": 138.13698686340902,
         "_deepnote_index_column": " OH"
        },
        {
         "crime_rate_per_100000": 253.93899193428575,
         "_deepnote_index_column": " OK"
        },
        {
         "crime_rate_per_100000": 166.66516677891667,
         "_deepnote_index_column": " OR"
        },
        {
         "crime_rate_per_100000": 222.1417895414926,
         "_deepnote_index_column": " PA"
        },
        {
         "crime_rate_per_100000": 157.577721514,
         "_deepnote_index_column": " RI"
        },
        {
         "crime_rate_per_100000": 581.1373843760871,
         "_deepnote_index_column": " SC"
        },
        {
         "crime_rate_per_100000": 99.3877982960606,
         "_deepnote_index_column": " SD"
        },
        {
         "crime_rate_per_100000": 401.28834746263163,
         "_deepnote_index_column": " TN"
        },
        {
         "crime_rate_per_100000": 255.00281577769704,
         "_deepnote_index_column": " TX"
        },
        {
         "crime_rate_per_100000": 145.26061103827584,
         "_deepnote_index_column": " UT"
        },
        {
         "crime_rate_per_100000": 173.34044922791043,
         "_deepnote_index_column": " VA"
        },
        {
         "crime_rate_per_100000": 119.25284441214285,
         "_deepnote_index_column": " VT"
        },
        {
         "crime_rate_per_100000": 205.44982844384617,
         "_deepnote_index_column": " WA"
        },
        {
         "crime_rate_per_100000": 142.59951663125,
         "_deepnote_index_column": " WI"
        },
        {
         "crime_rate_per_100000": 252.77418984890903,
         "_deepnote_index_column": " WV"
        },
        {
         "crime_rate_per_100000": 155.0011819913044,
         "_deepnote_index_column": " WY"
        }
       ],
       "rows_bottom": null
      },
      "text/plain": "       crime_rate_per_100000\nState                       \n AK               289.320957\n AL               385.645691\n AR               334.750727\n AZ               352.629443\n CA               416.077953\n CO               181.824627\n CT               180.520949\n DC              1216.801325\n DE               524.424667\n FL               412.938703\n GA               295.552595\n HI               203.363808\n IA               168.583339\n ID               156.561056\n IL               242.787883\n IN               139.118946\n KS               237.480369\n KY                98.717896\n LA               397.678398\n MA               392.381274\n MD               378.328963\n ME               115.957182\n MI               244.082542\n MN               134.415779\n MO               270.209326\n MS               146.211027\n MT               182.740774\n NC               269.390154\n ND                94.477058\n NE                61.626394\n NH               160.155124\n NJ               270.737717\n NM               427.222426\n NV               434.956352\n NY               212.165158\n OH               138.136987\n OK               253.938992\n OR               166.665167\n PA               222.141790\n RI               157.577722\n SC               581.137384\n SD                99.387798\n TN               401.288347\n TX               255.002816\n UT               145.260611\n VA               173.340449\n VT               119.252844\n WA               205.449828\n WI               142.599517\n WV               252.774190\n WY               155.001182",
      "text/html": "<div>\n<style scoped>\n    .dataframe tbody tr th:only-of-type {\n        vertical-align: middle;\n    }\n\n    .dataframe tbody tr th {\n        vertical-align: top;\n    }\n\n    .dataframe thead th {\n        text-align: right;\n    }\n</style>\n<table border=\"1\" class=\"dataframe\">\n  <thead>\n    <tr style=\"text-align: right;\">\n      <th></th>\n      <th>crime_rate_per_100000</th>\n    </tr>\n    <tr>\n      <th>State</th>\n      <th></th>\n    </tr>\n  </thead>\n  <tbody>\n    <tr>\n      <th>AK</th>\n      <td>289.320957</td>\n    </tr>\n    <tr>\n      <th>AL</th>\n      <td>385.645691</td>\n    </tr>\n    <tr>\n      <th>AR</th>\n      <td>334.750727</td>\n    </tr>\n    <tr>\n      <th>AZ</th>\n      <td>352.629443</td>\n    </tr>\n    <tr>\n      <th>CA</th>\n      <td>416.077953</td>\n    </tr>\n    <tr>\n      <th>CO</th>\n      <td>181.824627</td>\n    </tr>\n    <tr>\n      <th>CT</th>\n      <td>180.520949</td>\n    </tr>\n    <tr>\n      <th>DC</th>\n      <td>1216.801325</td>\n    </tr>\n    <tr>\n      <th>DE</th>\n      <td>524.424667</td>\n    </tr>\n    <tr>\n      <th>FL</th>\n      <td>412.938703</td>\n    </tr>\n    <tr>\n      <th>GA</th>\n      <td>295.552595</td>\n    </tr>\n    <tr>\n      <th>HI</th>\n      <td>203.363808</td>\n    </tr>\n    <tr>\n      <th>IA</th>\n      <td>168.583339</td>\n    </tr>\n    <tr>\n      <th>ID</th>\n      <td>156.561056</td>\n    </tr>\n    <tr>\n      <th>IL</th>\n      <td>242.787883</td>\n    </tr>\n    <tr>\n      <th>IN</th>\n      <td>139.118946</td>\n    </tr>\n    <tr>\n      <th>KS</th>\n      <td>237.480369</td>\n    </tr>\n    <tr>\n      <th>KY</th>\n      <td>98.717896</td>\n    </tr>\n    <tr>\n      <th>LA</th>\n      <td>397.678398</td>\n    </tr>\n    <tr>\n      <th>MA</th>\n      <td>392.381274</td>\n    </tr>\n    <tr>\n      <th>MD</th>\n      <td>378.328963</td>\n    </tr>\n    <tr>\n      <th>ME</th>\n      <td>115.957182</td>\n    </tr>\n    <tr>\n      <th>MI</th>\n      <td>244.082542</td>\n    </tr>\n    <tr>\n      <th>MN</th>\n      <td>134.415779</td>\n    </tr>\n    <tr>\n      <th>MO</th>\n      <td>270.209326</td>\n    </tr>\n    <tr>\n      <th>MS</th>\n      <td>146.211027</td>\n    </tr>\n    <tr>\n      <th>MT</th>\n      <td>182.740774</td>\n    </tr>\n    <tr>\n      <th>NC</th>\n      <td>269.390154</td>\n    </tr>\n    <tr>\n      <th>ND</th>\n      <td>94.477058</td>\n    </tr>\n    <tr>\n      <th>NE</th>\n      <td>61.626394</td>\n    </tr>\n    <tr>\n      <th>NH</th>\n      <td>160.155124</td>\n    </tr>\n    <tr>\n      <th>NJ</th>\n      <td>270.737717</td>\n    </tr>\n    <tr>\n      <th>NM</th>\n      <td>427.222426</td>\n    </tr>\n    <tr>\n      <th>NV</th>\n      <td>434.956352</td>\n    </tr>\n    <tr>\n      <th>NY</th>\n      <td>212.165158</td>\n    </tr>\n    <tr>\n      <th>OH</th>\n      <td>138.136987</td>\n    </tr>\n    <tr>\n      <th>OK</th>\n      <td>253.938992</td>\n    </tr>\n    <tr>\n      <th>OR</th>\n      <td>166.665167</td>\n    </tr>\n    <tr>\n      <th>PA</th>\n      <td>222.141790</td>\n    </tr>\n    <tr>\n      <th>RI</th>\n      <td>157.577722</td>\n    </tr>\n    <tr>\n      <th>SC</th>\n      <td>581.137384</td>\n    </tr>\n    <tr>\n      <th>SD</th>\n      <td>99.387798</td>\n    </tr>\n    <tr>\n      <th>TN</th>\n      <td>401.288347</td>\n    </tr>\n    <tr>\n      <th>TX</th>\n      <td>255.002816</td>\n    </tr>\n    <tr>\n      <th>UT</th>\n      <td>145.260611</td>\n    </tr>\n    <tr>\n      <th>VA</th>\n      <td>173.340449</td>\n    </tr>\n    <tr>\n      <th>VT</th>\n      <td>119.252844</td>\n    </tr>\n    <tr>\n      <th>WA</th>\n      <td>205.449828</td>\n    </tr>\n    <tr>\n      <th>WI</th>\n      <td>142.599517</td>\n    </tr>\n    <tr>\n      <th>WV</th>\n      <td>252.774190</td>\n    </tr>\n    <tr>\n      <th>WY</th>\n      <td>155.001182</td>\n    </tr>\n  </tbody>\n</table>\n</div>"
     },
     "metadata": {}
    }
   ]
  },
  {
   "cell_type": "code",
   "source": "crime_rate_clean  = crime_rate_df.to_csv('cleaned_crime_rate.csv')\n#crime_clean = crime.to_csv('cleaned_crime.csv', index=False)",
   "metadata": {
    "tags": [],
    "cell_id": "00015-bca0a105-f1cd-4234-b37e-1733491d1a19",
    "deepnote_to_be_reexecuted": false,
    "source_hash": "8c4525b2",
    "execution_start": 1638113375072,
    "execution_millis": 8,
    "deepnote_output_heights": [
     117.1875
    ],
    "deepnote_cell_type": "code"
   },
   "outputs": [],
   "execution_count": 13
  },
  {
   "cell_type": "markdown",
   "source": "<a style='text-decoration:none;line-height:16px;display:flex;color:#5B5B62;padding:10px;justify-content:end;' href='https://deepnote.com?utm_source=created-in-deepnote-cell&projectId=c62e4f61-5454-4e18-b0e0-542e6e7256b8' target=\"_blank\">\n<img alt='Created in deepnote.com' style='display:inline;max-height:16px;margin:0px;margin-right:7.5px;' src='data:image/svg+xml;base64,PD94bWwgdmVyc2lvbj0iMS4wIiBlbmNvZGluZz0iVVRGLTgiPz4KPHN2ZyB3aWR0aD0iODBweCIgaGVpZ2h0PSI4MHB4IiB2aWV3Qm94PSIwIDAgODAgODAiIHZlcnNpb249IjEuMSIgeG1sbnM9Imh0dHA6Ly93d3cudzMub3JnLzIwMDAvc3ZnIiB4bWxuczp4bGluaz0iaHR0cDovL3d3dy53My5vcmcvMTk5OS94bGluayI+CiAgICA8IS0tIEdlbmVyYXRvcjogU2tldGNoIDU0LjEgKDc2NDkwKSAtIGh0dHBzOi8vc2tldGNoYXBwLmNvbSAtLT4KICAgIDx0aXRsZT5Hcm91cCAzPC90aXRsZT4KICAgIDxkZXNjPkNyZWF0ZWQgd2l0aCBTa2V0Y2guPC9kZXNjPgogICAgPGcgaWQ9IkxhbmRpbmciIHN0cm9rZT0ibm9uZSIgc3Ryb2tlLXdpZHRoPSIxIiBmaWxsPSJub25lIiBmaWxsLXJ1bGU9ImV2ZW5vZGQiPgogICAgICAgIDxnIGlkPSJBcnRib2FyZCIgdHJhbnNmb3JtPSJ0cmFuc2xhdGUoLTEyMzUuMDAwMDAwLCAtNzkuMDAwMDAwKSI+CiAgICAgICAgICAgIDxnIGlkPSJHcm91cC0zIiB0cmFuc2Zvcm09InRyYW5zbGF0ZSgxMjM1LjAwMDAwMCwgNzkuMDAwMDAwKSI+CiAgICAgICAgICAgICAgICA8cG9seWdvbiBpZD0iUGF0aC0yMCIgZmlsbD0iIzAyNjVCNCIgcG9pbnRzPSIyLjM3NjIzNzYyIDgwIDM4LjA0NzY2NjcgODAgNTcuODIxNzgyMiA3My44MDU3NTkyIDU3LjgyMTc4MjIgMzIuNzU5MjczOSAzOS4xNDAyMjc4IDMxLjY4MzE2ODMiPjwvcG9seWdvbj4KICAgICAgICAgICAgICAgIDxwYXRoIGQ9Ik0zNS4wMDc3MTgsODAgQzQyLjkwNjIwMDcsNzYuNDU0OTM1OCA0Ny41NjQ5MTY3LDcxLjU0MjI2NzEgNDguOTgzODY2LDY1LjI2MTk5MzkgQzUxLjExMjI4OTksNTUuODQxNTg0MiA0MS42NzcxNzk1LDQ5LjIxMjIyODQgMjUuNjIzOTg0Niw0OS4yMTIyMjg0IEMyNS40ODQ5Mjg5LDQ5LjEyNjg0NDggMjkuODI2MTI5Niw0My4yODM4MjQ4IDM4LjY0NzU4NjksMzEuNjgzMTY4MyBMNzIuODcxMjg3MSwzMi41NTQ0MjUgTDY1LjI4MDk3Myw2Ny42NzYzNDIxIEw1MS4xMTIyODk5LDc3LjM3NjE0NCBMMzUuMDA3NzE4LDgwIFoiIGlkPSJQYXRoLTIyIiBmaWxsPSIjMDAyODY4Ij48L3BhdGg+CiAgICAgICAgICAgICAgICA8cGF0aCBkPSJNMCwzNy43MzA0NDA1IEwyNy4xMTQ1MzcsMC4yNTcxMTE0MzYgQzYyLjM3MTUxMjMsLTEuOTkwNzE3MDEgODAsMTAuNTAwMzkyNyA4MCwzNy43MzA0NDA1IEM4MCw2NC45NjA0ODgyIDY0Ljc3NjUwMzgsNzkuMDUwMzQxNCAzNC4zMjk1MTEzLDgwIEM0Ny4wNTUzNDg5LDc3LjU2NzA4MDggNTMuNDE4MjY3Nyw3MC4zMTM2MTAzIDUzLjQxODI2NzcsNTguMjM5NTg4NSBDNTMuNDE4MjY3Nyw0MC4xMjg1NTU3IDM2LjMwMzk1NDQsMzcuNzMwNDQwNSAyNS4yMjc0MTcsMzcuNzMwNDQwNSBDMTcuODQzMDU4NiwzNy43MzA0NDA1IDkuNDMzOTE5NjYsMzcuNzMwNDQwNSAwLDM3LjczMDQ0MDUgWiIgaWQ9IlBhdGgtMTkiIGZpbGw9IiMzNzkzRUYiPjwvcGF0aD4KICAgICAgICAgICAgPC9nPgogICAgICAgIDwvZz4KICAgIDwvZz4KPC9zdmc+' > </img>\nCreated in <span style='font-weight:600;margin-left:4px;'>Deepnote</span></a>",
   "metadata": {
    "tags": [],
    "created_in_deepnote_cell": true,
    "deepnote_cell_type": "markdown"
   }
  }
 ],
 "nbformat": 4,
 "nbformat_minor": 2,
 "metadata": {
  "orig_nbformat": 2,
  "deepnote": {
   "is_reactive": false
  },
  "deepnote_notebook_id": "02dc9c41-ffdf-4f46-8838-a868dad67c70",
  "deepnote_execution_queue": []
 }
}