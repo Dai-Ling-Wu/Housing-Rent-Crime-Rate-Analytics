{
 "cells": [
  {
   "cell_type": "code",
   "metadata": {
    "tags": [],
    "cell_id": "00000-c33f7312-f7d8-4817-bced-7369da101900",
    "deepnote_to_be_reexecuted": false,
    "source_hash": "fd5e0848",
    "execution_start": 1638115867449,
    "execution_millis": 1636,
    "deepnote_cell_type": "code"
   },
   "source": "import numpy as np\nimport pandas as pd\nimport seaborn as sns\nfrom datetime import datetime\nfrom matplotlib import pyplot as plt",
   "execution_count": 2,
   "outputs": []
  },
  {
   "cell_type": "markdown",
   "source": "### Cleaning housing data",
   "metadata": {
    "tags": [],
    "cell_id": "00001-5b0e05fc-89c7-47db-8c24-33f68730046d",
    "deepnote_cell_type": "markdown"
   }
  },
  {
   "cell_type": "code",
   "metadata": {
    "tags": [],
    "cell_id": "00001-654376b1-49a7-485f-9f4f-fff4dd0defb4",
    "deepnote_to_be_reexecuted": false,
    "source_hash": "d131001d",
    "execution_start": 1638115869093,
    "execution_millis": 13393,
    "deepnote_cell_type": "code"
   },
   "source": "housing = pd.read_csv('housing.csv')",
   "execution_count": 3,
   "outputs": []
  },
  {
   "cell_type": "code",
   "metadata": {
    "tags": [],
    "cell_id": "00002-c369616e-06c3-492a-b577-39905a563269",
    "deepnote_to_be_reexecuted": false,
    "source_hash": "d4a209d4",
    "execution_start": 1638115882487,
    "execution_millis": 253,
    "deepnote_output_heights": [
     611
    ],
    "deepnote_cell_type": "code"
   },
   "source": "housing.info()",
   "execution_count": 4,
   "outputs": [
    {
     "name": "stdout",
     "text": "<class 'pandas.core.frame.DataFrame'>\nRangeIndex: 384977 entries, 0 to 384976\nData columns (total 22 columns):\n #   Column                   Non-Null Count   Dtype  \n---  ------                   --------------   -----  \n 0   id                       384977 non-null  int64  \n 1   url                      384977 non-null  object \n 2   region                   384977 non-null  object \n 3   region_url               384977 non-null  object \n 4   price                    384977 non-null  int64  \n 5   type                     384977 non-null  object \n 6   sqfeet                   384977 non-null  int64  \n 7   beds                     384977 non-null  int64  \n 8   baths                    384977 non-null  float64\n 9   cats_allowed             384977 non-null  int64  \n 10  dogs_allowed             384977 non-null  int64  \n 11  smoking_allowed          384977 non-null  int64  \n 12  wheelchair_access        384977 non-null  int64  \n 13  electric_vehicle_charge  384977 non-null  int64  \n 14  comes_furnished          384977 non-null  int64  \n 15  laundry_options          305951 non-null  object \n 16  parking_options          244290 non-null  object \n 17  image_url                384977 non-null  object \n 18  description              384975 non-null  object \n 19  lat                      383059 non-null  float64\n 20  long                     383059 non-null  float64\n 21  state                    384977 non-null  object \ndtypes: float64(3), int64(10), object(9)\nmemory usage: 64.6+ MB\n",
     "output_type": "stream"
    }
   ]
  },
  {
   "cell_type": "markdown",
   "source": "There are missing values in `laundry_options`, `parking_options`, `description`, `lat`, `long`.",
   "metadata": {
    "tags": [],
    "cell_id": "00004-384f9928-41ab-4f1a-99de-1ee99b1850a8",
    "deepnote_cell_type": "markdown"
   }
  },
  {
   "cell_type": "markdown",
   "source": "**Remove columns we are not going to use**",
   "metadata": {
    "tags": [],
    "cell_id": "00004-177177d9-0cc0-415b-a263-a53db2d215fb",
    "deepnote_cell_type": "markdown"
   }
  },
  {
   "cell_type": "code",
   "metadata": {
    "tags": [],
    "cell_id": "00003-70a7d809-aeb7-43b0-8aac-9697cb980369",
    "deepnote_to_be_reexecuted": false,
    "source_hash": "12d11363",
    "execution_start": 1638115882746,
    "execution_millis": 147,
    "deepnote_cell_type": "code"
   },
   "source": "housing.drop(['url', 'region_url', 'image_url', 'description'], axis = 1, inplace = True)",
   "execution_count": 5,
   "outputs": []
  },
  {
   "cell_type": "markdown",
   "source": "**Remove missing values in `laundry_options`, `parking_options`, `lat`, `long`**",
   "metadata": {
    "tags": [],
    "cell_id": "00007-69f9c29e-8cce-4b86-8894-a34531ac8be1",
    "deepnote_cell_type": "markdown"
   }
  },
  {
   "cell_type": "code",
   "metadata": {
    "tags": [],
    "cell_id": "00008-18dfd45f-eb71-4e38-a3c7-b0ecaec7d93f",
    "deepnote_to_be_reexecuted": false,
    "source_hash": "9fd40ad",
    "execution_start": 1638115882907,
    "execution_millis": 268,
    "deepnote_cell_type": "code"
   },
   "source": "housing.dropna(axis = 0, inplace = True)",
   "execution_count": 6,
   "outputs": []
  },
  {
   "cell_type": "code",
   "metadata": {
    "tags": [],
    "cell_id": "00006-ccef9316-ff20-4fea-8ed6-3e3ba5821ad3",
    "deepnote_to_be_reexecuted": false,
    "source_hash": "1688aea2",
    "execution_start": 1638115883182,
    "execution_millis": 421,
    "deepnote_output_heights": [
     97
    ],
    "deepnote_cell_type": "code"
   },
   "source": "housing.describe()",
   "execution_count": 7,
   "outputs": [
    {
     "output_type": "execute_result",
     "execution_count": 7,
     "data": {
      "application/vnd.deepnote.dataframe.v2+json": {
       "row_count": 8,
       "column_count": 13,
       "columns": [
        {
         "name": "id",
         "dtype": "float64",
         "stats": {
          "unique_count": 8,
          "nan_count": 0,
          "min": "235970.0",
          "max": "7051292183.0",
          "histogram": [
           {
            "bin_start": 235970,
            "bin_end": 705341591.3,
            "count": 2
           },
           {
            "bin_start": 705341591.3,
            "bin_end": 1410447212.6,
            "count": 0
           },
           {
            "bin_start": 1410447212.6,
            "bin_end": 2115552833.8999999,
            "count": 0
           },
           {
            "bin_start": 2115552833.8999999,
            "bin_end": 2820658455.2,
            "count": 0
           },
           {
            "bin_start": 2820658455.2,
            "bin_end": 3525764076.5,
            "count": 0
           },
           {
            "bin_start": 3525764076.5,
            "bin_end": 4230869697.7999997,
            "count": 0
           },
           {
            "bin_start": 4230869697.7999997,
            "bin_end": 4935975319.099999,
            "count": 0
           },
           {
            "bin_start": 4935975319.099999,
            "bin_end": 5641080940.4,
            "count": 0
           },
           {
            "bin_start": 5641080940.4,
            "bin_end": 6346186561.7,
            "count": 0
           },
           {
            "bin_start": 6346186561.7,
            "bin_end": 7051292183,
            "count": 6
           }
          ]
         }
        },
        {
         "name": "price",
         "dtype": "float64",
         "stats": {
          "unique_count": 8,
          "nan_count": 0,
          "min": "0.0",
          "max": "2768307249.0",
          "histogram": [
           {
            "bin_start": 0,
            "bin_end": 276830724.9,
            "count": 7
           },
           {
            "bin_start": 276830724.9,
            "bin_end": 553661449.8,
            "count": 0
           },
           {
            "bin_start": 553661449.8,
            "bin_end": 830492174.6999999,
            "count": 0
           },
           {
            "bin_start": 830492174.6999999,
            "bin_end": 1107322899.6,
            "count": 0
           },
           {
            "bin_start": 1107322899.6,
            "bin_end": 1384153624.5,
            "count": 0
           },
           {
            "bin_start": 1384153624.5,
            "bin_end": 1660984349.3999999,
            "count": 0
           },
           {
            "bin_start": 1660984349.3999999,
            "bin_end": 1937815074.2999997,
            "count": 0
           },
           {
            "bin_start": 1937815074.2999997,
            "bin_end": 2214645799.2,
            "count": 0
           },
           {
            "bin_start": 2214645799.2,
            "bin_end": 2491476524.1,
            "count": 0
           },
           {
            "bin_start": 2491476524.1,
            "bin_end": 2768307249,
            "count": 1
           }
          ]
         }
        },
        {
         "name": "sqfeet",
         "dtype": "float64",
         "stats": {
          "unique_count": 8,
          "nan_count": 0,
          "min": "0.0",
          "max": "8388607.0",
          "histogram": [
           {
            "bin_start": 0,
            "bin_end": 838860.7,
            "count": 7
           },
           {
            "bin_start": 838860.7,
            "bin_end": 1677721.4,
            "count": 0
           },
           {
            "bin_start": 1677721.4,
            "bin_end": 2516582.0999999996,
            "count": 0
           },
           {
            "bin_start": 2516582.0999999996,
            "bin_end": 3355442.8,
            "count": 0
           },
           {
            "bin_start": 3355442.8,
            "bin_end": 4194303.5,
            "count": 0
           },
           {
            "bin_start": 4194303.5,
            "bin_end": 5033164.199999999,
            "count": 0
           },
           {
            "bin_start": 5033164.199999999,
            "bin_end": 5872024.899999999,
            "count": 0
           },
           {
            "bin_start": 5872024.899999999,
            "bin_end": 6710885.6,
            "count": 0
           },
           {
            "bin_start": 6710885.6,
            "bin_end": 7549746.3,
            "count": 0
           },
           {
            "bin_start": 7549746.3,
            "bin_end": 8388607,
            "count": 1
           }
          ]
         }
        },
        {
         "name": "beds",
         "dtype": "float64",
         "stats": {
          "unique_count": 7,
          "nan_count": 0,
          "min": "0.0",
          "max": "235970.0",
          "histogram": [
           {
            "bin_start": 0,
            "bin_end": 23597,
            "count": 7
           },
           {
            "bin_start": 23597,
            "bin_end": 47194,
            "count": 0
           },
           {
            "bin_start": 47194,
            "bin_end": 70791,
            "count": 0
           },
           {
            "bin_start": 70791,
            "bin_end": 94388,
            "count": 0
           },
           {
            "bin_start": 94388,
            "bin_end": 117985,
            "count": 0
           },
           {
            "bin_start": 117985,
            "bin_end": 141582,
            "count": 0
           },
           {
            "bin_start": 141582,
            "bin_end": 165179,
            "count": 0
           },
           {
            "bin_start": 165179,
            "bin_end": 188776,
            "count": 0
           },
           {
            "bin_start": 188776,
            "bin_end": 212373,
            "count": 0
           },
           {
            "bin_start": 212373,
            "bin_end": 235970,
            "count": 1
           }
          ]
         }
        },
        {
         "name": "baths",
         "dtype": "float64",
         "stats": {
          "unique_count": 7,
          "nan_count": 0,
          "min": "0.0",
          "max": "235970.0",
          "histogram": [
           {
            "bin_start": 0,
            "bin_end": 23597,
            "count": 7
           },
           {
            "bin_start": 23597,
            "bin_end": 47194,
            "count": 0
           },
           {
            "bin_start": 47194,
            "bin_end": 70791,
            "count": 0
           },
           {
            "bin_start": 70791,
            "bin_end": 94388,
            "count": 0
           },
           {
            "bin_start": 94388,
            "bin_end": 117985,
            "count": 0
           },
           {
            "bin_start": 117985,
            "bin_end": 141582,
            "count": 0
           },
           {
            "bin_start": 141582,
            "bin_end": 165179,
            "count": 0
           },
           {
            "bin_start": 165179,
            "bin_end": 188776,
            "count": 0
           },
           {
            "bin_start": 188776,
            "bin_end": 212373,
            "count": 0
           },
           {
            "bin_start": 212373,
            "bin_end": 235970,
            "count": 1
           }
          ]
         }
        },
        {
         "name": "cats_allowed",
         "dtype": "float64",
         "stats": {
          "unique_count": 5,
          "nan_count": 0,
          "min": "0.0",
          "max": "235970.0",
          "histogram": [
           {
            "bin_start": 0,
            "bin_end": 23597,
            "count": 7
           },
           {
            "bin_start": 23597,
            "bin_end": 47194,
            "count": 0
           },
           {
            "bin_start": 47194,
            "bin_end": 70791,
            "count": 0
           },
           {
            "bin_start": 70791,
            "bin_end": 94388,
            "count": 0
           },
           {
            "bin_start": 94388,
            "bin_end": 117985,
            "count": 0
           },
           {
            "bin_start": 117985,
            "bin_end": 141582,
            "count": 0
           },
           {
            "bin_start": 141582,
            "bin_end": 165179,
            "count": 0
           },
           {
            "bin_start": 165179,
            "bin_end": 188776,
            "count": 0
           },
           {
            "bin_start": 188776,
            "bin_end": 212373,
            "count": 0
           },
           {
            "bin_start": 212373,
            "bin_end": 235970,
            "count": 1
           }
          ]
         }
        },
        {
         "name": "dogs_allowed",
         "dtype": "float64",
         "stats": {
          "unique_count": 5,
          "nan_count": 0,
          "min": "0.0",
          "max": "235970.0",
          "histogram": [
           {
            "bin_start": 0,
            "bin_end": 23597,
            "count": 7
           },
           {
            "bin_start": 23597,
            "bin_end": 47194,
            "count": 0
           },
           {
            "bin_start": 47194,
            "bin_end": 70791,
            "count": 0
           },
           {
            "bin_start": 70791,
            "bin_end": 94388,
            "count": 0
           },
           {
            "bin_start": 94388,
            "bin_end": 117985,
            "count": 0
           },
           {
            "bin_start": 117985,
            "bin_end": 141582,
            "count": 0
           },
           {
            "bin_start": 141582,
            "bin_end": 165179,
            "count": 0
           },
           {
            "bin_start": 165179,
            "bin_end": 188776,
            "count": 0
           },
           {
            "bin_start": 188776,
            "bin_end": 212373,
            "count": 0
           },
           {
            "bin_start": 212373,
            "bin_end": 235970,
            "count": 1
           }
          ]
         }
        },
        {
         "name": "smoking_allowed",
         "dtype": "float64",
         "stats": {
          "unique_count": 5,
          "nan_count": 0,
          "min": "0.0",
          "max": "235970.0",
          "histogram": [
           {
            "bin_start": 0,
            "bin_end": 23597,
            "count": 7
           },
           {
            "bin_start": 23597,
            "bin_end": 47194,
            "count": 0
           },
           {
            "bin_start": 47194,
            "bin_end": 70791,
            "count": 0
           },
           {
            "bin_start": 70791,
            "bin_end": 94388,
            "count": 0
           },
           {
            "bin_start": 94388,
            "bin_end": 117985,
            "count": 0
           },
           {
            "bin_start": 117985,
            "bin_end": 141582,
            "count": 0
           },
           {
            "bin_start": 141582,
            "bin_end": 165179,
            "count": 0
           },
           {
            "bin_start": 165179,
            "bin_end": 188776,
            "count": 0
           },
           {
            "bin_start": 188776,
            "bin_end": 212373,
            "count": 0
           },
           {
            "bin_start": 212373,
            "bin_end": 235970,
            "count": 1
           }
          ]
         }
        },
        {
         "name": "wheelchair_access",
         "dtype": "float64",
         "stats": {
          "unique_count": 5,
          "nan_count": 0,
          "min": "0.0",
          "max": "235970.0",
          "histogram": [
           {
            "bin_start": 0,
            "bin_end": 23597,
            "count": 7
           },
           {
            "bin_start": 23597,
            "bin_end": 47194,
            "count": 0
           },
           {
            "bin_start": 47194,
            "bin_end": 70791,
            "count": 0
           },
           {
            "bin_start": 70791,
            "bin_end": 94388,
            "count": 0
           },
           {
            "bin_start": 94388,
            "bin_end": 117985,
            "count": 0
           },
           {
            "bin_start": 117985,
            "bin_end": 141582,
            "count": 0
           },
           {
            "bin_start": 141582,
            "bin_end": 165179,
            "count": 0
           },
           {
            "bin_start": 165179,
            "bin_end": 188776,
            "count": 0
           },
           {
            "bin_start": 188776,
            "bin_end": 212373,
            "count": 0
           },
           {
            "bin_start": 212373,
            "bin_end": 235970,
            "count": 1
           }
          ]
         }
        },
        {
         "name": "electric_vehicle_charge",
         "dtype": "float64",
         "stats": {
          "unique_count": 5,
          "nan_count": 0,
          "min": "0.0",
          "max": "235970.0",
          "histogram": [
           {
            "bin_start": 0,
            "bin_end": 23597,
            "count": 7
           },
           {
            "bin_start": 23597,
            "bin_end": 47194,
            "count": 0
           },
           {
            "bin_start": 47194,
            "bin_end": 70791,
            "count": 0
           },
           {
            "bin_start": 70791,
            "bin_end": 94388,
            "count": 0
           },
           {
            "bin_start": 94388,
            "bin_end": 117985,
            "count": 0
           },
           {
            "bin_start": 117985,
            "bin_end": 141582,
            "count": 0
           },
           {
            "bin_start": 141582,
            "bin_end": 165179,
            "count": 0
           },
           {
            "bin_start": 165179,
            "bin_end": 188776,
            "count": 0
           },
           {
            "bin_start": 188776,
            "bin_end": 212373,
            "count": 0
           },
           {
            "bin_start": 212373,
            "bin_end": 235970,
            "count": 1
           }
          ]
         }
        },
        {
         "name": "comes_furnished",
         "dtype": "float64",
         "stats": {
          "unique_count": 5,
          "nan_count": 0,
          "min": "0.0",
          "max": "235970.0",
          "histogram": [
           {
            "bin_start": 0,
            "bin_end": 23597,
            "count": 7
           },
           {
            "bin_start": 23597,
            "bin_end": 47194,
            "count": 0
           },
           {
            "bin_start": 47194,
            "bin_end": 70791,
            "count": 0
           },
           {
            "bin_start": 70791,
            "bin_end": 94388,
            "count": 0
           },
           {
            "bin_start": 94388,
            "bin_end": 117985,
            "count": 0
           },
           {
            "bin_start": 117985,
            "bin_end": 141582,
            "count": 0
           },
           {
            "bin_start": 141582,
            "bin_end": 165179,
            "count": 0
           },
           {
            "bin_start": 165179,
            "bin_end": 188776,
            "count": 0
           },
           {
            "bin_start": 188776,
            "bin_end": 212373,
            "count": 0
           },
           {
            "bin_start": 212373,
            "bin_end": 235970,
            "count": 1
           }
          ]
         }
        },
        {
         "name": "lat",
         "dtype": "float64",
         "stats": {
          "unique_count": 8,
          "nan_count": 0,
          "min": "-43.5333",
          "max": "235970.0",
          "histogram": [
           {
            "bin_start": -43.5333,
            "bin_end": 23557.820030000003,
            "count": 7
           },
           {
            "bin_start": 23557.820030000003,
            "bin_end": 47159.17336,
            "count": 0
           },
           {
            "bin_start": 47159.17336,
            "bin_end": 70760.52669000001,
            "count": 0
           },
           {
            "bin_start": 70760.52669000001,
            "bin_end": 94361.88002000001,
            "count": 0
           },
           {
            "bin_start": 94361.88002000001,
            "bin_end": 117963.23335000001,
            "count": 0
           },
           {
            "bin_start": 117963.23335000001,
            "bin_end": 141564.58668,
            "count": 0
           },
           {
            "bin_start": 141564.58668,
            "bin_end": 165165.94001,
            "count": 0
           },
           {
            "bin_start": 165165.94001,
            "bin_end": 188767.29334,
            "count": 0
           },
           {
            "bin_start": 188767.29334,
            "bin_end": 212368.64667000002,
            "count": 0
           },
           {
            "bin_start": 212368.64667000002,
            "bin_end": 235970,
            "count": 1
           }
          ]
         }
        },
        {
         "name": "long",
         "dtype": "float64",
         "stats": {
          "unique_count": 8,
          "nan_count": 0,
          "min": "-163.894",
          "max": "235970.0",
          "histogram": [
           {
            "bin_start": -163.894,
            "bin_end": 23449.4954,
            "count": 7
           },
           {
            "bin_start": 23449.4954,
            "bin_end": 47062.8848,
            "count": 0
           },
           {
            "bin_start": 47062.8848,
            "bin_end": 70676.2742,
            "count": 0
           },
           {
            "bin_start": 70676.2742,
            "bin_end": 94289.6636,
            "count": 0
           },
           {
            "bin_start": 94289.6636,
            "bin_end": 117903.053,
            "count": 0
           },
           {
            "bin_start": 117903.053,
            "bin_end": 141516.4424,
            "count": 0
           },
           {
            "bin_start": 141516.4424,
            "bin_end": 165129.8318,
            "count": 0
           },
           {
            "bin_start": 165129.8318,
            "bin_end": 188743.2212,
            "count": 0
           },
           {
            "bin_start": 188743.2212,
            "bin_end": 212356.61059999999,
            "count": 0
           },
           {
            "bin_start": 212356.61059999999,
            "bin_end": 235970,
            "count": 1
           }
          ]
         }
        },
        {
         "name": "_deepnote_index_column",
         "dtype": "object"
        }
       ],
       "rows_top": [
        {
         "id": 235970,
         "price": 235970,
         "sqfeet": 235970,
         "beds": 235970,
         "baths": 235970,
         "cats_allowed": 235970,
         "dogs_allowed": 235970,
         "smoking_allowed": 235970,
         "wheelchair_access": 235970,
         "electric_vehicle_charge": 235970,
         "comes_furnished": 235970,
         "lat": 235970,
         "long": 235970,
         "_deepnote_index_column": "count"
        },
        {
         "id": 7041020802.0103445,
         "price": 13511.2634826461,
         "sqfeet": 1105.2694622197737,
         "beds": 1.9276687714539984,
         "baths": 1.4787854388269694,
         "cats_allowed": 0.7793151671822689,
         "dogs_allowed": 0.7531508242573208,
         "smoking_allowed": 0.6429885154892571,
         "wheelchair_access": 0.10415730813238971,
         "electric_vehicle_charge": 0.017548840954358606,
         "comes_furnished": 0.058219265160825526,
         "lat": 37.89103067635716,
         "long": -94.22010125668517,
         "_deepnote_index_column": "mean"
        },
        {
         "id": 8871302.00846617,
         "price": 5699285.850177382,
         "sqfeet": 24367.855079572553,
         "beds": 3.9011739022514607,
         "baths": 0.6281801561543957,
         "cats_allowed": 0.4147092550442564,
         "dogs_allowed": 0.4311791368507007,
         "smoking_allowed": 0.4791192515998595,
         "wheelchair_access": 0.3054651514039107,
         "electric_vehicle_charge": 0.13130480646072043,
         "comes_furnished": 0.23415809762864706,
         "lat": 5.63314871838563,
         "long": 16.975120138685387,
         "_deepnote_index_column": "std"
        },
        {
         "id": 7004032234,
         "price": 0,
         "sqfeet": 0,
         "beds": 0,
         "baths": 0,
         "cats_allowed": 0,
         "dogs_allowed": 0,
         "smoking_allowed": 0,
         "wheelchair_access": 0,
         "electric_vehicle_charge": 0,
         "comes_furnished": 0,
         "lat": -43.5333,
         "long": -163.894,
         "_deepnote_index_column": "min"
        },
        {
         "id": 7035925011.75,
         "price": 819,
         "sqfeet": 750,
         "beds": 1,
         "baths": 1,
         "cats_allowed": 1,
         "dogs_allowed": 1,
         "smoking_allowed": 0,
         "wheelchair_access": 0,
         "electric_vehicle_charge": 0,
         "comes_furnished": 0,
         "lat": 33.9631,
         "long": -105.07,
         "_deepnote_index_column": "25%"
        },
        {
         "id": 7043394268.5,
         "price": 1059,
         "sqfeet": 950,
         "beds": 2,
         "baths": 1,
         "cats_allowed": 1,
         "dogs_allowed": 1,
         "smoking_allowed": 1,
         "wheelchair_access": 0,
         "electric_vehicle_charge": 0,
         "comes_furnished": 0,
         "lat": 38.5943,
         "long": -89.4015,
         "_deepnote_index_column": "50%"
        },
        {
         "id": 7048516010.25,
         "price": 1464,
         "sqfeet": 1154,
         "beds": 2,
         "baths": 2,
         "cats_allowed": 1,
         "dogs_allowed": 1,
         "smoking_allowed": 1,
         "wheelchair_access": 0,
         "electric_vehicle_charge": 0,
         "comes_furnished": 0,
         "lat": 41.7363,
         "long": -81.5691,
         "_deepnote_index_column": "75%"
        },
        {
         "id": 7051292183,
         "price": 2768307249,
         "sqfeet": 8388607,
         "beds": 1100,
         "baths": 75,
         "cats_allowed": 1,
         "dogs_allowed": 1,
         "smoking_allowed": 1,
         "wheelchair_access": 1,
         "electric_vehicle_charge": 1,
         "comes_furnished": 1,
         "lat": 64.9937,
         "long": 172.633,
         "_deepnote_index_column": "max"
        }
       ],
       "rows_bottom": null
      },
      "text/plain": "                 id         price        sqfeet           beds          baths  \\\ncount  2.359700e+05  2.359700e+05  2.359700e+05  235970.000000  235970.000000   \nmean   7.041021e+09  1.351126e+04  1.105269e+03       1.927669       1.478785   \nstd    8.871302e+06  5.699286e+06  2.436786e+04       3.901174       0.628180   \nmin    7.004032e+09  0.000000e+00  0.000000e+00       0.000000       0.000000   \n25%    7.035925e+09  8.190000e+02  7.500000e+02       1.000000       1.000000   \n50%    7.043394e+09  1.059000e+03  9.500000e+02       2.000000       1.000000   \n75%    7.048516e+09  1.464000e+03  1.154000e+03       2.000000       2.000000   \nmax    7.051292e+09  2.768307e+09  8.388607e+06    1100.000000      75.000000   \n\n        cats_allowed   dogs_allowed  smoking_allowed  wheelchair_access  \\\ncount  235970.000000  235970.000000    235970.000000      235970.000000   \nmean        0.779315       0.753151         0.642989           0.104157   \nstd         0.414709       0.431179         0.479119           0.305465   \nmin         0.000000       0.000000         0.000000           0.000000   \n25%         1.000000       1.000000         0.000000           0.000000   \n50%         1.000000       1.000000         1.000000           0.000000   \n75%         1.000000       1.000000         1.000000           0.000000   \nmax         1.000000       1.000000         1.000000           1.000000   \n\n       electric_vehicle_charge  comes_furnished            lat           long  \ncount            235970.000000    235970.000000  235970.000000  235970.000000  \nmean                  0.017549         0.058219      37.891031     -94.220101  \nstd                   0.131305         0.234158       5.633149      16.975120  \nmin                   0.000000         0.000000     -43.533300    -163.894000  \n25%                   0.000000         0.000000      33.963100    -105.070000  \n50%                   0.000000         0.000000      38.594300     -89.401500  \n75%                   0.000000         0.000000      41.736300     -81.569100  \nmax                   1.000000         1.000000      64.993700     172.633000  ",
      "text/html": "<div>\n<style scoped>\n    .dataframe tbody tr th:only-of-type {\n        vertical-align: middle;\n    }\n\n    .dataframe tbody tr th {\n        vertical-align: top;\n    }\n\n    .dataframe thead th {\n        text-align: right;\n    }\n</style>\n<table border=\"1\" class=\"dataframe\">\n  <thead>\n    <tr style=\"text-align: right;\">\n      <th></th>\n      <th>id</th>\n      <th>price</th>\n      <th>sqfeet</th>\n      <th>beds</th>\n      <th>baths</th>\n      <th>cats_allowed</th>\n      <th>dogs_allowed</th>\n      <th>smoking_allowed</th>\n      <th>wheelchair_access</th>\n      <th>electric_vehicle_charge</th>\n      <th>comes_furnished</th>\n      <th>lat</th>\n      <th>long</th>\n    </tr>\n  </thead>\n  <tbody>\n    <tr>\n      <th>count</th>\n      <td>2.359700e+05</td>\n      <td>2.359700e+05</td>\n      <td>2.359700e+05</td>\n      <td>235970.000000</td>\n      <td>235970.000000</td>\n      <td>235970.000000</td>\n      <td>235970.000000</td>\n      <td>235970.000000</td>\n      <td>235970.000000</td>\n      <td>235970.000000</td>\n      <td>235970.000000</td>\n      <td>235970.000000</td>\n      <td>235970.000000</td>\n    </tr>\n    <tr>\n      <th>mean</th>\n      <td>7.041021e+09</td>\n      <td>1.351126e+04</td>\n      <td>1.105269e+03</td>\n      <td>1.927669</td>\n      <td>1.478785</td>\n      <td>0.779315</td>\n      <td>0.753151</td>\n      <td>0.642989</td>\n      <td>0.104157</td>\n      <td>0.017549</td>\n      <td>0.058219</td>\n      <td>37.891031</td>\n      <td>-94.220101</td>\n    </tr>\n    <tr>\n      <th>std</th>\n      <td>8.871302e+06</td>\n      <td>5.699286e+06</td>\n      <td>2.436786e+04</td>\n      <td>3.901174</td>\n      <td>0.628180</td>\n      <td>0.414709</td>\n      <td>0.431179</td>\n      <td>0.479119</td>\n      <td>0.305465</td>\n      <td>0.131305</td>\n      <td>0.234158</td>\n      <td>5.633149</td>\n      <td>16.975120</td>\n    </tr>\n    <tr>\n      <th>min</th>\n      <td>7.004032e+09</td>\n      <td>0.000000e+00</td>\n      <td>0.000000e+00</td>\n      <td>0.000000</td>\n      <td>0.000000</td>\n      <td>0.000000</td>\n      <td>0.000000</td>\n      <td>0.000000</td>\n      <td>0.000000</td>\n      <td>0.000000</td>\n      <td>0.000000</td>\n      <td>-43.533300</td>\n      <td>-163.894000</td>\n    </tr>\n    <tr>\n      <th>25%</th>\n      <td>7.035925e+09</td>\n      <td>8.190000e+02</td>\n      <td>7.500000e+02</td>\n      <td>1.000000</td>\n      <td>1.000000</td>\n      <td>1.000000</td>\n      <td>1.000000</td>\n      <td>0.000000</td>\n      <td>0.000000</td>\n      <td>0.000000</td>\n      <td>0.000000</td>\n      <td>33.963100</td>\n      <td>-105.070000</td>\n    </tr>\n    <tr>\n      <th>50%</th>\n      <td>7.043394e+09</td>\n      <td>1.059000e+03</td>\n      <td>9.500000e+02</td>\n      <td>2.000000</td>\n      <td>1.000000</td>\n      <td>1.000000</td>\n      <td>1.000000</td>\n      <td>1.000000</td>\n      <td>0.000000</td>\n      <td>0.000000</td>\n      <td>0.000000</td>\n      <td>38.594300</td>\n      <td>-89.401500</td>\n    </tr>\n    <tr>\n      <th>75%</th>\n      <td>7.048516e+09</td>\n      <td>1.464000e+03</td>\n      <td>1.154000e+03</td>\n      <td>2.000000</td>\n      <td>2.000000</td>\n      <td>1.000000</td>\n      <td>1.000000</td>\n      <td>1.000000</td>\n      <td>0.000000</td>\n      <td>0.000000</td>\n      <td>0.000000</td>\n      <td>41.736300</td>\n      <td>-81.569100</td>\n    </tr>\n    <tr>\n      <th>max</th>\n      <td>7.051292e+09</td>\n      <td>2.768307e+09</td>\n      <td>8.388607e+06</td>\n      <td>1100.000000</td>\n      <td>75.000000</td>\n      <td>1.000000</td>\n      <td>1.000000</td>\n      <td>1.000000</td>\n      <td>1.000000</td>\n      <td>1.000000</td>\n      <td>1.000000</td>\n      <td>64.993700</td>\n      <td>172.633000</td>\n    </tr>\n  </tbody>\n</table>\n</div>"
     },
     "metadata": {}
    }
   ]
  },
  {
   "cell_type": "markdown",
   "source": "**Drop rows with price below 500**",
   "metadata": {
    "tags": [],
    "cell_id": "00008-0bbebc62-2eae-4f47-b8dc-fe3c6af5125f",
    "deepnote_cell_type": "markdown"
   }
  },
  {
   "cell_type": "markdown",
   "source": "According to data, the lowest average house rent in the US is about $550. So we decided to remove rows with price less than 500.",
   "metadata": {
    "tags": [],
    "cell_id": "00009-ac7bad19-6212-48f5-af75-0d3ed4eaff6c",
    "deepnote_cell_type": "markdown"
   }
  },
  {
   "cell_type": "code",
   "metadata": {
    "tags": [],
    "cell_id": "00009-a7825af6-44dd-497f-9bc6-f80f6995cc13",
    "deepnote_to_be_reexecuted": false,
    "source_hash": "ac40e9fe",
    "execution_start": 1638115883613,
    "execution_millis": 72,
    "deepnote_cell_type": "code"
   },
   "source": "housing.drop(housing[housing.price <= 500].index, inplace = True)",
   "execution_count": 8,
   "outputs": []
  },
  {
   "cell_type": "markdown",
   "source": "**Drop rows with squarefeet less than 100 squarefeet**",
   "metadata": {
    "tags": [],
    "cell_id": "00011-db32633b-36cf-493c-8663-1a95e8d446e0",
    "deepnote_cell_type": "markdown"
   }
  },
  {
   "cell_type": "code",
   "metadata": {
    "tags": [],
    "cell_id": "00010-4b957264-f496-42e2-a2aa-eeb45ed5012a",
    "deepnote_to_be_reexecuted": false,
    "source_hash": "179e76e7",
    "execution_start": 1638115883695,
    "execution_millis": 59,
    "deepnote_cell_type": "code"
   },
   "source": "housing.drop(housing[housing.sqfeet <= 100].index, inplace = True)",
   "execution_count": 9,
   "outputs": []
  },
  {
   "cell_type": "markdown",
   "source": "**Drop rows with number of bedrooms more than 10.**\n",
   "metadata": {
    "tags": [],
    "cell_id": "00014-76147f74-c93f-44a4-bbc4-f228c94e3d03",
    "deepnote_cell_type": "markdown"
   }
  },
  {
   "cell_type": "code",
   "metadata": {
    "tags": [],
    "cell_id": "00015-8f417dc9-70e0-48c8-9871-e21d2f5fe942",
    "deepnote_to_be_reexecuted": false,
    "source_hash": "fbf99850",
    "execution_start": 1638115883764,
    "execution_millis": 64,
    "deepnote_cell_type": "code"
   },
   "source": "housing.drop(housing[housing.beds >= 10].index, inplace = True)",
   "execution_count": 10,
   "outputs": []
  },
  {
   "cell_type": "markdown",
   "source": "**The distribution of housing price**",
   "metadata": {
    "tags": [],
    "cell_id": "00008-3bbad253-a557-4cec-8d84-6a3ded80792e",
    "deepnote_cell_type": "markdown"
   }
  },
  {
   "cell_type": "code",
   "metadata": {
    "tags": [],
    "cell_id": "00008-c76a0999-45cb-4dd3-862b-c59831a5400f",
    "deepnote_to_be_reexecuted": false,
    "source_hash": "c54ce205",
    "execution_start": 1638115883837,
    "execution_millis": 426,
    "deepnote_output_heights": [
     263
    ],
    "deepnote_cell_type": "code"
   },
   "source": "plt.hist(housing['price'])\nplt.show()",
   "execution_count": 11,
   "outputs": [
    {
     "data": {
      "text/plain": "<Figure size 432x288 with 1 Axes>",
      "image/png": "[encoded data removed]"
     },
     "metadata": {
      "needs_background": "light",
      "image/png": {
       "width": 393,
       "height": 261
      }
     },
     "output_type": "display_data"
    }
   ]
  },
  {
   "cell_type": "markdown",
   "source": "There seems to be extreme value in the housing price.",
   "metadata": {
    "tags": [],
    "cell_id": "00010-40933f1a-4b8a-4b56-b788-ee4069148792",
    "deepnote_cell_type": "markdown"
   }
  },
  {
   "cell_type": "markdown",
   "source": "**Drop the rows with house price larger than 3*IQR**",
   "metadata": {
    "tags": [],
    "cell_id": "00018-74185f73-6be0-4ee1-8c52-042ebd598030",
    "deepnote_cell_type": "markdown"
   }
  },
  {
   "cell_type": "code",
   "metadata": {
    "tags": [],
    "cell_id": "00018-fcd6f856-9c9a-4f8d-98e1-37afe77e87a0",
    "deepnote_to_be_reexecuted": false,
    "source_hash": "1502b419",
    "execution_start": 1638115884271,
    "execution_millis": 86,
    "deepnote_cell_type": "code"
   },
   "source": "housing.drop(housing[housing.price >= 3*(1464-819)].index, inplace = True)",
   "execution_count": 12,
   "outputs": []
  },
  {
   "cell_type": "markdown",
   "source": "**The distribution of square feet**",
   "metadata": {
    "tags": [],
    "cell_id": "00020-a96256ab-204b-4e7a-976d-36b5e4e8d222",
    "deepnote_cell_type": "markdown"
   }
  },
  {
   "cell_type": "code",
   "metadata": {
    "tags": [],
    "cell_id": "00020-fe48f264-6ebf-4076-af1d-570d31a09c64",
    "deepnote_to_be_reexecuted": false,
    "source_hash": "acee28bd",
    "execution_start": 1638115884363,
    "execution_millis": 447,
    "deepnote_output_heights": [
     263
    ],
    "deepnote_cell_type": "code"
   },
   "source": "plt.hist(housing['sqfeet'])\nplt.show()",
   "execution_count": 13,
   "outputs": [
    {
     "data": {
      "text/plain": "<Figure size 432x288 with 1 Axes>",
      "image/png": "[encoded data removed]"
     },
     "metadata": {
      "needs_background": "light",
      "image/png": {
       "width": 394,
       "height": 261
      }
     },
     "output_type": "display_data"
    }
   ]
  },
  {
   "cell_type": "markdown",
   "source": "There are also extreme values in squarefeet of houses.",
   "metadata": {
    "tags": [],
    "cell_id": "00022-e9508491-c0f3-438b-ae87-5bd26388e23a",
    "deepnote_cell_type": "markdown"
   }
  },
  {
   "cell_type": "markdown",
   "source": "**Drop the rows with exteremely large house, larger than 3*IQR**",
   "metadata": {
    "tags": [],
    "cell_id": "00020-7fb43bf7-fdac-4622-b6da-47cf6acceeb2",
    "deepnote_cell_type": "markdown"
   }
  },
  {
   "cell_type": "code",
   "metadata": {
    "tags": [],
    "cell_id": "00020-8c69aadd-8ce0-4e0f-ba67-65270e16954c",
    "deepnote_to_be_reexecuted": false,
    "source_hash": "1143cf6a",
    "execution_start": 1638115884816,
    "execution_millis": 109,
    "deepnote_cell_type": "code"
   },
   "source": "housing.drop(housing[housing.sqfeet >= 3*(1154-750)].index, inplace = True)",
   "execution_count": 14,
   "outputs": []
  },
  {
   "cell_type": "code",
   "metadata": {
    "tags": [],
    "cell_id": "00011-0b881c1f-d362-4d44-8758-29ab3fdc50e0",
    "deepnote_to_be_reexecuted": false,
    "source_hash": "1688aea2",
    "execution_start": 1638115884938,
    "execution_millis": 510,
    "deepnote_output_heights": [
     21
    ],
    "deepnote_cell_type": "code"
   },
   "source": "housing.describe()",
   "execution_count": 15,
   "outputs": [
    {
     "output_type": "execute_result",
     "execution_count": 15,
     "data": {
      "application/vnd.deepnote.dataframe.v2+json": {
       "row_count": 8,
       "column_count": 13,
       "columns": [
        {
         "name": "id",
         "dtype": "float64",
         "stats": {
          "unique_count": 8,
          "nan_count": 0,
          "min": "169375.0",
          "max": "7051290755.0",
          "histogram": [
           {
            "bin_start": 169375,
            "bin_end": 705281513,
            "count": 2
           },
           {
            "bin_start": 705281513,
            "bin_end": 1410393651,
            "count": 0
           },
           {
            "bin_start": 1410393651,
            "bin_end": 2115505789,
            "count": 0
           },
           {
            "bin_start": 2115505789,
            "bin_end": 2820617927,
            "count": 0
           },
           {
            "bin_start": 2820617927,
            "bin_end": 3525730065,
            "count": 0
           },
           {
            "bin_start": 3525730065,
            "bin_end": 4230842203,
            "count": 0
           },
           {
            "bin_start": 4230842203,
            "bin_end": 4935954341,
            "count": 0
           },
           {
            "bin_start": 4935954341,
            "bin_end": 5641066479,
            "count": 0
           },
           {
            "bin_start": 5641066479,
            "bin_end": 6346178617,
            "count": 0
           },
           {
            "bin_start": 6346178617,
            "bin_end": 7051290755,
            "count": 6
           }
          ]
         }
        },
        {
         "name": "price",
         "dtype": "float64",
         "stats": {
          "unique_count": 8,
          "nan_count": 0,
          "min": "327.4432558431984",
          "max": "169375.0",
          "histogram": [
           {
            "bin_start": 327.4432558431984,
            "bin_end": 17232.19893025888,
            "count": 7
           },
           {
            "bin_start": 17232.19893025888,
            "bin_end": 34136.95460467457,
            "count": 0
           },
           {
            "bin_start": 34136.95460467457,
            "bin_end": 51041.71027909025,
            "count": 0
           },
           {
            "bin_start": 51041.71027909025,
            "bin_end": 67946.46595350593,
            "count": 0
           },
           {
            "bin_start": 67946.46595350593,
            "bin_end": 84851.22162792161,
            "count": 0
           },
           {
            "bin_start": 84851.22162792161,
            "bin_end": 101755.9773023373,
            "count": 0
           },
           {
            "bin_start": 101755.9773023373,
            "bin_end": 118660.73297675299,
            "count": 0
           },
           {
            "bin_start": 118660.73297675299,
            "bin_end": 135565.48865116865,
            "count": 0
           },
           {
            "bin_start": 135565.48865116865,
            "bin_end": 152470.24432558432,
            "count": 0
           },
           {
            "bin_start": 152470.24432558432,
            "bin_end": 169375,
            "count": 1
           }
          ]
         }
        },
        {
         "name": "sqfeet",
         "dtype": "float64",
         "stats": {
          "unique_count": 8,
          "nan_count": 0,
          "min": "104.0",
          "max": "169375.0",
          "histogram": [
           {
            "bin_start": 104,
            "bin_end": 17031.1,
            "count": 7
           },
           {
            "bin_start": 17031.1,
            "bin_end": 33958.2,
            "count": 0
           },
           {
            "bin_start": 33958.2,
            "bin_end": 50885.299999999996,
            "count": 0
           },
           {
            "bin_start": 50885.299999999996,
            "bin_end": 67812.4,
            "count": 0
           },
           {
            "bin_start": 67812.4,
            "bin_end": 84739.5,
            "count": 0
           },
           {
            "bin_start": 84739.5,
            "bin_end": 101666.59999999999,
            "count": 0
           },
           {
            "bin_start": 101666.59999999999,
            "bin_end": 118593.69999999998,
            "count": 0
           },
           {
            "bin_start": 118593.69999999998,
            "bin_end": 135520.8,
            "count": 0
           },
           {
            "bin_start": 135520.8,
            "bin_end": 152447.9,
            "count": 0
           },
           {
            "bin_start": 152447.9,
            "bin_end": 169375,
            "count": 1
           }
          ]
         }
        },
        {
         "name": "beds",
         "dtype": "float64",
         "stats": {
          "unique_count": 7,
          "nan_count": 0,
          "min": "0.0",
          "max": "169375.0",
          "histogram": [
           {
            "bin_start": 0,
            "bin_end": 16937.5,
            "count": 7
           },
           {
            "bin_start": 16937.5,
            "bin_end": 33875,
            "count": 0
           },
           {
            "bin_start": 33875,
            "bin_end": 50812.5,
            "count": 0
           },
           {
            "bin_start": 50812.5,
            "bin_end": 67750,
            "count": 0
           },
           {
            "bin_start": 67750,
            "bin_end": 84687.5,
            "count": 0
           },
           {
            "bin_start": 84687.5,
            "bin_end": 101625,
            "count": 0
           },
           {
            "bin_start": 101625,
            "bin_end": 118562.5,
            "count": 0
           },
           {
            "bin_start": 118562.5,
            "bin_end": 135500,
            "count": 0
           },
           {
            "bin_start": 135500,
            "bin_end": 152437.5,
            "count": 0
           },
           {
            "bin_start": 152437.5,
            "bin_end": 169375,
            "count": 1
           }
          ]
         }
        },
        {
         "name": "baths",
         "dtype": "float64",
         "stats": {
          "unique_count": 7,
          "nan_count": 0,
          "min": "0.0",
          "max": "169375.0",
          "histogram": [
           {
            "bin_start": 0,
            "bin_end": 16937.5,
            "count": 7
           },
           {
            "bin_start": 16937.5,
            "bin_end": 33875,
            "count": 0
           },
           {
            "bin_start": 33875,
            "bin_end": 50812.5,
            "count": 0
           },
           {
            "bin_start": 50812.5,
            "bin_end": 67750,
            "count": 0
           },
           {
            "bin_start": 67750,
            "bin_end": 84687.5,
            "count": 0
           },
           {
            "bin_start": 84687.5,
            "bin_end": 101625,
            "count": 0
           },
           {
            "bin_start": 101625,
            "bin_end": 118562.5,
            "count": 0
           },
           {
            "bin_start": 118562.5,
            "bin_end": 135500,
            "count": 0
           },
           {
            "bin_start": 135500,
            "bin_end": 152437.5,
            "count": 0
           },
           {
            "bin_start": 152437.5,
            "bin_end": 169375,
            "count": 1
           }
          ]
         }
        },
        {
         "name": "cats_allowed",
         "dtype": "float64",
         "stats": {
          "unique_count": 5,
          "nan_count": 0,
          "min": "0.0",
          "max": "169375.0",
          "histogram": [
           {
            "bin_start": 0,
            "bin_end": 16937.5,
            "count": 7
           },
           {
            "bin_start": 16937.5,
            "bin_end": 33875,
            "count": 0
           },
           {
            "bin_start": 33875,
            "bin_end": 50812.5,
            "count": 0
           },
           {
            "bin_start": 50812.5,
            "bin_end": 67750,
            "count": 0
           },
           {
            "bin_start": 67750,
            "bin_end": 84687.5,
            "count": 0
           },
           {
            "bin_start": 84687.5,
            "bin_end": 101625,
            "count": 0
           },
           {
            "bin_start": 101625,
            "bin_end": 118562.5,
            "count": 0
           },
           {
            "bin_start": 118562.5,
            "bin_end": 135500,
            "count": 0
           },
           {
            "bin_start": 135500,
            "bin_end": 152437.5,
            "count": 0
           },
           {
            "bin_start": 152437.5,
            "bin_end": 169375,
            "count": 1
           }
          ]
         }
        },
        {
         "name": "dogs_allowed",
         "dtype": "float64",
         "stats": {
          "unique_count": 5,
          "nan_count": 0,
          "min": "0.0",
          "max": "169375.0",
          "histogram": [
           {
            "bin_start": 0,
            "bin_end": 16937.5,
            "count": 7
           },
           {
            "bin_start": 16937.5,
            "bin_end": 33875,
            "count": 0
           },
           {
            "bin_start": 33875,
            "bin_end": 50812.5,
            "count": 0
           },
           {
            "bin_start": 50812.5,
            "bin_end": 67750,
            "count": 0
           },
           {
            "bin_start": 67750,
            "bin_end": 84687.5,
            "count": 0
           },
           {
            "bin_start": 84687.5,
            "bin_end": 101625,
            "count": 0
           },
           {
            "bin_start": 101625,
            "bin_end": 118562.5,
            "count": 0
           },
           {
            "bin_start": 118562.5,
            "bin_end": 135500,
            "count": 0
           },
           {
            "bin_start": 135500,
            "bin_end": 152437.5,
            "count": 0
           },
           {
            "bin_start": 152437.5,
            "bin_end": 169375,
            "count": 1
           }
          ]
         }
        },
        {
         "name": "smoking_allowed",
         "dtype": "float64",
         "stats": {
          "unique_count": 5,
          "nan_count": 0,
          "min": "0.0",
          "max": "169375.0",
          "histogram": [
           {
            "bin_start": 0,
            "bin_end": 16937.5,
            "count": 7
           },
           {
            "bin_start": 16937.5,
            "bin_end": 33875,
            "count": 0
           },
           {
            "bin_start": 33875,
            "bin_end": 50812.5,
            "count": 0
           },
           {
            "bin_start": 50812.5,
            "bin_end": 67750,
            "count": 0
           },
           {
            "bin_start": 67750,
            "bin_end": 84687.5,
            "count": 0
           },
           {
            "bin_start": 84687.5,
            "bin_end": 101625,
            "count": 0
           },
           {
            "bin_start": 101625,
            "bin_end": 118562.5,
            "count": 0
           },
           {
            "bin_start": 118562.5,
            "bin_end": 135500,
            "count": 0
           },
           {
            "bin_start": 135500,
            "bin_end": 152437.5,
            "count": 0
           },
           {
            "bin_start": 152437.5,
            "bin_end": 169375,
            "count": 1
           }
          ]
         }
        },
        {
         "name": "wheelchair_access",
         "dtype": "float64",
         "stats": {
          "unique_count": 5,
          "nan_count": 0,
          "min": "0.0",
          "max": "169375.0",
          "histogram": [
           {
            "bin_start": 0,
            "bin_end": 16937.5,
            "count": 7
           },
           {
            "bin_start": 16937.5,
            "bin_end": 33875,
            "count": 0
           },
           {
            "bin_start": 33875,
            "bin_end": 50812.5,
            "count": 0
           },
           {
            "bin_start": 50812.5,
            "bin_end": 67750,
            "count": 0
           },
           {
            "bin_start": 67750,
            "bin_end": 84687.5,
            "count": 0
           },
           {
            "bin_start": 84687.5,
            "bin_end": 101625,
            "count": 0
           },
           {
            "bin_start": 101625,
            "bin_end": 118562.5,
            "count": 0
           },
           {
            "bin_start": 118562.5,
            "bin_end": 135500,
            "count": 0
           },
           {
            "bin_start": 135500,
            "bin_end": 152437.5,
            "count": 0
           },
           {
            "bin_start": 152437.5,
            "bin_end": 169375,
            "count": 1
           }
          ]
         }
        },
        {
         "name": "electric_vehicle_charge",
         "dtype": "float64",
         "stats": {
          "unique_count": 5,
          "nan_count": 0,
          "min": "0.0",
          "max": "169375.0",
          "histogram": [
           {
            "bin_start": 0,
            "bin_end": 16937.5,
            "count": 7
           },
           {
            "bin_start": 16937.5,
            "bin_end": 33875,
            "count": 0
           },
           {
            "bin_start": 33875,
            "bin_end": 50812.5,
            "count": 0
           },
           {
            "bin_start": 50812.5,
            "bin_end": 67750,
            "count": 0
           },
           {
            "bin_start": 67750,
            "bin_end": 84687.5,
            "count": 0
           },
           {
            "bin_start": 84687.5,
            "bin_end": 101625,
            "count": 0
           },
           {
            "bin_start": 101625,
            "bin_end": 118562.5,
            "count": 0
           },
           {
            "bin_start": 118562.5,
            "bin_end": 135500,
            "count": 0
           },
           {
            "bin_start": 135500,
            "bin_end": 152437.5,
            "count": 0
           },
           {
            "bin_start": 152437.5,
            "bin_end": 169375,
            "count": 1
           }
          ]
         }
        },
        {
         "name": "comes_furnished",
         "dtype": "float64",
         "stats": {
          "unique_count": 5,
          "nan_count": 0,
          "min": "0.0",
          "max": "169375.0",
          "histogram": [
           {
            "bin_start": 0,
            "bin_end": 16937.5,
            "count": 7
           },
           {
            "bin_start": 16937.5,
            "bin_end": 33875,
            "count": 0
           },
           {
            "bin_start": 33875,
            "bin_end": 50812.5,
            "count": 0
           },
           {
            "bin_start": 50812.5,
            "bin_end": 67750,
            "count": 0
           },
           {
            "bin_start": 67750,
            "bin_end": 84687.5,
            "count": 0
           },
           {
            "bin_start": 84687.5,
            "bin_end": 101625,
            "count": 0
           },
           {
            "bin_start": 101625,
            "bin_end": 118562.5,
            "count": 0
           },
           {
            "bin_start": 118562.5,
            "bin_end": 135500,
            "count": 0
           },
           {
            "bin_start": 135500,
            "bin_end": 152437.5,
            "count": 0
           },
           {
            "bin_start": 152437.5,
            "bin_end": 169375,
            "count": 1
           }
          ]
         }
        },
        {
         "name": "lat",
         "dtype": "float64",
         "stats": {
          "unique_count": 8,
          "nan_count": 0,
          "min": "-24.9558",
          "max": "169375.0",
          "histogram": [
           {
            "bin_start": -24.9558,
            "bin_end": 16915.03978,
            "count": 7
           },
           {
            "bin_start": 16915.03978,
            "bin_end": 33855.035359999994,
            "count": 0
           },
           {
            "bin_start": 33855.035359999994,
            "bin_end": 50795.03093999999,
            "count": 0
           },
           {
            "bin_start": 50795.03093999999,
            "bin_end": 67735.02652,
            "count": 0
           },
           {
            "bin_start": 67735.02652,
            "bin_end": 84675.0221,
            "count": 0
           },
           {
            "bin_start": 84675.0221,
            "bin_end": 101615.01767999999,
            "count": 0
           },
           {
            "bin_start": 101615.01767999999,
            "bin_end": 118555.01325999999,
            "count": 0
           },
           {
            "bin_start": 118555.01325999999,
            "bin_end": 135495.00884,
            "count": 0
           },
           {
            "bin_start": 135495.00884,
            "bin_end": 152435.00441999998,
            "count": 0
           },
           {
            "bin_start": 152435.00441999998,
            "bin_end": 169375,
            "count": 1
           }
          ]
         }
        },
        {
         "name": "long",
         "dtype": "float64",
         "stats": {
          "unique_count": 8,
          "nan_count": 0,
          "min": "-163.894",
          "max": "169375.0",
          "histogram": [
           {
            "bin_start": -163.894,
            "bin_end": 16789.9954,
            "count": 7
           },
           {
            "bin_start": 16789.9954,
            "bin_end": 33743.8848,
            "count": 0
           },
           {
            "bin_start": 33743.8848,
            "bin_end": 50697.7742,
            "count": 0
           },
           {
            "bin_start": 50697.7742,
            "bin_end": 67651.6636,
            "count": 0
           },
           {
            "bin_start": 67651.6636,
            "bin_end": 84605.553,
            "count": 0
           },
           {
            "bin_start": 84605.553,
            "bin_end": 101559.4424,
            "count": 0
           },
           {
            "bin_start": 101559.4424,
            "bin_end": 118513.3318,
            "count": 0
           },
           {
            "bin_start": 118513.3318,
            "bin_end": 135467.2212,
            "count": 0
           },
           {
            "bin_start": 135467.2212,
            "bin_end": 152421.11059999999,
            "count": 0
           },
           {
            "bin_start": 152421.11059999999,
            "bin_end": 169375,
            "count": 1
           }
          ]
         }
        },
        {
         "name": "_deepnote_index_column",
         "dtype": "object"
        }
       ],
       "rows_top": [
        {
         "id": 169375,
         "price": 169375,
         "sqfeet": 169375,
         "beds": 169375,
         "baths": 169375,
         "cats_allowed": 169375,
         "dogs_allowed": 169375,
         "smoking_allowed": 169375,
         "wheelchair_access": 169375,
         "electric_vehicle_charge": 169375,
         "comes_furnished": 169375,
         "lat": 169375,
         "long": 169375,
         "_deepnote_index_column": "count"
        },
        {
         "id": 7041056811.274657,
         "price": 1045.6679911439114,
         "sqfeet": 857.9411365313653,
         "beds": 1.6571276752767528,
         "baths": 1.3162568265682657,
         "cats_allowed": 0.8175232472324723,
         "dogs_allowed": 0.7799734317343173,
         "smoking_allowed": 0.6716044280442804,
         "wheelchair_access": 0.09420516605166052,
         "electric_vehicle_charge": 0.011843542435424355,
         "comes_furnished": 0.04278081180811808,
         "lat": 37.97927136047233,
         "long": -93.70136186828044,
         "_deepnote_index_column": "mean"
        },
        {
         "id": 8770179.224523865,
         "price": 327.4432558431984,
         "sqfeet": 198.91507233117088,
         "beds": 0.6895766202230912,
         "baths": 0.4671502997464431,
         "cats_allowed": 0.3862380978537669,
         "dogs_allowed": 0.4142654834200658,
         "smoking_allowed": 0.46963094279960105,
         "wheelchair_access": 0.2921148002762534,
         "electric_vehicle_charge": 0.10818198572418149,
         "comes_furnished": 0.20236317779039356,
         "lat": 5.578836833494018,
         "long": 16.347669120769257,
         "_deepnote_index_column": "std"
        },
        {
         "id": 7004032234,
         "price": 501,
         "sqfeet": 104,
         "beds": 0,
         "baths": 0,
         "cats_allowed": 0,
         "dogs_allowed": 0,
         "smoking_allowed": 0,
         "wheelchair_access": 0,
         "electric_vehicle_charge": 0,
         "comes_furnished": 0,
         "lat": -24.9558,
         "long": -163.894,
         "_deepnote_index_column": "min"
        },
        {
         "id": 7035963181,
         "price": 795,
         "sqfeet": 714,
         "beds": 1,
         "baths": 1,
         "cats_allowed": 1,
         "dogs_allowed": 1,
         "smoking_allowed": 0,
         "wheelchair_access": 0,
         "electric_vehicle_charge": 0,
         "comes_furnished": 0,
         "lat": 33.9761,
         "long": -102.394,
         "_deepnote_index_column": "25%"
        },
        {
         "id": 7043406415,
         "price": 975,
         "sqfeet": 870,
         "beds": 2,
         "baths": 1,
         "cats_allowed": 1,
         "dogs_allowed": 1,
         "smoking_allowed": 1,
         "wheelchair_access": 0,
         "electric_vehicle_charge": 0,
         "comes_furnished": 0,
         "lat": 38.7513,
         "long": -89.2158,
         "_deepnote_index_column": "50%"
        },
        {
         "id": 7048472350,
         "price": 1265,
         "sqfeet": 1000,
         "beds": 2,
         "baths": 2,
         "cats_allowed": 1,
         "dogs_allowed": 1,
         "smoking_allowed": 1,
         "wheelchair_access": 0,
         "electric_vehicle_charge": 0,
         "comes_furnished": 0,
         "lat": 41.7591,
         "long": -81.7339,
         "_deepnote_index_column": "75%"
        },
        {
         "id": 7051290755,
         "price": 1934,
         "sqfeet": 1211,
         "beds": 8,
         "baths": 5,
         "cats_allowed": 1,
         "dogs_allowed": 1,
         "smoking_allowed": 1,
         "wheelchair_access": 1,
         "electric_vehicle_charge": 1,
         "comes_furnished": 1,
         "lat": 64.9937,
         "long": 94.1248,
         "_deepnote_index_column": "max"
        }
       ],
       "rows_bottom": null
      },
      "text/plain": "                 id          price         sqfeet           beds  \\\ncount  1.693750e+05  169375.000000  169375.000000  169375.000000   \nmean   7.041057e+09    1045.667991     857.941137       1.657128   \nstd    8.770179e+06     327.443256     198.915072       0.689577   \nmin    7.004032e+09     501.000000     104.000000       0.000000   \n25%    7.035963e+09     795.000000     714.000000       1.000000   \n50%    7.043406e+09     975.000000     870.000000       2.000000   \n75%    7.048472e+09    1265.000000    1000.000000       2.000000   \nmax    7.051291e+09    1934.000000    1211.000000       8.000000   \n\n               baths   cats_allowed   dogs_allowed  smoking_allowed  \\\ncount  169375.000000  169375.000000  169375.000000    169375.000000   \nmean        1.316257       0.817523       0.779973         0.671604   \nstd         0.467150       0.386238       0.414265         0.469631   \nmin         0.000000       0.000000       0.000000         0.000000   \n25%         1.000000       1.000000       1.000000         0.000000   \n50%         1.000000       1.000000       1.000000         1.000000   \n75%         2.000000       1.000000       1.000000         1.000000   \nmax         5.000000       1.000000       1.000000         1.000000   \n\n       wheelchair_access  electric_vehicle_charge  comes_furnished  \\\ncount      169375.000000            169375.000000    169375.000000   \nmean            0.094205                 0.011844         0.042781   \nstd             0.292115                 0.108182         0.202363   \nmin             0.000000                 0.000000         0.000000   \n25%             0.000000                 0.000000         0.000000   \n50%             0.000000                 0.000000         0.000000   \n75%             0.000000                 0.000000         0.000000   \nmax             1.000000                 1.000000         1.000000   \n\n                 lat           long  \ncount  169375.000000  169375.000000  \nmean       37.979271     -93.701362  \nstd         5.578837      16.347669  \nmin       -24.955800    -163.894000  \n25%        33.976100    -102.394000  \n50%        38.751300     -89.215800  \n75%        41.759100     -81.733900  \nmax        64.993700      94.124800  ",
      "text/html": "<div>\n<style scoped>\n    .dataframe tbody tr th:only-of-type {\n        vertical-align: middle;\n    }\n\n    .dataframe tbody tr th {\n        vertical-align: top;\n    }\n\n    .dataframe thead th {\n        text-align: right;\n    }\n</style>\n<table border=\"1\" class=\"dataframe\">\n  <thead>\n    <tr style=\"text-align: right;\">\n      <th></th>\n      <th>id</th>\n      <th>price</th>\n      <th>sqfeet</th>\n      <th>beds</th>\n      <th>baths</th>\n      <th>cats_allowed</th>\n      <th>dogs_allowed</th>\n      <th>smoking_allowed</th>\n      <th>wheelchair_access</th>\n      <th>electric_vehicle_charge</th>\n      <th>comes_furnished</th>\n      <th>lat</th>\n      <th>long</th>\n    </tr>\n  </thead>\n  <tbody>\n    <tr>\n      <th>count</th>\n      <td>1.693750e+05</td>\n      <td>169375.000000</td>\n      <td>169375.000000</td>\n      <td>169375.000000</td>\n      <td>169375.000000</td>\n      <td>169375.000000</td>\n      <td>169375.000000</td>\n      <td>169375.000000</td>\n      <td>169375.000000</td>\n      <td>169375.000000</td>\n      <td>169375.000000</td>\n      <td>169375.000000</td>\n      <td>169375.000000</td>\n    </tr>\n    <tr>\n      <th>mean</th>\n      <td>7.041057e+09</td>\n      <td>1045.667991</td>\n      <td>857.941137</td>\n      <td>1.657128</td>\n      <td>1.316257</td>\n      <td>0.817523</td>\n      <td>0.779973</td>\n      <td>0.671604</td>\n      <td>0.094205</td>\n      <td>0.011844</td>\n      <td>0.042781</td>\n      <td>37.979271</td>\n      <td>-93.701362</td>\n    </tr>\n    <tr>\n      <th>std</th>\n      <td>8.770179e+06</td>\n      <td>327.443256</td>\n      <td>198.915072</td>\n      <td>0.689577</td>\n      <td>0.467150</td>\n      <td>0.386238</td>\n      <td>0.414265</td>\n      <td>0.469631</td>\n      <td>0.292115</td>\n      <td>0.108182</td>\n      <td>0.202363</td>\n      <td>5.578837</td>\n      <td>16.347669</td>\n    </tr>\n    <tr>\n      <th>min</th>\n      <td>7.004032e+09</td>\n      <td>501.000000</td>\n      <td>104.000000</td>\n      <td>0.000000</td>\n      <td>0.000000</td>\n      <td>0.000000</td>\n      <td>0.000000</td>\n      <td>0.000000</td>\n      <td>0.000000</td>\n      <td>0.000000</td>\n      <td>0.000000</td>\n      <td>-24.955800</td>\n      <td>-163.894000</td>\n    </tr>\n    <tr>\n      <th>25%</th>\n      <td>7.035963e+09</td>\n      <td>795.000000</td>\n      <td>714.000000</td>\n      <td>1.000000</td>\n      <td>1.000000</td>\n      <td>1.000000</td>\n      <td>1.000000</td>\n      <td>0.000000</td>\n      <td>0.000000</td>\n      <td>0.000000</td>\n      <td>0.000000</td>\n      <td>33.976100</td>\n      <td>-102.394000</td>\n    </tr>\n    <tr>\n      <th>50%</th>\n      <td>7.043406e+09</td>\n      <td>975.000000</td>\n      <td>870.000000</td>\n      <td>2.000000</td>\n      <td>1.000000</td>\n      <td>1.000000</td>\n      <td>1.000000</td>\n      <td>1.000000</td>\n      <td>0.000000</td>\n      <td>0.000000</td>\n      <td>0.000000</td>\n      <td>38.751300</td>\n      <td>-89.215800</td>\n    </tr>\n    <tr>\n      <th>75%</th>\n      <td>7.048472e+09</td>\n      <td>1265.000000</td>\n      <td>1000.000000</td>\n      <td>2.000000</td>\n      <td>2.000000</td>\n      <td>1.000000</td>\n      <td>1.000000</td>\n      <td>1.000000</td>\n      <td>0.000000</td>\n      <td>0.000000</td>\n      <td>0.000000</td>\n      <td>41.759100</td>\n      <td>-81.733900</td>\n    </tr>\n    <tr>\n      <th>max</th>\n      <td>7.051291e+09</td>\n      <td>1934.000000</td>\n      <td>1211.000000</td>\n      <td>8.000000</td>\n      <td>5.000000</td>\n      <td>1.000000</td>\n      <td>1.000000</td>\n      <td>1.000000</td>\n      <td>1.000000</td>\n      <td>1.000000</td>\n      <td>1.000000</td>\n      <td>64.993700</td>\n      <td>94.124800</td>\n    </tr>\n  </tbody>\n</table>\n</div>"
     },
     "metadata": {}
    }
   ]
  },
  {
   "cell_type": "code",
   "metadata": {
    "tags": [],
    "cell_id": "00028-c7f58b7a-053a-4730-b9db-54f6bb31b2ca",
    "deepnote_to_be_reexecuted": false,
    "source_hash": "d4a209d4",
    "execution_start": 1638115885523,
    "execution_millis": 48,
    "deepnote_cell_type": "code"
   },
   "source": "housing.info()",
   "execution_count": 16,
   "outputs": [
    {
     "name": "stdout",
     "text": "<class 'pandas.core.frame.DataFrame'>\nInt64Index: 169375 entries, 0 to 384976\nData columns (total 18 columns):\n #   Column                   Non-Null Count   Dtype  \n---  ------                   --------------   -----  \n 0   id                       169375 non-null  int64  \n 1   region                   169375 non-null  object \n 2   price                    169375 non-null  int64  \n 3   type                     169375 non-null  object \n 4   sqfeet                   169375 non-null  int64  \n 5   beds                     169375 non-null  int64  \n 6   baths                    169375 non-null  float64\n 7   cats_allowed             169375 non-null  int64  \n 8   dogs_allowed             169375 non-null  int64  \n 9   smoking_allowed          169375 non-null  int64  \n 10  wheelchair_access        169375 non-null  int64  \n 11  electric_vehicle_charge  169375 non-null  int64  \n 12  comes_furnished          169375 non-null  int64  \n 13  laundry_options          169375 non-null  object \n 14  parking_options          169375 non-null  object \n 15  lat                      169375 non-null  float64\n 16  long                     169375 non-null  float64\n 17  state                    169375 non-null  object \ndtypes: float64(3), int64(10), object(5)\nmemory usage: 24.6+ MB\n",
     "output_type": "stream"
    }
   ]
  },
  {
   "cell_type": "markdown",
   "source": "**Change the value of `state` in to capital letters**",
   "metadata": {
    "tags": [],
    "cell_id": "00029-a7ab7f11-0c53-4743-a5c9-09335d0dc50b",
    "deepnote_cell_type": "markdown"
   }
  },
  {
   "cell_type": "code",
   "source": "housing.state = housing.state.str.upper()",
   "metadata": {
    "tags": [],
    "cell_id": "00029-b34c4456-23ca-42be-b45c-d3dac72d5d4b",
    "deepnote_to_be_reexecuted": false,
    "source_hash": "9ab7db0e",
    "execution_start": 1638115951013,
    "execution_millis": 71,
    "deepnote_cell_type": "code"
   },
   "outputs": [],
   "execution_count": 19
  },
  {
   "cell_type": "markdown",
   "source": "**Add a column of state average housing rent**",
   "metadata": {
    "tags": [],
    "cell_id": "00031-aa116701-63c5-4874-95d4-3041e190e51a",
    "deepnote_cell_type": "markdown"
   }
  },
  {
   "cell_type": "code",
   "source": "average_price_of_state = pd.DataFrame(housing.groupby('state')['price'].mean())\naverage_price_of_state.reset_index(inplace = True)\naverage_price_of_state.columns = ['state', 'state_average']",
   "metadata": {
    "tags": [],
    "cell_id": "00032-c100d530-1ed6-4c95-b9f3-dee5feacfd95",
    "deepnote_to_be_reexecuted": false,
    "source_hash": "6b739470",
    "execution_start": 1638116677586,
    "execution_millis": 13,
    "deepnote_cell_type": "code"
   },
   "outputs": [],
   "execution_count": 41
  },
  {
   "cell_type": "code",
   "source": "average_price_of_state",
   "metadata": {
    "tags": [],
    "cell_id": "00033-d13f4356-1761-4d1b-8023-5aa9e128fe76",
    "deepnote_to_be_reexecuted": false,
    "source_hash": "3e3e0ca9",
    "execution_start": 1638116678362,
    "execution_millis": 32,
    "deepnote_cell_type": "code"
   },
   "outputs": [
    {
     "output_type": "execute_result",
     "execution_count": 42,
     "data": {
      "application/vnd.deepnote.dataframe.v2+json": {
       "row_count": 51,
       "column_count": 2,
       "columns": [
        {
         "name": "state",
         "dtype": "object",
         "stats": {
          "unique_count": 51,
          "nan_count": 0,
          "categories": [
           {
            "name": "AK",
            "count": 1
           },
           {
            "name": "AL",
            "count": 1
           },
           {
            "name": "49 others",
            "count": 49
           }
          ]
         }
        },
        {
         "name": "state_average",
         "dtype": "float64",
         "stats": {
          "unique_count": 51,
          "nan_count": 0,
          "min": "709.8509788254095",
          "max": "1563.984693877551",
          "histogram": [
           {
            "bin_start": 709.8509788254095,
            "bin_end": 795.2643503306236,
            "count": 5
           },
           {
            "bin_start": 795.2643503306236,
            "bin_end": 880.6777218358378,
            "count": 8
           },
           {
            "bin_start": 880.6777218358378,
            "bin_end": 966.0910933410519,
            "count": 9
           },
           {
            "bin_start": 966.0910933410519,
            "bin_end": 1051.504464846266,
            "count": 6
           },
           {
            "bin_start": 1051.504464846266,
            "bin_end": 1136.9178363514802,
            "count": 7
           },
           {
            "bin_start": 1136.9178363514802,
            "bin_end": 1222.3312078566944,
            "count": 4
           },
           {
            "bin_start": 1222.3312078566944,
            "bin_end": 1307.7445793619086,
            "count": 2
           },
           {
            "bin_start": 1307.7445793619086,
            "bin_end": 1393.1579508671227,
            "count": 4
           },
           {
            "bin_start": 1393.1579508671227,
            "bin_end": 1478.571322372337,
            "count": 3
           },
           {
            "bin_start": 1478.571322372337,
            "bin_end": 1563.984693877551,
            "count": 3
           }
          ]
         }
        },
        {
         "name": "_deepnote_index_column",
         "dtype": "int64"
        }
       ],
       "rows_top": [
        {
         "state": "AK",
         "state_average": 1087.2366771159875,
         "_deepnote_index_column": 0
        },
        {
         "state": "AL",
         "state_average": 844.3248154457694,
         "_deepnote_index_column": 1
        },
        {
         "state": "AR",
         "state_average": 803.6071719641402,
         "_deepnote_index_column": 2
        },
        {
         "state": "AZ",
         "state_average": 991.3307506053269,
         "_deepnote_index_column": 3
        },
        {
         "state": "CA",
         "state_average": 1389.820212925476,
         "_deepnote_index_column": 4
        },
        {
         "state": "CO",
         "state_average": 1326.027706734868,
         "_deepnote_index_column": 5
        },
        {
         "state": "CT",
         "state_average": 1204.7789799072643,
         "_deepnote_index_column": 6
        },
        {
         "state": "DC",
         "state_average": 1563.984693877551,
         "_deepnote_index_column": 7
        },
        {
         "state": "DE",
         "state_average": 1202.0579710144928,
         "_deepnote_index_column": 8
        },
        {
         "state": "FL",
         "state_average": 1118.3061224489795,
         "_deepnote_index_column": 9
        },
        {
         "state": "GA",
         "state_average": 926.4558187435633,
         "_deepnote_index_column": 10
        },
        {
         "state": "HI",
         "state_average": 1545.3031123139378,
         "_deepnote_index_column": 11
        },
        {
         "state": "IA",
         "state_average": 867.6262019230769,
         "_deepnote_index_column": 12
        },
        {
         "state": "ID",
         "state_average": 1019.69892899643,
         "_deepnote_index_column": 13
        },
        {
         "state": "IL",
         "state_average": 902.357440063404,
         "_deepnote_index_column": 14
        },
        {
         "state": "IN",
         "state_average": 810.4321349963316,
         "_deepnote_index_column": 15
        },
        {
         "state": "KS",
         "state_average": 734.8039944263818,
         "_deepnote_index_column": 16
        },
        {
         "state": "KY",
         "state_average": 811.7525313892264,
         "_deepnote_index_column": 17
        },
        {
         "state": "LA",
         "state_average": 893.366421959783,
         "_deepnote_index_column": 18
        },
        {
         "state": "MA",
         "state_average": 1424.1506211180124,
         "_deepnote_index_column": 19
        },
        {
         "state": "MD",
         "state_average": 1321.0868038133467,
         "_deepnote_index_column": 20
        },
        {
         "state": "ME",
         "state_average": 1280.02,
         "_deepnote_index_column": 21
        },
        {
         "state": "MI",
         "state_average": 973.1940823774765,
         "_deepnote_index_column": 22
        },
        {
         "state": "MN",
         "state_average": 1078.3527533918596,
         "_deepnote_index_column": 23
        },
        {
         "state": "MO",
         "state_average": 718.2922279792746,
         "_deepnote_index_column": 24
        },
        {
         "state": "MS",
         "state_average": 736.1428571428571,
         "_deepnote_index_column": 25
        },
        {
         "state": "MT",
         "state_average": 1036.801996672213,
         "_deepnote_index_column": 26
        },
        {
         "state": "NC",
         "state_average": 938.8884561458171,
         "_deepnote_index_column": 27
        },
        {
         "state": "ND",
         "state_average": 909.5387012987013,
         "_deepnote_index_column": 28
        },
        {
         "state": "NE",
         "state_average": 916.387714663144,
         "_deepnote_index_column": 29
        },
        {
         "state": "NH",
         "state_average": 1504.886075949367,
         "_deepnote_index_column": 30
        },
        {
         "state": "NJ",
         "state_average": 1419.8187259512613,
         "_deepnote_index_column": 31
        },
        {
         "state": "NM",
         "state_average": 878.8346984363366,
         "_deepnote_index_column": 32
        },
        {
         "state": "NV",
         "state_average": 1098.701923076923,
         "_deepnote_index_column": 33
        },
        {
         "state": "NY",
         "state_average": 1084.2555485098287,
         "_deepnote_index_column": 34
        },
        {
         "state": "OH",
         "state_average": 836.2178778668141,
         "_deepnote_index_column": 35
        },
        {
         "state": "OK",
         "state_average": 709.8509788254095,
         "_deepnote_index_column": 36
        },
        {
         "state": "OR",
         "state_average": 1218.7925398961738,
         "_deepnote_index_column": 37
        },
        {
         "state": "PA",
         "state_average": 1106.1197590919621,
         "_deepnote_index_column": 38
        },
        {
         "state": "RI",
         "state_average": 1425.6710775047259,
         "_deepnote_index_column": 39
        },
        {
         "state": "SC",
         "state_average": 1040.8127512923606,
         "_deepnote_index_column": 40
        },
        {
         "state": "SD",
         "state_average": 794.17277486911,
         "_deepnote_index_column": 41
        },
        {
         "state": "TN",
         "state_average": 913.9402869329198,
         "_deepnote_index_column": 42
        },
        {
         "state": "TX",
         "state_average": 948.0654746915135,
         "_deepnote_index_column": 43
        },
        {
         "state": "UT",
         "state_average": 1147.7691705790298,
         "_deepnote_index_column": 44
        },
        {
         "state": "VA",
         "state_average": 1088.0037602300376,
         "_deepnote_index_column": 45
        },
        {
         "state": "VT",
         "state_average": 1347.0316455696202,
         "_deepnote_index_column": 46
        },
        {
         "state": "WA",
         "state_average": 1253.1031955438289,
         "_deepnote_index_column": 47
        },
        {
         "state": "WI",
         "state_average": 1044.599061522419,
         "_deepnote_index_column": 48
        },
        {
         "state": "WV",
         "state_average": 883.9596774193549,
         "_deepnote_index_column": 49
        },
        {
         "state": "WY",
         "state_average": 861.5803571428571,
         "_deepnote_index_column": 50
        }
       ],
       "rows_bottom": null
      },
      "text/plain": "   state  state_average\n0     AK    1087.236677\n1     AL     844.324815\n2     AR     803.607172\n3     AZ     991.330751\n4     CA    1389.820213\n5     CO    1326.027707\n6     CT    1204.778980\n7     DC    1563.984694\n8     DE    1202.057971\n9     FL    1118.306122\n10    GA     926.455819\n11    HI    1545.303112\n12    IA     867.626202\n13    ID    1019.698929\n14    IL     902.357440\n15    IN     810.432135\n16    KS     734.803994\n17    KY     811.752531\n18    LA     893.366422\n19    MA    1424.150621\n20    MD    1321.086804\n21    ME    1280.020000\n22    MI     973.194082\n23    MN    1078.352753\n24    MO     718.292228\n25    MS     736.142857\n26    MT    1036.801997\n27    NC     938.888456\n28    ND     909.538701\n29    NE     916.387715\n30    NH    1504.886076\n31    NJ    1419.818726\n32    NM     878.834698\n33    NV    1098.701923\n34    NY    1084.255549\n35    OH     836.217878\n36    OK     709.850979\n37    OR    1218.792540\n38    PA    1106.119759\n39    RI    1425.671078\n40    SC    1040.812751\n41    SD     794.172775\n42    TN     913.940287\n43    TX     948.065475\n44    UT    1147.769171\n45    VA    1088.003760\n46    VT    1347.031646\n47    WA    1253.103196\n48    WI    1044.599062\n49    WV     883.959677\n50    WY     861.580357",
      "text/html": "<div>\n<style scoped>\n    .dataframe tbody tr th:only-of-type {\n        vertical-align: middle;\n    }\n\n    .dataframe tbody tr th {\n        vertical-align: top;\n    }\n\n    .dataframe thead th {\n        text-align: right;\n    }\n</style>\n<table border=\"1\" class=\"dataframe\">\n  <thead>\n    <tr style=\"text-align: right;\">\n      <th></th>\n      <th>state</th>\n      <th>state_average</th>\n    </tr>\n  </thead>\n  <tbody>\n    <tr>\n      <th>0</th>\n      <td>AK</td>\n      <td>1087.236677</td>\n    </tr>\n    <tr>\n      <th>1</th>\n      <td>AL</td>\n      <td>844.324815</td>\n    </tr>\n    <tr>\n      <th>2</th>\n      <td>AR</td>\n      <td>803.607172</td>\n    </tr>\n    <tr>\n      <th>3</th>\n      <td>AZ</td>\n      <td>991.330751</td>\n    </tr>\n    <tr>\n      <th>4</th>\n      <td>CA</td>\n      <td>1389.820213</td>\n    </tr>\n    <tr>\n      <th>5</th>\n      <td>CO</td>\n      <td>1326.027707</td>\n    </tr>\n    <tr>\n      <th>6</th>\n      <td>CT</td>\n      <td>1204.778980</td>\n    </tr>\n    <tr>\n      <th>7</th>\n      <td>DC</td>\n      <td>1563.984694</td>\n    </tr>\n    <tr>\n      <th>8</th>\n      <td>DE</td>\n      <td>1202.057971</td>\n    </tr>\n    <tr>\n      <th>9</th>\n      <td>FL</td>\n      <td>1118.306122</td>\n    </tr>\n    <tr>\n      <th>10</th>\n      <td>GA</td>\n      <td>926.455819</td>\n    </tr>\n    <tr>\n      <th>11</th>\n      <td>HI</td>\n      <td>1545.303112</td>\n    </tr>\n    <tr>\n      <th>12</th>\n      <td>IA</td>\n      <td>867.626202</td>\n    </tr>\n    <tr>\n      <th>13</th>\n      <td>ID</td>\n      <td>1019.698929</td>\n    </tr>\n    <tr>\n      <th>14</th>\n      <td>IL</td>\n      <td>902.357440</td>\n    </tr>\n    <tr>\n      <th>15</th>\n      <td>IN</td>\n      <td>810.432135</td>\n    </tr>\n    <tr>\n      <th>16</th>\n      <td>KS</td>\n      <td>734.803994</td>\n    </tr>\n    <tr>\n      <th>17</th>\n      <td>KY</td>\n      <td>811.752531</td>\n    </tr>\n    <tr>\n      <th>18</th>\n      <td>LA</td>\n      <td>893.366422</td>\n    </tr>\n    <tr>\n      <th>19</th>\n      <td>MA</td>\n      <td>1424.150621</td>\n    </tr>\n    <tr>\n      <th>20</th>\n      <td>MD</td>\n      <td>1321.086804</td>\n    </tr>\n    <tr>\n      <th>21</th>\n      <td>ME</td>\n      <td>1280.020000</td>\n    </tr>\n    <tr>\n      <th>22</th>\n      <td>MI</td>\n      <td>973.194082</td>\n    </tr>\n    <tr>\n      <th>23</th>\n      <td>MN</td>\n      <td>1078.352753</td>\n    </tr>\n    <tr>\n      <th>24</th>\n      <td>MO</td>\n      <td>718.292228</td>\n    </tr>\n    <tr>\n      <th>25</th>\n      <td>MS</td>\n      <td>736.142857</td>\n    </tr>\n    <tr>\n      <th>26</th>\n      <td>MT</td>\n      <td>1036.801997</td>\n    </tr>\n    <tr>\n      <th>27</th>\n      <td>NC</td>\n      <td>938.888456</td>\n    </tr>\n    <tr>\n      <th>28</th>\n      <td>ND</td>\n      <td>909.538701</td>\n    </tr>\n    <tr>\n      <th>29</th>\n      <td>NE</td>\n      <td>916.387715</td>\n    </tr>\n    <tr>\n      <th>30</th>\n      <td>NH</td>\n      <td>1504.886076</td>\n    </tr>\n    <tr>\n      <th>31</th>\n      <td>NJ</td>\n      <td>1419.818726</td>\n    </tr>\n    <tr>\n      <th>32</th>\n      <td>NM</td>\n      <td>878.834698</td>\n    </tr>\n    <tr>\n      <th>33</th>\n      <td>NV</td>\n      <td>1098.701923</td>\n    </tr>\n    <tr>\n      <th>34</th>\n      <td>NY</td>\n      <td>1084.255549</td>\n    </tr>\n    <tr>\n      <th>35</th>\n      <td>OH</td>\n      <td>836.217878</td>\n    </tr>\n    <tr>\n      <th>36</th>\n      <td>OK</td>\n      <td>709.850979</td>\n    </tr>\n    <tr>\n      <th>37</th>\n      <td>OR</td>\n      <td>1218.792540</td>\n    </tr>\n    <tr>\n      <th>38</th>\n      <td>PA</td>\n      <td>1106.119759</td>\n    </tr>\n    <tr>\n      <th>39</th>\n      <td>RI</td>\n      <td>1425.671078</td>\n    </tr>\n    <tr>\n      <th>40</th>\n      <td>SC</td>\n      <td>1040.812751</td>\n    </tr>\n    <tr>\n      <th>41</th>\n      <td>SD</td>\n      <td>794.172775</td>\n    </tr>\n    <tr>\n      <th>42</th>\n      <td>TN</td>\n      <td>913.940287</td>\n    </tr>\n    <tr>\n      <th>43</th>\n      <td>TX</td>\n      <td>948.065475</td>\n    </tr>\n    <tr>\n      <th>44</th>\n      <td>UT</td>\n      <td>1147.769171</td>\n    </tr>\n    <tr>\n      <th>45</th>\n      <td>VA</td>\n      <td>1088.003760</td>\n    </tr>\n    <tr>\n      <th>46</th>\n      <td>VT</td>\n      <td>1347.031646</td>\n    </tr>\n    <tr>\n      <th>47</th>\n      <td>WA</td>\n      <td>1253.103196</td>\n    </tr>\n    <tr>\n      <th>48</th>\n      <td>WI</td>\n      <td>1044.599062</td>\n    </tr>\n    <tr>\n      <th>49</th>\n      <td>WV</td>\n      <td>883.959677</td>\n    </tr>\n    <tr>\n      <th>50</th>\n      <td>WY</td>\n      <td>861.580357</td>\n    </tr>\n  </tbody>\n</table>\n</div>"
     },
     "metadata": {}
    }
   ],
   "execution_count": 42
  },
  {
   "cell_type": "code",
   "source": "housing = housing.merge(average_price_of_state, left_on='state', right_on='state')",
   "metadata": {
    "tags": [],
    "cell_id": "00031-e3118191-3a4c-42e3-874b-50c3f0c435c0",
    "deepnote_to_be_reexecuted": false,
    "source_hash": "d98d256a",
    "execution_start": 1638116699774,
    "execution_millis": 86,
    "deepnote_output_heights": [
     611
    ],
    "deepnote_cell_type": "code"
   },
   "outputs": [],
   "execution_count": 45
  },
  {
   "cell_type": "markdown",
   "source": "**Output the cleaned housing data**",
   "metadata": {
    "tags": [],
    "cell_id": "00029-f8226ac9-1c3a-47e4-90a2-7019c8a4e574",
    "deepnote_cell_type": "markdown"
   }
  },
  {
   "cell_type": "code",
   "metadata": {
    "tags": [],
    "cell_id": "00029-b701a68f-3095-4cbf-97d8-4c62cb23cb9c",
    "deepnote_to_be_reexecuted": false,
    "source_hash": "17c4250f",
    "execution_start": 1638116703729,
    "execution_millis": 1935,
    "deepnote_cell_type": "code"
   },
   "source": "housing.to_csv('cleaned_housing.csv')",
   "execution_count": 46,
   "outputs": []
  },
  {
   "cell_type": "markdown",
   "source": "**Distributions of price and squarefeet after removing outliers**",
   "metadata": {
    "tags": [],
    "cell_id": "00026-e6336d80-ee9e-4e0d-be4c-a6d137b66e48",
    "deepnote_cell_type": "markdown"
   }
  },
  {
   "cell_type": "code",
   "metadata": {
    "tags": [],
    "cell_id": "00027-91514251-0e10-4f72-af36-6b9fe4cfa4b1",
    "deepnote_to_be_reexecuted": true,
    "source_hash": "c54ce205",
    "execution_start": 1637769798309,
    "execution_millis": 266,
    "deepnote_output_heights": [
     250
    ],
    "deepnote_cell_type": "code"
   },
   "source": "plt.hist(housing['price'])\nplt.show()",
   "execution_count": null,
   "outputs": [
    {
     "data": {
      "text/plain": "<Figure size 432x288 with 1 Axes>",
      "image/png": "[encoded data removed]"
     },
     "metadata": {
      "needs_background": "light",
      "image/png": {
       "width": 399,
       "height": 248
      }
     },
     "output_type": "display_data"
    }
   ]
  },
  {
   "cell_type": "code",
   "metadata": {
    "tags": [],
    "cell_id": "00026-de8b03b9-b380-4a59-8457-95333191f264",
    "deepnote_to_be_reexecuted": true,
    "source_hash": "acee28bd",
    "execution_start": 1637769798652,
    "execution_millis": 307,
    "deepnote_output_heights": [
     250
    ],
    "deepnote_cell_type": "code"
   },
   "source": "plt.hist(housing['sqfeet'])\nplt.show()",
   "execution_count": null,
   "outputs": [
    {
     "data": {
      "text/plain": "<Figure size 432x288 with 1 Axes>",
      "image/png": "[encoded data removed]"
     },
     "metadata": {
      "needs_background": "light",
      "image/png": {
       "width": 387,
       "height": 248
      }
     },
     "output_type": "display_data"
    }
   ]
  },
  {
   "cell_type": "markdown",
   "source": "**box plot of discrete variables vs price**",
   "metadata": {
    "tags": [],
    "cell_id": "00008-25ecc20b-949d-4908-b0a3-9e46aaa0ca8b",
    "deepnote_cell_type": "markdown"
   }
  },
  {
   "cell_type": "code",
   "metadata": {
    "tags": [],
    "cell_id": "00032-3b3aca0d-34a5-4491-a35b-18f47eb8179b",
    "deepnote_to_be_reexecuted": true,
    "source_hash": "4d76bcb0",
    "execution_start": 1637769798922,
    "execution_millis": 644,
    "deepnote_output_heights": [
     606
    ],
    "deepnote_cell_type": "code"
   },
   "source": "plt.figure(figsize=(20,10))\nsns.boxplot(x='type', y='price', data=housing)\nplt.title(\"Type vs price\")\nplt.show()",
   "execution_count": null,
   "outputs": [
    {
     "data": {
      "text/plain": "<Figure size 1440x720 with 1 Axes>",
      "image/png": "[encoded data removed]"
     },
     "metadata": {
      "needs_background": "light",
      "image/png": {
       "width": 1176,
       "height": 604
      }
     },
     "output_type": "display_data"
    }
   ]
  },
  {
   "cell_type": "code",
   "metadata": {
    "tags": [],
    "cell_id": "00031-0d895b57-ec6f-4e5f-9dd6-6e6b213cff02",
    "deepnote_to_be_reexecuted": false,
    "source_hash": "743c39ed",
    "execution_start": 1637769799578,
    "execution_millis": 497,
    "deepnote_output_heights": [
     606
    ],
    "deepnote_cell_type": "code"
   },
   "source": "plt.figure(figsize=(20,10))\nsns.boxplot(x='beds', y='price', data=housing)\nplt.title(\"Number of bedrooms vs price\")\nplt.show()",
   "execution_count": null,
   "outputs": [
    {
     "data": {
      "text/plain": "<Figure size 1440x720 with 1 Axes>",
      "image/png": "[encoded data removed]"
     },
     "metadata": {
      "needs_background": "light",
      "image/png": {
       "width": 1176,
       "height": 604
      }
     },
     "output_type": "display_data"
    }
   ]
  },
  {
   "cell_type": "code",
   "metadata": {
    "tags": [],
    "cell_id": "00032-39717b99-df86-4206-9942-9ec888fe6c4e",
    "deepnote_to_be_reexecuted": false,
    "source_hash": "70a48d61",
    "execution_start": 1637769800121,
    "execution_millis": 779,
    "deepnote_output_heights": [
     606
    ],
    "deepnote_cell_type": "code"
   },
   "source": "plt.figure(figsize=(20,10))\nsns.boxplot(x='baths', y='price', data=housing)\nplt.title(\"Number of bathrooms vs price\")\nplt.show()",
   "execution_count": null,
   "outputs": [
    {
     "data": {
      "text/plain": "<Figure size 1440x720 with 1 Axes>",
      "image/png": "[encoded data removed]"
     },
     "metadata": {
      "needs_background": "light",
      "image/png": {
       "width": 1176,
       "height": 604
      }
     },
     "output_type": "display_data"
    }
   ]
  },
  {
   "cell_type": "code",
   "metadata": {
    "tags": [],
    "cell_id": "00033-121fc305-e413-4d88-bacf-3ca533b709e3",
    "deepnote_to_be_reexecuted": false,
    "source_hash": "34a47328",
    "execution_start": 1637769800892,
    "execution_millis": 190,
    "deepnote_output_heights": [
     607
    ],
    "deepnote_cell_type": "code"
   },
   "source": "plt.figure(figsize=(20,10))\nsns.boxplot(x='cats_allowed', y='price', data=housing)\nplt.title(\"Cats_allowed vs price\")\nplt.show()",
   "execution_count": null,
   "outputs": [
    {
     "data": {
      "text/plain": "<Figure size 1440x720 with 1 Axes>",
      "image/png": "[encoded data removed]"
     },
     "metadata": {
      "needs_background": "light",
      "image/png": {
       "width": 1176,
       "height": 605
      }
     },
     "output_type": "display_data"
    }
   ]
  },
  {
   "cell_type": "code",
   "metadata": {
    "tags": [],
    "cell_id": "00034-518f9b6a-f650-40d7-8b61-54dcc087aa7e",
    "deepnote_to_be_reexecuted": false,
    "source_hash": "985f2798",
    "execution_start": 1637769801062,
    "execution_millis": 462,
    "deepnote_output_heights": [
     607
    ],
    "deepnote_cell_type": "code"
   },
   "source": "plt.figure(figsize=(20,10))\nsns.boxplot(x='dogs_allowed', y='price', data=housing)\nplt.title(\"Dogs_allowed vs price\")\nplt.show()",
   "execution_count": null,
   "outputs": [
    {
     "data": {
      "text/plain": "<Figure size 1440x720 with 1 Axes>",
      "image/png": "[encoded data removed]"
     },
     "metadata": {
      "needs_background": "light",
      "image/png": {
       "width": 1176,
       "height": 605
      }
     },
     "output_type": "display_data"
    }
   ]
  },
  {
   "cell_type": "code",
   "metadata": {
    "tags": [],
    "cell_id": "00035-257c03a1-4fc2-43d8-933d-b8b60a3fd701",
    "deepnote_to_be_reexecuted": false,
    "source_hash": "fa27401f",
    "execution_start": 1637769801508,
    "execution_millis": 355,
    "deepnote_output_heights": [
     607
    ],
    "deepnote_cell_type": "code"
   },
   "source": "plt.figure(figsize=(20,10))\nsns.boxplot(x='smoking_allowed', y='price', data=housing)\nplt.title(\"Smoking vs price\")\nplt.show()",
   "execution_count": null,
   "outputs": [
    {
     "data": {
      "text/plain": "<Figure size 1440x720 with 1 Axes>",
      "image/png": "[encoded data removed]"
     },
     "metadata": {
      "needs_background": "light",
      "image/png": {
       "width": 1176,
       "height": 605
      }
     },
     "output_type": "display_data"
    }
   ]
  },
  {
   "cell_type": "code",
   "metadata": {
    "tags": [],
    "cell_id": "00035-2ef77ab0-c7ce-451f-91f8-47cd7c196ec2",
    "deepnote_to_be_reexecuted": false,
    "source_hash": "d62d02b0",
    "execution_start": 1637769801847,
    "execution_millis": 1028,
    "deepnote_output_heights": [
     607
    ],
    "deepnote_cell_type": "code"
   },
   "source": "plt.figure(figsize=(20,10))\nsns.boxplot(x='parking_options', y='price', data=housing)\nplt.title(\"Parking options vs price\")\nplt.show()",
   "execution_count": null,
   "outputs": [
    {
     "data": {
      "text/plain": "<Figure size 1440x720 with 1 Axes>",
      "image/png": "[encoded data removed]"
     },
     "metadata": {
      "needs_background": "light",
      "image/png": {
       "width": 1176,
       "height": 605
      }
     },
     "output_type": "display_data"
    }
   ]
  },
  {
   "cell_type": "code",
   "metadata": {
    "tags": [],
    "cell_id": "00036-de2ef342-6b51-46e2-8c35-d09372457e06",
    "deepnote_to_be_reexecuted": false,
    "source_hash": "1a720b70",
    "execution_start": 1637769802703,
    "execution_millis": 247,
    "deepnote_output_heights": [
     607
    ],
    "deepnote_cell_type": "code"
   },
   "source": "plt.figure(figsize=(20,10))\nsns.boxplot(x='wheelchair_access', y='price', data=housing)\nplt.title(\"Wheelchair_access vs price\")\nplt.show()",
   "execution_count": null,
   "outputs": [
    {
     "data": {
      "text/plain": "<Figure size 1440x720 with 1 Axes>",
      "image/png": "[encoded data removed]"
     },
     "metadata": {
      "needs_background": "light",
      "image/png": {
       "width": 1176,
       "height": 605
      }
     },
     "output_type": "display_data"
    }
   ]
  },
  {
   "cell_type": "code",
   "metadata": {
    "tags": [],
    "cell_id": "00037-7a3d42df-d1e4-48be-9dbf-46736fc8a4d5",
    "deepnote_to_be_reexecuted": false,
    "source_hash": "a30ae780",
    "execution_start": 1637769802933,
    "execution_millis": 355,
    "deepnote_output_heights": [
     607
    ],
    "deepnote_cell_type": "code"
   },
   "source": "plt.figure(figsize=(20,10))\nsns.boxplot(x='electric_vehicle_charge', y='price', data=housing)\nplt.title(\"electric_vehicle_charge vs price\")\nplt.show()",
   "execution_count": null,
   "outputs": [
    {
     "data": {
      "text/plain": "<Figure size 1440x720 with 1 Axes>",
      "image/png": "[encoded data removed]"
     },
     "metadata": {
      "needs_background": "light",
      "image/png": {
       "width": 1176,
       "height": 605
      }
     },
     "output_type": "display_data"
    }
   ]
  },
  {
   "cell_type": "code",
   "metadata": {
    "tags": [],
    "cell_id": "00038-81f6e4b8-42b5-421a-a1cc-5f45bbd13dd4",
    "deepnote_to_be_reexecuted": false,
    "source_hash": "4e32d732",
    "execution_start": 1637769803325,
    "execution_millis": 1002,
    "deepnote_output_heights": [
     607
    ],
    "deepnote_cell_type": "code"
   },
   "source": "plt.figure(figsize=(20,10))\nsns.boxplot(x='comes_furnished', y='price', data=housing)\nplt.title(\"Furnished vs price\")\nplt.show()",
   "execution_count": null,
   "outputs": [
    {
     "data": {
      "text/plain": "<Figure size 1440x720 with 1 Axes>",
      "image/png": "[encoded data removed]"
     },
     "metadata": {
      "needs_background": "light",
      "image/png": {
       "width": 1176,
       "height": 605
      }
     },
     "output_type": "display_data"
    }
   ]
  },
  {
   "cell_type": "code",
   "metadata": {
    "tags": [],
    "cell_id": "00041-77ef50a2-0c1b-4f45-8792-6431087945c0",
    "deepnote_to_be_reexecuted": false,
    "source_hash": "b3cbbf74",
    "execution_start": 1637769803837,
    "execution_millis": 2011,
    "deepnote_output_heights": [
     606
    ],
    "deepnote_cell_type": "code"
   },
   "source": "plt.figure(figsize=(20,10))\nsns.boxplot(x='state', y='price', data=housing)\nplt.title(\"States vs price\")\nplt.show()",
   "execution_count": null,
   "outputs": [
    {
     "data": {
      "text/plain": "<Figure size 1440x720 with 1 Axes>",
      "image/png": "[encoded data removed]"
     },
     "metadata": {
      "needs_background": "light",
      "image/png": {
       "width": 1176,
       "height": 604
      }
     },
     "output_type": "display_data"
    }
   ]
  },
  {
   "cell_type": "code",
   "metadata": {
    "tags": [],
    "cell_id": "00009-83230a93-4665-4087-a771-f2cf828410a2",
    "deepnote_to_be_reexecuted": false,
    "source_hash": "1981e1a3",
    "execution_start": 1637769805911,
    "execution_millis": 2471,
    "deepnote_output_heights": [
     611
    ],
    "deepnote_cell_type": "code"
   },
   "source": "plt.figure(figsize=(20,10))\nsns.heatmap(housing.corr(), annot=True, cmap=\"BuPu\")\nplt.show()",
   "execution_count": null,
   "outputs": [
    {
     "data": {
      "text/plain": "<Figure size 1440x720 with 2 Axes>",
      "image/png": "[encoded data removed]"
     },
     "metadata": {
      "needs_background": "light",
      "image/png": {
       "width": 1137,
       "height": 686
      }
     },
     "output_type": "display_data"
    }
   ]
  },
  {
   "cell_type": "markdown",
   "source": "The correlation between each independent variable and price is quit low. There may be collinearity between `sqfeet` and `beds`, `sqfeet` and `baths`, `beds` and `bath`, `cats_allowed` and `dogs_allowed`.",
   "metadata": {
    "tags": [],
    "cell_id": "00010-0df48d6d-f6cb-4a9d-a7d7-3207ef11a4d3",
    "deepnote_cell_type": "markdown"
   }
  },
  {
   "cell_type": "code",
   "metadata": {
    "tags": [],
    "cell_id": "00045-cb64910f-77cb-40c7-9ccc-c3e93d5150f7",
    "deepnote_to_be_reexecuted": false,
    "source_hash": "b623e53d",
    "execution_start": 1637769808312,
    "execution_millis": 1,
    "deepnote_cell_type": "code"
   },
   "source": "",
   "execution_count": null,
   "outputs": []
  },
  {
   "cell_type": "markdown",
   "source": "<a style='text-decoration:none;line-height:16px;display:flex;color:#5B5B62;padding:10px;justify-content:end;' href='https://deepnote.com?utm_source=created-in-deepnote-cell&projectId=c62e4f61-5454-4e18-b0e0-542e6e7256b8' target=\"_blank\">\n<img alt='Created in deepnote.com' style='display:inline;max-height:16px;margin:0px;margin-right:7.5px;' src='data:image/svg+xml;base64,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' > </img>\nCreated in <span style='font-weight:600;margin-left:4px;'>Deepnote</span></a>",
   "metadata": {
    "tags": [],
    "created_in_deepnote_cell": true,
    "deepnote_cell_type": "markdown"
   }
  }
 ],
 "nbformat": 4,
 "nbformat_minor": 2,
 "metadata": {
  "orig_nbformat": 2,
  "deepnote": {
   "is_reactive": false
  },
  "deepnote_notebook_id": "d1b0fb5a-87b6-4563-8d60-d260625ce6de",
  "deepnote_execution_queue": []
 }
}