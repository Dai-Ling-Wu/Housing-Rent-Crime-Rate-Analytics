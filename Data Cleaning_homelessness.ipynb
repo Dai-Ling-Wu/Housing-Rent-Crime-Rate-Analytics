{
 "cells": [
  {
   "cell_type": "code",
   "metadata": {
    "tags": [],
    "cell_id": "00000-e9ccfdbe-0071-47cf-a09c-11c50df3cb3d",
    "deepnote_to_be_reexecuted": false,
    "source_hash": "66a6f8a7",
    "execution_start": 1637766733232,
    "execution_millis": 1,
    "deepnote_cell_type": "code"
   },
   "source": "# Start writing code here...\nimport pandas as pd",
   "execution_count": null,
   "outputs": []
  },
  {
   "cell_type": "code",
   "metadata": {
    "tags": [],
    "cell_id": "00001-d5b25523-9583-4cd8-9a6a-a2a7180f7176",
    "deepnote_to_be_reexecuted": false,
    "source_hash": "42374561",
    "execution_start": 1637771765019,
    "execution_millis": 40,
    "deepnote_cell_type": "code"
   },
   "source": "df = pd.read_csv('Homelessness.csv')",
   "execution_count": null,
   "outputs": []
  },
  {
   "cell_type": "code",
   "metadata": {
    "tags": [],
    "cell_id": "00005-4b83fae4-789c-4cc7-8cca-420f6a62335f",
    "deepnote_to_be_reexecuted": false,
    "source_hash": "e85c85d1",
    "execution_start": 1637771766446,
    "execution_millis": 16,
    "deepnote_output_heights": [
     230
    ],
    "deepnote_cell_type": "code"
   },
   "source": "df['state']=df['CoC Number'].str[:2]",
   "execution_count": null,
   "outputs": []
  },
  {
   "cell_type": "code",
   "metadata": {
    "tags": [],
    "cell_id": "00006-c6ad3791-b83b-4c80-956f-903363c15810",
    "deepnote_to_be_reexecuted": false,
    "source_hash": "c085b6ba",
    "execution_start": 1637771767911,
    "execution_millis": 63,
    "deepnote_cell_type": "code"
   },
   "source": "df.head()",
   "execution_count": null,
   "outputs": [
    {
     "output_type": "execute_result",
     "execution_count": 98,
     "data": {
      "application/vnd.deepnote.dataframe.v2+json": {
       "row_count": 5,
       "column_count": 7,
       "columns": [
        {
         "name": "CoC Number",
         "dtype": "object",
         "stats": {
          "unique_count": 1,
          "nan_count": 0,
          "categories": [
           {
            "name": "AK-500",
            "count": 5
           }
          ]
         }
        },
        {
         "name": "CoC Name",
         "dtype": "object",
         "stats": {
          "unique_count": 1,
          "nan_count": 0,
          "categories": [
           {
            "name": "Anchorage CoC",
            "count": 5
           }
          ]
         }
        },
        {
         "name": "Year",
         "dtype": "object",
         "stats": {
          "unique_count": 1,
          "nan_count": 0,
          "categories": [
           {
            "name": "1/1/14 00:00",
            "count": 5
           }
          ]
         }
        },
        {
         "name": "Attribute Name",
         "dtype": "object",
         "stats": {
          "unique_count": 5,
          "nan_count": 0,
          "categories": [
           {
            "name": "Chronically Homeless",
            "count": 1
           },
           {
            "name": "Sheltered Homeless People in Families",
            "count": 1
           },
           {
            "name": "3 others",
            "count": 3
           }
          ]
         }
        },
        {
         "name": "Value",
         "dtype": "int64",
         "stats": {
          "unique_count": 5,
          "nan_count": 0,
          "min": "48",
          "max": "736",
          "histogram": [
           {
            "bin_start": 48,
            "bin_end": 116.8,
            "count": 2
           },
           {
            "bin_start": 116.8,
            "bin_end": 185.6,
            "count": 0
           },
           {
            "bin_start": 185.6,
            "bin_end": 254.39999999999998,
            "count": 0
           },
           {
            "bin_start": 254.39999999999998,
            "bin_end": 323.2,
            "count": 2
           },
           {
            "bin_start": 323.2,
            "bin_end": 392,
            "count": 0
           },
           {
            "bin_start": 392,
            "bin_end": 460.79999999999995,
            "count": 0
           },
           {
            "bin_start": 460.79999999999995,
            "bin_end": 529.5999999999999,
            "count": 0
           },
           {
            "bin_start": 529.5999999999999,
            "bin_end": 598.4,
            "count": 0
           },
           {
            "bin_start": 598.4,
            "bin_end": 667.1999999999999,
            "count": 0
           },
           {
            "bin_start": 667.1999999999999,
            "bin_end": 736,
            "count": 1
           }
          ]
         }
        },
        {
         "name": "Year - Text",
         "dtype": "int64",
         "stats": {
          "unique_count": 1,
          "nan_count": 0,
          "min": "2014",
          "max": "2014",
          "histogram": [
           {
            "bin_start": 2013.5,
            "bin_end": 2013.6,
            "count": 0
           },
           {
            "bin_start": 2013.6,
            "bin_end": 2013.7,
            "count": 0
           },
           {
            "bin_start": 2013.7,
            "bin_end": 2013.8,
            "count": 0
           },
           {
            "bin_start": 2013.8,
            "bin_end": 2013.9,
            "count": 0
           },
           {
            "bin_start": 2013.9,
            "bin_end": 2014,
            "count": 0
           },
           {
            "bin_start": 2014,
            "bin_end": 2014.1,
            "count": 5
           },
           {
            "bin_start": 2014.1,
            "bin_end": 2014.2,
            "count": 0
           },
           {
            "bin_start": 2014.2,
            "bin_end": 2014.3,
            "count": 0
           },
           {
            "bin_start": 2014.3,
            "bin_end": 2014.4,
            "count": 0
           },
           {
            "bin_start": 2014.4,
            "bin_end": 2014.5,
            "count": 0
           }
          ]
         }
        },
        {
         "name": "state",
         "dtype": "object",
         "stats": {
          "unique_count": 1,
          "nan_count": 0,
          "categories": [
           {
            "name": "AK",
            "count": 5
           }
          ]
         }
        },
        {
         "name": "_deepnote_index_column",
         "dtype": "int64"
        }
       ],
       "rows_top": [
        {
         "CoC Number": "AK-500",
         "CoC Name": "Anchorage CoC",
         "Year": "1/1/14 00:00",
         "Attribute Name": "Chronically Homeless",
         "Value": 101,
         "Year - Text": 2014,
         "state": "AK",
         "_deepnote_index_column": 0
        },
        {
         "CoC Number": "AK-500",
         "CoC Name": "Anchorage CoC",
         "Year": "1/1/14 00:00",
         "Attribute Name": "Sheltered Homeless People in Families",
         "Value": 282,
         "Year - Text": 2014,
         "state": "AK",
         "_deepnote_index_column": 1
        },
        {
         "CoC Number": "AK-500",
         "CoC Name": "Anchorage CoC",
         "Year": "1/1/14 00:00",
         "Attribute Name": "Homeless Individuals",
         "Value": 736,
         "Year - Text": 2014,
         "state": "AK",
         "_deepnote_index_column": 2
        },
        {
         "CoC Number": "AK-500",
         "CoC Name": "Anchorage CoC",
         "Year": "1/1/14 00:00",
         "Attribute Name": "Homeless People in Families",
         "Value": 287,
         "Year - Text": 2014,
         "state": "AK",
         "_deepnote_index_column": 3
        },
        {
         "CoC Number": "AK-500",
         "CoC Name": "Anchorage CoC",
         "Year": "1/1/14 00:00",
         "Attribute Name": "Unsheltered Homeless Individuals",
         "Value": 48,
         "Year - Text": 2014,
         "state": "AK",
         "_deepnote_index_column": 4
        }
       ],
       "rows_bottom": null
      },
      "text/plain": "  CoC Number       CoC Name          Year  \\\n0     AK-500  Anchorage CoC  1/1/14 00:00   \n1     AK-500  Anchorage CoC  1/1/14 00:00   \n2     AK-500  Anchorage CoC  1/1/14 00:00   \n3     AK-500  Anchorage CoC  1/1/14 00:00   \n4     AK-500  Anchorage CoC  1/1/14 00:00   \n\n                          Attribute Name  Value  Year - Text state  \n0                   Chronically Homeless    101         2014    AK  \n1  Sheltered Homeless People in Families    282         2014    AK  \n2                   Homeless Individuals    736         2014    AK  \n3            Homeless People in Families    287         2014    AK  \n4       Unsheltered Homeless Individuals     48         2014    AK  ",
      "text/html": "<div>\n<style scoped>\n    .dataframe tbody tr th:only-of-type {\n        vertical-align: middle;\n    }\n\n    .dataframe tbody tr th {\n        vertical-align: top;\n    }\n\n    .dataframe thead th {\n        text-align: right;\n    }\n</style>\n<table border=\"1\" class=\"dataframe\">\n  <thead>\n    <tr style=\"text-align: right;\">\n      <th></th>\n      <th>CoC Number</th>\n      <th>CoC Name</th>\n      <th>Year</th>\n      <th>Attribute Name</th>\n      <th>Value</th>\n      <th>Year - Text</th>\n      <th>state</th>\n    </tr>\n  </thead>\n  <tbody>\n    <tr>\n      <th>0</th>\n      <td>AK-500</td>\n      <td>Anchorage CoC</td>\n      <td>1/1/14 00:00</td>\n      <td>Chronically Homeless</td>\n      <td>101</td>\n      <td>2014</td>\n      <td>AK</td>\n    </tr>\n    <tr>\n      <th>1</th>\n      <td>AK-500</td>\n      <td>Anchorage CoC</td>\n      <td>1/1/14 00:00</td>\n      <td>Sheltered Homeless People in Families</td>\n      <td>282</td>\n      <td>2014</td>\n      <td>AK</td>\n    </tr>\n    <tr>\n      <th>2</th>\n      <td>AK-500</td>\n      <td>Anchorage CoC</td>\n      <td>1/1/14 00:00</td>\n      <td>Homeless Individuals</td>\n      <td>736</td>\n      <td>2014</td>\n      <td>AK</td>\n    </tr>\n    <tr>\n      <th>3</th>\n      <td>AK-500</td>\n      <td>Anchorage CoC</td>\n      <td>1/1/14 00:00</td>\n      <td>Homeless People in Families</td>\n      <td>287</td>\n      <td>2014</td>\n      <td>AK</td>\n    </tr>\n    <tr>\n      <th>4</th>\n      <td>AK-500</td>\n      <td>Anchorage CoC</td>\n      <td>1/1/14 00:00</td>\n      <td>Unsheltered Homeless Individuals</td>\n      <td>48</td>\n      <td>2014</td>\n      <td>AK</td>\n    </tr>\n  </tbody>\n</table>\n</div>"
     },
     "metadata": {}
    }
   ]
  },
  {
   "cell_type": "code",
   "metadata": {
    "tags": [],
    "cell_id": "00005-c4db9213-c2f1-4df4-a5fd-02f3662062c2",
    "deepnote_to_be_reexecuted": false,
    "source_hash": "f2d7421c",
    "execution_start": 1637771770053,
    "execution_millis": 0,
    "deepnote_cell_type": "code"
   },
   "source": "df = df.drop(['Year'],axis=1)",
   "execution_count": null,
   "outputs": []
  },
  {
   "cell_type": "code",
   "metadata": {
    "tags": [],
    "cell_id": "00006-3de3c604-cb75-4bab-976b-d27725d29b61",
    "deepnote_to_be_reexecuted": false,
    "source_hash": "bd4c4c63",
    "execution_start": 1637771771247,
    "execution_millis": 11,
    "deepnote_cell_type": "code"
   },
   "source": "df = df.rename(columns={'Year - Text':'Year'})",
   "execution_count": null,
   "outputs": []
  },
  {
   "cell_type": "code",
   "metadata": {
    "tags": [],
    "cell_id": "00005-9dbf818f-8b47-4918-acaf-8ae7ed3745ce",
    "deepnote_to_be_reexecuted": false,
    "source_hash": "8d9fd8e2",
    "execution_start": 1637771775475,
    "execution_millis": 18,
    "deepnote_output_heights": [
     249
    ],
    "deepnote_cell_type": "code"
   },
   "source": "homelessness_df = pd.DataFrame(df.groupby(by=['state','Year'],as_index=False)['Value'].sum())",
   "execution_count": null,
   "outputs": []
  },
  {
   "cell_type": "code",
   "metadata": {
    "tags": [],
    "cell_id": "00007-5cabdb7a-958e-4288-a083-19e8fb2c165e",
    "deepnote_to_be_reexecuted": false,
    "source_hash": "fab9a275",
    "execution_start": 1637771783854,
    "execution_millis": 10,
    "deepnote_output_heights": [
     611
    ],
    "deepnote_cell_type": "code"
   },
   "source": "homelessness_df = pd.DataFrame(homelessness_df.groupby('state')['Value'].mean())",
   "execution_count": null,
   "outputs": []
  },
  {
   "cell_type": "code",
   "metadata": {
    "tags": [],
    "cell_id": "00009-0d30c0f2-1c72-4d5e-b081-102a160e43de",
    "deepnote_to_be_reexecuted": false,
    "source_hash": "f0d7bb2e",
    "execution_start": 1637771788054,
    "execution_millis": 3,
    "deepnote_cell_type": "code"
   },
   "source": "\nhomelessness_df.rename(columns={'Value':'NumberofHomelessness'},inplace=True)",
   "execution_count": null,
   "outputs": []
  },
  {
   "cell_type": "code",
   "metadata": {
    "tags": [],
    "cell_id": "00008-a9ca08ec-fd12-4155-a984-999822ce8ff3",
    "deepnote_to_be_reexecuted": false,
    "source_hash": "4ec9acc8",
    "execution_start": 1637771793779,
    "execution_millis": 5,
    "deepnote_cell_type": "code"
   },
   "source": "homelessness_df.to_csv('cleaned_homelessness.csv', index=True)",
   "execution_count": null,
   "outputs": []
  },
  {
   "cell_type": "code",
   "metadata": {
    "tags": [],
    "cell_id": "00010-d2c3c2ad-4545-490b-a493-a927cbff6c14",
    "deepnote_to_be_reexecuted": false,
    "source_hash": "f49233b0",
    "execution_start": 1637772115473,
    "execution_millis": 823,
    "deepnote_cell_type": "code"
   },
   "source": "import matplotlib.pyplot as plt\nimport seaborn as sns",
   "execution_count": null,
   "outputs": []
  },
  {
   "cell_type": "code",
   "metadata": {
    "tags": [],
    "cell_id": "00011-9d35571a-e004-4029-892f-85c6b5bd073c",
    "deepnote_to_be_reexecuted": false,
    "source_hash": "d4ab757a",
    "execution_start": 1637772976352,
    "execution_millis": 1,
    "deepnote_cell_type": "code"
   },
   "source": "results=homelessness_df.sort_values('NumberofHomelessness')",
   "execution_count": null,
   "outputs": []
  },
  {
   "cell_type": "code",
   "metadata": {
    "tags": [],
    "cell_id": "00011-82199603-1413-4e46-a0a5-37af00aee70f",
    "deepnote_to_be_reexecuted": false,
    "source_hash": "719e3cae",
    "execution_start": 1637773012200,
    "execution_millis": 1436,
    "deepnote_output_heights": [
     21,
     468
    ],
    "deepnote_cell_type": "code"
   },
   "source": "plt.figure(figsize=(15,8))\nsns.barplot(x=list(homelessness_df.index),y=homelessness_df['NumberofHomelessness'],order=list(results.index))",
   "execution_count": null,
   "outputs": [
    {
     "output_type": "execute_result",
     "execution_count": 126,
     "data": {
      "text/plain": "<AxesSubplot:ylabel='NumberofHomelessness'>"
     },
     "metadata": {}
    },
    {
     "data": {
      "text/plain": "<Figure size 1080x576 with 1 Axes>",
      "image/png": "[encoded data removed]"
     },
     "metadata": {
      "needs_background": "light",
      "image/png": {
       "width": 910,
       "height": 466
      }
     },
     "output_type": "display_data"
    }
   ]
  },
  {
   "cell_type": "code",
   "metadata": {
    "tags": [],
    "cell_id": "00013-793fbb9c-e3cd-41b3-bc4c-8256e4dc5414",
    "deepnote_cell_type": "code"
   },
   "source": "",
   "execution_count": null,
   "outputs": []
  },
  {
   "cell_type": "markdown",
   "source": "<a style='text-decoration:none;line-height:16px;display:flex;color:#5B5B62;padding:10px;justify-content:end;' href='https://deepnote.com?utm_source=created-in-deepnote-cell&projectId=c62e4f61-5454-4e18-b0e0-542e6e7256b8' target=\"_blank\">\n<img alt='Created in deepnote.com' style='display:inline;max-height:16px;margin:0px;margin-right:7.5px;' src='data:image/svg+xml;base64,PD94bWwgdmVyc2lvbj0iMS4wIiBlbmNvZGluZz0iVVRGLTgiPz4KPHN2ZyB3aWR0aD0iODBweCIgaGVpZ2h0PSI4MHB4IiB2aWV3Qm94PSIwIDAgODAgODAiIHZlcnNpb249IjEuMSIgeG1sbnM9Imh0dHA6Ly93d3cudzMub3JnLzIwMDAvc3ZnIiB4bWxuczp4bGluaz0iaHR0cDovL3d3dy53My5vcmcvMTk5OS94bGluayI+CiAgICA8IS0tIEdlbmVyYXRvcjogU2tldGNoIDU0LjEgKDc2NDkwKSAtIGh0dHBzOi8vc2tldGNoYXBwLmNvbSAtLT4KICAgIDx0aXRsZT5Hcm91cCAzPC90aXRsZT4KICAgIDxkZXNjPkNyZWF0ZWQgd2l0aCBTa2V0Y2guPC9kZXNjPgogICAgPGcgaWQ9IkxhbmRpbmciIHN0cm9rZT0ibm9uZSIgc3Ryb2tlLXdpZHRoPSIxIiBmaWxsPSJub25lIiBmaWxsLXJ1bGU9ImV2ZW5vZGQiPgogICAgICAgIDxnIGlkPSJBcnRib2FyZCIgdHJhbnNmb3JtPSJ0cmFuc2xhdGUoLTEyMzUuMDAwMDAwLCAtNzkuMDAwMDAwKSI+CiAgICAgICAgICAgIDxnIGlkPSJHcm91cC0zIiB0cmFuc2Zvcm09InRyYW5zbGF0ZSgxMjM1LjAwMDAwMCwgNzkuMDAwMDAwKSI+CiAgICAgICAgICAgICAgICA8cG9seWdvbiBpZD0iUGF0aC0yMCIgZmlsbD0iIzAyNjVCNCIgcG9pbnRzPSIyLjM3NjIzNzYyIDgwIDM4LjA0NzY2NjcgODAgNTcuODIxNzgyMiA3My44MDU3NTkyIDU3LjgyMTc4MjIgMzIuNzU5MjczOSAzOS4xNDAyMjc4IDMxLjY4MzE2ODMiPjwvcG9seWdvbj4KICAgICAgICAgICAgICAgIDxwYXRoIGQ9Ik0zNS4wMDc3MTgsODAgQzQyLjkwNjIwMDcsNzYuNDU0OTM1OCA0Ny41NjQ5MTY3LDcxLjU0MjI2NzEgNDguOTgzODY2LDY1LjI2MTk5MzkgQzUxLjExMjI4OTksNTUuODQxNTg0MiA0MS42NzcxNzk1LDQ5LjIxMjIyODQgMjUuNjIzOTg0Niw0OS4yMTIyMjg0IEMyNS40ODQ5Mjg5LDQ5LjEyNjg0NDggMjkuODI2MTI5Niw0My4yODM4MjQ4IDM4LjY0NzU4NjksMzEuNjgzMTY4MyBMNzIuODcxMjg3MSwzMi41NTQ0MjUgTDY1LjI4MDk3Myw2Ny42NzYzNDIxIEw1MS4xMTIyODk5LDc3LjM3NjE0NCBMMzUuMDA3NzE4LDgwIFoiIGlkPSJQYXRoLTIyIiBmaWxsPSIjMDAyODY4Ij48L3BhdGg+CiAgICAgICAgICAgICAgICA8cGF0aCBkPSJNMCwzNy43MzA0NDA1IEwyNy4xMTQ1MzcsMC4yNTcxMTE0MzYgQzYyLjM3MTUxMjMsLTEuOTkwNzE3MDEgODAsMTAuNTAwMzkyNyA4MCwzNy43MzA0NDA1IEM4MCw2NC45NjA0ODgyIDY0Ljc3NjUwMzgsNzkuMDUwMzQxNCAzNC4zMjk1MTEzLDgwIEM0Ny4wNTUzNDg5LDc3LjU2NzA4MDggNTMuNDE4MjY3Nyw3MC4zMTM2MTAzIDUzLjQxODI2NzcsNTguMjM5NTg4NSBDNTMuNDE4MjY3Nyw0MC4xMjg1NTU3IDM2LjMwMzk1NDQsMzcuNzMwNDQwNSAyNS4yMjc0MTcsMzcuNzMwNDQwNSBDMTcuODQzMDU4NiwzNy43MzA0NDA1IDkuNDMzOTE5NjYsMzcuNzMwNDQwNSAwLDM3LjczMDQ0MDUgWiIgaWQ9IlBhdGgtMTkiIGZpbGw9IiMzNzkzRUYiPjwvcGF0aD4KICAgICAgICAgICAgPC9nPgogICAgICAgIDwvZz4KICAgIDwvZz4KPC9zdmc+' > </img>\nCreated in <span style='font-weight:600;margin-left:4px;'>Deepnote</span></a>",
   "metadata": {
    "tags": [],
    "created_in_deepnote_cell": true,
    "deepnote_cell_type": "markdown"
   }
  }
 ],
 "nbformat": 4,
 "nbformat_minor": 2,
 "metadata": {
  "orig_nbformat": 2,
  "deepnote": {
   "is_reactive": false
  },
  "deepnote_notebook_id": "7da92a07-be61-46e0-8d2c-c73a0df7ffa0",
  "deepnote_execution_queue": []
 }
}