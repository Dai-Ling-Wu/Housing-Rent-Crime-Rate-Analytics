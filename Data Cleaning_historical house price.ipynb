{
 "cells": [
  {
   "cell_type": "code",
   "metadata": {
    "tags": [],
    "cell_id": "00000-9d8b24e7-194b-4450-a989-9f7f261fff40",
    "deepnote_to_be_reexecuted": false,
    "source_hash": "fd5e0848",
    "execution_start": 1637768680865,
    "execution_millis": 1300,
    "deepnote_cell_type": "code"
   },
   "source": "import numpy as np\nimport pandas as pd\nimport seaborn as sns\nfrom datetime import datetime\nfrom matplotlib import pyplot as plt",
   "execution_count": null,
   "outputs": []
  },
  {
   "cell_type": "code",
   "metadata": {
    "tags": [],
    "cell_id": "00001-93561d88-b089-4669-b4a7-d1edd8aa8ee5",
    "deepnote_to_be_reexecuted": false,
    "source_hash": "303f87f1",
    "execution_start": 1637768682174,
    "execution_millis": 11,
    "deepnote_cell_type": "code"
   },
   "source": "sale_price = pd.read_csv('/work/historical house price.csv')",
   "execution_count": null,
   "outputs": []
  },
  {
   "cell_type": "markdown",
   "source": "**Drop unused columns**",
   "metadata": {
    "tags": [],
    "cell_id": "00003-8918abbb-faa5-4b47-bc4e-1ae352ca903f",
    "deepnote_cell_type": "markdown"
   }
  },
  {
   "cell_type": "code",
   "metadata": {
    "tags": [],
    "cell_id": "00003-1b7a0f6b-9a1d-4141-a47e-21bf9efaa8c7",
    "deepnote_to_be_reexecuted": false,
    "source_hash": "e74fcb08",
    "execution_start": 1637768682272,
    "execution_millis": 1,
    "deepnote_cell_type": "code"
   },
   "source": "sale_price.drop(['RegionID', 'SizeRank', 'RegionType'], axis=1, inplace = True)",
   "execution_count": null,
   "outputs": []
  },
  {
   "cell_type": "markdown",
   "source": "**Turn all the Date columns into datetime variable**",
   "metadata": {
    "tags": [],
    "cell_id": "00005-106346a9-3986-414d-b7d3-69d04a398a68",
    "deepnote_cell_type": "markdown"
   }
  },
  {
   "cell_type": "code",
   "metadata": {
    "tags": [],
    "cell_id": "00004-4f264658-4b6b-4db7-951b-d2784b5c0266",
    "deepnote_to_be_reexecuted": false,
    "source_hash": "95252397",
    "execution_start": 1637768682273,
    "execution_millis": 1,
    "deepnote_cell_type": "code"
   },
   "source": "sale_price = pd.melt(sale_price, id_vars=['RegionName', 'StateName'], value_vars=None, \n        var_name='Date', value_name='Price')",
   "execution_count": null,
   "outputs": []
  },
  {
   "cell_type": "code",
   "metadata": {
    "tags": [],
    "cell_id": "00007-69012269-8b69-4527-9b5f-bf57806aa7e8",
    "deepnote_to_be_reexecuted": false,
    "source_hash": "48cae8a1",
    "execution_start": 1637768682322,
    "execution_millis": 4,
    "deepnote_cell_type": "code"
   },
   "source": "sale_price.info()",
   "execution_count": null,
   "outputs": [
    {
     "name": "stdout",
     "text": "<class 'pandas.core.frame.DataFrame'>\nRangeIndex: 4275 entries, 0 to 4274\nData columns (total 4 columns):\n #   Column      Non-Null Count  Dtype  \n---  ------      --------------  -----  \n 0   RegionName  4275 non-null   object \n 1   StateName   4230 non-null   object \n 2   Date        4275 non-null   object \n 3   Price       4168 non-null   float64\ndtypes: float64(1), object(3)\nmemory usage: 133.7+ KB\n",
     "output_type": "stream"
    }
   ]
  },
  {
   "cell_type": "code",
   "metadata": {
    "tags": [],
    "cell_id": "00008-b7cae8d9-9f61-4924-9bae-cecac41e1ddc",
    "deepnote_to_be_reexecuted": false,
    "source_hash": "58fd8417",
    "execution_start": 1637768682323,
    "execution_millis": 11,
    "deepnote_cell_type": "code"
   },
   "source": "sale_price.head()",
   "execution_count": null,
   "outputs": [
    {
     "output_type": "execute_result",
     "execution_count": 7,
     "data": {
      "application/vnd.deepnote.dataframe.v2+json": {
       "row_count": 5,
       "column_count": 4,
       "columns": [
        {
         "name": "RegionName",
         "dtype": "object",
         "stats": {
          "unique_count": 5,
          "nan_count": 0,
          "categories": [
           {
            "name": "United States",
            "count": 1
           },
           {
            "name": "New York, NY",
            "count": 1
           },
           {
            "name": "3 others",
            "count": 3
           }
          ]
         }
        },
        {
         "name": "StateName",
         "dtype": "object",
         "stats": {
          "unique_count": 4,
          "nan_count": 1,
          "categories": [
           {
            "name": "NY",
            "count": 1
           },
           {
            "name": "3 others",
            "count": 3
           },
           {
            "name": "Missing",
            "count": 1
           }
          ]
         }
        },
        {
         "name": "Date",
         "dtype": "object",
         "stats": {
          "unique_count": 1,
          "nan_count": 0,
          "categories": [
           {
            "name": "2018-01-31",
            "count": 5
           }
          ]
         }
        },
        {
         "name": "Price",
         "dtype": "float64",
         "stats": {
          "unique_count": 5,
          "nan_count": 0,
          "min": "271600.0",
          "max": "798667.0",
          "histogram": [
           {
            "bin_start": 271600,
            "bin_end": 324306.7,
            "count": 2
           },
           {
            "bin_start": 324306.7,
            "bin_end": 377013.4,
            "count": 1
           },
           {
            "bin_start": 377013.4,
            "bin_end": 429720.1,
            "count": 0
           },
           {
            "bin_start": 429720.1,
            "bin_end": 482426.8,
            "count": 0
           },
           {
            "bin_start": 482426.8,
            "bin_end": 535133.5,
            "count": 1
           },
           {
            "bin_start": 535133.5,
            "bin_end": 587840.2,
            "count": 0
           },
           {
            "bin_start": 587840.2,
            "bin_end": 640546.8999999999,
            "count": 0
           },
           {
            "bin_start": 640546.8999999999,
            "bin_end": 693253.6,
            "count": 0
           },
           {
            "bin_start": 693253.6,
            "bin_end": 745960.3,
            "count": 0
           },
           {
            "bin_start": 745960.3,
            "bin_end": 798667,
            "count": 1
           }
          ]
         }
        },
        {
         "name": "_deepnote_index_column",
         "dtype": "int64"
        }
       ],
       "rows_top": [
        {
         "RegionName": "United States",
         "StateName": "nan",
         "Date": "2018-01-31",
         "Price": 271600,
         "_deepnote_index_column": 0
        },
        {
         "RegionName": "New York, NY",
         "StateName": "NY",
         "Date": "2018-01-31",
         "Price": 517967,
         "_deepnote_index_column": 1
        },
        {
         "RegionName": "Los Angeles-Long Beach-Anaheim, CA",
         "StateName": "CA",
         "Date": "2018-01-31",
         "Price": 798667,
         "_deepnote_index_column": 2
        },
        {
         "RegionName": "Chicago, IL",
         "StateName": "IL",
         "Date": "2018-01-31",
         "Price": 301000,
         "_deepnote_index_column": 3
        },
        {
         "RegionName": "Dallas-Fort Worth, TX",
         "StateName": "TX",
         "Date": "2018-01-31",
         "Price": 342000,
         "_deepnote_index_column": 4
        }
       ],
       "rows_bottom": null
      },
      "text/plain": "                           RegionName StateName        Date     Price\n0                       United States       NaN  2018-01-31  271600.0\n1                        New York, NY        NY  2018-01-31  517967.0\n2  Los Angeles-Long Beach-Anaheim, CA        CA  2018-01-31  798667.0\n3                         Chicago, IL        IL  2018-01-31  301000.0\n4               Dallas-Fort Worth, TX        TX  2018-01-31  342000.0",
      "text/html": "<div>\n<style scoped>\n    .dataframe tbody tr th:only-of-type {\n        vertical-align: middle;\n    }\n\n    .dataframe tbody tr th {\n        vertical-align: top;\n    }\n\n    .dataframe thead th {\n        text-align: right;\n    }\n</style>\n<table border=\"1\" class=\"dataframe\">\n  <thead>\n    <tr style=\"text-align: right;\">\n      <th></th>\n      <th>RegionName</th>\n      <th>StateName</th>\n      <th>Date</th>\n      <th>Price</th>\n    </tr>\n  </thead>\n  <tbody>\n    <tr>\n      <th>0</th>\n      <td>United States</td>\n      <td>NaN</td>\n      <td>2018-01-31</td>\n      <td>271600.0</td>\n    </tr>\n    <tr>\n      <th>1</th>\n      <td>New York, NY</td>\n      <td>NY</td>\n      <td>2018-01-31</td>\n      <td>517967.0</td>\n    </tr>\n    <tr>\n      <th>2</th>\n      <td>Los Angeles-Long Beach-Anaheim, CA</td>\n      <td>CA</td>\n      <td>2018-01-31</td>\n      <td>798667.0</td>\n    </tr>\n    <tr>\n      <th>3</th>\n      <td>Chicago, IL</td>\n      <td>IL</td>\n      <td>2018-01-31</td>\n      <td>301000.0</td>\n    </tr>\n    <tr>\n      <th>4</th>\n      <td>Dallas-Fort Worth, TX</td>\n      <td>TX</td>\n      <td>2018-01-31</td>\n      <td>342000.0</td>\n    </tr>\n  </tbody>\n</table>\n</div>"
     },
     "metadata": {}
    }
   ]
  },
  {
   "cell_type": "markdown",
   "source": "**Change the format of Date into datetime objct**",
   "metadata": {
    "tags": [],
    "cell_id": "00009-c786360f-58c1-4fa9-b358-9d8b8f2f77e2",
    "deepnote_cell_type": "markdown"
   }
  },
  {
   "cell_type": "code",
   "metadata": {
    "tags": [],
    "cell_id": "00009-520cd5f7-1e18-4429-9ba0-d308fa91ec7e",
    "deepnote_to_be_reexecuted": false,
    "source_hash": "7db08c16",
    "execution_start": 1637768682335,
    "execution_millis": 4,
    "deepnote_output_heights": [
     230
    ],
    "deepnote_cell_type": "code"
   },
   "source": "sale_price.Date = pd.to_datetime(sale_price.Date)",
   "execution_count": null,
   "outputs": []
  },
  {
   "cell_type": "markdown",
   "source": "**Extract the year of each Date**",
   "metadata": {
    "tags": [],
    "cell_id": "00011-cb66eb30-2853-4618-892c-a028cad7a085",
    "deepnote_cell_type": "markdown"
   }
  },
  {
   "cell_type": "code",
   "metadata": {
    "tags": [],
    "cell_id": "00010-cf180f81-7726-46cc-b176-829b815870b8",
    "deepnote_to_be_reexecuted": false,
    "source_hash": "5bd3de8f",
    "execution_start": 1637768682404,
    "execution_millis": 0,
    "deepnote_cell_type": "code"
   },
   "source": "sale_price['Year'] = pd.DatetimeIndex(sale_price.Date).year",
   "execution_count": null,
   "outputs": []
  },
  {
   "cell_type": "markdown",
   "source": "**Group the data by states and year**",
   "metadata": {
    "tags": [],
    "cell_id": "00013-4d0c720b-71c7-4849-9b13-b3706a684eb2",
    "deepnote_cell_type": "markdown"
   }
  },
  {
   "cell_type": "code",
   "metadata": {
    "tags": [],
    "cell_id": "00013-92a6efe8-e7ef-4907-8d3f-7c9597aa13f2",
    "deepnote_to_be_reexecuted": false,
    "source_hash": "200cfae7",
    "execution_start": 1637768840135,
    "execution_millis": 1,
    "deepnote_output_heights": [
     249
    ],
    "deepnote_cell_type": "code"
   },
   "source": "average_sales_price = sale_price.groupby(['StateName', 'Year'])['Price'].mean().unstack()",
   "execution_count": null,
   "outputs": []
  },
  {
   "cell_type": "markdown",
   "source": "\n**Export the cleaned data**",
   "metadata": {
    "tags": [],
    "cell_id": "00014-d4952444-38e7-49d6-9f18-2e60872f4fca",
    "deepnote_cell_type": "markdown"
   }
  },
  {
   "cell_type": "code",
   "metadata": {
    "tags": [],
    "cell_id": "00014-67c48d56-1416-4c73-b490-c4b62fb537fd",
    "deepnote_to_be_reexecuted": false,
    "source_hash": "cf9c9310",
    "execution_start": 1637770536993,
    "execution_millis": 4,
    "deepnote_cell_type": "code"
   },
   "source": "average_sales_price.to_csv('cleaned_historical_house_price.csv')",
   "execution_count": null,
   "outputs": []
  },
  {
   "cell_type": "code",
   "metadata": {
    "tags": [],
    "cell_id": "00016-a6e9d2df-7053-48ee-a3eb-85381ea66501",
    "deepnote_to_be_reexecuted": false,
    "source_hash": "5faebd0a",
    "execution_start": 1637771356682,
    "execution_millis": 46,
    "deepnote_cell_type": "code"
   },
   "source": "average_sales_price",
   "execution_count": null,
   "outputs": [
    {
     "output_type": "execute_result",
     "execution_count": 17,
     "data": {
      "application/vnd.deepnote.dataframe.v2+json": {
       "row_count": 39,
       "column_count": 4,
       "columns": [
        {
         "name": 2018,
         "dtype": "float64",
         "stats": {
          "unique_count": 39,
          "nan_count": 0,
          "min": "175310.58333333334",
          "max": "661364.3333333334",
          "histogram": [
           {
            "bin_start": 175310.58333333334,
            "bin_end": 223915.95833333334,
            "count": 3
           },
           {
            "bin_start": 223915.95833333334,
            "bin_end": 272521.3333333334,
            "count": 10
           },
           {
            "bin_start": 272521.3333333334,
            "bin_end": 321126.7083333334,
            "count": 10
           },
           {
            "bin_start": 321126.7083333334,
            "bin_end": 369732.0833333334,
            "count": 6
           },
           {
            "bin_start": 369732.0833333334,
            "bin_end": 418337.4583333334,
            "count": 3
           },
           {
            "bin_start": 418337.4583333334,
            "bin_end": 466942.8333333334,
            "count": 3
           },
           {
            "bin_start": 466942.8333333334,
            "bin_end": 515548.2083333334,
            "count": 1
           },
           {
            "bin_start": 515548.2083333334,
            "bin_end": 564153.5833333334,
            "count": 0
           },
           {
            "bin_start": 564153.5833333334,
            "bin_end": 612758.9583333334,
            "count": 1
           },
           {
            "bin_start": 612758.9583333334,
            "bin_end": 661364.3333333334,
            "count": 2
           }
          ]
         }
        },
        {
         "name": 2019,
         "dtype": "float64",
         "stats": {
          "unique_count": 39,
          "nan_count": 0,
          "min": "188917.16666666666",
          "max": "664355.6666666666",
          "histogram": [
           {
            "bin_start": 188917.16666666666,
            "bin_end": 236461.01666666666,
            "count": 3
           },
           {
            "bin_start": 236461.01666666666,
            "bin_end": 284004.86666666664,
            "count": 11
           },
           {
            "bin_start": 284004.86666666664,
            "bin_end": 331548.7166666667,
            "count": 12
           },
           {
            "bin_start": 331548.7166666667,
            "bin_end": 379092.56666666665,
            "count": 4
           },
           {
            "bin_start": 379092.56666666665,
            "bin_end": 426636.4166666666,
            "count": 2
           },
           {
            "bin_start": 426636.4166666666,
            "bin_end": 474180.2666666666,
            "count": 3
           },
           {
            "bin_start": 474180.2666666666,
            "bin_end": 521724.1166666667,
            "count": 1
           },
           {
            "bin_start": 521724.1166666667,
            "bin_end": 569267.9666666667,
            "count": 0
           },
           {
            "bin_start": 569267.9666666667,
            "bin_end": 616811.8166666667,
            "count": 2
           },
           {
            "bin_start": 616811.8166666667,
            "bin_end": 664355.6666666666,
            "count": 1
           }
          ]
         }
        },
        {
         "name": 2020,
         "dtype": "float64",
         "stats": {
          "unique_count": 39,
          "nan_count": 0,
          "min": "202733.16666666666",
          "max": "675553.9916666667",
          "histogram": [
           {
            "bin_start": 202733.16666666666,
            "bin_end": 250015.24916666665,
            "count": 3
           },
           {
            "bin_start": 250015.24916666665,
            "bin_end": 297297.33166666667,
            "count": 10
           },
           {
            "bin_start": 297297.33166666667,
            "bin_end": 344579.4141666667,
            "count": 12
           },
           {
            "bin_start": 344579.4141666667,
            "bin_end": 391861.4966666667,
            "count": 3
           },
           {
            "bin_start": 391861.4966666667,
            "bin_end": 439143.5791666667,
            "count": 3
           },
           {
            "bin_start": 439143.5791666667,
            "bin_end": 486425.6616666666,
            "count": 3
           },
           {
            "bin_start": 486425.6616666666,
            "bin_end": 533707.7441666666,
            "count": 2
           },
           {
            "bin_start": 533707.7441666666,
            "bin_end": 580989.8266666667,
            "count": 0
           },
           {
            "bin_start": 580989.8266666667,
            "bin_end": 628271.9091666667,
            "count": 1
           },
           {
            "bin_start": 628271.9091666667,
            "bin_end": 675553.9916666667,
            "count": 2
           }
          ]
         }
        },
        {
         "name": 2021,
         "dtype": "float64",
         "stats": {
          "unique_count": 38,
          "nan_count": 1,
          "min": "225487.33333333334",
          "max": "711615.0493827161",
          "histogram": [
           {
            "bin_start": 225487.33333333334,
            "bin_end": 274100.10493827163,
            "count": 3
           },
           {
            "bin_start": 274100.10493827163,
            "bin_end": 322712.8765432099,
            "count": 10
           },
           {
            "bin_start": 322712.8765432099,
            "bin_end": 371325.6481481482,
            "count": 11
           },
           {
            "bin_start": 371325.6481481482,
            "bin_end": 419938.4197530864,
            "count": 4
           },
           {
            "bin_start": 419938.4197530864,
            "bin_end": 468551.1913580247,
            "count": 1
           },
           {
            "bin_start": 468551.1913580247,
            "bin_end": 517163.96296296304,
            "count": 2
           },
           {
            "bin_start": 517163.96296296304,
            "bin_end": 565776.7345679012,
            "count": 4
           },
           {
            "bin_start": 565776.7345679012,
            "bin_end": 614389.5061728396,
            "count": 1
           },
           {
            "bin_start": 614389.5061728396,
            "bin_end": 663002.2777777778,
            "count": 0
           },
           {
            "bin_start": 663002.2777777778,
            "bin_end": 711615.0493827161,
            "count": 2
           }
          ]
         }
        },
        {
         "name": "_deepnote_index_column",
         "dtype": "object"
        }
       ],
       "rows_top": [
        {
         "2018": 228732,
         "2019": 258620.41666666666,
         "2020": 273601.5833333333,
         "2021": 282855,
         "_deepnote_index_column": "AL"
        },
        {
         "2018": 175310.58333333334,
         "2019": 188917.16666666666,
         "2020": 202733.16666666666,
         "2021": 225487.33333333334,
         "_deepnote_index_column": "AR"
        },
        {
         "2018": 313906.2916666667,
         "2019": 327986.625,
         "2020": 354341,
         "2021": 401441.55555555556,
         "_deepnote_index_column": "AZ"
        },
        {
         "2018": 613503.2416666667,
         "2019": 614750.4833333333,
         "2020": 675553.9916666667,
         "2021": 711615.0493827161,
         "_deepnote_index_column": "CA"
        },
        {
         "2018": 448227,
         "2019": 464622.75,
         "2020": 490666.94444444444,
         "2021": 589595.5555555555,
         "_deepnote_index_column": "CO"
        },
        {
         "2018": 451711.72222222225,
         "2019": 448717.27777777775,
         "2020": 469544.1666666667,
         "2021": 483759,
         "_deepnote_index_column": "CT"
        },
        {
         "2018": 457190.6666666667,
         "2019": 476527.8333333333,
         "2020": 522369.3333333333,
         "2021": 517300.3333333333,
         "_deepnote_index_column": "DC"
        },
        {
         "2018": 301374.0416666667,
         "2019": 303952.4479166667,
         "2020": 313136.71875,
         "2021": 342614.6296296296,
         "_deepnote_index_column": "FL"
        },
        {
         "2018": 329486.75,
         "2019": 329547.8333333333,
         "2020": 340063.0833333333,
         "2021": 382062.44444444444,
         "_deepnote_index_column": "GA"
        },
        {
         "2018": 661364.3333333334,
         "2019": 664355.6666666666,
         "2020": 613453.1666666666,
         "2021": "nan",
         "_deepnote_index_column": "HI"
        },
        {
         "2018": 291455.5833333333,
         "2019": 280423.9166666667,
         "2020": 273720.3333333333,
         "2021": 298242.1111111111,
         "_deepnote_index_column": "IA"
        },
        {
         "2018": 349402.3333333333,
         "2019": 370417.75,
         "2020": 410309.6666666667,
         "2021": 517814,
         "_deepnote_index_column": "ID"
        },
        {
         "2018": 326669.5,
         "2019": 327351.1666666667,
         "2020": 334035.1666666667,
         "2021": 344211.1111111111,
         "_deepnote_index_column": "IL"
        },
        {
         "2018": 249495.66666666666,
         "2019": 265035.8333333333,
         "2020": 288934.9166666667,
         "2021": 289703.55555555556,
         "_deepnote_index_column": "IN"
        },
        {
         "2018": 196449,
         "2019": 211692.83333333334,
         "2020": 230222.88888888888,
         "2021": 230401.44444444444,
         "_deepnote_index_column": "KS"
        },
        {
         "2018": 261863.83333333334,
         "2019": 272256.9166666667,
         "2020": 276467,
         "2021": 275681.44444444444,
         "_deepnote_index_column": "KY"
        },
        {
         "2018": 247806.375,
         "2019": 256163.5,
         "2020": 270059.6666666667,
         "2021": 300530.94444444444,
         "_deepnote_index_column": "LA"
        },
        {
         "2018": 371562.6111111111,
         "2019": 387098.8888888889,
         "2020": 430670.02777777775,
         "2021": 506334.77777777775,
         "_deepnote_index_column": "MA"
        },
        {
         "2018": 325254.5,
         "2019": 333933.1666666667,
         "2020": 345982.25,
         "2021": 347918.44444444444,
         "_deepnote_index_column": "MD"
        },
        {
         "2018": 258935.20833333334,
         "2019": 268711.25,
         "2020": 279780.5833333333,
         "2021": 309790.55555555556,
         "_deepnote_index_column": "MI"
        },
        {
         "2018": 370080.6666666667,
         "2019": 374513.0833333333,
         "2020": 383666.4166666667,
         "2021": 382323.22222222225,
         "_deepnote_index_column": "MN"
        },
        {
         "2018": 242067.79166666666,
         "2019": 273969.8333333333,
         "2020": 295131.0416666667,
         "2021": 307502.27777777775,
         "_deepnote_index_column": "MO"
        },
        {
         "2018": 309872.15,
         "2019": 325752.9166666667,
         "2020": 343943.2,
         "2021": 365693.15555555554,
         "_deepnote_index_column": "NC"
        },
        {
         "2018": 297908.5833333333,
         "2019": 310754.8333333333,
         "2020": 320402.5,
         "2021": 327819.77777777775,
         "_deepnote_index_column": "NE"
        },
        {
         "2018": 250222.5,
         "2019": 266665.4166666667,
         "2020": 313131.75,
         "2021": 357839.55555555556,
         "_deepnote_index_column": "NM"
        },
        {
         "2018": 322293.6666666667,
         "2019": 318841.4166666667,
         "2020": 336767.1666666667,
         "2021": 392488.8888888889,
         "_deepnote_index_column": "NV"
        },
        {
         "2018": 268372.3333333333,
         "2019": 285268.61666666664,
         "2020": 311041.8245614035,
         "2021": 347028.6388888889,
         "_deepnote_index_column": "NY"
        },
        {
         "2018": 191814.51388888888,
         "2019": 207501.16666666666,
         "2020": 229026,
         "2021": 240680.9814814815,
         "_deepnote_index_column": "OH"
        },
        {
         "2018": 225698.58333333334,
         "2019": 248018.91666666666,
         "2020": 275285.4166666667,
         "2021": 298314.3333333333,
         "_deepnote_index_column": "OK"
        },
        {
         "2018": 470394.25,
         "2019": 464649.3333333333,
         "2020": 484070.0833333333,
         "2021": 561112,
         "_deepnote_index_column": "OR"
        },
        {
         "2018": 225726.36111111112,
         "2019": 236590.91666666666,
         "2020": 266639.4166666667,
         "2021": 291514.037037037,
         "_deepnote_index_column": "PA"
        },
        {
         "2018": 360279.1666666667,
         "2019": 377788.5833333333,
         "2020": 400833.9166666667,
         "2021": 420408.3333333333,
         "_deepnote_index_column": "RI"
        },
        {
         "2018": 287781.0833333333,
         "2019": 294168.05555555556,
         "2020": 304949.8333333333,
         "2021": 346112.0740740741,
         "_deepnote_index_column": "SC"
        },
        {
         "2018": 283755.1388888889,
         "2019": 290722.47222222225,
         "2020": 309300.47222222225,
         "2021": 337347,
         "_deepnote_index_column": "TN"
        },
        {
         "2018": 286129.72222222225,
         "2019": 285272.4583333333,
         "2020": 298212.5571428572,
         "2021": 336667.5283018868,
         "_deepnote_index_column": "TX"
        },
        {
         "2018": 402371.1666666667,
         "2019": 414625.75,
         "2020": 454576.9166666667,
         "2021": 535276,
         "_deepnote_index_column": "UT"
        },
        {
         "2018": 292628.75,
         "2019": 308450.7083333333,
         "2020": 334779.7083333333,
         "2021": 342670.5,
         "_deepnote_index_column": "VA"
        },
        {
         "2018": 567143.0833333334,
         "2019": 616727,
         "2020": 656539.0833333334,
         "2021": 680648.6666666666,
         "_deepnote_index_column": "WA"
        },
        {
         "2018": 274826.3333333333,
         "2019": 281144.4583333333,
         "2020": 293052.875,
         "2021": 296262.94444444444,
         "_deepnote_index_column": "WI"
        }
       ],
       "rows_bottom": null
      },
      "text/plain": "Year                2018           2019           2020           2021\nStateName                                                            \nAL         228732.000000  258620.416667  273601.583333  282855.000000\nAR         175310.583333  188917.166667  202733.166667  225487.333333\nAZ         313906.291667  327986.625000  354341.000000  401441.555556\nCA         613503.241667  614750.483333  675553.991667  711615.049383\nCO         448227.000000  464622.750000  490666.944444  589595.555556\nCT         451711.722222  448717.277778  469544.166667  483759.000000\nDC         457190.666667  476527.833333  522369.333333  517300.333333\nFL         301374.041667  303952.447917  313136.718750  342614.629630\nGA         329486.750000  329547.833333  340063.083333  382062.444444\nHI         661364.333333  664355.666667  613453.166667            NaN\nIA         291455.583333  280423.916667  273720.333333  298242.111111\nID         349402.333333  370417.750000  410309.666667  517814.000000\nIL         326669.500000  327351.166667  334035.166667  344211.111111\nIN         249495.666667  265035.833333  288934.916667  289703.555556\nKS         196449.000000  211692.833333  230222.888889  230401.444444\nKY         261863.833333  272256.916667  276467.000000  275681.444444\nLA         247806.375000  256163.500000  270059.666667  300530.944444\nMA         371562.611111  387098.888889  430670.027778  506334.777778\nMD         325254.500000  333933.166667  345982.250000  347918.444444\nMI         258935.208333  268711.250000  279780.583333  309790.555556\nMN         370080.666667  374513.083333  383666.416667  382323.222222\nMO         242067.791667  273969.833333  295131.041667  307502.277778\nNC         309872.150000  325752.916667  343943.200000  365693.155556\nNE         297908.583333  310754.833333  320402.500000  327819.777778\nNM         250222.500000  266665.416667  313131.750000  357839.555556\nNV         322293.666667  318841.416667  336767.166667  392488.888889\nNY         268372.333333  285268.616667  311041.824561  347028.638889\nOH         191814.513889  207501.166667  229026.000000  240680.981481\nOK         225698.583333  248018.916667  275285.416667  298314.333333\nOR         470394.250000  464649.333333  484070.083333  561112.000000\nPA         225726.361111  236590.916667  266639.416667  291514.037037\nRI         360279.166667  377788.583333  400833.916667  420408.333333\nSC         287781.083333  294168.055556  304949.833333  346112.074074\nTN         283755.138889  290722.472222  309300.472222  337347.000000\nTX         286129.722222  285272.458333  298212.557143  336667.528302\nUT         402371.166667  414625.750000  454576.916667  535276.000000\nVA         292628.750000  308450.708333  334779.708333  342670.500000\nWA         567143.083333  616727.000000  656539.083333  680648.666667\nWI         274826.333333  281144.458333  293052.875000  296262.944444",
      "text/html": "<div>\n<style scoped>\n    .dataframe tbody tr th:only-of-type {\n        vertical-align: middle;\n    }\n\n    .dataframe tbody tr th {\n        vertical-align: top;\n    }\n\n    .dataframe thead th {\n        text-align: right;\n    }\n</style>\n<table border=\"1\" class=\"dataframe\">\n  <thead>\n    <tr style=\"text-align: right;\">\n      <th>Year</th>\n      <th>2018</th>\n      <th>2019</th>\n      <th>2020</th>\n      <th>2021</th>\n    </tr>\n    <tr>\n      <th>StateName</th>\n      <th></th>\n      <th></th>\n      <th></th>\n      <th></th>\n    </tr>\n  </thead>\n  <tbody>\n    <tr>\n      <th>AL</th>\n      <td>228732.000000</td>\n      <td>258620.416667</td>\n      <td>273601.583333</td>\n      <td>282855.000000</td>\n    </tr>\n    <tr>\n      <th>AR</th>\n      <td>175310.583333</td>\n      <td>188917.166667</td>\n      <td>202733.166667</td>\n      <td>225487.333333</td>\n    </tr>\n    <tr>\n      <th>AZ</th>\n      <td>313906.291667</td>\n      <td>327986.625000</td>\n      <td>354341.000000</td>\n      <td>401441.555556</td>\n    </tr>\n    <tr>\n      <th>CA</th>\n      <td>613503.241667</td>\n      <td>614750.483333</td>\n      <td>675553.991667</td>\n      <td>711615.049383</td>\n    </tr>\n    <tr>\n      <th>CO</th>\n      <td>448227.000000</td>\n      <td>464622.750000</td>\n      <td>490666.944444</td>\n      <td>589595.555556</td>\n    </tr>\n    <tr>\n      <th>CT</th>\n      <td>451711.722222</td>\n      <td>448717.277778</td>\n      <td>469544.166667</td>\n      <td>483759.000000</td>\n    </tr>\n    <tr>\n      <th>DC</th>\n      <td>457190.666667</td>\n      <td>476527.833333</td>\n      <td>522369.333333</td>\n      <td>517300.333333</td>\n    </tr>\n    <tr>\n      <th>FL</th>\n      <td>301374.041667</td>\n      <td>303952.447917</td>\n      <td>313136.718750</td>\n      <td>342614.629630</td>\n    </tr>\n    <tr>\n      <th>GA</th>\n      <td>329486.750000</td>\n      <td>329547.833333</td>\n      <td>340063.083333</td>\n      <td>382062.444444</td>\n    </tr>\n    <tr>\n      <th>HI</th>\n      <td>661364.333333</td>\n      <td>664355.666667</td>\n      <td>613453.166667</td>\n      <td>NaN</td>\n    </tr>\n    <tr>\n      <th>IA</th>\n      <td>291455.583333</td>\n      <td>280423.916667</td>\n      <td>273720.333333</td>\n      <td>298242.111111</td>\n    </tr>\n    <tr>\n      <th>ID</th>\n      <td>349402.333333</td>\n      <td>370417.750000</td>\n      <td>410309.666667</td>\n      <td>517814.000000</td>\n    </tr>\n    <tr>\n      <th>IL</th>\n      <td>326669.500000</td>\n      <td>327351.166667</td>\n      <td>334035.166667</td>\n      <td>344211.111111</td>\n    </tr>\n    <tr>\n      <th>IN</th>\n      <td>249495.666667</td>\n      <td>265035.833333</td>\n      <td>288934.916667</td>\n      <td>289703.555556</td>\n    </tr>\n    <tr>\n      <th>KS</th>\n      <td>196449.000000</td>\n      <td>211692.833333</td>\n      <td>230222.888889</td>\n      <td>230401.444444</td>\n    </tr>\n    <tr>\n      <th>KY</th>\n      <td>261863.833333</td>\n      <td>272256.916667</td>\n      <td>276467.000000</td>\n      <td>275681.444444</td>\n    </tr>\n    <tr>\n      <th>LA</th>\n      <td>247806.375000</td>\n      <td>256163.500000</td>\n      <td>270059.666667</td>\n      <td>300530.944444</td>\n    </tr>\n    <tr>\n      <th>MA</th>\n      <td>371562.611111</td>\n      <td>387098.888889</td>\n      <td>430670.027778</td>\n      <td>506334.777778</td>\n    </tr>\n    <tr>\n      <th>MD</th>\n      <td>325254.500000</td>\n      <td>333933.166667</td>\n      <td>345982.250000</td>\n      <td>347918.444444</td>\n    </tr>\n    <tr>\n      <th>MI</th>\n      <td>258935.208333</td>\n      <td>268711.250000</td>\n      <td>279780.583333</td>\n      <td>309790.555556</td>\n    </tr>\n    <tr>\n      <th>MN</th>\n      <td>370080.666667</td>\n      <td>374513.083333</td>\n      <td>383666.416667</td>\n      <td>382323.222222</td>\n    </tr>\n    <tr>\n      <th>MO</th>\n      <td>242067.791667</td>\n      <td>273969.833333</td>\n      <td>295131.041667</td>\n      <td>307502.277778</td>\n    </tr>\n    <tr>\n      <th>NC</th>\n      <td>309872.150000</td>\n      <td>325752.916667</td>\n      <td>343943.200000</td>\n      <td>365693.155556</td>\n    </tr>\n    <tr>\n      <th>NE</th>\n      <td>297908.583333</td>\n      <td>310754.833333</td>\n      <td>320402.500000</td>\n      <td>327819.777778</td>\n    </tr>\n    <tr>\n      <th>NM</th>\n      <td>250222.500000</td>\n      <td>266665.416667</td>\n      <td>313131.750000</td>\n      <td>357839.555556</td>\n    </tr>\n    <tr>\n      <th>NV</th>\n      <td>322293.666667</td>\n      <td>318841.416667</td>\n      <td>336767.166667</td>\n      <td>392488.888889</td>\n    </tr>\n    <tr>\n      <th>NY</th>\n      <td>268372.333333</td>\n      <td>285268.616667</td>\n      <td>311041.824561</td>\n      <td>347028.638889</td>\n    </tr>\n    <tr>\n      <th>OH</th>\n      <td>191814.513889</td>\n      <td>207501.166667</td>\n      <td>229026.000000</td>\n      <td>240680.981481</td>\n    </tr>\n    <tr>\n      <th>OK</th>\n      <td>225698.583333</td>\n      <td>248018.916667</td>\n      <td>275285.416667</td>\n      <td>298314.333333</td>\n    </tr>\n    <tr>\n      <th>OR</th>\n      <td>470394.250000</td>\n      <td>464649.333333</td>\n      <td>484070.083333</td>\n      <td>561112.000000</td>\n    </tr>\n    <tr>\n      <th>PA</th>\n      <td>225726.361111</td>\n      <td>236590.916667</td>\n      <td>266639.416667</td>\n      <td>291514.037037</td>\n    </tr>\n    <tr>\n      <th>RI</th>\n      <td>360279.166667</td>\n      <td>377788.583333</td>\n      <td>400833.916667</td>\n      <td>420408.333333</td>\n    </tr>\n    <tr>\n      <th>SC</th>\n      <td>287781.083333</td>\n      <td>294168.055556</td>\n      <td>304949.833333</td>\n      <td>346112.074074</td>\n    </tr>\n    <tr>\n      <th>TN</th>\n      <td>283755.138889</td>\n      <td>290722.472222</td>\n      <td>309300.472222</td>\n      <td>337347.000000</td>\n    </tr>\n    <tr>\n      <th>TX</th>\n      <td>286129.722222</td>\n      <td>285272.458333</td>\n      <td>298212.557143</td>\n      <td>336667.528302</td>\n    </tr>\n    <tr>\n      <th>UT</th>\n      <td>402371.166667</td>\n      <td>414625.750000</td>\n      <td>454576.916667</td>\n      <td>535276.000000</td>\n    </tr>\n    <tr>\n      <th>VA</th>\n      <td>292628.750000</td>\n      <td>308450.708333</td>\n      <td>334779.708333</td>\n      <td>342670.500000</td>\n    </tr>\n    <tr>\n      <th>WA</th>\n      <td>567143.083333</td>\n      <td>616727.000000</td>\n      <td>656539.083333</td>\n      <td>680648.666667</td>\n    </tr>\n    <tr>\n      <th>WI</th>\n      <td>274826.333333</td>\n      <td>281144.458333</td>\n      <td>293052.875000</td>\n      <td>296262.944444</td>\n    </tr>\n  </tbody>\n</table>\n</div>"
     },
     "metadata": {}
    }
   ]
  },
  {
   "cell_type": "code",
   "metadata": {
    "tags": [],
    "cell_id": "00017-d62f11b5-af62-4664-835d-ccd9e8976fbe",
    "deepnote_cell_type": "code"
   },
   "source": "",
   "execution_count": null,
   "outputs": []
  },
  {
   "cell_type": "markdown",
   "source": "<a style='text-decoration:none;line-height:16px;display:flex;color:#5B5B62;padding:10px;justify-content:end;' href='https://deepnote.com?utm_source=created-in-deepnote-cell&projectId=c62e4f61-5454-4e18-b0e0-542e6e7256b8' target=\"_blank\">\n<img alt='Created in deepnote.com' style='display:inline;max-height:16px;margin:0px;margin-right:7.5px;' src='data:image/svg+xml;base64,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' > </img>\nCreated in <span style='font-weight:600;margin-left:4px;'>Deepnote</span></a>",
   "metadata": {
    "tags": [],
    "created_in_deepnote_cell": true,
    "deepnote_cell_type": "markdown"
   }
  }
 ],
 "nbformat": 4,
 "nbformat_minor": 2,
 "metadata": {
  "orig_nbformat": 2,
  "deepnote": {
   "is_reactive": false
  },
  "deepnote_notebook_id": "502cfffe-d7da-4186-8f0d-2d4d976dbc56",
  "deepnote_execution_queue": []
 }
}